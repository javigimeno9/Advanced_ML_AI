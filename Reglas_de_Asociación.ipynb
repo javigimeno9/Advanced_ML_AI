{
  "nbformat": 4,
  "nbformat_minor": 0,
  "metadata": {
    "colab": {
      "provenance": []
    },
    "kernelspec": {
      "name": "python3",
      "display_name": "Python 3"
    },
    "language_info": {
      "name": "python"
    }
  },
  "cells": [
    {
      "cell_type": "markdown",
      "source": [
        "![the-valley-dbs.png](data:image/png;base64,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)"
      ],
      "metadata": {
        "id": "X2A3bU-TIpfF"
      }
    },
    {
      "cell_type": "markdown",
      "source": [
        "Calcula el soporte, confianza y lift para el patrón Leche, Huevos --> Azúcar con los siguientes datos:\n",
        "\n",
        "> **BBDD Transaccional del \"Carrito Loco\"**\n",
        "\n",
        "\n",
        "\n",
        "\n",
        "\n",
        "\n",
        "\n",
        "    data = {\n",
        "    'Id': [1, 2, 3, 4, 5, 6, 7, 8, 9, 10],\n",
        "    'Leche': [1, 1, 1, 0, 1, 0, 1, 0, 0, 1],\n",
        "    'Pan': [1, 1, 1, 0, 0, 1, 0, 1, 0, 0],\n",
        "    'Huevos': [1, 1, 0, 1, 0, 1, 0, 0, 1, 1],\n",
        "    'Cereales': [0, 0, 1, 0, 0, 0, 1, 0, 0, 1],\n",
        "    'Azúcar': [0, 1, 1, 0, 1, 0, 0, 0, 1, 1]\n",
        "    }\n",
        "\n",
        "![image.png](data:image/png;base64,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)\n",
        "\n"
      ],
      "metadata": {
        "id": "zjp2ICEiE-pK"
      }
    },
    {
      "cell_type": "code",
      "source": [
        "data = {\n",
        "'Id': [1, 2, 3, 4, 5, 6, 7, 8, 9, 10],\n",
        "'Leche': [1, 1, 1, 0, 1, 0, 1, 0, 0, 1],\n",
        "'Pan': [1, 1, 1, 0, 0, 1, 0, 1, 0, 0],\n",
        "'Huevos': [1, 1, 0, 1, 0, 1, 0, 0, 1, 1],\n",
        "'Cereales': [0, 0, 1, 0, 0, 0, 1, 0, 0, 1],\n",
        "'Azúcar': [0, 1, 1, 0, 1, 0, 0, 0, 1, 1]\n",
        "}"
      ],
      "metadata": {
        "id": "H8QSfvHSZA1F"
      },
      "execution_count": null,
      "outputs": []
    },
    {
      "cell_type": "code",
      "source": [
        "# Importar la librería pandas\n",
        "import pandas as pd\n",
        "\n",
        "# Convertir el diccionario de datos en un DataFrame\n",
        "df = pd.DataFrame(data)\n",
        "\n",
        "# Contar el número de veces que aparece el patrón\n",
        "num_ocurrencias = ((df[\"Leche\"] == 1) & (df[\"Huevos\"] == 1) & (df[\"Azúcar\"] == 1)).sum()\n",
        "\n",
        "# Mostrar el número de ocurrencias\n",
        "print(\"Número de ocurrencias del patrón Leche,Huevos --> Azúcar:\", num_ocurrencias)"
      ],
      "metadata": {
        "id": "klHhraTlFRaB",
        "colab": {
          "base_uri": "https://localhost:8080/"
        },
        "outputId": "4498e50b-4dc2-4861-f8c7-c85fd1ecedd1"
      },
      "execution_count": null,
      "outputs": [
        {
          "output_type": "stream",
          "name": "stdout",
          "text": [
            "Número de ocurrencias del patrón Leche,Huevos --> Azúcar: 2\n"
          ]
        }
      ]
    },
    {
      "cell_type": "code",
      "source": [
        "num_compras_total = len(df)"
      ],
      "metadata": {
        "id": "TnJpsU46Z-iZ"
      },
      "execution_count": null,
      "outputs": []
    },
    {
      "cell_type": "markdown",
      "source": [
        "Entonces, sabemos que el patrón Leche,Huevos --> Azucar aparece en dos compras en el conjunto de datos.\n",
        "\n",
        "Ahora podemos calcular el soporte, confianza y lift:\n",
        "\n",
        "**Soporte:**\n",
        "\n",
        "Es la frecuencia relativa del patrón en el conjunto de datos. En otras palabras, es la proporción de compras en las que se compraron todos los productos del patrón. El soporte se calcula de la siguiente manera:"
      ],
      "metadata": {
        "id": "BY4kII5ZGDlq"
      }
    },
    {
      "cell_type": "code",
      "source": [
        "# Calcula el soporte\n",
        "soporte = num_ocurrencias / num_compras_total"
      ],
      "metadata": {
        "id": "ols3_oE5GB9k"
      },
      "execution_count": null,
      "outputs": []
    },
    {
      "cell_type": "code",
      "source": [
        "soporte"
      ],
      "metadata": {
        "colab": {
          "base_uri": "https://localhost:8080/"
        },
        "id": "Y5xHI9kJaB7T",
        "outputId": "e089e1d7-8897-40a7-8395-c2875180ac6c"
      },
      "execution_count": null,
      "outputs": [
        {
          "output_type": "execute_result",
          "data": {
            "text/plain": [
              "0.2"
            ]
          },
          "metadata": {},
          "execution_count": 9
        }
      ]
    },
    {
      "cell_type": "markdown",
      "source": [
        "***Confianza:*** Es la probabilidad de que se compre el producto de consecuencia (Azúcar), dado que se compraron los productos del antecedente (Leche y Huevos).\n",
        "\n",
        "Donde **num_ocurrencias_patrón** es el número de veces que aparece el patrón completo (Leche,Huevos,Azucar), y **num_ocurrencias_antecedente** es el número de veces que aparece el antecedente (Leche,Huevos) en el conjunto de datos. En este caso:"
      ],
      "metadata": {
        "id": "N5WvGZbAGWP0"
      }
    },
    {
      "cell_type": "code",
      "source": [
        "# Calcula la confianza donde la consecuencia sea el Azúcar y el antecendente la Leche y Huevos (Leche, Huevos --> Azúcar)\n",
        "\n",
        "num_ocurrencias_antecedente =\n",
        "num_ocurrencias_patrón = num_ocurrencias\n",
        "confianza = num_ocurrencias_patrón / ???"
      ],
      "metadata": {
        "id": "6pvOsnAnF8vz",
        "colab": {
          "base_uri": "https://localhost:8080/",
          "height": 144
        },
        "outputId": "7c1c9464-f6da-4bb1-faab-3ae640ccee2e"
      },
      "execution_count": null,
      "outputs": [
        {
          "output_type": "error",
          "ename": "SyntaxError",
          "evalue": "invalid syntax (<ipython-input-10-d3d6e3f443ec>, line 3)",
          "traceback": [
            "\u001b[0;36m  File \u001b[0;32m\"<ipython-input-10-d3d6e3f443ec>\"\u001b[0;36m, line \u001b[0;32m3\u001b[0m\n\u001b[0;31m    num_ocurrencias_antecedente =\u001b[0m\n\u001b[0m                                 ^\u001b[0m\n\u001b[0;31mSyntaxError\u001b[0m\u001b[0;31m:\u001b[0m invalid syntax\n"
          ]
        }
      ]
    },
    {
      "cell_type": "code",
      "source": [
        "confianza"
      ],
      "metadata": {
        "colab": {
          "base_uri": "https://localhost:8080/"
        },
        "id": "iidRTq5kb8GX",
        "outputId": "350cf446-ee71-4566-b283-8eea34e2191b"
      },
      "execution_count": null,
      "outputs": [
        {
          "output_type": "execute_result",
          "data": {
            "text/plain": [
              "0.6666666666666666"
            ]
          },
          "metadata": {},
          "execution_count": 10
        }
      ]
    },
    {
      "cell_type": "markdown",
      "source": [
        "**Lift:** Es una medida de la relación entre el antecedente y la consecuencia. Se define como la razón entre la confianza y el soporte esperado si el antecedente y la consecuencia fueran independientes.\n",
        "\n",
        "Donde **soporte_consecuencia** es la frecuencia relativa de la consecuencia (Azúcar) en el conjunto de datos."
      ],
      "metadata": {
        "id": "VoLf6J-OG1rb"
      }
    },
    {
      "cell_type": "code",
      "source": [
        "# Calcula el lift para el siguiente patrón\n",
        "\n",
        "soporte_consecuencia = (df['Azúcar'] == 1).sum() / ???\n",
        "lift = soporte_antecendente / ???"
      ],
      "metadata": {
        "id": "bU-gJ6dWGyT1"
      },
      "execution_count": null,
      "outputs": []
    },
    {
      "cell_type": "markdown",
      "source": [
        "Si has llegado hasta aqui, los valores de soporte, confianza y lift para el patrón Leche,Huevos --> Azucar son:\n",
        "\n",
        "    Soporte = 0.2\n",
        "\n",
        "    Confianza = 0.666\n",
        "\n",
        "    Lift = 1.33\n",
        "\n",
        "**El soporte** (0.2) indica que el patrón (Leche,Huevos) y la consecuencia (Azúcar) aparecen juntos en el 20% de las compras totales en el conjunto de datos.\n",
        "\n",
        "**La confianza** (0.666) indica que cuando se compran Leche y Huevos juntos, hay una probabilidad del 66.6% de que también se compre Azúcar.\n",
        "\n",
        "**El lift** (1.33) indica que la probabilidad de que se compre Azúcar cuando se compran Leche y Huevos juntos es 1.33 veces mayor que la probabilidad esperada si estos dos productos fueran comprados independientemente.\n",
        "\n",
        "En general, un **lift mayor que 1** indica una relación positiva entre el antecedente y la consecuencia, lo que significa que la compra de un producto aumenta la probabilidad de compra de otro producto. En este caso, el lift de 1.33 indica una relación positiva, pero no muy fuerte, entre el patrón (Leche,Huevos) y la consecuencia (Azúcar).\n",
        "\n",
        "La confianza del patrón **(Leche,Huevos)** --> **Azúcar** es relativamente alta (0.666), lo que significa que es probable que los consumidores compren Azúcar cuando compran Leche y Huevos juntos. Sin embargo, el soporte es relativamente bajo (0.2), lo que significa que el patrón no ocurre con mucha frecuencia en el conjunto de datos.\n",
        "\n"
      ],
      "metadata": {
        "id": "ODi17260HzEi"
      }
    },
    {
      "cell_type": "code",
      "source": [],
      "metadata": {
        "id": "YekmrIytPvo8"
      },
      "execution_count": null,
      "outputs": []
    }
  ]
}