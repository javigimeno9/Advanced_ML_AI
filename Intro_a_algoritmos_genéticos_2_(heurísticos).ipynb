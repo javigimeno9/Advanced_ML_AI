{
  "nbformat": 4,
  "nbformat_minor": 0,
  "metadata": {
    "colab": {
      "provenance": []
    },
    "kernelspec": {
      "name": "python3",
      "display_name": "Python 3"
    },
    "language_info": {
      "name": "python"
    }
  },
  "cells": [
    {
      "cell_type": "markdown",
      "metadata": {
        "id": "DShITMXJy-Xp"
      },
      "source": [
        "<img src=\"https://thevalley.es/wp-content/uploads/2016/11/thevalley-logo-negro.png\" width=\"400\"></img>\n",
        "\n",
        "# Introducción a desarrollo de algoritmos genéticos\n",
        "\n",
        "Es un algoritmo de **búsqueda heurística** que imita la selección natural, se utiliza para resolver problemas de **optimización**. Se trata junto con las redes neuronales en el más popular de los algoritmos inspirados en la biología.\n",
        "\n",
        "<img src=\"https://www.ecestaticos.com/image/clipping/efbcba168348a16be48f451fd893f215/como-pensaba-darwin-la-regla-de-oro-de-uno-de-los-grandes-cientificos.jpg\" width=\"400\"></img>\n",
        "\n",
        "En este ejemplo se desarrollará un algoritmo genético que nos ayude a encontrar un mínimo o un máximo de una función. La implementación del algoritmo se realizará desde cero y completamente en python para entender bien la lógica del funcionamiento de este método heurístico.\n",
        "\n",
        "**Notebook por: David Rey**"
      ]
    },
    {
      "cell_type": "code",
      "metadata": {
        "id": "KZCtLEt013qi"
      },
      "source": [
        "#\n",
        "# Importación de librerías\n",
        "#\n",
        "from numpy import random"
      ],
      "execution_count": null,
      "outputs": []
    },
    {
      "cell_type": "markdown",
      "metadata": {
        "id": "HzgZbJ_BzjJY"
      },
      "source": [
        "# Población y representación de los individuos\n",
        "\n",
        "Representaremos a los indivuos como cadenas de bits, usaremos los siguientes hiperparámetros:\n",
        "*  **n_pop** para representar el número de individuos en la población\n",
        "*  **n_iter** representará el número de iteraciones o generaciones sobre las que vamos evolucionar la especie\n",
        "* **fitness** será nuestra función objetivo y la medida de fitness (a maximizar)\n",
        "* **nbits** será el número de genes de cada individuo (como representaremos el individuo como un número, esta será la representación binaria del número)"
      ]
    },
    {
      "cell_type": "markdown",
      "metadata": {
        "id": "SaB53QOu0dKS"
      },
      "source": [
        "## Inicialización de la población\n",
        "\n",
        "La población general la construiremos de forma aleatoria, usaremos enteros de resolución 16 bits, nuestra población será de 100 individuos."
      ]
    },
    {
      "cell_type": "code",
      "metadata": {
        "colab": {
          "base_uri": "https://localhost:8080/"
        },
        "id": "9jZxFvbs0f1f",
        "outputId": "4188e6a4-6881-44f4-dc2f-c117c27aa900"
      },
      "source": [
        "n_pop = 100\n",
        "n_bits = 16\n",
        "#\n",
        "# Construimos la población como un array de enteros de 16 bits\n",
        "#\n",
        "pop = [random.randint(0, 2, n_bits).tolist() for _ in range(n_pop)]\n",
        "\n",
        "#\n",
        "# Mostramos los 3 primeros individuos (vemos que son una secuencia de valores binarios)\n",
        "#\n",
        "pop[0:3]"
      ],
      "execution_count": null,
      "outputs": [
        {
          "output_type": "execute_result",
          "data": {
            "text/plain": [
              "[[0, 1, 1, 1, 1, 0, 1, 0, 0, 0, 1, 1, 1, 0, 0, 0],\n",
              " [0, 0, 0, 1, 0, 1, 0, 0, 1, 1, 0, 0, 1, 0, 0, 1],\n",
              " [1, 0, 0, 1, 0, 0, 0, 0, 1, 1, 1, 1, 0, 1, 0, 1]]"
            ]
          },
          "metadata": {},
          "execution_count": 2
        }
      ]
    },
    {
      "cell_type": "markdown",
      "metadata": {
        "id": "Gvdk4tu20ZKk"
      },
      "source": [
        "# Algoritmo\n",
        "\n",
        "A continuación definiremos una serie de funciones"
      ]
    },
    {
      "cell_type": "markdown",
      "metadata": {
        "id": "NVtQ57jd4OP5"
      },
      "source": [
        "# Función de fitness u objetivo\n",
        "\n",
        "Esta función nos dirá como el individuo se acerca al optimo global, en nuestro caso será una función que toma como entrada un individuo y devuelve un valor continuo"
      ]
    },
    {
      "cell_type": "code",
      "metadata": {
        "id": "jSBCaVqK3Cih"
      },
      "source": [
        "#\n",
        "# Creación de una función de objetivo o fitness dummy\n",
        "# en este caso los individuos como mayor\n",
        "# trataría a todos los individuos por igual\n",
        "#\n",
        "def dummy_fitness(individual):\n",
        "  return sum(individual)"
      ],
      "execution_count": null,
      "outputs": []
    },
    {
      "cell_type": "markdown",
      "metadata": {
        "id": "LqSk7Oi14a4a"
      },
      "source": [
        "Hacemos una prueba con el primer individuo de la población"
      ]
    },
    {
      "cell_type": "code",
      "metadata": {
        "colab": {
          "base_uri": "https://localhost:8080/"
        },
        "id": "CaVhRhbr33w9",
        "outputId": "2a50ca3e-8096-4f28-f5b7-aa68aec105d0"
      },
      "source": [
        "#\n",
        "# Calculamos un valor de ejemplo\n",
        "#\n",
        "print(pop[0])\n",
        "print('Resultado de la función de fitness:')\n",
        "print(dummy_fitness(pop[0]))"
      ],
      "execution_count": null,
      "outputs": [
        {
          "output_type": "stream",
          "name": "stdout",
          "text": [
            "[0, 1, 1, 1, 1, 0, 1, 0, 0, 0, 1, 1, 1, 0, 0, 0]\n",
            "Resultado de la función de fitness:\n",
            "8\n"
          ]
        }
      ]
    },
    {
      "cell_type": "markdown",
      "metadata": {
        "id": "Uz-VexpYil9V"
      },
      "source": [
        "Pero podríamos haber decidido otra función fitness, por ejemplo si nos interesa favorecer a los últimos bits de la cadena, podriamos hacer que la función de fitness se calculara multiplicando por la posición de bit."
      ]
    },
    {
      "cell_type": "code",
      "metadata": {
        "id": "SvPPRtqSipQU"
      },
      "source": [
        "# El peso de bit es 1, el 2º es 2, etc...\n",
        "def dummy_fitness(individual):\n",
        "  result_items = map(lambda idx: (1+idx) * individual[idx], range(0,len(individual)))\n",
        "  result = sum(result_items)\n",
        "  return result"
      ],
      "execution_count": null,
      "outputs": []
    },
    {
      "cell_type": "markdown",
      "metadata": {
        "id": "9mu4-JkSjb16"
      },
      "source": [
        "Y obtendríamos"
      ]
    },
    {
      "cell_type": "code",
      "metadata": {
        "colab": {
          "base_uri": "https://localhost:8080/"
        },
        "id": "UDOmMupTjNCp",
        "outputId": "4e6c407d-6775-4389-ea03-469917980947"
      },
      "source": [
        "#\n",
        "# Calculamos un valor de ejemplo\n",
        "#\n",
        "print(pop[1])\n",
        "print('Resultado de la función de fitness:')\n",
        "print(dummy_fitness(pop[1]))"
      ],
      "execution_count": null,
      "outputs": [
        {
          "output_type": "stream",
          "name": "stdout",
          "text": [
            "[0, 0, 0, 1, 0, 1, 0, 0, 1, 1, 0, 0, 1, 0, 0, 1]\n",
            "Resultado de la función de fitness:\n",
            "58\n"
          ]
        }
      ]
    },
    {
      "cell_type": "markdown",
      "metadata": {
        "id": "-ZtLRDdhjqKJ"
      },
      "source": [
        "### Manejo de restricciones\n",
        "**pregunta:** ¿Cómo haríamos para tener una funcion de fitness en la que excluyeramos las cadenas con más de 10 unos?"
      ]
    },
    {
      "cell_type": "code",
      "metadata": {
        "colab": {
          "base_uri": "https://localhost:8080/"
        },
        "id": "4AjQaVnfj1M6",
        "outputId": "bceeb0a7-29dd-4df4-d08d-8985a52029f8"
      },
      "source": [
        "def dummy_fitness(individual):\n",
        "  result = sum(individual)\n",
        "  if result > 10:\n",
        "    result = 0\n",
        "  return result\n",
        "print('Resultado de la función de fitness: ' + str(dummy_fitness(pop[0])) + ' Número de 1: ' + str(sum(pop[0])))"
      ],
      "execution_count": null,
      "outputs": [
        {
          "output_type": "stream",
          "name": "stdout",
          "text": [
            "Resultado de la función de fitness: 8 Número de 1: 8\n"
          ]
        }
      ]
    },
    {
      "cell_type": "markdown",
      "metadata": {
        "id": "EMEkN4A13DOm"
      },
      "source": [
        "### Puntuaciones de fitness de la población\n",
        "\n",
        "En cada generación calcularíamos los valores de fitness de la población completa aplicando esta función a cada uno de los valores"
      ]
    },
    {
      "cell_type": "code",
      "metadata": {
        "id": "ZDw7aE2H3Qay"
      },
      "source": [
        "#\n",
        "# Asignamos nuestra función de fitness a la función objetivo sum\n",
        "#\n",
        "fitness = dummy_fitness\n",
        "#\n",
        "# Evaluamos a todos los individuos de de la población\n",
        "#\n",
        "scores = [fitness(c) for c in pop]"
      ],
      "execution_count": null,
      "outputs": []
    },
    {
      "cell_type": "code",
      "metadata": {
        "colab": {
          "base_uri": "https://localhost:8080/"
        },
        "id": "ciXkl2IJ49_-",
        "outputId": "eb229eaa-e1c9-4110-e5fb-354a1ae65e7a"
      },
      "source": [
        "#\n",
        "# Mostramos los 10 primeros valores\n",
        "#\n",
        "scores[0:10]"
      ],
      "execution_count": null,
      "outputs": [
        {
          "output_type": "execute_result",
          "data": {
            "text/plain": [
              "[8, 6, 8, 0, 8, 0, 10, 0, 4, 3]"
            ]
          },
          "metadata": {},
          "execution_count": 9
        }
      ]
    },
    {
      "cell_type": "markdown",
      "metadata": {
        "id": "pwRXMeCW2jQp"
      },
      "source": [
        "## Función de selección\n",
        "\n",
        "Definimos una función de selección a la que pasamos un array con la población y sus scores, esta función seleccionará un individuo al azar con el que reproducir al individuo."
      ]
    },
    {
      "cell_type": "code",
      "metadata": {
        "id": "CjeH2qQSy40a"
      },
      "source": [
        "# K es el numero de candidatos\n",
        "def selection(pop, scores, k=2):\n",
        "\t#\n",
        "  # Realizamos una primera selección aleatoria del tamaño de la población\n",
        "  # selecciona un índice al azar\n",
        "  #\n",
        "\tselection_ix = random.randint(len(pop))\n",
        "\n",
        "  #\n",
        "  # Seleciona un número k candidatos y elegimos el que mejor fitness tenga de todos\n",
        "  # con lo que favorecemos la reproducción de los individuos con mayor score\n",
        "\t# hacemos un \"torneo (tournment)\" con enfrentamientos de k individuos\n",
        "\t#\n",
        "\tfor ix in random.randint(0, len(pop), k):\n",
        "\t\tif scores[ix] > scores[selection_ix]:\n",
        "\t\t\tselection_ix = ix\n",
        "\n",
        "\n",
        "\treturn pop[selection_ix]"
      ],
      "execution_count": null,
      "outputs": []
    },
    {
      "cell_type": "code",
      "source": [
        "len(pop)"
      ],
      "metadata": {
        "colab": {
          "base_uri": "https://localhost:8080/"
        },
        "id": "LxWaqi1ppUcM",
        "outputId": "1a9524f0-e98f-49d4-b4ef-8b01e9ce86f8"
      },
      "execution_count": null,
      "outputs": [
        {
          "output_type": "execute_result",
          "data": {
            "text/plain": [
              "100"
            ]
          },
          "metadata": {},
          "execution_count": 11
        }
      ]
    },
    {
      "cell_type": "code",
      "metadata": {
        "colab": {
          "base_uri": "https://localhost:8080/"
        },
        "id": "7OrkqFtV3BV4",
        "outputId": "b18cd62a-1da9-45d9-b4be-dafa8af6df90"
      },
      "source": [
        "#\n",
        "# Mostramos el valor\n",
        "#\n",
        "selection(pop, scores, k=6)"
      ],
      "execution_count": null,
      "outputs": [
        {
          "output_type": "execute_result",
          "data": {
            "text/plain": [
              "[0, 0, 1, 1, 0, 1, 1, 1, 1, 1, 0, 1, 0, 1, 1, 0]"
            ]
          },
          "metadata": {},
          "execution_count": 12
        }
      ]
    },
    {
      "cell_type": "markdown",
      "metadata": {
        "id": "aPFKQ0l37YLl"
      },
      "source": [
        "## Creación de la siguiente generación\n"
      ]
    },
    {
      "cell_type": "markdown",
      "metadata": {
        "id": "AEgc3Xex76h3"
      },
      "source": [
        "## Selección de progenitores\n",
        "\n",
        "Construimos una nueva generación sobre nuestra población original"
      ]
    },
    {
      "cell_type": "code",
      "metadata": {
        "colab": {
          "base_uri": "https://localhost:8080/"
        },
        "id": "y1X8MMEe7pyW",
        "outputId": "9b4bc23a-b650-460a-c313-9fc6543acc82"
      },
      "source": [
        "#\n",
        "# selección de progenitores\n",
        "#\n",
        "selected = [selection(pop, scores) for _ in range(n_pop)]\n",
        "\n",
        "#\n",
        "# Mostramos 3 individuos\n",
        "#\n",
        "selected[0:3]"
      ],
      "execution_count": null,
      "outputs": [
        {
          "output_type": "execute_result",
          "data": {
            "text/plain": [
              "[[1, 0, 1, 1, 0, 0, 0, 1, 0, 1, 0, 0, 1, 1, 0, 1],\n",
              " [1, 0, 1, 1, 1, 0, 0, 1, 1, 0, 0, 1, 0, 1, 1, 1],\n",
              " [1, 0, 1, 0, 0, 0, 1, 1, 1, 1, 1, 1, 0, 0, 1, 1]]"
            ]
          },
          "metadata": {},
          "execution_count": 13
        }
      ]
    },
    {
      "cell_type": "markdown",
      "metadata": {
        "id": "m49h5p4M8AQZ"
      },
      "source": [
        "## Función de cruce\n",
        "\n",
        "Definiremos la función de cruce como una *mezcla* de los cromosomas de dos progenitores, llevará asociada una probabilidad *prob_cross* de suceder. En caso de no suceder los progenitores se *clonarán* en la siguiente generación"
      ]
    },
    {
      "cell_type": "code",
      "metadata": {
        "id": "ugbMsfzG8HHp"
      },
      "source": [
        "def crossover(parent_1, parent_2, prob_cross):\n",
        "\t# Los hijos son icialmente un clon de los padres\n",
        "\tchildren_1, children_2 = parent_1.copy(), parent_2.copy()\n",
        "\t# probabilidad de recombinación\n",
        "\tif random.rand() < prob_cross:\n",
        "\t\t# seleccionamos un punto de cruce en el vector entre 1 y la posición penúltima de la cadena\n",
        "\t\tpt = random.randint(1, len(parent_1) - 2)\n",
        "\t\t#print('Punto pivote:' + str(pt))\n",
        "\t\t# realizamos eUntitled0l cruce\n",
        "\t\tchildren_1 = parent_1[:pt] + parent_2[pt:]\n",
        "\t\tchildren_2 = parent_2[:pt] + parent_1[pt:]\n",
        "\treturn [children_1, children_2]"
      ],
      "execution_count": null,
      "outputs": []
    },
    {
      "cell_type": "markdown",
      "metadata": {
        "id": "gFD1B_498u-a"
      },
      "source": [
        "Probamos la operación de cruce, vamos a forzar que suceda asi que asignamos **prob_cross=1**"
      ]
    },
    {
      "cell_type": "code",
      "metadata": {
        "colab": {
          "base_uri": "https://localhost:8080/"
        },
        "id": "Qskq5p098yhP",
        "outputId": "41fb644b-6a21-4fae-ebc9-4bbd0e8c8b77"
      },
      "source": [
        "#\n",
        "# Cruzamos los dos primeros individuos de la población\n",
        "#\n",
        "parent_1 = pop[0]\n",
        "parent_2 = pop[1]\n",
        "#\n",
        "# Realizamos el proceso de cruce (asignamos un 100 )\n",
        "#\n",
        "child_1, child_2 = crossover(parent_1, parent_2, prob_cross = 1)\n",
        "\n",
        "print('Padres')\n",
        "print(parent_1)\n",
        "print(parent_2)\n",
        "print('Hijos')\n",
        "print(child_1)\n",
        "print(child_2)"
      ],
      "execution_count": null,
      "outputs": [
        {
          "output_type": "stream",
          "name": "stdout",
          "text": [
            "Padres\n",
            "[0, 1, 1, 1, 1, 0, 1, 0, 0, 0, 1, 1, 1, 0, 0, 0]\n",
            "[0, 0, 0, 1, 0, 1, 0, 0, 1, 1, 0, 0, 1, 0, 0, 1]\n",
            "Hijos\n",
            "[0, 1, 0, 1, 0, 1, 0, 0, 1, 1, 0, 0, 1, 0, 0, 1]\n",
            "[0, 0, 1, 1, 1, 0, 1, 0, 0, 0, 1, 1, 1, 0, 0, 0]\n"
          ]
        }
      ]
    },
    {
      "cell_type": "markdown",
      "metadata": {
        "id": "71BSExue9nVR"
      },
      "source": [
        "**pregunta**: ¿en qué punto se ha hecho el cruce?"
      ]
    },
    {
      "cell_type": "markdown",
      "metadata": {
        "id": "fc7PYb3g9v5r"
      },
      "source": [
        "## Operación de mutación\n",
        "\n",
        "Existe una función que permite aportar variabilidad genética a través de la operación de mutación sobre los individuos resultantes, se asigna una probabilidad muy baja a que alguno de los bits de los individuos se modifique"
      ]
    },
    {
      "cell_type": "code",
      "metadata": {
        "id": "ylXyB9KY-Ab7"
      },
      "source": [
        "def mutation(bitstring, prob_mut):\n",
        "\tfor i in range(len(bitstring)):\n",
        "\t\t# para cada bit revisamos si aplicamos una mutación (es decir invertimos el bit)\n",
        "\t\tif random.rand() < r_mut:\n",
        "\t\t\t# invertimos el bit\n",
        "\t\t\tbitstring[i] = 1 - bitstring[i]\n",
        "\treturn bitstring"
      ],
      "execution_count": null,
      "outputs": []
    },
    {
      "cell_type": "markdown",
      "metadata": {
        "id": "dSKxHSml-pyQ"
      },
      "source": [
        "# Algoritmo completo\n",
        "\n",
        "A continuación recopilamos todas las funciones en una función que represente el algoritmo completo"
      ]
    },
    {
      "cell_type": "code",
      "metadata": {
        "id": "YkpRleRz-pKe"
      },
      "source": [
        "def genetic_algorithm(fitness, n_bits, n_iter, n_pop, prob_cross, prob_mut):\n",
        "\t# construimos la población original\n",
        "\tpop = [random.randint(0, 2, n_bits).tolist() for _ in range(n_pop)]\n",
        "\n",
        "\t# mantenemos la mejor instancia\n",
        "\tbest, best_eval = 0, fitness(pop[0])\n",
        "\n",
        "\t# realizamos una serie de iteraciones\n",
        "\tfor gen in range(n_iter):\n",
        "\t\t# evaluamos todos los candidatos en la población\n",
        "\n",
        "\t\tscores = [fitness(c) for c in pop]\n",
        "\t\t# seleccionamos la mejor solución (best of breed)\n",
        "\t\tfor i in range(n_pop):\n",
        "\t\t\tif scores[i] > best_eval:\n",
        "\t\t\t\tbest, best_eval = pop[i], scores[i]\n",
        "\t\t\t\tprint(\">%d, Nueva mejor solución f(%s) = %.3f\" % (gen,  pop[i], scores[i]))\n",
        "\n",
        "    # selección de individuos para el cruce (padres)\n",
        "\t\tselected = [selection(pop, scores, k=3) for _ in range(n_pop)]\n",
        "\t\t# construimos la nueva generación\n",
        "\t\tchildren = list()\n",
        "\t\tfor i in range(0, n_pop, 2):\n",
        "\t\t\t# seleccionamos pares de padres\n",
        "\t\t\tp1, p2 = selected[i], selected[i+1]\n",
        "\t\t\t# aplicamos las operaciones de cruce y mutación\n",
        "\t\t\tfor c in crossover(p1, p2, prob_cross):\n",
        "\t\t\t\t# aplicamos la mutación\n",
        "\t\t\t\tmutation(c, prob_mut)\n",
        "\t\t\t\t# guardamos el individuo para la siguiente generación\n",
        "\t\t\t\tchildren.append(c)\n",
        "\t\t# remplazamos la población\n",
        "\t\tpop = children\n",
        "\treturn [best, best_eval]"
      ],
      "execution_count": null,
      "outputs": []
    },
    {
      "cell_type": "markdown",
      "metadata": {
        "id": "OufK1U-u_zWO"
      },
      "source": [
        "## Ejemplo\n",
        "\n",
        "Vamos a realizar un ejemplo con la función onemax que da un valor máximo cuando el vector son unos (en este caso el óptimo sería el número de bits del vector)"
      ]
    },
    {
      "cell_type": "code",
      "metadata": {
        "id": "v4p4wHpC_yr6"
      },
      "source": [
        "def onemax(x):\n",
        "\tresult = sum(x)\n",
        "\treturn result"
      ],
      "execution_count": null,
      "outputs": []
    },
    {
      "cell_type": "markdown",
      "metadata": {
        "id": "80rsFvDnAANH"
      },
      "source": []
    },
    {
      "cell_type": "code",
      "metadata": {
        "id": "Npjb9g25AAew"
      },
      "source": [
        "# establecemos los parámetros\n",
        "n_iter = 500\n",
        "n_bits = 20\n",
        "n_pop = 10\n",
        "r_cross = 0.5\n",
        "# Establecemos un valor relativamente bajo\n",
        "r_mut = 1.0 / float(n_bits)"
      ],
      "execution_count": null,
      "outputs": []
    },
    {
      "cell_type": "code",
      "metadata": {
        "colab": {
          "base_uri": "https://localhost:8080/"
        },
        "id": "g45maEu4ALNP",
        "outputId": "da671500-3035-455c-fb65-d13de714895e"
      },
      "source": [
        "# Buscamos el mejor individuo en 100 iteraciones\n",
        "best, score = genetic_algorithm(onemax, n_bits, n_iter, n_pop, r_cross, r_mut)\n",
        "print('Solución:')\n",
        "print('f(%s) = %f' % (best, score))"
      ],
      "execution_count": null,
      "outputs": [
        {
          "output_type": "stream",
          "name": "stdout",
          "text": [
            ">0, Nueva mejor solución f([0, 0, 1, 1, 0, 0, 0, 0, 0, 1, 1, 1, 1, 0, 0, 1, 0, 1, 1, 1]) = 10.000\n",
            ">0, Nueva mejor solución f([1, 1, 1, 1, 1, 1, 0, 1, 1, 0, 0, 0, 1, 0, 0, 0, 1, 0, 1, 1]) = 12.000\n",
            ">0, Nueva mejor solución f([1, 1, 0, 0, 1, 1, 1, 1, 1, 1, 1, 0, 1, 1, 1, 1, 0, 1, 0, 1]) = 15.000\n",
            ">2, Nueva mejor solución f([1, 0, 1, 0, 1, 0, 1, 1, 1, 1, 1, 0, 1, 1, 1, 1, 1, 1, 1, 1]) = 16.000\n",
            ">3, Nueva mejor solución f([1, 1, 0, 0, 1, 1, 1, 1, 1, 1, 1, 1, 1, 1, 1, 1, 0, 1, 1, 1]) = 17.000\n",
            ">4, Nueva mejor solución f([1, 1, 0, 0, 1, 1, 1, 1, 1, 1, 1, 1, 1, 1, 1, 1, 1, 1, 1, 1]) = 18.000\n",
            ">5, Nueva mejor solución f([1, 1, 0, 1, 1, 1, 1, 1, 1, 1, 1, 1, 1, 1, 1, 1, 1, 1, 1, 1]) = 19.000\n",
            ">16, Nueva mejor solución f([1, 1, 1, 1, 1, 1, 1, 1, 1, 1, 1, 1, 1, 1, 1, 1, 1, 1, 1, 1]) = 20.000\n",
            "Solución:\n",
            "f([1, 1, 1, 1, 1, 1, 1, 1, 1, 1, 1, 1, 1, 1, 1, 1, 1, 1, 1, 1]) = 20.000000\n"
          ]
        }
      ]
    },
    {
      "cell_type": "markdown",
      "metadata": {
        "id": "iH9YqgvGBbDA"
      },
      "source": [
        "Probamos el efecto del tamaño de la población para ver el número de iteraciones necesarias para lograr la convergencia al óptimo"
      ]
    },
    {
      "cell_type": "code",
      "metadata": {
        "colab": {
          "base_uri": "https://localhost:8080/"
        },
        "id": "KCs-CzLuBaHK",
        "outputId": "fc2426b5-80f0-4095-8dfa-7397798e2635"
      },
      "source": [
        "# Buscamos el mejor individuo en 100 iteraciones\n",
        "best, score = genetic_algorithm(fitness = onemax,\n",
        "                                n_bits = n_bits,\n",
        "                                n_iter = n_iter,\n",
        "                                n_pop = 200,\n",
        "                                prob_cross = 0.01,\n",
        "                                prob_mut = 0.01)\n",
        "print('Solución:')\n",
        "print('f(%s) = %f' % (best, score))"
      ],
      "execution_count": null,
      "outputs": [
        {
          "output_type": "stream",
          "name": "stdout",
          "text": [
            ">0, Nueva mejor solución f([1, 0, 0, 0, 1, 1, 0, 0, 0, 1, 1, 0, 1, 1, 1, 0, 1, 1, 1, 1]) = 12.000\n",
            ">0, Nueva mejor solución f([1, 1, 1, 1, 1, 1, 0, 1, 1, 1, 0, 1, 0, 1, 1, 1, 1, 1, 0, 0]) = 15.000\n",
            ">2, Nueva mejor solución f([0, 1, 1, 1, 0, 1, 1, 1, 1, 1, 1, 1, 1, 0, 1, 1, 1, 0, 1, 1]) = 16.000\n",
            ">2, Nueva mejor solución f([1, 1, 1, 0, 1, 0, 1, 1, 1, 1, 1, 1, 1, 0, 1, 1, 1, 1, 1, 1]) = 17.000\n",
            ">4, Nueva mejor solución f([0, 1, 1, 1, 1, 0, 1, 1, 1, 1, 1, 1, 1, 1, 1, 1, 1, 1, 1, 1]) = 18.000\n",
            ">7, Nueva mejor solución f([1, 1, 1, 0, 1, 1, 1, 1, 1, 1, 1, 1, 1, 1, 1, 1, 1, 1, 1, 1]) = 19.000\n",
            ">10, Nueva mejor solución f([1, 1, 1, 1, 1, 1, 1, 1, 1, 1, 1, 1, 1, 1, 1, 1, 1, 1, 1, 1]) = 20.000\n",
            "Solución:\n",
            "f([1, 1, 1, 1, 1, 1, 1, 1, 1, 1, 1, 1, 1, 1, 1, 1, 1, 1, 1, 1]) = 20.000000\n"
          ]
        }
      ]
    },
    {
      "cell_type": "code",
      "metadata": {
        "colab": {
          "base_uri": "https://localhost:8080/"
        },
        "id": "l-Rzu2T-CbdC",
        "outputId": "73d8234b-6e18-42af-ba11-7e15e2611386"
      },
      "source": [
        "# Buscamos el mejor individuo en 100 iteraciones\n",
        "best, score = genetic_algorithm(fitness = onemax,\n",
        "                                n_bits = n_bits,\n",
        "                                n_iter = n_iter,\n",
        "                                n_pop = 100,\n",
        "                                prob_cross = 0.6,\n",
        "                                prob_mut = r_mut)\n",
        "print('Solución:')\n",
        "print('f(%s) = %f' % (best, score))"
      ],
      "execution_count": null,
      "outputs": [
        {
          "output_type": "stream",
          "name": "stdout",
          "text": [
            ">0, Nueva mejor solución f([0, 1, 0, 1, 1, 1, 1, 0, 1, 1, 1, 0, 0, 0, 1, 1, 1, 1, 1, 1]) = 14.000\n",
            ">0, Nueva mejor solución f([1, 1, 0, 1, 1, 1, 1, 1, 1, 1, 1, 0, 0, 1, 0, 1, 1, 1, 1, 0]) = 15.000\n",
            ">0, Nueva mejor solución f([0, 1, 1, 1, 1, 1, 1, 1, 1, 1, 1, 1, 1, 1, 0, 1, 0, 1, 1, 1]) = 17.000\n",
            ">2, Nueva mejor solución f([0, 1, 1, 1, 1, 1, 1, 1, 1, 1, 1, 1, 1, 1, 0, 1, 1, 1, 1, 1]) = 18.000\n",
            ">3, Nueva mejor solución f([1, 1, 1, 1, 1, 1, 0, 1, 1, 1, 1, 1, 1, 1, 1, 1, 1, 1, 1, 1]) = 19.000\n",
            ">6, Nueva mejor solución f([1, 1, 1, 1, 1, 1, 1, 1, 1, 1, 1, 1, 1, 1, 1, 1, 1, 1, 1, 1]) = 20.000\n",
            "Solución:\n",
            "f([1, 1, 1, 1, 1, 1, 1, 1, 1, 1, 1, 1, 1, 1, 1, 1, 1, 1, 1, 1]) = 20.000000\n"
          ]
        }
      ]
    },
    {
      "cell_type": "markdown",
      "metadata": {
        "id": "ay9ve6LnCl1g"
      },
      "source": [
        "**pregunta**: ¿cual es el efecto de la población en el proceso?, pista: número de generaciones necesarias y tiempos"
      ]
    },
    {
      "cell_type": "markdown",
      "metadata": {
        "id": "gSXYi5QYleUY"
      },
      "source": [
        "**pregunta:** ¿para que nos valen en este caso las probabilidades de cruce y mutación?"
      ]
    },
    {
      "cell_type": "markdown",
      "metadata": {
        "id": "9mcYT2XgC-SW"
      },
      "source": [
        "## Aplicación de un genético un poco más real\n",
        "\n",
        "En realidad el ejemplo anterior no tiene mucha utilidad práctica porque nadie nos va a pedir que trabajemos con arrays de bits. Ahora vamos a poner un ejemplo más realista. Para ello vamos a ver como usaríamos el algorimo anterior (con ligeras modificaciones) para buscar el mínimo deuna función entera.\n",
        "En este caso buscaremos el mínimo de la función:\n",
        "\n",
        " $f(x) = x^2$.\n",
        "\n",
        "que como sabemos tiene su óptimo en el (0,0)\n",
        "\n",
        "<img src=\"https://upload.wikimedia.org/wikipedia/commons/d/dd/Function_x%5E2.svg\" width=\"300\"></img>\n"
      ]
    },
    {
      "cell_type": "markdown",
      "metadata": {
        "id": "zj1nDt4IDiZp"
      },
      "source": [
        "### Definición de la función objetivo\n"
      ]
    },
    {
      "cell_type": "code",
      "metadata": {
        "id": "fLRLL74FEyTd"
      },
      "source": [
        "# Función objetivo, los componentes serán dos coordenadas x, y\n",
        "def x_2(x):\n",
        "\treturn x[0]**2.0 + x[1]**2.0"
      ],
      "execution_count": null,
      "outputs": []
    },
    {
      "cell_type": "markdown",
      "metadata": {
        "id": "oBM1Qx6TFJ-L"
      },
      "source": [
        "### Codificación de los valores\n",
        "\n",
        "Construimos una función que decodifica un string de bits de un tamaño determinado y lo transforma en un vector de números\n",
        "\n",
        "Por ejemplo en una representación de 6 bits el array:\n",
        "\n",
        "$ x= (x_1,x_2) = [1,0,1,0,1,1]$ se podría descomponer en:\n",
        "\n",
        "* $x_1 = [1,0,1]$\n",
        "* $x_2 = [0,1,1]$\n",
        "\n",
        "Los valores posibles de cada vector tomarán valores desde [0,0 ... 0] a [1,1,...1] codificados en base 2 ([en binario](https://medium.com/@matematicasdiscretaslibro/cap%C3%ADtulo-2-sistemas-num%C3%A9ricos-de-codificaci%C3%B3n-1a87d670d9bb)). El maximo y mínimo se lo asignaremos a un máximo y mínimo establecido en la variable bounds:"
      ]
    },
    {
      "cell_type": "code",
      "metadata": {
        "id": "JrbD-TD0E8z-"
      },
      "source": [
        "#\n",
        "# Establecemos un espacio de valores posibles para las entradas\n",
        "#\n",
        "bounds = [[-5.0, 5.0], [-5.0, 5.0]]"
      ],
      "execution_count": null,
      "outputs": []
    },
    {
      "cell_type": "markdown",
      "metadata": {
        "id": "itHJHnNSHRxy"
      },
      "source": [
        "En el ejemplo en el que representamos el genoma con 6 genes (bits), tendríamos que, para cada valor de x , para los limites (bounds) [-5 a +5]:\n",
        "\n",
        "* El mínimo sería [0,0,0] sería -5\n",
        "* El máximo sería [1,1,1] sería +5\n",
        "\n",
        "En realidad si hablamos de representación binaria de números enteros los valores enteros de  vectores binarios de 3 posiciones serían:\n",
        "\n",
        "* $[0,0,0] = 2^2 * 0 + 2^1 * 0 + 2^0 * 0 = 0$\n",
        "* $[0,0,1] = 2^2 * 0 + 2^1 * 0 + 2^0 * 1 = 1$\n",
        "* $[0,1,0] = 2^2 * 0 + 2^1 * 1 + 2^0 * 0 = 2$\n",
        "* $[0,1,1] = 2^2 * 0 + 2^1 * 1 + 2^0 * 1 = 3$\n",
        "* $[1,0,0] = 2^2 * 1 + 2^1 * 0 + 2^0 * 0 = 4$\n",
        "* $[1,0,1] = 2^2 * 1 + 2^1 * 0 + 2^0 * 1 = 5$\n",
        "* $[1,1,0] = 2^2 * 1 + 2^1 * 1 + 2^0 * 0 = 6$\n",
        "* $[1,1,1] = 2^2 * 1 + 2^1 * 1 + 2^0 * 1 = 7$"
      ]
    },
    {
      "cell_type": "code",
      "metadata": {
        "id": "7r9DsncOFVX1"
      },
      "source": [
        "#\n",
        "# decodificamos el valor en array\n",
        "# [bit_1 ... bit_n/2 .... bit_n]\n",
        "# los primeros n/2 bits corresponden al valor de x_1\n",
        "# y los restantes al valor de x_2\n",
        "#\n",
        "def decode(bounds, n_bits, bitstring):\n",
        "\tdecoded = list()\n",
        "\tlargest = 2**n_bits\n",
        "\tfor i in range(len(bounds)):\n",
        "\t\t# extraemos la subcadena\n",
        "\t\tstart, end = i * n_bits, (i * n_bits)+n_bits\n",
        "\t\tsubstring = bitstring[start:end]\n",
        "\t\t# convertimos la subcadena a una subcadena de caracteres\n",
        "\t\tchars = ''.join([str(s) for s in substring])\n",
        "\t\t# construimos la cadena en enteros\n",
        "\t\tinteger = int(chars, 2)\n",
        "\t\t# escalamos el entero al rango deseado\n",
        "\t\tvalue = bounds[i][0] + (integer/largest) * (bounds[i][1] - bounds[i][0])\n",
        "\t\t# lo guardamos\n",
        "\t\tdecoded.append(value)\n",
        "\treturn decoded"
      ],
      "execution_count": null,
      "outputs": []
    },
    {
      "cell_type": "markdown",
      "metadata": {
        "id": "6MGuHuFHI1jf"
      },
      "source": [
        "Vemos un ejemplo de cómo tranformamos un individuo en su representación binaria"
      ]
    },
    {
      "cell_type": "code",
      "metadata": {
        "id": "nlrqhEFJFmxj"
      },
      "source": [
        "n_pop = 1\n",
        "# initial population of random bitstring\n",
        "pop = [random.randint(0, 2, n_bits*len(bounds)).tolist() for _ in range(n_pop)]"
      ],
      "execution_count": null,
      "outputs": []
    },
    {
      "cell_type": "markdown",
      "metadata": {
        "id": "Mnx80m5UI--f"
      },
      "source": [
        "Y como esto da lugar a una *tupla* de dos elementos $(x,y)$ dentro del rango marcado"
      ]
    },
    {
      "cell_type": "code",
      "metadata": {
        "colab": {
          "base_uri": "https://localhost:8080/"
        },
        "id": "tj4hpj9tF8jR",
        "outputId": "428a07bf-2476-4eec-a3e7-c287fca3ca23"
      },
      "source": [
        "print(pop[0])\n",
        "print(decode(bounds, n_bits, pop[0]))"
      ],
      "execution_count": null,
      "outputs": [
        {
          "output_type": "stream",
          "name": "stdout",
          "text": [
            "[0, 0, 0, 0, 0, 1, 0, 1, 0, 0, 1, 0, 0, 0, 1, 1, 1, 0, 1, 0, 0, 1, 0, 1, 1, 1, 0, 0, 1, 1, 0, 0, 1, 1, 1, 1, 0, 0, 1, 1]\n",
            "[-4.799251556396484, -1.3746356964111328]\n"
          ]
        }
      ]
    },
    {
      "cell_type": "code",
      "source": [
        "for i in range(0, n_pop, 2):\n",
        "  print(i)"
      ],
      "metadata": {
        "colab": {
          "base_uri": "https://localhost:8080/"
        },
        "id": "IWBVSfxdwqbD",
        "outputId": "553c81f1-a277-4b8b-ce57-3b5749386b90"
      },
      "execution_count": null,
      "outputs": [
        {
          "output_type": "stream",
          "name": "stdout",
          "text": [
            "0\n"
          ]
        }
      ]
    },
    {
      "cell_type": "markdown",
      "metadata": {
        "id": "-W0_8ln9JPaK"
      },
      "source": [
        "## Algoritmo final\n",
        "\n",
        "Modificamos ligeramente nuestro algoritmo para incorporar el proceso de decodificación"
      ]
    },
    {
      "cell_type": "code",
      "metadata": {
        "id": "8cHXBch5K28W"
      },
      "source": [
        "def genetic_algorithm(fitness, bounds, n_bits, n_iter, n_pop, r_cross, r_mut):\n",
        "\t# construimos la población original\n",
        "\tpop = [random.randint(0, 2, n_bits*len(bounds)).tolist() for _ in range(n_pop)]\n",
        "\t# mantenemos registro de la mejor iteración\n",
        "\tbest, best_eval = 0, fitness(decode(bounds, n_bits, pop[0]))\n",
        "\n",
        "\t# ejecutamos todas las iteraciones\n",
        "\tfor gen in range(n_iter):\n",
        "\t\t# decodificamos la población\n",
        "\t\tdecoded = [decode(bounds, n_bits, p) for p in pop]\n",
        "\t\t# evaluamos todos los candidatos de la población\n",
        "\t\tscores = [fitness(d) for d in decoded]\n",
        "\n",
        "\t\t# revisamos si hemos conseguidmo mejorar la solución\n",
        "\t\tfor i in range(n_pop):\n",
        "      # Redondeamos al 5er decimal\n",
        "\t\t\tif round(scores[i],5) > round(best_eval,5):\n",
        "\t\t\t\tbest, best_eval = pop[i], scores[i]\n",
        "\t\t\t\tprint(\">%d, Nueva mejor solución f(%s) = %f\" % (gen,  decoded[i], scores[i]))\n",
        "\n",
        "\t\t# seleccionamos los individuos para la reproducción\n",
        "\t\tselected = [selection(pop, scores) for _ in range(n_pop)]\n",
        "\t\t# construimos la siguiente generación\n",
        "\t\tchildren = list()\n",
        "\t\tfor i in range(0, n_pop, 2):\n",
        "\t\t\t# seleccionamos pares de padres\n",
        "\t\t\tp1, p2 = selected[i], selected[i+1]\n",
        "\t\t\t# aplicamos las operaciones de cruce y mutación\n",
        "\t\t\tfor c in crossover(p1, p2, r_cross):\n",
        "\t\t\t\t# mutación\n",
        "\t\t\t\tmutation(c, r_mut)\n",
        "\t\t\t\t# guardamos el individuo para la siguiente generación\n",
        "\t\t\t\tchildren.append(c)\n",
        "\t\t# remplazamos la población\n",
        "\t\tpop = children\n",
        "\treturn [gen, best, best_eval]"
      ],
      "execution_count": null,
      "outputs": []
    },
    {
      "cell_type": "markdown",
      "metadata": {
        "id": "-wkNVye2KBQv"
      },
      "source": [
        "Definimos unos parámetros"
      ]
    },
    {
      "cell_type": "code",
      "metadata": {
        "id": "JxcQ6xzVKBb_"
      },
      "source": [
        "# define range for input\n",
        "bounds = [[-5.0, 5.0], [-5.0, 5.0]]\n",
        "n_iter = 100\n",
        "n_bits = 16\n",
        "n_pop = 1000\n",
        "r_cross = 0.5\n",
        "r_mut = 1.0 / (float(n_bits) * len(bounds))"
      ],
      "execution_count": null,
      "outputs": []
    },
    {
      "cell_type": "markdown",
      "metadata": {
        "id": "PHiuDL89Lonr"
      },
      "source": [
        "Como hemos diseñado nuestro algoritmo para buscar el máximo si en este caso buscamos un mínimo la función **fitness** debe ofrecer valores más alto a los resultados de $y$ más bajos por tanto nuestra función objetivo sería"
      ]
    },
    {
      "cell_type": "code",
      "metadata": {
        "id": "ZUZm98_8LnkP"
      },
      "source": [
        "# Función objetivo f(x) = - x², los componentes serán dos coordenadas x, y\n",
        "def _x_2(x):\n",
        "\treturn -(x[0]**2.0 + x[1]**2.0)"
      ],
      "execution_count": null,
      "outputs": []
    },
    {
      "cell_type": "code",
      "metadata": {
        "colab": {
          "base_uri": "https://localhost:8080/"
        },
        "id": "8WvyXiZHKNr7",
        "outputId": "36b93ec3-2fe8-49ab-cdcb-3ce3cfea0ce7"
      },
      "source": [
        "%timeit\n",
        "# Buscamos el mejor individuo en 300 iteraciones\n",
        "n_gen, best, score = genetic_algorithm(fitness = _x_2,\n",
        "                                           bounds = bounds,\n",
        "                                           n_bits = n_bits,\n",
        "                                           n_iter = n_iter,\n",
        "                                           n_pop = n_pop,\n",
        "                                           r_cross = r_cross,\n",
        "                                           r_mut = r_mut)\n",
        "print('Solución (número de generaciones: %d):' % n_gen)\n",
        "decoded = decode(bounds, n_bits, best)\n",
        "print('f(%s) = %f' % (decoded, score))"
      ],
      "execution_count": null,
      "outputs": [
        {
          "output_type": "stream",
          "name": "stdout",
          "text": [
            ">0, Nueva mejor solución f([4.375152587890625, 0.227203369140625]) = -19.193582\n",
            ">0, Nueva mejor solución f([1.933135986328125, -2.816314697265625]) = -11.668643\n",
            ">0, Nueva mejor solución f([-0.8758544921875, 2.479248046875]) = -6.913792\n",
            ">0, Nueva mejor solución f([-1.0150146484375, -2.3870849609375]) = -6.728429\n",
            ">0, Nueva mejor solución f([-1.41754150390625, 0.319061279296875]) = -2.111224\n",
            ">0, Nueva mejor solución f([-0.082550048828125, -0.874176025390625]) = -0.770998\n",
            ">0, Nueva mejor solución f([0.00244140625, 0.510406494140625]) = -0.260521\n",
            ">0, Nueva mejor solución f([-0.2935791015625, -0.331878662109375]) = -0.196332\n",
            ">0, Nueva mejor solución f([-0.0146484375, -0.42388916015625]) = -0.179897\n",
            ">0, Nueva mejor solución f([-0.172576904296875, -0.093994140625]) = -0.038618\n",
            ">0, Nueva mejor solución f([-0.1873779296875, -0.006866455078125]) = -0.035158\n",
            ">1, Nueva mejor solución f([-0.1678466796875, -0.026397705078125]) = -0.028869\n",
            ">2, Nueva mejor solución f([0.101165771484375, 0.066375732421875]) = -0.014640\n",
            ">2, Nueva mejor solución f([0.11627197265625, 0.013427734375]) = -0.013699\n",
            ">2, Nueva mejor solución f([-0.0897216796875, 0.034637451171875]) = -0.009250\n",
            ">2, Nueva mejor solución f([0.01953125, -0.000762939453125]) = -0.000382\n",
            ">5, Nueva mejor solución f([0.0030517578125, -0.006103515625]) = -0.000047\n",
            ">7, Nueva mejor solución f([-0.004730224609375, -0.001373291015625]) = -0.000024\n",
            ">8, Nueva mejor solución f([0.002899169921875, -0.001983642578125]) = -0.000012\n",
            ">10, Nueva mejor solución f([-0.001983642578125, 0.000457763671875]) = -0.000004\n",
            "Solución (número de generaciones: 99):\n",
            "f([-0.001983642578125, 0.000457763671875]) = -0.000004\n"
          ]
        }
      ]
    },
    {
      "cell_type": "markdown",
      "metadata": {
        "id": "u8zAbhC5MmpS"
      },
      "source": [
        "### Mejoras del proceso, incorporación del criterio de parada\n",
        "\n",
        "Hemos visto como la convergencia puede llegar bastante antes de realizar todas las iteraciones, podemos incluir un criterio de parada en el que en el caso de que si suceden k iteraciones sin lograr una mejora el proceso para"
      ]
    },
    {
      "cell_type": "code",
      "metadata": {
        "id": "7At2PmAdM5Em"
      },
      "source": [
        "def genetic_algorithm_early_stop(fitness, bounds, n_bits, n_iter, n_pop, r_cross, r_mut, early_stop_condition = -1):\n",
        "  # Si no se indica el criterio de parada ejecutamos todas las iteraciones\n",
        "\tearly_stop_condition = n_iter if early_stop_condition == -1 else early_stop_condition\n",
        "\tearly_stop_iterations = 0 # Numero de iteraciones con parada temprana\n",
        "\t# construimos la población original\n",
        "\tpop = [random.randint(0, 2, n_bits*len(bounds)).tolist() for _ in range(n_pop)]\n",
        "\t# mantenemos registro de la mejor iteración\n",
        "\tbest, best_eval = 0, fitness(decode(bounds, n_bits, pop[0]))\n",
        "\t# ejecutamos todas las iteraciones\n",
        "\tfor gen in range(n_iter):\n",
        "\t\t# decodificamos la población\n",
        "\t\tdecoded = [decode(bounds, n_bits, p) for p in pop]\n",
        "\t\t# evaluamos todos los candidatos de la población\n",
        "\t\tscores = [fitness(d) for d in decoded]\n",
        "\t\t# revisamos si hemos conseguidmo mejorar la solución\n",
        "\t\tfor i in range(n_pop):\n",
        "      # Redondeamos al 5er decimal\n",
        "\t\t\tif round(scores[i],5) > round(best_eval,5):\n",
        "\t\t\t\tbest, best_eval = pop[i], scores[i]\n",
        "\t\t\t\tprint(\">%d, Nueva mejor solución f(%s) = %f\" % (gen,  decoded[i], scores[i]))\n",
        "\t\t\t\tearly_stop_iterations = 0 # reseteo del contador\n",
        "\n",
        "\t\tearly_stop_iterations = early_stop_iterations + 1\n",
        "\t\tif early_stop_iterations > early_stop_condition:\n",
        "\t\t\t\tprint(\"Parada temprana agotado el maximo de iteraciones sin mejora %d\" % (early_stop_iterations))\n",
        "\t\t\t\tbreak\n",
        "\t\t# seleccionamos los individuos para la reproducción\n",
        "\t\tselected = [selection(pop, scores) for _ in range(n_pop)]\n",
        "\t\t# construimos la siguiente generación\n",
        "\t\tchildren = list()\n",
        "\t\tfor i in range(0, n_pop, 2):\n",
        "\t\t\t# seleccionamos pares de padres\n",
        "\t\t\tp1, p2 = selected[i], selected[i+1]\n",
        "\t\t\t# aplicamos las operaciones de cruce y mutación\n",
        "\t\t\tfor c in crossover(p1, p2, r_cross):\n",
        "\t\t\t\t# mutación\n",
        "\t\t\t\tmutation(c, r_mut)\n",
        "\t\t\t\t# guardamos el individuo para la siguiente generación\n",
        "\t\t\t\tchildren.append(c)\n",
        "\t\t# remplazamos la población\n",
        "\t\tpop = children\n",
        "\treturn [gen, best, best_eval]"
      ],
      "execution_count": null,
      "outputs": []
    },
    {
      "cell_type": "markdown",
      "metadata": {
        "id": "0gvamVrGN_8d"
      },
      "source": [
        "Probamos el nuevo proceso, establecemos un número de 10 generaciones in mejora como criterio de parada temprana, vemos como logramos un resultado similar con un tiempo mucho menor"
      ]
    },
    {
      "cell_type": "code",
      "metadata": {
        "colab": {
          "base_uri": "https://localhost:8080/"
        },
        "id": "B4MHEeLQOBeV",
        "outputId": "8418b666-b7c3-4649-9d02-396c8afe10fc"
      },
      "source": [
        "# Definición de hiperparámetros\n",
        "bounds = [[-5.0, 5.0], [-5.0, 5.0]]\n",
        "n_iter = 200000\n",
        "n_bits = 16\n",
        "n_pop = 3000\n",
        "r_cross = 0.9\n",
        "r_mut = 1.0 / (float(n_bits) * len(bounds))\n",
        "\n",
        "# Buscamos el mejor individuo iteraciones esta vez con un criterio de parada\n",
        "n_gen, best, score = genetic_algorithm_early_stop(fitness = _x_2,\n",
        "                                           bounds = bounds,\n",
        "                                           n_bits = n_bits,\n",
        "                                           n_iter = n_iter,\n",
        "                                           n_pop = n_pop,\n",
        "                                           r_cross = r_cross,\n",
        "                                           r_mut = r_mut,\n",
        "                                           early_stop_condition = 10)\n",
        "print('Solución (número de generaciones: %d):' % n_gen)\n",
        "decoded = decode(bounds, n_bits, best)\n",
        "print('f(%s) = %f' % (decoded, score))\n",
        "print('Representación binaria:', best)"
      ],
      "execution_count": null,
      "outputs": [
        {
          "output_type": "stream",
          "name": "stdout",
          "text": [
            ">0, Nueva mejor solución f([-4.709014892578125, -0.7952880859375]) = -22.807304\n",
            ">0, Nueva mejor solución f([-3.126983642578125, 1.46240234375]) = -11.916647\n",
            ">0, Nueva mejor solución f([0.811614990234375, 1.2469482421875]) = -2.213599\n",
            ">0, Nueva mejor solución f([-0.79193115234375, 0.407562255859375]) = -0.793262\n",
            ">0, Nueva mejor solución f([0.373382568359375, -0.46478271484375]) = -0.355438\n",
            ">0, Nueva mejor solución f([0.202789306640625, -0.307159423828125]) = -0.135470\n",
            ">0, Nueva mejor solución f([0.10955810546875, 0.106964111328125]) = -0.023444\n",
            ">1, Nueva mejor solución f([-0.0030517578125, -0.0238037109375]) = -0.000576\n",
            ">4, Nueva mejor solución f([-0.018463134765625, 0.01312255859375]) = -0.000513\n",
            ">4, Nueva mejor solución f([-0.007171630859375, 0.01678466796875]) = -0.000333\n",
            ">5, Nueva mejor solución f([-0.007171630859375, 0.007781982421875]) = -0.000112\n",
            ">8, Nueva mejor solución f([0.00518798828125, -0.003509521484375]) = -0.000039\n",
            ">9, Nueva mejor solución f([0.00457763671875, -0.002593994140625]) = -0.000028\n",
            ">10, Nueva mejor solución f([-0.00213623046875, -0.00030517578125]) = -0.000005\n",
            "Parada temprana agotado el maximo de iteraciones sin mejora 11\n",
            "Solución (número de generaciones: 20):\n",
            "f([-0.00213623046875, -0.00030517578125]) = -0.000005\n",
            "Representación binaria: [0, 1, 1, 1, 1, 1, 1, 1, 1, 1, 1, 1, 0, 0, 1, 0, 0, 1, 1, 1, 1, 1, 1, 1, 1, 1, 1, 1, 1, 1, 1, 0]\n"
          ]
        }
      ]
    },
    {
      "cell_type": "markdown",
      "metadata": {
        "id": "GkHAZG0iQZIo"
      },
      "source": [
        "### Otro ejemplo\n",
        "\n"
      ]
    },
    {
      "cell_type": "code",
      "metadata": {
        "id": "ml-ih189QbEn"
      },
      "source": [
        "# Función objetivo f(x) = 0.5(x+2)², los componentes serán dos coordenadas x, y\n",
        "def another_function(x):\n",
        "\treturn -( (0.5 * (x[0]+2)**2.0))\n"
      ],
      "execution_count": null,
      "outputs": []
    },
    {
      "cell_type": "code",
      "metadata": {
        "colab": {
          "base_uri": "https://localhost:8080/",
          "height": 413
        },
        "id": "riUhewnUR9b7",
        "outputId": "2e8d2349-d0d3-41d2-c99b-a85f976a231a"
      },
      "source": [
        "import matplotlib.pyplot as plt\n",
        "import numpy as np\n",
        "# 100 linearly spaced numbers\n",
        "x = np.linspace(-5,5,100)\n",
        "# La función\n",
        "y = 0.5*(2+x)**2\n",
        "# setting the axes at the centre\n",
        "fig = plt.figure()\n",
        "ax = fig.add_subplot(1, 1, 1)\n",
        "ax.spines['left'].set_position('center')\n",
        "ax.spines['bottom'].set_position('zero')\n",
        "ax.spines['right'].set_color('none')\n",
        "ax.spines['top'].set_color('none')\n",
        "ax.xaxis.set_ticks_position('bottom')\n",
        "ax.yaxis.set_ticks_position('left')\n",
        "\n",
        "# plot the function\n",
        "plt.plot(x, y, 'r')\n",
        "\n",
        "# show the plot\n",
        "plt.show()"
      ],
      "execution_count": null,
      "outputs": [
        {
          "output_type": "display_data",
          "data": {
            "text/plain": [
              "<Figure size 640x480 with 1 Axes>"
            ],
            "image/png": "[encoded data removed]"
          },
          "metadata": {}
        }
      ]
    },
    {
      "cell_type": "code",
      "metadata": {
        "colab": {
          "base_uri": "https://localhost:8080/"
        },
        "id": "f1A6eA6SSfR5",
        "outputId": "42fdcbce-87f6-4c29-ab08-1390f2761aaa"
      },
      "source": [
        "bounds = [[-5.0, 5.0]]\n",
        "# Buscamos el mejor individuo iteraciones esta vez con un criterio de parada\n",
        "n_gen, best, score = genetic_algorithm_early_stop(fitness = another_function,\n",
        "                                           bounds  = bounds,\n",
        "                                           n_bits = n_bits,\n",
        "                                           n_iter = n_iter,\n",
        "                                           n_pop = n_pop,\n",
        "                                           r_cross = r_cross,\n",
        "                                           r_mut = r_mut,\n",
        "                                           early_stop_condition = 20)\n",
        "print('Solución (número de generaciones: %d):' % n_gen)\n",
        "decoded = decode(bounds, n_bits, best)\n",
        "print('f(%s) = %f' % (decoded, score))\n",
        "print('Representación binaria:', best)"
      ],
      "execution_count": null,
      "outputs": [
        {
          "output_type": "stream",
          "name": "stdout",
          "text": [
            ">0, Nueva mejor solución f([-3.292999267578125]) = -0.835924\n",
            ">0, Nueva mejor solución f([-2.518310546875]) = -0.134323\n",
            ">0, Nueva mejor solución f([-1.809844970703125]) = -0.018079\n",
            ">0, Nueva mejor solución f([-1.8341064453125]) = -0.013760\n",
            ">0, Nueva mejor solución f([-1.837158203125]) = -0.013259\n",
            ">0, Nueva mejor solución f([-1.868133544921875]) = -0.008694\n",
            ">0, Nueva mejor solución f([-2.090606689453125]) = -0.004105\n",
            ">0, Nueva mejor solución f([-2.02606201171875]) = -0.000340\n",
            ">0, Nueva mejor solución f([-2.023468017578125]) = -0.000275\n",
            ">0, Nueva mejor solución f([-2.019500732421875]) = -0.000190\n",
            ">0, Nueva mejor solución f([-1.982421875]) = -0.000154\n",
            ">0, Nueva mejor solución f([-2.008819580078125]) = -0.000039\n",
            ">0, Nueva mejor solución f([-2.003326416015625]) = -0.000006\n",
            ">1, Nueva mejor solución f([-1.99951171875]) = -0.000000\n",
            "Parada temprana agotado el maximo de iteraciones sin mejora 21\n",
            "Solución (número de generaciones: 21):\n",
            "f([-1.99951171875]) = -0.000000\n",
            "Representación binaria: [0, 1, 0, 0, 1, 1, 0, 0, 1, 1, 0, 1, 0, 0, 0, 0]\n"
          ]
        }
      ]
    },
    {
      "cell_type": "markdown",
      "metadata": {
        "id": "6EcjFrhN0E9f"
      },
      "source": [
        "# Referencias\n",
        "\n",
        "Parte de este ejercicio se ha inspirado en este ejercicio [desarrollado en el siguiente artículo](https://machinelearningmastery.com/simple-genetic-algorithm-from-scratch-in-python/)\n"
      ]
    }
  ]
}