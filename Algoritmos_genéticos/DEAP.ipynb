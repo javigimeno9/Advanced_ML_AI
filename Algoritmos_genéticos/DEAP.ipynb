{
  "nbformat": 4,
  "nbformat_minor": 0,
  "metadata": {
    "colab": {
      "provenance": []
    },
    "kernelspec": {
      "name": "python3",
      "display_name": "Python 3"
    },
    "language_info": {
      "name": "python"
    }
  },
  "cells": [
    {
      "cell_type": "markdown",
      "metadata": {
        "id": "zjFBEaIkZqWv"
      },
      "source": [
        "<img src=\"https://thevalley.es/wp-content/uploads/2016/11/thevalley-logo-negro.png\" width=\"400\"></img>\n",
        "\n",
        "# Introducción a los algortimos evolutivos con python DEAP\n",
        "\n",
        "<img src=\"https://deap.readthedocs.io/en/master/_images/deap_long.png\" width=\"400\"></img>\n",
        "\n",
        "\n",
        "DEAP es un librería de *cálculo evolutivo* para la creación rápida de prototipos soluciones en este campo. Busca hacer que los algoritmos sean explícitos y las estructuras de datos transparentes.\n",
        "\n",
        "DEAP incluye las siguientes características:\n",
        "\n",
        "* Algoritmos genéticos usando cualquier representación imaginable\n",
        "* Lista, Matriz, Conjunto, Diccionario, Árbol, Matriz Numpy, etc.\n",
        "* Programación genética usando árboles de prefijos\n",
        "* Estrategias de evolución (incluido CMA-ES)\n",
        "* Optimización multiobjetivo (NSGA-II, NSGA-III, SPEA2, MO-CMA-ES)\n",
        "* Co-evolución (cooperativa y competitiva) de múltiples poblaciones\n",
        "* Ejemplos de algoritmos alternativos: optimización del enjambre de partículas, evolución diferencial, estimación del algoritmo de distribución\n",
        "\n",
        "Documentación de DEAP https://deap.readthedocs.io/en/master/\n",
        "\n",
        "**Notebook por: David Rey**"
      ]
    },
    {
      "cell_type": "code",
      "metadata": {
        "id": "ZL6H8yFUZprr",
        "colab": {
          "base_uri": "https://localhost:8080/"
        },
        "outputId": "0f77e394-8d66-4a65-8e71-6b8108bd5136"
      },
      "source": [
        "#\n",
        "# Carga de librerías\n",
        "#\n",
        "import sys\n",
        "if 'deap' not in sys.modules:\n",
        "  !pip install deap\n",
        "import array\n",
        "import random\n",
        "import numpy\n",
        "import math\n",
        "import deap as deap\n",
        "from deap import base\n",
        "from deap import creator\n",
        "from deap import tools\n",
        "from deap import algorithms\n",
        "from pprint import pprint\n",
        "import pandas as pd\n",
        "import matplotlib.pyplot as plt\n",
        "\n"
      ],
      "execution_count": null,
      "outputs": [
        {
          "output_type": "stream",
          "name": "stdout",
          "text": [
            "Collecting deap\n",
            "  Downloading deap-1.4.1-cp310-cp310-manylinux_2_5_x86_64.manylinux1_x86_64.manylinux_2_17_x86_64.manylinux2014_x86_64.whl (135 kB)\n",
            "\u001b[?25l     \u001b[90m━━━━━━━━━━━━━━━━━━━━━━━━━━━━━━━━━━━━━━━━\u001b[0m \u001b[32m0.0/135.4 kB\u001b[0m \u001b[31m?\u001b[0m eta \u001b[36m-:--:--\u001b[0m\r\u001b[2K     \u001b[91m━━━━━━━━━━━━━━━━━━━━━━━━━━━━━━━━━━━━━━━\u001b[0m\u001b[90m╺\u001b[0m \u001b[32m133.1/135.4 kB\u001b[0m \u001b[31m3.8 MB/s\u001b[0m eta \u001b[36m0:00:01\u001b[0m\r\u001b[2K     \u001b[90m━━━━━━━━━━━━━━━━━━━━━━━━━━━━━━━━━━━━━━━━\u001b[0m \u001b[32m135.4/135.4 kB\u001b[0m \u001b[31m3.0 MB/s\u001b[0m eta \u001b[36m0:00:00\u001b[0m\n",
            "\u001b[?25hRequirement already satisfied: numpy in /usr/local/lib/python3.10/dist-packages (from deap) (1.25.2)\n",
            "Installing collected packages: deap\n",
            "Successfully installed deap-1.4.1\n"
          ]
        }
      ]
    },
    {
      "cell_type": "markdown",
      "metadata": {
        "id": "3uX-hiOgaZQe"
      },
      "source": [
        "# Introducción de conceptos de DEAP\n",
        "\n",
        "Introduciremos unos conceptos básicos de la librería DEAP para comprender el funcionamiento de la creación de un algoritmo genético."
      ]
    },
    {
      "cell_type": "markdown",
      "metadata": {
        "id": "PENMCyeLqqLE"
      },
      "source": [
        "## Creación de elementos - El objeto creator\n",
        "\n",
        "La clase *creator* es una **meta-factoría** de clases que permite crear elementos que usaremos en nuestros algoritmos de forma flexible. Permite crear clases de python de cualquier tipo.\n",
        "\n",
        "En este ejemplo creamos la *clásica* clase Foo que hereda de la librería estándar y que tiene un atributo *bar* como un diccionario vacío, demás crearemos un atributo estático llamado *spam* inicializado a 1\n",
        "\n",
        "\n"
      ]
    },
    {
      "cell_type": "code",
      "metadata": {
        "id": "9sxKLdYXc7Bd"
      },
      "source": [
        "creator.create(\"Foo\", list, bar=dict, spam=1)"
      ],
      "execution_count": null,
      "outputs": []
    },
    {
      "cell_type": "markdown",
      "metadata": {
        "id": "ur3jgF6brWgs"
      },
      "source": [
        "Vemos que nos ha creado una clase *normal* de python"
      ]
    },
    {
      "cell_type": "code",
      "metadata": {
        "colab": {
          "base_uri": "https://localhost:8080/"
        },
        "id": "6CIPbu-3ORlJ",
        "outputId": "d6d7d704-a51a-4122-fd95-768ba4abb601"
      },
      "source": [
        "pprint(vars(creator.Foo))"
      ],
      "execution_count": null,
      "outputs": [
        {
          "output_type": "stream",
          "name": "stdout",
          "text": [
            "mappingproxy({'__dict__': <attribute '__dict__' of 'Foo' objects>,\n",
            "              '__doc__': None,\n",
            "              '__init__': <function MetaCreator.__init__.<locals>.init_type at 0x7dbbffdb8160>,\n",
            "              '__module__': 'deap.creator',\n",
            "              '__weakref__': <attribute '__weakref__' of 'Foo' objects>,\n",
            "              'bar': <class 'dict'>,\n",
            "              'reduce_args': ('Foo',\n",
            "                              <class 'list'>,\n",
            "                              {'bar': <class 'dict'>, 'spam': 1}),\n",
            "              'spam': 1})\n"
          ]
        }
      ]
    },
    {
      "cell_type": "markdown",
      "metadata": {
        "id": "x12OMi8UdAPb"
      },
      "source": [
        "Sería exactamente lo mismo que si la crearamos *a mano*"
      ]
    },
    {
      "cell_type": "code",
      "metadata": {
        "id": "4wYuj-UQc1qo"
      },
      "source": [
        "class Foo(list):\n",
        "    spam = 1\n",
        "\n",
        "    def __init__(self):\n",
        "        self.bar = dict()"
      ],
      "execution_count": null,
      "outputs": []
    },
    {
      "cell_type": "markdown",
      "metadata": {
        "id": "xlZVsd3RryGU"
      },
      "source": [
        "comprobamos que efectivamente es así"
      ]
    },
    {
      "cell_type": "code",
      "metadata": {
        "colab": {
          "base_uri": "https://localhost:8080/"
        },
        "id": "1jY86wZCr0sm",
        "outputId": "6624568d-84d6-4155-af41-e1cf21da0efd"
      },
      "source": [
        "pprint(vars(creator.Foo))"
      ],
      "execution_count": null,
      "outputs": [
        {
          "output_type": "stream",
          "name": "stdout",
          "text": [
            "mappingproxy({'__dict__': <attribute '__dict__' of 'Foo' objects>,\n",
            "              '__doc__': None,\n",
            "              '__init__': <function MetaCreator.__init__.<locals>.init_type at 0x7dbbffdb8160>,\n",
            "              '__module__': 'deap.creator',\n",
            "              '__weakref__': <attribute '__weakref__' of 'Foo' objects>,\n",
            "              'bar': <class 'dict'>,\n",
            "              'reduce_args': ('Foo',\n",
            "                              <class 'list'>,\n",
            "                              {'bar': <class 'dict'>, 'spam': 1}),\n",
            "              'spam': 1})\n"
          ]
        }
      ]
    },
    {
      "cell_type": "markdown",
      "metadata": {
        "id": "b6xad_i0aa6E"
      },
      "source": [
        "## Creación de la clase Fitness\n",
        "La clase **Fitness** es una clase abtracta (que no podemos utilizar directamente) que necesita un atributo de pesos para ser funcional. Manejaremos dos formatos, el de la minimización y el de la maximización para el primero usaremos un peso negativo y para el segundo un peso positivo. En este ejemplo creamos una nueva clase que nos ayudará a evaluar el firtness de un valor llamada *FitnessMin*. Como antes usaremos el *creator* para definirla.\n",
        "\n",
        "Referencia: https://deap.readthedocs.io/en/master/api/base.html#deap.base.Fitness\n",
        "\n"
      ]
    },
    {
      "cell_type": "code",
      "metadata": {
        "id": "6zxezsmXafZt"
      },
      "source": [
        "creator.create(\"FitnessMin\", base.Fitness, weights=(-1.0,))"
      ],
      "execution_count": null,
      "outputs": []
    },
    {
      "cell_type": "code",
      "metadata": {
        "colab": {
          "base_uri": "https://localhost:8080/"
        },
        "id": "eMhmPPnxOzAS",
        "outputId": "cbbc5291-839c-42f6-9944-c667ce8075a3"
      },
      "source": [
        "pprint(vars(creator.FitnessMin))"
      ],
      "execution_count": null,
      "outputs": [
        {
          "output_type": "stream",
          "name": "stdout",
          "text": [
            "mappingproxy({'__doc__': None,\n",
            "              '__init__': <function MetaCreator.__init__.<locals>.init_type at 0x7dbbffdb89d0>,\n",
            "              '__module__': 'deap.creator',\n",
            "              'reduce_args': ('FitnessMin',\n",
            "                              <class 'deap.base.Fitness'>,\n",
            "                              {'weights': (-1.0,)}),\n",
            "              'weights': (-1.0,)})\n"
          ]
        }
      ]
    },
    {
      "cell_type": "markdown",
      "metadata": {
        "id": "9yjDXWb3tcfk"
      },
      "source": [
        "## Toolbox\n",
        "\n",
        "El *toolbox* contiene los distintos operadores evolutivos. La incorporación de nuevos operadores se realiza usando la función *register()*. Se pueden reaprovechar los toolbox haciendo una copia usando el método *clone()*.\n",
        "\n",
        "Una vez registrador o declarados, los operadores se pueden acceder directamente por el nombre. Como en este ejemplo donde creamos una nueva función que llamaremos **myFunc**.\n"
      ]
    },
    {
      "cell_type": "code",
      "metadata": {
        "colab": {
          "base_uri": "https://localhost:8080/"
        },
        "id": "fjA6yymxasyL",
        "outputId": "89451461-5c5f-4a18-d42e-b0b6d6cbb8e5"
      },
      "source": [
        "from deap.base import Toolbox\n",
        "\n",
        "# Definimos la función\n",
        "def func(a, b, c=3):\n",
        "     print(a, b, c)\n",
        "\n",
        "def otra():\n",
        "  print('hola')\n",
        "\n",
        "# Creamos un toolbox\n",
        "tools = Toolbox()\n",
        "\n",
        "# registramos la función\n",
        "tools.register(\"myFunc\", func, 2, c=4)\n",
        "\n",
        "# registramos la función\n",
        "tools.register(\"myFunc2\", otra)\n",
        "\n",
        "\n",
        "# usamos la función a través del toolbox\n",
        "tools.myFunc(3)\n",
        "tools.myFunc2()"
      ],
      "execution_count": null,
      "outputs": [
        {
          "output_type": "stream",
          "name": "stdout",
          "text": [
            "2 3 4\n",
            "hola\n"
          ]
        }
      ]
    },
    {
      "cell_type": "markdown",
      "metadata": {
        "id": "1pq5x1o6aqyh"
      },
      "source": [
        "## Individuos y poblaciones"
      ]
    },
    {
      "cell_type": "code",
      "metadata": {
        "colab": {
          "base_uri": "https://localhost:8080/"
        },
        "id": "_vC24zrRvQc4",
        "outputId": "3ed8caf6-f905-43f5-8e03-fb6cd3bb542c"
      },
      "source": [
        "creator.create(\"FitnessMin\", base.Fitness, weights=(-1.0,))\n",
        "creator.create(\"FitnessMax\", base.Fitness, weights=(1.0,))\n",
        "\n",
        "creator.create(\"Individual\", array.array, typecode=\"d\", fitness=creator.FitnessMax)\n",
        "creator.create(\"Individual\", numpy.ndarray, fitness=creator.FitnessMax)"
      ],
      "execution_count": null,
      "outputs": [
        {
          "output_type": "stream",
          "name": "stderr",
          "text": [
            "/usr/local/lib/python3.10/dist-packages/deap/creator.py:185: RuntimeWarning: A class named 'FitnessMin' has already been created and it will be overwritten. Consider deleting previous creation of that class or rename it.\n",
            "  warnings.warn(\"A class named '{0}' has already been created and it \"\n",
            "/usr/local/lib/python3.10/dist-packages/deap/creator.py:185: RuntimeWarning: A class named 'Individual' has already been created and it will be overwritten. Consider deleting previous creation of that class or rename it.\n",
            "  warnings.warn(\"A class named '{0}' has already been created and it \"\n"
          ]
        }
      ]
    },
    {
      "cell_type": "markdown",
      "metadata": {
        "id": "b95GU5rqawJE"
      },
      "source": [
        "Dada la gran variedad de tipos de algoritmos evolutivos que existen (GA, GP, ES, PSO, DE, …), habría una gran variedad de *individuos* a definir. Por tanto el sistema de creación de los mismos debe ser lo más flexible posible. En la librería existe una referencia de cómo crear indivudios y usarlos a través del Toolbox: https://deap.readthedocs.io/en/master/api/base.html#deap.base.Toolbox\n",
        "\n"
      ]
    },
    {
      "cell_type": "markdown",
      "metadata": {
        "id": "AlrNBqwruS_D"
      },
      "source": [
        "## Creación de individuos\n",
        "\n",
        "En primer lugar definimos cómo es el individuo, para ello usamos el método *register()* comentado anteriormente toma al menos dos argumentos; un alias y una función asignada a este alias. Cualquier argumento posterior se pasa a la función cuando se llama. Por tanto, el código anterior crea dos alias en el toolbox; **attr_float** e **individual**. El primero redirige a la función *random.random()*. El segundo es un enlace/atajo a la función *initRepeat()*, fijando su argumento contenedor a la clase creator.Individual, su argumento func a la función toolbox.attr_float() y su argumento número de repeticiones a IND_SIZE.\n",
        "\n",
        "Por tanto, llamar a toolbox.individual() llamará a initRepeat() con los argumentos fijos y devolverá un creador completo. Individual compuesto de números de punto flotante IND_SIZE con un atributo de fitness objetivo único maximizador."
      ]
    },
    {
      "cell_type": "code",
      "metadata": {
        "id": "pXSjjKFbcVbU"
      },
      "source": [
        "from deap import tools\n",
        "\n",
        "IND_SIZE=10\n",
        "toolbox = base.Toolbox()\n",
        "\n",
        "#\n",
        "# definimos un tipo de atributos en este caso flotante, que se generaría de forma aleatoria\n",
        "#\n",
        "toolbox.register(\"attr_float\", random.random)\n",
        "\n",
        "#\n",
        "# El individuo se construye como una repetición de IND_SIZE atributos de tipo attr_float\n",
        "#\n",
        "toolbox.register(\"individual\", tools.initRepeat, creator.Individual,\n",
        "                 toolbox.attr_float, n=IND_SIZE)"
      ],
      "execution_count": null,
      "outputs": []
    },
    {
      "cell_type": "markdown",
      "metadata": {
        "id": "urG_pzTxvP6z"
      },
      "source": [
        "Este método puede ser complicado, por tanto se pueden usar heredar las propiedades directamente de array.array o numpy.ndarray de la siguiente manera."
      ]
    },
    {
      "cell_type": "markdown",
      "metadata": {
        "id": "1AHVgJkreJiz"
      },
      "source": [
        "### Creación de poblaciones\n",
        "Las poblaciones son un conjunto de individuos y se declaran así, la población más habitual es la de tipo *bag*, no tiene ningun órden y sería equivalente a una lista. La población se incializa usando el toolbox y el método initRepeat().\n",
        "\n",
        "En este caso registramos la población como una función *generadora* de individuos."
      ]
    },
    {
      "cell_type": "code",
      "metadata": {
        "id": "gthFr-BeeQvU",
        "colab": {
          "base_uri": "https://localhost:8080/"
        },
        "outputId": "6b52bcab-ac8c-4468-b4e9-aa6a556a7152"
      },
      "source": [
        "#\n",
        "# Creamos un inviduo de tipo binario (bit), para un problema de maximización\n",
        "#\n",
        "creator.create(\"FitnessMax\", base.Fitness, weights=(1.0,))\n",
        "creator.create(\"Individual\", array.array, typecode='b', fitness=creator.FitnessMax)\n",
        "\n",
        "toolbox = base.Toolbox()\n",
        "\n",
        "#\n",
        "# Generador de atributosructura\n",
        "#\n",
        "toolbox.register(\"attr_bool\", random.randint, 0, 1)\n",
        "\n",
        "#\n",
        "# Inicializadores de la estructura\n",
        "# Inviduo como 100 bits y población como una repetición de individuos\n",
        "#\n",
        "toolbox.register(\"individual\", tools.initRepeat, creator.Individual, toolbox.attr_bool, 100)\n",
        "\n",
        "#\n",
        "# Registramos la población como un 'bag' de inviduos (vemos como podemos registrar distintas poblaciones en el toolbox)\n",
        "#\n",
        "toolbox.register(\"population\", tools.initRepeat, list, toolbox.individual)\n",
        "toolbox.register(\"poblacion\", tools.initRepeat, list, toolbox.individual)"
      ],
      "execution_count": null,
      "outputs": [
        {
          "output_type": "stream",
          "name": "stderr",
          "text": [
            "/usr/local/lib/python3.10/dist-packages/deap/creator.py:185: RuntimeWarning: A class named 'FitnessMax' has already been created and it will be overwritten. Consider deleting previous creation of that class or rename it.\n",
            "  warnings.warn(\"A class named '{0}' has already been created and it \"\n"
          ]
        }
      ]
    },
    {
      "cell_type": "code",
      "metadata": {
        "id": "FAq6MYrVeVtr",
        "colab": {
          "base_uri": "https://localhost:8080/"
        },
        "outputId": "68fd9b19-2e97-4a01-8a5f-74b6526bf219"
      },
      "source": [
        "#\n",
        "# El de la primera población registrada (lo instanciamos aquí)\n",
        "#\n",
        "pop = toolbox.poblacion(n=200)\n",
        "len(pop)"
      ],
      "execution_count": null,
      "outputs": [
        {
          "output_type": "execute_result",
          "data": {
            "text/plain": [
              "200"
            ]
          },
          "metadata": {},
          "execution_count": 12
        }
      ]
    },
    {
      "cell_type": "code",
      "metadata": {
        "colab": {
          "base_uri": "https://localhost:8080/"
        },
        "id": "uowX6L_Pg9Wl",
        "outputId": "39857681-fd06-405f-9564-40fd101994c4"
      },
      "source": [
        "pop[1]"
      ],
      "execution_count": null,
      "outputs": [
        {
          "output_type": "execute_result",
          "data": {
            "text/plain": [
              "Individual('b', [1, 1, 1, 0, 1, 0, 0, 1, 1, 0, 0, 1, 1, 0, 0, 0, 1, 0, 0, 0, 1, 0, 1, 0, 0, 0, 1, 0, 1, 1, 1, 1, 0, 0, 0, 1, 0, 0, 1, 0, 0, 0, 0, 0, 1, 1, 0, 1, 1, 1, 1, 1, 0, 1, 1, 1, 1, 0, 0, 0, 1, 0, 1, 1, 0, 0, 0, 1, 0, 0, 1, 0, 0, 1, 0, 0, 0, 1, 0, 1, 1, 1, 0, 0, 0, 0, 0, 0, 0, 0, 1, 0, 0, 0, 0, 1, 0, 1, 0, 0])"
            ]
          },
          "metadata": {},
          "execution_count": 13
        }
      ]
    },
    {
      "cell_type": "code",
      "metadata": {
        "colab": {
          "base_uri": "https://localhost:8080/"
        },
        "id": "-Rwf8S9O-hn0",
        "outputId": "ca4abb64-cd84-4122-85af-ce61853e1928"
      },
      "source": [
        "#\n",
        "# El de la segunda población registrada (lo instanciamos aquí)\n",
        "#\n",
        "pop = toolbox.population(n=100)\n",
        "len(pop)"
      ],
      "execution_count": null,
      "outputs": [
        {
          "output_type": "execute_result",
          "data": {
            "text/plain": [
              "100"
            ]
          },
          "metadata": {},
          "execution_count": 14
        }
      ]
    },
    {
      "cell_type": "markdown",
      "metadata": {
        "id": "zavv_WAzx0CZ"
      },
      "source": [
        "Vemos un indiduo de esa población, es importante entender que **population** es una función que crea una población cuyo tamaño se pasa como parámetro."
      ]
    },
    {
      "cell_type": "code",
      "metadata": {
        "colab": {
          "base_uri": "https://localhost:8080/"
        },
        "id": "ytkW-TJyx5U3",
        "outputId": "6dbc11da-ced5-4c2b-f9c5-6168c7228cbc"
      },
      "source": [
        "pop[0]"
      ],
      "execution_count": null,
      "outputs": [
        {
          "output_type": "execute_result",
          "data": {
            "text/plain": [
              "Individual('b', [0, 0, 1, 1, 0, 1, 0, 1, 1, 0, 0, 1, 1, 1, 0, 1, 0, 0, 1, 1, 0, 1, 1, 1, 0, 0, 1, 1, 1, 1, 1, 1, 1, 0, 1, 1, 1, 0, 1, 0, 1, 0, 0, 1, 0, 1, 0, 0, 1, 1, 0, 1, 1, 1, 0, 1, 1, 1, 0, 1, 1, 0, 0, 1, 1, 0, 1, 0, 1, 0, 0, 1, 1, 1, 1, 0, 0, 0, 0, 1, 0, 1, 1, 1, 1, 1, 1, 0, 1, 0, 0, 1, 0, 0, 0, 1, 1, 1, 0, 0])"
            ]
          },
          "metadata": {},
          "execution_count": 15
        }
      ]
    },
    {
      "cell_type": "markdown",
      "metadata": {
        "id": "Ri8xABbYyEKe"
      },
      "source": [
        "Existen otras estrategia de cara a crear la población como usando un conjunto semilla de individuos.\n",
        "\n",
        "Ejemplo seeding a population: https://deap.readthedocs.io/en/master/tutorials/basic/part1.html?highlight=seeding#seeding-a-population"
      ]
    },
    {
      "cell_type": "markdown",
      "metadata": {
        "id": "uiH-k3jmVy24"
      },
      "source": [
        "# Primer algortimo genético - onemax\n",
        "\n",
        "Empezamos con nuestro ejemplo *onemax* con individuos basados cuyo genotipo en una lista de bits. Definiremos un caso de maximización."
      ]
    },
    {
      "cell_type": "markdown",
      "metadata": {
        "id": "zyfmbCsQWRHK"
      },
      "source": [
        "## Definición objetivo del problema a resolver\n",
        "\n",
        "Primero definiremos la clase FitnessMax. Heredamos la clase Fitness del módulo **deap.base** y contendrá un atributo adicional llamado **weights**. Tenga en cuenta que el valor de los pesos es la tupla $(1.0,)$. De esta forma estaremos maximizando un fitness objetivo único. Aunque parezca evidente, en DEAP los objetivos únicos son un caso especial de objetivos múltiples.\n",
        "\n",
        "A continuación crearemos la clase Individual, que heredará la lista de clases y contendrá nuestra clase *FitnessMax* y la asignaremos al atributo *fitness*.Después de la creación, todas nuestras clases definidas serán parte del contenedor del creador y se pueden llamar directamente usando los *alias*"
      ]
    },
    {
      "cell_type": "code",
      "metadata": {
        "id": "2abqRtbKV7ae"
      },
      "source": [
        "creator.create(\"FitnessMax\", base.Fitness, weights=(1.0,))\n",
        "creator.create(\"Individual\", list, fitness=creator.FitnessMax)"
      ],
      "execution_count": null,
      "outputs": []
    },
    {
      "cell_type": "markdown",
      "metadata": {
        "id": "EC3p0p55yt0d"
      },
      "source": [
        " ## ¿Cómo van a ser nuestros individuos y nuestra población?\n"
      ]
    },
    {
      "cell_type": "markdown",
      "metadata": {
        "id": "lGoAp9lXWeeV"
      },
      "source": [
        "En este bloque de código registramos una función de generación **toolbox.attr_bool()** y dos de inicialización **individual()** y **population()**. Cuando se llama **toolbox.attr_bool()** se mostrarrá un número entero aleatorio entre 0 y 1. Los dos *constructores*, por otro lado, instanciarán un individuo o población.\n",
        "\n",
        "El registro de los operadores en el toolbox solo asocia alias a las funciones ya existentes y congela parte de sus argumentos. Esto nos permite fijar una cantidad arbitraria de argumentos en ciertos valores, por lo que solo tenemos que especificar los restantes al llamar al método. Por ejemplo, el generador *attr_bool()* se crea a partir de la función *randint()* que toma dos argumentos ayb, con *a <= n <= b*, donde *n* es el entero devuelto. Aquí, fijamos *a = 0* y *b = 1*.\n",
        "\n",
        "Nuestros individuos se generarán utilizando la función *initRepeat()*. Su primer argumento es una clase contenedora, en nuestro ejemplo la Individual que definimos en la sección anterior. Este contenedor se llenará usando el método *attr_bool()*, que se pasa como segundo argumento, y contendrá 100 enteros, como se especifica usando el tercer argumento.\n",
        "\n",
        "Cuando se llama el método *individual()*, devolverá un individuo inicializado con lo que se devolvería llamando al método *attr_bool()* 100 veces. Finalmente, el método de *population()* usa el mismo paradigma, pero no fijamos la cantidad de individuos que debería contener."
      ]
    },
    {
      "cell_type": "code",
      "metadata": {
        "id": "vcTcjouQWRtw"
      },
      "source": [
        "#\n",
        "# Creamos una instancia del toolbox, va a contener nuestros operadores\n",
        "#\n",
        "#\n",
        "toolbox = base.Toolbox()\n",
        "\n",
        "# Creamos un generador de atributos (alias, método, parámetros ...)\n",
        "toolbox.register(\"attr_bool\",\n",
        "                 random.randint, 0, 1)\n",
        "\n",
        "# Y registramos al individuo con su creador (cada individuo será un cromosoma de 100 bits)\n",
        "toolbox.register(\"individual\",\n",
        "                 tools.initRepeat,\n",
        "                 creator.Individual,\n",
        "                 toolbox.attr_bool,\n",
        "                 100)\n",
        "\n",
        "# Y registramos a la población como un tipo 'bag'\n",
        "toolbox.register(\"population\",\n",
        "                 tools.initRepeat,\n",
        "                 list,\n",
        "                 toolbox.individual)"
      ],
      "execution_count": null,
      "outputs": []
    },
    {
      "cell_type": "markdown",
      "metadata": {
        "id": "W7DEbalvWkWC"
      },
      "source": [
        "## Declaración de la función de evaluación\n",
        "Definimos nuestra función de evaluación que se tomará como base para la evaluación de la función de fitness. **Importante**, básicamente el fitness que maneja el algoritmo es el peso declarado en nuestra función de fitness * valor dela función de evaluación)"
      ]
    },
    {
      "cell_type": "code",
      "metadata": {
        "id": "NtEl12VWWmqp"
      },
      "source": [
        "def evalOneMax(individual):\n",
        "    return sum(individual),"
      ],
      "execution_count": null,
      "outputs": []
    },
    {
      "cell_type": "markdown",
      "metadata": {
        "id": "698zUBsqWukF"
      },
      "source": [
        "## Operadores genéticos\n",
        "\n",
        "Dentro de DEAP hay dos formas de utilizar operadores. Podemos simplemente llamar a una función desde el módulo de herramientas o registrarla con sus argumentos en un *toolbox*, como ya hemos visto antes. Sin embargo, la forma más adecuada es registrarlos, ya que esto nos permite cambiar fácilmente entre los operadores si se quiera.\n",
        "\n",
        "El registro de los operadores genéticos necesarios para la evolución en nuestro problema One Max y sus argumentos predeterminados en el *toolbox* se realiza de la siguiente manera:\n",
        "\n",
        "* Funcion de cruce: [cxTwoPoint](https://deap.readthedocs.io/en/master/api/tools.html?highlight=cxTwoPoint#deap.tools.cxTwoPoint)\n",
        "* Función de mutación: [mutFlipBit](https://deap.readthedocs.io/en/master/api/tools.html?highlight=mutFlipBit#deap.tools.mutFlipBit)\n",
        "* Estrategia de selección: [selTournament](https://deap.readthedocs.io/en/master/api/tools.html?highlight=selTournament#deap.tools.selTournament)"
      ]
    },
    {
      "cell_type": "code",
      "metadata": {
        "id": "fLlZvhkrWw4l"
      },
      "source": [
        "toolbox.register(\"evaluate\", evalOneMax)\n",
        "toolbox.register(\"mate\", tools.cxOnePoint)\n",
        "toolbox.register(\"mutate\", tools.mutFlipBit, indpb=0.05)\n",
        "toolbox.register(\"select\", tools.selTournament, tournsize=2)"
      ],
      "execution_count": null,
      "outputs": []
    },
    {
      "cell_type": "markdown",
      "metadata": {
        "id": "QlbsOn4NW7Ph"
      },
      "source": [
        "La evaluación se realizará llamando al alias evaluar (es preferible no  no fijar aquí su argumento). Lo necesitaremos más adelante para aplicar la función a cada individuo separado de nuestra población. La mutación, por otro lado, necesita un argumento (la probabilidad independiente de que mutar cada atributo **indpb**)."
      ]
    },
    {
      "cell_type": "markdown",
      "source": [
        "Las selección por torneo (ver definión en https://en.wikipedia.org/wiki/Tournament_selection) establece que la selección para el cruce se realiza entre n (tournsize) individuos. Al primero se le asigna una probabilidad $p$, al segundo $p\\cdot(p-1)$, al tercero $p\\cdot(p-1)^2$, y en general al individuo $n$ se le asignaría una probabildiad de selección de $p\\cdot(p-1)^{n-1}$"
      ],
      "metadata": {
        "id": "VNuibJLDvcE1"
      }
    },
    {
      "cell_type": "markdown",
      "metadata": {
        "id": "aA5Jm9bUZxpv"
      },
      "source": [
        "## Evolución de la población\n",
        "\n",
        "Una vez elegidos la representación y los operadores genéticos, definiremos un algoritmo combinando todos los individuos y realizando la evolución de nuestra población hasta resolver el problema de One Max.\n",
        "\n"
      ]
    },
    {
      "cell_type": "markdown",
      "metadata": {
        "id": "73BSQAaCZ4WH"
      },
      "source": [
        "### Creación de la población\n",
        "\n",
        "En primer lugar, necesitamos crear una instancia de nuestra población. Pero este paso se realiza sin esfuerzo utilizando el método de *population()* que registramos en nuestro *toolbox* anteriormente."
      ]
    },
    {
      "cell_type": "code",
      "metadata": {
        "id": "P6Y_n1XhZ2wT"
      },
      "source": [
        "#\n",
        "# Instanciamos la población con 300 elementos\n",
        "#\n",
        "pop = toolbox.population(n=300)"
      ],
      "execution_count": null,
      "outputs": []
    },
    {
      "cell_type": "code",
      "metadata": {
        "colab": {
          "base_uri": "https://localhost:8080/"
        },
        "id": "AS20qAncaxqT",
        "outputId": "1d1488ff-3491-403e-a7b1-868701253da4"
      },
      "source": [
        "#\n",
        "# Mostramos el primer elemento\n",
        "#\n",
        "print(pop[0])\n",
        "print(sum(pop[0]))"
      ],
      "execution_count": null,
      "outputs": [
        {
          "output_type": "stream",
          "name": "stdout",
          "text": [
            "[0, 0, 0, 0, 0, 0, 0, 1, 0, 0, 0, 0, 1, 1, 1, 1, 0, 1, 1, 1, 0, 1, 1, 0, 1, 0, 1, 0, 0, 0, 0, 1, 1, 0, 1, 1, 0, 0, 1, 1, 1, 1, 0, 1, 1, 0, 1, 1, 1, 0, 0, 0, 1, 0, 0, 1, 1, 1, 1, 1, 1, 0, 1, 1, 1, 1, 0, 1, 1, 0, 1, 0, 0, 1, 1, 0, 1, 1, 1, 0, 1, 1, 1, 0, 1, 1, 1, 0, 0, 1, 1, 1, 1, 0, 1, 1, 1, 1, 1, 1]\n",
            "60\n"
          ]
        }
      ]
    },
    {
      "cell_type": "markdown",
      "metadata": {
        "id": "DeSrkzN6Z_oG"
      },
      "source": [
        "**pop** será una lista compuesta por 300 individuos. Dado que dejamos el parámetro n abierto durante el registro del método *polulation()* en nuestro toolbox, somos libres de crear poblaciones de tamaño arbitrario.\n",
        "\n",
        "Lo siguiente que debemos hacer es evaluar nuestra nueva población."
      ]
    },
    {
      "cell_type": "code",
      "metadata": {
        "id": "UszIb6q-aDZQ"
      },
      "source": [
        "#\n",
        "# Evaluamos la población (usamos el alias que hemos declarado antes), nos da lugar el el resultado del onemax\n",
        "#\n",
        "fitnesses = list(map(toolbox.evaluate, pop))\n",
        "for ind, fit in zip(pop, fitnesses):\n",
        "  ind.fitness.values = fit"
      ],
      "execution_count": null,
      "outputs": []
    },
    {
      "cell_type": "markdown",
      "metadata": {
        "id": "bqDP5o3hbKRY"
      },
      "source": [
        "La función **onemax** nos da lo que esperábamos"
      ]
    },
    {
      "cell_type": "code",
      "metadata": {
        "colab": {
          "base_uri": "https://localhost:8080/"
        },
        "id": "_gYJg8FkaezY",
        "outputId": "4b50be81-813e-4d17-b961-2e2c576009ef"
      },
      "source": [
        "fitnesses[0:10]"
      ],
      "execution_count": null,
      "outputs": [
        {
          "output_type": "execute_result",
          "data": {
            "text/plain": [
              "[(60,), (47,), (55,), (45,), (55,), (53,), (43,), (55,), (51,), (50,)]"
            ]
          },
          "metadata": {},
          "execution_count": 23
        }
      ]
    },
    {
      "cell_type": "markdown",
      "metadata": {
        "id": "ZV67kc0CbS5j"
      },
      "source": [
        "Ejecutamos la función **map()** la función de evaluación a cada individuo y luego asignamos su respectivo **fitness**. Para este caso definiremos dos constantes."
      ]
    },
    {
      "cell_type": "code",
      "metadata": {
        "id": "qnenZXdMbScg"
      },
      "source": [
        "# CXPB  es la probabilidad de cruce entre dos individuos\n",
        "CXPB  = 0.5\n",
        "\n",
        "# MUTPB es la probilidad de mutación de un gen\n",
        "MUTPB = 0.2"
      ],
      "execution_count": null,
      "outputs": []
    },
    {
      "cell_type": "markdown",
      "metadata": {
        "id": "EujcKIlJbZ-Z"
      },
      "source": [
        "### Ejecutando la evolución\n",
        "La evolución de la población es el último paso que tenemos que realizar. Importante, nuestros individuos constan de 100 bits y queremos evolucionar nuestra población hasta que obtengamos al menos un individuo que consta de solo 1 y no 0. Así que todo lo que tenemos que hacer es obtener los valores de fitness de los individuos."
      ]
    },
    {
      "cell_type": "code",
      "metadata": {
        "id": "yEMgcRuqbec9"
      },
      "source": [
        "# Extracting all the fitnesses of\n",
        "fits = [ind.fitness.values[0] for ind in pop]"
      ],
      "execution_count": null,
      "outputs": []
    },
    {
      "cell_type": "markdown",
      "metadata": {
        "id": "_7oKY6gXbiy3"
      },
      "source": [
        "y hacemos evolucionar nuestra población hasta que una de ellas llegue a 100 o el número de generaciones llegue a 1000."
      ]
    },
    {
      "cell_type": "code",
      "metadata": {
        "colab": {
          "base_uri": "https://localhost:8080/"
        },
        "id": "Basg3Ac5bjVQ",
        "outputId": "24aaf916-1ae9-4d75-98bb-5ac86d8d14d8"
      },
      "source": [
        "# Variable keeping track of the number of generations\n",
        "g = 0\n",
        "\n",
        "# Inicio\n",
        "while max(fits) < 100 and g < 1000:\n",
        "  #\n",
        "  # Todos los pasos del proceso\n",
        "  #\n",
        "  g = g + 1\n",
        "  if g % 100 == 0:\n",
        "    print(\"-- Generación %i --\" % g)"
      ],
      "execution_count": null,
      "outputs": [
        {
          "output_type": "stream",
          "name": "stdout",
          "text": [
            "-- Generación 100 --\n",
            "-- Generación 200 --\n",
            "-- Generación 300 --\n",
            "-- Generación 400 --\n",
            "-- Generación 500 --\n",
            "-- Generación 600 --\n",
            "-- Generación 700 --\n",
            "-- Generación 800 --\n",
            "-- Generación 900 --\n",
            "-- Generación 1000 --\n"
          ]
        }
      ]
    },
    {
      "cell_type": "markdown",
      "metadata": {
        "id": "-QdPnAoPb1_x"
      },
      "source": [
        "La evolución en sí se llevará a cabo seleccionando, cruzando y mutando los individuos de nuestra población.\n",
        "\n",
        "En nuestro ejemplo simple de un algoritmo genético, el primer paso es seleccionar la próxima generación."
      ]
    },
    {
      "cell_type": "code",
      "metadata": {
        "id": "HJj8Rplrb2jT"
      },
      "source": [
        "#\n",
        "# Seleccionamos los individuos de la próxima generación\n",
        "#\n",
        "offspring = toolbox.select(pop, len(pop))\n",
        "\n",
        "#\n",
        "# Clonar los individuos elegidos\n",
        "#\n",
        "offspring = list(map(toolbox.clone, offspring))"
      ],
      "execution_count": null,
      "outputs": []
    },
    {
      "cell_type": "markdown",
      "metadata": {
        "id": "GX4wc6O6b7oz"
      },
      "source": [
        "Esto creará una lista de descendientes, que es una copia exacta de los individuos seleccionados. El método *toolbox.clone()* asegura que no usemos una referencia a los individuos de la generación anterior, sino una instancia completamente independiente. Esto es de suma importancia ya que los operadores genéticos en la caja de herramientas modificarán los objetos proporcionados en el lugar.\n",
        "\n",
        "A continuación, realizaremos tanto el cruce (apareamiento) como la mutación de los hijos producidos con cierta probabilidad de CXPB y MUTPB. La declaración del invalidará la idoneidad de la descendencia modificada (offspring)."
      ]
    },
    {
      "cell_type": "code",
      "metadata": {
        "id": "wa_5-Hwzb-Sh"
      },
      "source": [
        "#\n",
        "# Aplicamos cruce (crossover) y mutación (mutation) sobre la descendencia (offspring)\n",
        "#\n",
        "for child1, child2 in zip(offspring[::2], offspring[1::2]):\n",
        "  if random.random() < CXPB:\n",
        "    toolbox.mate(child1, child2)\n",
        "    del child1.fitness.values\n",
        "    del child2.fitness.values\n",
        "\n",
        "for mutant in offspring:\n",
        "  if random.random() < MUTPB:\n",
        "    toolbox.mutate(mutant)\n",
        "    del mutant.fitness.values"
      ],
      "execution_count": null,
      "outputs": []
    },
    {
      "cell_type": "markdown",
      "metadata": {
        "id": "7vRT7081cHfi"
      },
      "source": [
        "Los operadores de cruce (o apareamiento) y mutación, proporcionados dentro de DEAP, generalmente toman respectivamente 2 o 1 individuo (s) como entrada y devuelven 2 o 1 individuo (s) modificado (s). Además, modifican a esos individuos dentro del toolbox y no es necesario reasignar sus resultados.\n",
        "\n",
        "Dado que el contenido de algunos de nuestros descendientes cambió durante el último paso, ahora debemos reevaluar su aptitud. Para ahorrar tiempo y recursos, simplemente mapeamos aquellos descendientes cuyas condiciones se marcaron como inválidas."
      ]
    },
    {
      "cell_type": "code",
      "metadata": {
        "id": "AheKnF5xcJal"
      },
      "source": [
        "# Evaluate the individuals with an invalid fitness\n",
        "invalid_ind = [ind for ind in offspring if not ind.fitness.valid]\n",
        "fitnesses = map(toolbox.evaluate, invalid_ind)\n",
        "for ind, fit in zip(invalid_ind, fitnesses):\n",
        "  ind.fitness.values = fit"
      ],
      "execution_count": null,
      "outputs": []
    },
    {
      "cell_type": "markdown",
      "metadata": {
        "id": "dcdNQBp4cNEC"
      },
      "source": [
        "Como último pasos sustituimos la anterior generación por la descendencia"
      ]
    },
    {
      "cell_type": "code",
      "metadata": {
        "id": "vqz6g02ucPIh"
      },
      "source": [
        "pop[:] = offspring"
      ],
      "execution_count": null,
      "outputs": []
    },
    {
      "cell_type": "markdown",
      "metadata": {
        "id": "Q9IA1OtqcUQO"
      },
      "source": [
        "Para comprobar el rendimiento de la evolución, calcularemos e imprimiremos los valores mínimo, máximo y medio de la aptitud de todos los individuos de nuestra población, así como sus desviaciones estándar."
      ]
    },
    {
      "cell_type": "code",
      "metadata": {
        "colab": {
          "base_uri": "https://localhost:8080/"
        },
        "id": "nbZFHd8ucTnx",
        "outputId": "bf63e5c1-50c5-45a0-eeb9-409e5f9275b7"
      },
      "source": [
        "#\n",
        "# Recogemos todos los valores de fitness y mostramos el resultado\n",
        "#\n",
        "fits = [ind.fitness.values[0] for ind in pop]\n",
        "\n",
        "length = len(pop)\n",
        "mean = sum(fits) / length\n",
        "sum2 = sum(x*x for x in fits)\n",
        "std = abs(sum2 / length - mean**2)**0.5\n",
        "\n",
        "print(\"  Min %s\" % min(fits))\n",
        "print(\"  Max %s\" % max(fits))\n",
        "print(\"  Avg %s\" % mean)\n",
        "print(\"  Std %s\" % std)"
      ],
      "execution_count": null,
      "outputs": [
        {
          "output_type": "stream",
          "name": "stdout",
          "text": [
            "  Min 40.0\n",
            "  Max 65.0\n",
            "  Avg 52.57666666666667\n",
            "  Std 4.310157254156208\n"
          ]
        }
      ]
    },
    {
      "cell_type": "markdown",
      "metadata": {
        "id": "kDVvE-DwcdTf"
      },
      "source": [
        "Esta evolución se ejecutará ahora hasta que al menos uno de los individuos se llene con 1 exclusivamente. Aunque no hace falta reinventar la rueda, existe ya un objeto Estadísticas está disponible dentro de DEAP para facilitar la recopilación de las estadísticas de la evolución (recordamos el bucle)."
      ]
    },
    {
      "cell_type": "code",
      "metadata": {
        "id": "zop2ZXra35-e"
      },
      "source": [
        "while max(fits) < 100 and g < 1000:\n",
        "  # ..................\n",
        "  pass"
      ],
      "execution_count": null,
      "outputs": []
    },
    {
      "cell_type": "markdown",
      "metadata": {
        "id": "_02VlNSn2UhD"
      },
      "source": [
        "### Ejercicio completo\n",
        "\n",
        "Repasamos todo lo que hemos hecho y ejecutamos el proceso"
      ]
    },
    {
      "cell_type": "code",
      "metadata": {
        "id": "An69h4i82hy4"
      },
      "source": [
        "creator.create(\"FitnessMax\", base.Fitness, weights=(1.0,))\n",
        "creator.create(\"Individual\", list, fitness=creator.FitnessMax)\n",
        "\n",
        "toolbox = base.Toolbox()\n",
        "\n",
        "# Attribute generator\n",
        "#                      define 'attr_bool' to be an attribute ('gene')\n",
        "#                      which corresponds to integers sampled uniformly\n",
        "#                      from the range [0,1] (i.e. 0 or 1 with equal\n",
        "#                      probability)\n",
        "toolbox.register(\"attr_bool\", random.randint, 0, 1)\n",
        "\n",
        "# Structure initializers\n",
        "#                         define 'individual' to be an individual\n",
        "#                         consisting of 100 'attr_bool' elements ('genes')\n",
        "toolbox.register(\"individual\", tools.initRepeat, creator.Individual,\n",
        "    toolbox.attr_bool, 100)\n",
        "\n",
        "# define the population to be a list of individuals\n",
        "toolbox.register(\"population\", tools.initRepeat, list, toolbox.individual)\n",
        "\n",
        "# the goal ('fitness') function to be maximized\n",
        "def evalOneMax(individual):\n",
        "    return sum(individual),\n",
        "\n",
        "#----------\n",
        "# Operator registration\n",
        "#----------\n",
        "# register the goal / fitness function\n",
        "toolbox.register(\"evaluate\", evalOneMax)\n",
        "\n",
        "# register the crossover operator\n",
        "toolbox.register(\"mate\", tools.cxTwoPoint)\n",
        "\n",
        "# register a mutation operator with a probability to\n",
        "# flip each attribute/gene of 0.05\n",
        "toolbox.register(\"mutate\", tools.mutFlipBit, indpb=0.05)\n",
        "\n",
        "# operator for selecting individuals for breeding the next\n",
        "# generation: each individual of the current generation\n",
        "# is replaced by the 'fittest' (best) of three individuals\n",
        "# drawn randomly from the current generation.\n",
        "toolbox.register(\"select\", tools.selTournament, tournsize=3)\n",
        "\n",
        "#----------\n",
        "\n",
        "def long_genetic_algorithm():\n",
        "    random.seed(64)\n",
        "\n",
        "    # create an initial population of 300 individuals (where\n",
        "    # each individual is a list of integers)\n",
        "    pop = toolbox.population(n=300)\n",
        "\n",
        "    # CXPB  is the probability with which two individuals\n",
        "    #       are crossed\n",
        "    #\n",
        "    # MUTPB is the probability for mutating an individual\n",
        "    CXPB, MUTPB = 0.5, 0.2\n",
        "\n",
        "    print(\"Start of evolution\")\n",
        "\n",
        "    # Evaluate the entire population\n",
        "    fitnesses = list(map(toolbox.evaluate, pop))\n",
        "    for ind, fit in zip(pop, fitnesses):\n",
        "        ind.fitness.values = fit\n",
        "\n",
        "    print(\"  Evaluated %i individuals\" % len(pop))\n",
        "\n",
        "    # Extracting all the fitnesses of\n",
        "    fits = [ind.fitness.values[0] for ind in pop]\n",
        "\n",
        "    # Variable keeping track of the number of generations\n",
        "    g = 0\n",
        "\n",
        "    # Begin the evolution\n",
        "    while max(fits) < 100 and g < 1000:\n",
        "        # A new generation\n",
        "        g = g + 1\n",
        "        print(\"-- Generation %i --\" % g)\n",
        "\n",
        "        # Select the next generation individuals\n",
        "        offspring = toolbox.select(pop, len(pop))\n",
        "        # Clone the selected individuals\n",
        "        offspring = list(map(toolbox.clone, offspring))\n",
        "\n",
        "        # Apply crossover and mutation on the offspring\n",
        "        for child1, child2 in zip(offspring[::2], offspring[1::2]):\n",
        "\n",
        "            # cross two individuals with probability CXPB\n",
        "            if random.random() < CXPB:\n",
        "                toolbox.mate(child1, child2)\n",
        "\n",
        "                # fitness values of the children\n",
        "                # must be recalculated later\n",
        "                del child1.fitness.values\n",
        "                del child2.fitness.values\n",
        "\n",
        "        for mutant in offspring:\n",
        "            # mutate an individual with probability MUTPB\n",
        "            if random.random() < MUTPB:\n",
        "                toolbox.mutate(mutant)\n",
        "                del mutant.fitness.values\n",
        "\n",
        "        # Evaluate the individuals with an invalid fitness\n",
        "        invalid_ind = [ind for ind in offspring if not ind.fitness.valid]\n",
        "        fitnesses = map(toolbox.evaluate, invalid_ind)\n",
        "        for ind, fit in zip(invalid_ind, fitnesses):\n",
        "            ind.fitness.values = fit\n",
        "\n",
        "        print(\"  Evaluated %i individuals\" % len(invalid_ind))\n",
        "\n",
        "        # The population is entirely replaced by the offspring\n",
        "        pop[:] = offspring\n",
        "\n",
        "        # Gather all the fitnesses in one list and print the stats\n",
        "        fits = [ind.fitness.values[0] for ind in pop]\n",
        "\n",
        "        length = len(pop)\n",
        "        mean = sum(fits) / length\n",
        "        sum2 = sum(x*x for x in fits)\n",
        "        std = abs(sum2 / length - mean**2)**0.5\n",
        "\n",
        "        print(\"  Min %s\" % min(fits))\n",
        "        print(\"  Max %s\" % max(fits))\n",
        "        print(\"  Avg %s\" % mean)\n",
        "        print(\"  Std %s\" % std)\n",
        "\n",
        "    print(\"-- End of (successful) evolution --\")\n",
        "\n",
        "    best_ind = tools.selBest(pop, 1)[0]\n",
        "    print(\"Best individual is %s, %s\" % (best_ind, best_ind.fitness.values))"
      ],
      "execution_count": null,
      "outputs": []
    },
    {
      "cell_type": "code",
      "metadata": {
        "colab": {
          "base_uri": "https://localhost:8080/"
        },
        "id": "Nvgvyclw2nzP",
        "outputId": "39579cdb-25b3-4b8f-cb0e-5d16d989469f"
      },
      "source": [
        "long_genetic_algorithm()"
      ],
      "execution_count": null,
      "outputs": [
        {
          "output_type": "stream",
          "name": "stdout",
          "text": [
            "Start of evolution\n",
            "  Evaluated 300 individuals\n",
            "-- Generation 1 --\n",
            "  Evaluated 181 individuals\n",
            "  Min 44.0\n",
            "  Max 66.0\n",
            "  Avg 54.833333333333336\n",
            "  Std 4.349584909952722\n",
            "-- Generation 2 --\n",
            "  Evaluated 191 individuals\n",
            "  Min 47.0\n",
            "  Max 68.0\n",
            "  Avg 58.45666666666666\n",
            "  Std 3.455641120769904\n",
            "-- Generation 3 --\n",
            "  Evaluated 199 individuals\n",
            "  Min 52.0\n",
            "  Max 68.0\n",
            "  Avg 60.95333333333333\n",
            "  Std 2.9024970092816367\n",
            "-- Generation 4 --\n",
            "  Evaluated 167 individuals\n",
            "  Min 47.0\n",
            "  Max 71.0\n",
            "  Avg 62.96\n",
            "  Std 2.907186497858939\n",
            "-- Generation 5 --\n",
            "  Evaluated 175 individuals\n",
            "  Min 57.0\n",
            "  Max 73.0\n",
            "  Avg 64.99\n",
            "  Std 2.8489588741621903\n",
            "-- Generation 6 --\n",
            "  Evaluated 168 individuals\n",
            "  Min 58.0\n",
            "  Max 74.0\n",
            "  Avg 66.93333333333334\n",
            "  Std 2.8051539866624524\n",
            "-- Generation 7 --\n",
            "  Evaluated 187 individuals\n",
            "  Min 59.0\n",
            "  Max 76.0\n",
            "  Avg 68.91666666666667\n",
            "  Std 2.826609669236565\n",
            "-- Generation 8 --\n",
            "  Evaluated 171 individuals\n",
            "  Min 62.0\n",
            "  Max 76.0\n",
            "  Avg 70.88666666666667\n",
            "  Std 2.4455038108513407\n",
            "-- Generation 9 --\n",
            "  Evaluated 155 individuals\n",
            "  Min 62.0\n",
            "  Max 80.0\n",
            "  Avg 72.69\n",
            "  Std 2.6243538887379163\n",
            "-- Generation 10 --\n",
            "  Evaluated 171 individuals\n",
            "  Min 64.0\n",
            "  Max 82.0\n",
            "  Avg 74.12333333333333\n",
            "  Std 2.6105150619921655\n",
            "-- Generation 11 --\n",
            "  Evaluated 191 individuals\n",
            "  Min 65.0\n",
            "  Max 82.0\n",
            "  Avg 75.64\n",
            "  Std 2.7000740730579715\n",
            "-- Generation 12 --\n",
            "  Evaluated 171 individuals\n",
            "  Min 69.0\n",
            "  Max 84.0\n",
            "  Avg 77.18\n",
            "  Std 2.5575248451054877\n",
            "-- Generation 13 --\n",
            "  Evaluated 173 individuals\n",
            "  Min 69.0\n",
            "  Max 84.0\n",
            "  Avg 78.76666666666667\n",
            "  Std 2.244746954311161\n",
            "-- Generation 14 --\n",
            "  Evaluated 185 individuals\n",
            "  Min 72.0\n",
            "  Max 86.0\n",
            "  Avg 79.90666666666667\n",
            "  Std 2.3645906387552182\n",
            "-- Generation 15 --\n",
            "  Evaluated 205 individuals\n",
            "  Min 72.0\n",
            "  Max 88.0\n",
            "  Avg 81.44333333333333\n",
            "  Std 2.3805018145108905\n",
            "-- Generation 16 --\n",
            "  Evaluated 163 individuals\n",
            "  Min 74.0\n",
            "  Max 88.0\n",
            "  Avg 82.67666666666666\n",
            "  Std 2.2253364289973994\n",
            "-- Generation 17 --\n",
            "  Evaluated 175 individuals\n",
            "  Min 76.0\n",
            "  Max 88.0\n",
            "  Avg 83.68333333333334\n",
            "  Std 2.3741080196335167\n",
            "-- Generation 18 --\n",
            "  Evaluated 181 individuals\n",
            "  Min 74.0\n",
            "  Max 90.0\n",
            "  Avg 84.80666666666667\n",
            "  Std 2.3027423264928153\n",
            "-- Generation 19 --\n",
            "  Evaluated 179 individuals\n",
            "  Min 74.0\n",
            "  Max 91.0\n",
            "  Avg 85.62333333333333\n",
            "  Std 2.5195480194316042\n",
            "-- Generation 20 --\n",
            "  Evaluated 178 individuals\n",
            "  Min 78.0\n",
            "  Max 91.0\n",
            "  Avg 86.58\n",
            "  Std 2.1641626556246405\n",
            "-- Generation 21 --\n",
            "  Evaluated 173 individuals\n",
            "  Min 78.0\n",
            "  Max 91.0\n",
            "  Avg 87.25333333333333\n",
            "  Std 2.3314849821996857\n",
            "-- Generation 22 --\n",
            "  Evaluated 155 individuals\n",
            "  Min 79.0\n",
            "  Max 92.0\n",
            "  Avg 88.06\n",
            "  Std 2.157869319490837\n",
            "-- Generation 23 --\n",
            "  Evaluated 187 individuals\n",
            "  Min 80.0\n",
            "  Max 92.0\n",
            "  Avg 88.37\n",
            "  Std 2.201461635671229\n",
            "-- Generation 24 --\n",
            "  Evaluated 184 individuals\n",
            "  Min 82.0\n",
            "  Max 94.0\n",
            "  Avg 89.27666666666667\n",
            "  Std 1.9782455751384154\n",
            "-- Generation 25 --\n",
            "  Evaluated 198 individuals\n",
            "  Min 80.0\n",
            "  Max 95.0\n",
            "  Avg 89.77666666666667\n",
            "  Std 2.380501814510508\n",
            "-- Generation 26 --\n",
            "  Evaluated 185 individuals\n",
            "  Min 80.0\n",
            "  Max 96.0\n",
            "  Avg 90.62333333333333\n",
            "  Std 2.415530767531084\n",
            "-- Generation 27 --\n",
            "  Evaluated 160 individuals\n",
            "  Min 82.0\n",
            "  Max 96.0\n",
            "  Avg 91.62\n",
            "  Std 2.252909230306073\n",
            "-- Generation 28 --\n",
            "  Evaluated 182 individuals\n",
            "  Min 83.0\n",
            "  Max 97.0\n",
            "  Avg 92.45\n",
            "  Std 2.3637893307144857\n",
            "-- Generation 29 --\n",
            "  Evaluated 171 individuals\n",
            "  Min 84.0\n",
            "  Max 97.0\n",
            "  Avg 93.29333333333334\n",
            "  Std 2.4658917701760132\n",
            "-- Generation 30 --\n",
            "  Evaluated 184 individuals\n",
            "  Min 84.0\n",
            "  Max 97.0\n",
            "  Avg 94.14333333333333\n",
            "  Std 2.399191993614305\n",
            "-- Generation 31 --\n",
            "  Evaluated 161 individuals\n",
            "  Min 85.0\n",
            "  Max 98.0\n",
            "  Avg 94.91\n",
            "  Std 2.4059440281660702\n",
            "-- Generation 32 --\n",
            "  Evaluated 181 individuals\n",
            "  Min 85.0\n",
            "  Max 99.0\n",
            "  Avg 95.46333333333334\n",
            "  Std 2.2895390123094943\n",
            "-- Generation 33 --\n",
            "  Evaluated 177 individuals\n",
            "  Min 88.0\n",
            "  Max 99.0\n",
            "  Avg 96.02\n",
            "  Std 2.409619610367642\n",
            "-- Generation 34 --\n",
            "  Evaluated 182 individuals\n",
            "  Min 88.0\n",
            "  Max 99.0\n",
            "  Avg 96.77333333333333\n",
            "  Std 2.0917191228485437\n",
            "-- Generation 35 --\n",
            "  Evaluated 177 individuals\n",
            "  Min 86.0\n",
            "  Max 100.0\n",
            "  Avg 97.04333333333334\n",
            "  Std 2.325536975028139\n",
            "-- End of (successful) evolution --\n",
            "Best individual is [1, 1, 1, 1, 1, 1, 1, 1, 1, 1, 1, 1, 1, 1, 1, 1, 1, 1, 1, 1, 1, 1, 1, 1, 1, 1, 1, 1, 1, 1, 1, 1, 1, 1, 1, 1, 1, 1, 1, 1, 1, 1, 1, 1, 1, 1, 1, 1, 1, 1, 1, 1, 1, 1, 1, 1, 1, 1, 1, 1, 1, 1, 1, 1, 1, 1, 1, 1, 1, 1, 1, 1, 1, 1, 1, 1, 1, 1, 1, 1, 1, 1, 1, 1, 1, 1, 1, 1, 1, 1, 1, 1, 1, 1, 1, 1, 1, 1, 1, 1], (100.0,)\n"
          ]
        }
      ]
    },
    {
      "cell_type": "markdown",
      "metadata": {
        "id": "4GCo18QzmZu2"
      },
      "source": [
        "## Versión corta - ejercicio onemax\n",
        "\n",
        "Sin embargo el ejercicio anterior realiza demasiadas actividades a bajo nivel. En el siguiente ejemplo aprovecharemos las distintas utilidades que nos da la librería, en particular recurreremos a la implementación simple del algoritmo genético [algorithms.eaSimple](https://deap.readthedocs.io/en/master/api/algo.html?highlight=algorithms.eaSimple#deap.algorithms.eaSimple)\n",
        "\n",
        "Como elementos nuevos usamos la clase [**HallOfFame**](https://deap.readthedocs.io/en/master/api/tools.html#deap.tools.HallOfFame).\n",
        "\n",
        "El salón de la fama contiene al mejor individuo que jamás haya vivido en la población durante la evolución. Está ordenado lexicográficamente en todo momento de modo que el primer elemento del salón de la fama es el individuo que tiene el mejor valor de aptitud física que se haya visto, de acuerdo con los pesos proporcionados a la aptitud en el momento de la creación.\n",
        "\n",
        "La inserción se realiza para que los ancianos tengan prioridad sobre los nuevos. Se guarda una única copia de cada individuo en todo momento, la equivalencia entre dos individuos la realiza el operador pasando al argumento similar."
      ]
    },
    {
      "cell_type": "code",
      "metadata": {
        "id": "QHK0KdAjl7fy"
      },
      "source": [
        "#\n",
        "# Ejemplo completo (corta)\n",
        "#\n",
        "creator.create(\"FitnessMax\", base.Fitness, weights=(1.0,))\n",
        "creator.create(\"Individual\", array.array, typecode='b', fitness=creator.FitnessMax)\n",
        "\n",
        "toolbox = base.Toolbox()\n",
        "\n",
        "# Generador de atributosructura\n",
        "toolbox.register(\"attr_bool\", random.randint, 0, 1)\n",
        "\n",
        "# Inicializadores de la estructura\n",
        "# Inviduo como 100 atributos booleanos y población como una repetición de individuos\n",
        "toolbox.register(\"individual\", tools.initRepeat, creator.Individual, toolbox.attr_bool, 100)\n",
        "toolbox.register(\"population\", tools.initRepeat, list, toolbox.individual)\n",
        "\n",
        "# Definimos nuestra función de objetivo / fitness\n",
        "def evalOneMax(individual):\n",
        "    return sum(individual),\n",
        "\n",
        "# Declaramos una serie de operadores (algunos de ellos a partir de los ya disponibles en tools)\n",
        "toolbox.register(\"evaluate\", evalOneMax)\n",
        "toolbox.register(\"mate\", tools.cxTwoPoint)\n",
        "toolbox.register(\"mutate\", tools.mutFlipBit, indpb=0.05)\n",
        "toolbox.register(\"select\", tools.selTournament, tournsize=3)\n",
        "\n",
        "# Declaramos una función\n",
        "def genetic_algorithm(npop=300):\n",
        "    random.seed(64)\n",
        "\n",
        "    pop = toolbox.population(n=npop)\n",
        "    # Usamos esta utilidad\n",
        "    hof = tools.HallOfFame(1)\n",
        "    stats = tools.Statistics(lambda ind: ind.fitness.values)\n",
        "    stats.register(\"avg\", numpy.mean)\n",
        "    stats.register(\"std\", numpy.std)\n",
        "    stats.register(\"min\", numpy.min)\n",
        "    stats.register(\"max\", numpy.max)\n",
        "\n",
        "    pop, log = algorithms.eaSimple(pop, toolbox, cxpb=0.5, mutpb=0.2, ngen=40,\n",
        "                                   stats=stats, halloffame=hof, verbose=True)\n",
        "\n",
        "    return pop, log, hof"
      ],
      "execution_count": null,
      "outputs": []
    },
    {
      "cell_type": "code",
      "metadata": {
        "colab": {
          "base_uri": "https://localhost:8080/"
        },
        "id": "hfvMbfwHwGqm",
        "outputId": "b874d238-8dc7-4222-c504-9d277a079cfb"
      },
      "source": [
        "genetic_algorithm(npop = 100)"
      ],
      "execution_count": null,
      "outputs": [
        {
          "output_type": "stream",
          "name": "stdout",
          "text": [
            "gen\tnevals\tavg \tstd    \tmin\tmax\n",
            "0  \t100   \t50.1\t5.45619\t34 \t64 \n",
            "1  \t66    \t54.95\t3.77988\t44 \t64 \n",
            "2  \t57    \t57.97\t3.20454\t50 \t67 \n",
            "3  \t47    \t61.3 \t2.84429\t55 \t67 \n",
            "4  \t64    \t63.51\t2.76223\t56 \t69 \n",
            "5  \t54    \t65.58\t2.39658\t61 \t73 \n",
            "6  \t63    \t67.13\t2.239  \t57 \t73 \n",
            "7  \t53    \t68.54\t2.36821\t61 \t75 \n",
            "8  \t65    \t70.17\t2.18199\t65 \t75 \n",
            "9  \t62    \t71.44\t2.23302\t65 \t76 \n",
            "10 \t63    \t72.6 \t2.26716\t66 \t78 \n",
            "11 \t57    \t74.09\t1.95497\t69 \t79 \n",
            "12 \t67    \t75.24\t2.45813\t67 \t81 \n",
            "13 \t62    \t76.32\t2.449  \t69 \t81 \n",
            "14 \t56    \t77.56\t2.34657\t68 \t83 \n",
            "15 \t61    \t79.07\t2.53872\t71 \t86 \n",
            "16 \t56    \t80.69\t2.72652\t73 \t87 \n",
            "17 \t56    \t82.6 \t2.66833\t74 \t88 \n",
            "18 \t83    \t84.17\t2.79662\t73 \t89 \n",
            "19 \t55    \t85.79\t2.23739\t78 \t90 \n",
            "20 \t58    \t86.88\t1.95591\t79 \t91 \n",
            "21 \t59    \t87.7 \t1.85203\t82 \t91 \n",
            "22 \t53    \t88.19\t2.0818 \t81 \t91 \n",
            "23 \t61    \t89.01\t2.00247\t81 \t92 \n",
            "24 \t61    \t89.32\t2.22657\t83 \t92 \n",
            "25 \t54    \t90.06\t2.26636\t79 \t93 \n",
            "26 \t63    \t90.89\t1.65466\t84 \t93 \n",
            "27 \t63    \t91.23\t1.81579\t85 \t95 \n",
            "28 \t43    \t91.52\t2.11887\t84 \t96 \n",
            "29 \t59    \t91.89\t2.43267\t81 \t96 \n",
            "30 \t54    \t92.47\t2.41435\t84 \t96 \n",
            "31 \t55    \t93.29\t2.38032\t85 \t97 \n",
            "32 \t58    \t93.96\t2.03922\t88 \t97 \n",
            "33 \t64    \t94.66\t2.25486\t86 \t97 \n",
            "34 \t64    \t95.49\t1.62785\t89 \t97 \n",
            "35 \t50    \t95.47\t2.2998 \t87 \t97 \n",
            "36 \t55    \t96.01\t1.97228\t88 \t97 \n",
            "37 \t65    \t95.75\t2.39739\t87 \t97 \n",
            "38 \t63    \t96.17\t1.88709\t90 \t98 \n",
            "39 \t67    \t95.71\t2.72138\t88 \t98 \n",
            "40 \t55    \t96.36\t1.93659\t89 \t98 \n"
          ]
        },
        {
          "output_type": "execute_result",
          "data": {
            "text/plain": [
              "([Individual('b', [1, 1, 1, 1, 1, 1, 1, 1, 1, 1, 1, 0, 1, 1, 1, 1, 1, 1, 1, 1, 1, 1, 1, 1, 1, 1, 1, 1, 1, 1, 1, 1, 1, 1, 1, 1, 1, 1, 1, 1, 1, 1, 1, 1, 1, 1, 1, 1, 1, 1, 1, 0, 1, 1, 1, 1, 1, 1, 1, 1, 1, 1, 1, 1, 1, 1, 1, 1, 1, 1, 1, 1, 1, 1, 1, 1, 1, 1, 1, 1, 1, 1, 1, 1, 1, 1, 1, 1, 1, 1, 1, 1, 0, 1, 1, 1, 1, 1, 1, 1]),\n",
              "  Individual('b', [1, 1, 1, 1, 1, 1, 1, 1, 1, 1, 1, 1, 1, 1, 1, 1, 1, 1, 1, 1, 1, 1, 1, 1, 1, 1, 1, 1, 1, 1, 1, 1, 1, 1, 1, 1, 1, 1, 1, 1, 1, 1, 1, 1, 1, 1, 1, 1, 1, 1, 1, 0, 1, 1, 1, 1, 1, 1, 1, 1, 1, 1, 1, 1, 1, 1, 1, 1, 1, 1, 1, 1, 1, 1, 1, 1, 1, 1, 1, 1, 1, 1, 1, 1, 1, 1, 1, 1, 1, 1, 1, 1, 0, 1, 1, 1, 1, 1, 1, 1]),\n",
              "  Individual('b', [1, 1, 1, 1, 1, 1, 1, 1, 1, 1, 1, 0, 1, 1, 1, 1, 1, 1, 1, 1, 1, 1, 1, 1, 1, 1, 1, 1, 1, 1, 1, 1, 1, 1, 1, 1, 1, 1, 1, 1, 1, 1, 1, 1, 1, 1, 1, 1, 1, 1, 1, 0, 1, 1, 1, 1, 1, 1, 1, 1, 1, 1, 1, 1, 1, 1, 1, 1, 1, 1, 1, 1, 1, 1, 1, 1, 1, 1, 1, 1, 1, 1, 1, 1, 1, 1, 1, 1, 1, 1, 1, 1, 0, 1, 1, 1, 1, 1, 1, 1]),\n",
              "  Individual('b', [1, 1, 1, 1, 1, 1, 1, 1, 1, 1, 1, 0, 1, 1, 1, 1, 1, 1, 1, 1, 1, 1, 1, 1, 1, 1, 1, 1, 1, 1, 1, 1, 1, 1, 1, 1, 1, 1, 1, 1, 1, 1, 1, 1, 1, 1, 1, 1, 1, 1, 1, 0, 1, 1, 1, 1, 1, 1, 1, 1, 1, 1, 1, 1, 1, 1, 1, 1, 1, 1, 1, 1, 1, 1, 1, 1, 1, 1, 1, 1, 1, 1, 1, 1, 1, 1, 1, 1, 1, 1, 1, 1, 0, 1, 1, 1, 1, 1, 1, 1]),\n",
              "  Individual('b', [1, 1, 0, 1, 1, 1, 0, 1, 1, 1, 1, 0, 1, 1, 0, 1, 0, 1, 1, 1, 1, 1, 1, 1, 1, 1, 1, 1, 1, 1, 1, 1, 1, 1, 1, 1, 1, 1, 1, 1, 1, 1, 0, 1, 1, 1, 1, 1, 1, 1, 1, 0, 1, 1, 1, 1, 1, 1, 1, 1, 1, 0, 1, 1, 1, 1, 1, 1, 1, 1, 1, 1, 0, 1, 1, 1, 1, 1, 1, 1, 1, 1, 1, 1, 1, 1, 1, 1, 1, 1, 1, 1, 0, 1, 1, 1, 1, 1, 1, 1]),\n",
              "  Individual('b', [1, 1, 1, 1, 1, 1, 1, 1, 1, 1, 1, 0, 1, 1, 1, 1, 1, 1, 1, 1, 1, 1, 1, 1, 1, 1, 1, 1, 1, 1, 1, 1, 1, 1, 1, 1, 1, 1, 1, 1, 1, 1, 1, 1, 1, 1, 1, 1, 1, 1, 1, 0, 1, 1, 1, 1, 1, 1, 1, 1, 1, 1, 1, 1, 1, 1, 1, 1, 1, 1, 1, 1, 1, 1, 1, 1, 1, 1, 1, 1, 1, 1, 1, 1, 1, 1, 1, 1, 1, 1, 1, 1, 0, 1, 1, 1, 1, 1, 1, 1]),\n",
              "  Individual('b', [1, 1, 1, 1, 1, 1, 1, 1, 1, 1, 1, 0, 1, 1, 1, 1, 1, 1, 1, 1, 1, 1, 1, 1, 1, 1, 1, 1, 1, 1, 1, 1, 1, 1, 1, 1, 1, 1, 1, 1, 1, 1, 1, 1, 1, 1, 1, 1, 1, 1, 1, 0, 1, 1, 1, 1, 1, 1, 1, 1, 1, 1, 1, 1, 1, 1, 1, 1, 1, 1, 1, 1, 1, 1, 1, 1, 1, 1, 1, 1, 1, 1, 1, 1, 1, 1, 1, 1, 1, 1, 1, 1, 0, 1, 1, 1, 1, 1, 1, 1]),\n",
              "  Individual('b', [1, 1, 1, 1, 1, 1, 1, 1, 1, 1, 1, 0, 1, 1, 1, 1, 1, 1, 1, 1, 1, 1, 1, 1, 1, 1, 1, 1, 1, 1, 1, 1, 1, 1, 1, 1, 1, 1, 1, 1, 1, 1, 1, 1, 1, 1, 1, 1, 1, 1, 1, 0, 1, 1, 1, 1, 1, 1, 1, 1, 1, 1, 1, 1, 1, 1, 1, 1, 1, 1, 1, 1, 1, 1, 1, 1, 1, 1, 1, 1, 1, 1, 1, 1, 1, 1, 1, 1, 1, 1, 1, 1, 0, 1, 1, 1, 1, 1, 1, 1]),\n",
              "  Individual('b', [1, 1, 1, 1, 1, 1, 1, 1, 1, 1, 1, 0, 1, 1, 1, 1, 1, 1, 1, 1, 1, 1, 1, 1, 1, 1, 1, 1, 1, 1, 1, 1, 1, 1, 1, 1, 1, 1, 1, 1, 1, 1, 1, 1, 1, 1, 1, 1, 1, 1, 1, 0, 1, 1, 1, 1, 1, 1, 1, 1, 1, 1, 1, 1, 1, 1, 1, 1, 1, 1, 1, 1, 1, 1, 1, 1, 1, 1, 1, 1, 1, 1, 1, 1, 1, 1, 1, 1, 1, 1, 1, 1, 0, 1, 1, 1, 1, 1, 1, 1]),\n",
              "  Individual('b', [1, 1, 1, 1, 1, 1, 1, 1, 1, 1, 1, 0, 1, 1, 1, 1, 1, 1, 1, 1, 1, 1, 1, 1, 1, 1, 1, 1, 1, 1, 1, 1, 1, 1, 1, 1, 1, 1, 1, 1, 1, 1, 1, 1, 1, 1, 1, 1, 1, 1, 1, 0, 1, 1, 1, 1, 1, 1, 1, 1, 1, 1, 1, 1, 1, 1, 1, 1, 1, 1, 1, 1, 1, 1, 1, 1, 1, 1, 1, 1, 1, 1, 1, 1, 1, 1, 1, 1, 1, 1, 1, 1, 0, 1, 1, 1, 1, 1, 1, 1]),\n",
              "  Individual('b', [1, 1, 1, 1, 1, 1, 1, 1, 1, 1, 1, 0, 1, 1, 1, 1, 1, 1, 1, 1, 1, 1, 1, 1, 1, 1, 1, 1, 1, 1, 1, 1, 1, 1, 1, 1, 1, 1, 1, 1, 1, 1, 1, 1, 1, 1, 1, 1, 1, 1, 1, 0, 1, 1, 1, 1, 1, 1, 1, 1, 1, 1, 1, 1, 1, 1, 1, 1, 1, 1, 1, 1, 1, 1, 1, 1, 1, 1, 1, 1, 1, 1, 1, 1, 1, 1, 1, 1, 1, 1, 1, 1, 0, 1, 1, 1, 1, 1, 1, 1]),\n",
              "  Individual('b', [1, 1, 1, 1, 1, 1, 1, 1, 1, 1, 1, 0, 1, 1, 1, 1, 1, 1, 1, 1, 1, 1, 1, 1, 1, 1, 1, 1, 1, 1, 1, 1, 1, 1, 1, 1, 1, 1, 1, 1, 1, 1, 1, 1, 1, 1, 1, 1, 1, 1, 1, 0, 1, 1, 0, 1, 1, 1, 1, 1, 1, 1, 1, 1, 1, 1, 1, 1, 1, 1, 1, 1, 1, 1, 1, 1, 1, 1, 1, 1, 1, 1, 1, 1, 1, 1, 1, 1, 1, 0, 1, 1, 0, 1, 1, 1, 1, 1, 1, 0]),\n",
              "  Individual('b', [1, 1, 1, 1, 1, 1, 1, 1, 1, 1, 1, 0, 1, 1, 1, 1, 1, 1, 1, 1, 1, 1, 1, 1, 1, 1, 1, 1, 1, 1, 1, 1, 1, 1, 1, 1, 1, 1, 1, 1, 1, 1, 1, 1, 1, 1, 1, 1, 1, 1, 1, 0, 1, 1, 1, 1, 1, 1, 1, 1, 1, 1, 1, 1, 1, 1, 1, 1, 1, 1, 1, 1, 1, 1, 1, 1, 1, 1, 1, 1, 1, 1, 1, 1, 1, 1, 1, 1, 1, 1, 1, 1, 0, 1, 1, 1, 1, 1, 1, 1]),\n",
              "  Individual('b', [1, 1, 1, 1, 1, 1, 1, 1, 1, 1, 1, 0, 1, 1, 1, 1, 1, 1, 1, 1, 1, 1, 1, 1, 1, 1, 1, 1, 1, 1, 1, 1, 1, 1, 1, 1, 1, 1, 1, 1, 1, 1, 1, 1, 1, 1, 1, 1, 1, 1, 1, 0, 1, 1, 1, 1, 1, 1, 1, 1, 1, 1, 1, 1, 1, 1, 1, 1, 1, 1, 1, 1, 1, 1, 1, 1, 1, 1, 1, 1, 1, 1, 1, 1, 1, 1, 1, 1, 1, 1, 1, 1, 0, 1, 1, 1, 1, 1, 1, 1]),\n",
              "  Individual('b', [1, 1, 1, 1, 1, 1, 1, 1, 1, 1, 1, 0, 1, 1, 1, 1, 1, 1, 1, 1, 1, 1, 1, 1, 1, 1, 1, 1, 1, 1, 1, 1, 1, 1, 1, 1, 1, 1, 1, 1, 1, 1, 1, 1, 1, 1, 1, 1, 1, 1, 1, 0, 1, 1, 1, 1, 1, 1, 1, 1, 1, 1, 1, 1, 1, 1, 1, 1, 1, 1, 1, 1, 1, 1, 1, 1, 1, 1, 1, 1, 1, 1, 1, 1, 1, 1, 1, 1, 1, 1, 1, 1, 0, 1, 1, 1, 1, 1, 1, 1]),\n",
              "  Individual('b', [1, 1, 1, 1, 1, 1, 1, 1, 1, 1, 1, 0, 1, 1, 1, 1, 1, 1, 1, 1, 1, 1, 1, 1, 1, 1, 1, 1, 1, 1, 1, 1, 1, 1, 1, 1, 1, 1, 1, 1, 1, 1, 1, 1, 1, 1, 1, 1, 1, 1, 1, 0, 1, 1, 1, 1, 1, 1, 1, 1, 1, 1, 1, 1, 1, 1, 1, 1, 1, 1, 1, 1, 1, 1, 1, 1, 1, 1, 1, 1, 1, 1, 1, 1, 1, 1, 1, 1, 1, 1, 1, 1, 0, 1, 1, 1, 1, 1, 1, 1]),\n",
              "  Individual('b', [1, 1, 1, 1, 1, 1, 1, 1, 1, 1, 1, 1, 1, 1, 1, 1, 1, 1, 1, 1, 1, 1, 1, 1, 1, 1, 1, 1, 1, 1, 1, 1, 1, 1, 1, 1, 1, 1, 1, 1, 1, 1, 1, 1, 1, 1, 1, 1, 1, 1, 1, 0, 1, 1, 1, 1, 1, 1, 1, 1, 1, 1, 1, 1, 1, 1, 1, 1, 1, 1, 1, 1, 1, 1, 1, 1, 1, 1, 1, 1, 1, 1, 1, 1, 1, 1, 1, 1, 1, 1, 1, 1, 0, 1, 1, 1, 1, 1, 1, 1]),\n",
              "  Individual('b', [1, 1, 1, 1, 1, 1, 1, 1, 1, 1, 1, 0, 1, 1, 1, 1, 1, 1, 1, 1, 1, 1, 1, 1, 1, 1, 1, 1, 1, 1, 1, 1, 1, 1, 1, 1, 1, 1, 1, 1, 1, 1, 1, 1, 1, 1, 1, 1, 1, 1, 1, 0, 1, 1, 1, 1, 1, 1, 1, 1, 1, 1, 1, 1, 1, 1, 1, 1, 1, 1, 1, 1, 1, 1, 1, 1, 1, 1, 1, 1, 1, 1, 1, 1, 1, 1, 1, 1, 1, 1, 1, 1, 0, 1, 1, 1, 1, 1, 1, 1]),\n",
              "  Individual('b', [1, 1, 1, 1, 1, 1, 1, 1, 1, 1, 1, 0, 1, 1, 1, 1, 1, 1, 1, 1, 1, 1, 1, 1, 1, 1, 1, 1, 1, 1, 1, 1, 1, 1, 1, 1, 1, 1, 1, 1, 1, 1, 1, 1, 1, 1, 1, 1, 1, 1, 1, 0, 1, 1, 1, 1, 1, 1, 1, 1, 1, 1, 1, 1, 1, 1, 1, 1, 1, 1, 1, 1, 1, 1, 1, 1, 1, 1, 1, 1, 1, 1, 1, 1, 1, 1, 1, 1, 1, 1, 1, 1, 0, 1, 1, 1, 1, 1, 1, 1]),\n",
              "  Individual('b', [1, 1, 1, 1, 1, 1, 1, 1, 1, 1, 1, 0, 1, 1, 1, 1, 1, 1, 1, 1, 1, 1, 1, 1, 1, 1, 1, 1, 1, 1, 1, 1, 1, 1, 1, 1, 1, 1, 1, 1, 1, 1, 1, 1, 1, 1, 1, 1, 1, 1, 1, 0, 1, 1, 1, 1, 1, 1, 1, 1, 1, 1, 1, 1, 1, 1, 1, 1, 1, 1, 1, 1, 1, 1, 1, 1, 1, 1, 1, 1, 1, 1, 1, 1, 1, 1, 1, 1, 1, 1, 1, 1, 0, 1, 1, 1, 1, 1, 1, 1]),\n",
              "  Individual('b', [1, 1, 1, 1, 1, 1, 1, 1, 1, 1, 1, 0, 1, 1, 1, 1, 1, 1, 1, 1, 1, 1, 1, 1, 1, 1, 1, 1, 1, 1, 1, 1, 1, 1, 1, 1, 1, 1, 1, 1, 1, 1, 1, 1, 1, 1, 1, 1, 1, 1, 1, 0, 1, 1, 1, 1, 1, 1, 1, 1, 1, 1, 1, 1, 1, 1, 1, 1, 1, 1, 1, 1, 1, 1, 1, 1, 1, 1, 1, 1, 1, 1, 1, 1, 1, 1, 1, 1, 1, 1, 1, 1, 0, 1, 1, 1, 1, 1, 1, 1]),\n",
              "  Individual('b', [1, 1, 1, 1, 1, 1, 1, 1, 1, 1, 1, 0, 1, 1, 1, 1, 1, 1, 1, 1, 1, 1, 1, 1, 1, 1, 1, 1, 1, 1, 1, 1, 1, 1, 1, 1, 1, 1, 1, 1, 1, 1, 1, 1, 1, 1, 1, 1, 1, 1, 1, 0, 1, 1, 1, 1, 1, 1, 1, 1, 1, 1, 1, 1, 1, 1, 1, 1, 1, 1, 1, 1, 1, 1, 1, 1, 1, 1, 1, 1, 1, 1, 1, 1, 1, 1, 1, 1, 1, 1, 1, 1, 0, 1, 1, 1, 1, 1, 1, 1]),\n",
              "  Individual('b', [1, 1, 1, 1, 1, 1, 1, 1, 1, 1, 1, 0, 1, 1, 1, 1, 1, 1, 1, 1, 1, 1, 1, 1, 1, 1, 1, 1, 1, 1, 1, 1, 1, 1, 1, 1, 1, 1, 1, 1, 1, 1, 1, 1, 1, 1, 1, 1, 1, 1, 1, 0, 1, 1, 1, 1, 1, 1, 1, 1, 1, 1, 1, 1, 1, 1, 1, 1, 1, 1, 1, 1, 1, 1, 1, 1, 1, 1, 1, 1, 1, 1, 1, 1, 1, 1, 1, 1, 1, 1, 1, 1, 0, 1, 1, 1, 1, 1, 1, 1]),\n",
              "  Individual('b', [1, 1, 1, 1, 1, 1, 1, 1, 1, 1, 1, 0, 1, 1, 1, 1, 1, 1, 1, 1, 1, 1, 1, 1, 1, 1, 1, 1, 1, 1, 1, 1, 1, 1, 1, 1, 1, 1, 1, 1, 1, 1, 1, 1, 1, 1, 1, 1, 1, 1, 1, 0, 1, 1, 1, 1, 1, 1, 1, 1, 1, 1, 1, 1, 1, 1, 0, 1, 1, 0, 1, 1, 1, 1, 1, 1, 1, 1, 1, 1, 1, 1, 1, 1, 1, 1, 1, 1, 1, 1, 1, 1, 0, 1, 1, 0, 1, 1, 0, 1]),\n",
              "  Individual('b', [1, 1, 1, 1, 1, 1, 1, 1, 1, 1, 1, 0, 1, 1, 1, 1, 1, 1, 1, 1, 1, 1, 1, 1, 1, 1, 1, 1, 1, 1, 1, 1, 1, 1, 1, 1, 1, 1, 1, 1, 1, 1, 1, 1, 1, 1, 1, 1, 1, 1, 1, 0, 1, 1, 1, 1, 1, 1, 1, 1, 1, 1, 1, 1, 1, 1, 1, 1, 1, 1, 1, 1, 1, 1, 1, 1, 1, 1, 1, 1, 1, 1, 1, 1, 1, 1, 1, 1, 1, 1, 1, 1, 0, 1, 1, 1, 1, 1, 1, 1]),\n",
              "  Individual('b', [1, 1, 1, 1, 1, 1, 1, 1, 1, 1, 1, 0, 1, 1, 1, 1, 1, 1, 1, 1, 1, 1, 1, 1, 1, 1, 1, 1, 1, 1, 1, 1, 1, 1, 1, 1, 1, 1, 1, 1, 1, 1, 1, 1, 1, 1, 1, 1, 1, 1, 1, 0, 1, 1, 1, 1, 1, 1, 1, 1, 1, 1, 1, 1, 1, 1, 1, 1, 1, 1, 1, 1, 1, 1, 1, 1, 1, 1, 1, 1, 1, 1, 1, 1, 1, 1, 1, 1, 1, 1, 1, 1, 0, 1, 1, 1, 1, 1, 1, 1]),\n",
              "  Individual('b', [1, 1, 1, 1, 1, 1, 1, 1, 1, 1, 1, 0, 1, 1, 1, 1, 1, 1, 1, 1, 1, 1, 1, 1, 1, 1, 1, 1, 1, 1, 1, 1, 1, 1, 1, 1, 1, 1, 1, 1, 1, 1, 1, 1, 1, 1, 1, 1, 1, 1, 1, 0, 1, 1, 1, 1, 1, 1, 1, 1, 1, 1, 1, 1, 1, 1, 1, 1, 1, 1, 1, 1, 1, 1, 1, 1, 1, 1, 1, 1, 1, 1, 1, 1, 1, 1, 1, 1, 1, 1, 1, 1, 0, 1, 1, 1, 1, 1, 1, 1]),\n",
              "  Individual('b', [1, 1, 1, 1, 1, 1, 1, 1, 1, 1, 1, 0, 1, 1, 1, 1, 1, 1, 1, 1, 1, 1, 1, 1, 1, 1, 1, 1, 1, 1, 1, 1, 1, 1, 1, 1, 1, 1, 1, 1, 1, 1, 1, 1, 1, 1, 1, 1, 1, 1, 1, 0, 1, 1, 1, 1, 1, 1, 1, 1, 1, 1, 1, 1, 1, 1, 1, 1, 1, 1, 1, 1, 1, 1, 1, 1, 1, 1, 1, 1, 1, 1, 1, 1, 1, 1, 1, 1, 1, 1, 1, 1, 0, 1, 1, 1, 1, 1, 1, 1]),\n",
              "  Individual('b', [1, 1, 1, 1, 1, 1, 1, 1, 1, 1, 1, 0, 1, 1, 1, 1, 1, 1, 1, 1, 1, 1, 1, 1, 1, 1, 1, 1, 1, 1, 1, 1, 1, 1, 1, 1, 1, 1, 1, 1, 1, 1, 1, 1, 1, 1, 1, 1, 1, 1, 1, 0, 1, 1, 1, 1, 1, 1, 1, 1, 1, 1, 1, 1, 1, 1, 1, 1, 1, 1, 1, 1, 1, 1, 1, 1, 1, 1, 1, 1, 1, 1, 1, 1, 1, 1, 1, 1, 1, 1, 1, 1, 0, 1, 1, 1, 1, 1, 1, 1]),\n",
              "  Individual('b', [1, 1, 1, 1, 1, 1, 1, 1, 1, 1, 1, 0, 1, 1, 1, 1, 1, 1, 1, 1, 1, 1, 1, 1, 1, 1, 1, 1, 1, 1, 1, 1, 1, 1, 1, 1, 1, 1, 1, 1, 1, 1, 1, 1, 1, 1, 1, 1, 1, 1, 1, 0, 1, 1, 1, 1, 1, 1, 1, 1, 1, 1, 1, 1, 1, 1, 1, 1, 1, 1, 1, 1, 1, 1, 1, 1, 1, 1, 1, 1, 1, 1, 1, 1, 1, 1, 1, 1, 1, 1, 1, 1, 0, 1, 1, 1, 1, 1, 1, 1]),\n",
              "  Individual('b', [1, 1, 1, 1, 1, 1, 1, 1, 1, 1, 1, 0, 1, 1, 1, 1, 1, 1, 1, 1, 1, 1, 1, 1, 1, 1, 1, 1, 1, 1, 1, 1, 1, 1, 1, 1, 1, 1, 1, 1, 1, 1, 1, 1, 1, 1, 1, 1, 1, 1, 1, 0, 1, 1, 1, 1, 1, 1, 1, 1, 1, 1, 1, 1, 1, 1, 1, 1, 1, 1, 1, 1, 1, 1, 1, 1, 1, 1, 1, 1, 1, 1, 1, 1, 1, 1, 1, 1, 1, 1, 1, 1, 0, 1, 1, 1, 1, 1, 1, 1]),\n",
              "  Individual('b', [1, 1, 1, 1, 1, 1, 1, 1, 1, 1, 1, 0, 1, 1, 1, 1, 1, 1, 1, 1, 1, 1, 1, 1, 1, 1, 1, 1, 1, 1, 1, 1, 1, 1, 1, 1, 1, 1, 1, 1, 1, 1, 1, 1, 1, 1, 1, 1, 1, 1, 1, 0, 1, 1, 1, 1, 1, 1, 1, 1, 1, 1, 1, 1, 1, 1, 1, 1, 1, 1, 1, 1, 1, 1, 1, 1, 1, 1, 1, 1, 1, 1, 1, 1, 1, 1, 1, 1, 1, 1, 1, 1, 0, 1, 1, 1, 1, 1, 1, 1]),\n",
              "  Individual('b', [1, 1, 1, 1, 1, 1, 1, 1, 1, 1, 1, 0, 1, 1, 1, 1, 1, 1, 1, 1, 1, 1, 0, 0, 1, 1, 1, 1, 1, 1, 1, 1, 1, 1, 1, 1, 1, 0, 1, 1, 1, 1, 1, 1, 1, 1, 1, 1, 1, 1, 1, 0, 1, 1, 1, 1, 1, 1, 1, 1, 1, 1, 1, 1, 1, 1, 1, 1, 1, 1, 1, 1, 1, 1, 1, 1, 1, 1, 1, 1, 1, 1, 1, 1, 1, 1, 1, 1, 1, 1, 1, 1, 0, 0, 1, 0, 1, 1, 1, 1]),\n",
              "  Individual('b', [1, 1, 1, 1, 1, 1, 1, 1, 1, 1, 1, 0, 1, 1, 1, 1, 1, 1, 1, 1, 1, 1, 1, 1, 1, 1, 1, 1, 1, 1, 1, 1, 1, 1, 1, 1, 1, 1, 1, 1, 1, 1, 1, 1, 1, 1, 1, 1, 1, 1, 1, 0, 1, 1, 1, 1, 1, 1, 1, 1, 1, 1, 1, 1, 1, 1, 1, 1, 1, 1, 1, 1, 1, 1, 1, 1, 1, 1, 1, 1, 1, 1, 1, 1, 1, 1, 1, 1, 1, 1, 1, 1, 0, 1, 1, 1, 1, 1, 1, 1]),\n",
              "  Individual('b', [1, 1, 1, 1, 1, 1, 1, 1, 1, 1, 1, 0, 1, 1, 1, 1, 1, 1, 1, 1, 1, 1, 1, 1, 1, 1, 1, 1, 1, 1, 1, 1, 1, 1, 1, 1, 1, 1, 1, 1, 1, 1, 1, 1, 1, 1, 1, 1, 1, 1, 1, 0, 1, 1, 1, 1, 1, 1, 1, 1, 1, 1, 1, 1, 1, 1, 1, 1, 1, 1, 1, 1, 1, 1, 1, 1, 1, 1, 1, 1, 1, 1, 1, 1, 1, 1, 1, 1, 1, 1, 1, 1, 0, 1, 1, 1, 1, 1, 1, 1]),\n",
              "  Individual('b', [1, 1, 1, 1, 1, 1, 1, 1, 1, 1, 1, 0, 1, 1, 1, 1, 1, 1, 1, 1, 1, 1, 1, 1, 1, 1, 1, 1, 1, 1, 1, 1, 1, 1, 1, 1, 1, 1, 1, 1, 1, 1, 1, 1, 1, 1, 1, 1, 1, 1, 1, 0, 1, 1, 1, 1, 1, 1, 1, 1, 1, 1, 1, 1, 1, 1, 1, 1, 1, 1, 1, 1, 1, 1, 1, 1, 1, 1, 1, 1, 1, 1, 1, 1, 1, 1, 1, 1, 1, 1, 1, 1, 0, 1, 1, 1, 1, 1, 1, 1]),\n",
              "  Individual('b', [1, 1, 1, 1, 1, 1, 1, 1, 1, 1, 1, 1, 1, 1, 1, 1, 1, 1, 1, 1, 1, 1, 1, 1, 1, 1, 1, 1, 1, 1, 1, 1, 1, 1, 1, 1, 1, 1, 1, 1, 1, 1, 1, 1, 1, 1, 1, 1, 1, 1, 1, 0, 1, 1, 1, 1, 1, 1, 1, 1, 1, 1, 1, 1, 1, 1, 1, 1, 1, 1, 1, 1, 1, 1, 1, 1, 1, 1, 1, 1, 1, 1, 1, 1, 1, 1, 1, 1, 1, 1, 1, 1, 0, 1, 1, 1, 1, 1, 1, 1]),\n",
              "  Individual('b', [1, 1, 1, 1, 1, 1, 1, 1, 1, 1, 1, 0, 1, 1, 1, 1, 1, 1, 1, 1, 1, 1, 1, 1, 1, 1, 1, 1, 1, 1, 1, 1, 1, 1, 1, 1, 1, 1, 1, 1, 1, 1, 1, 1, 1, 1, 1, 1, 1, 1, 1, 0, 1, 1, 1, 1, 1, 1, 1, 1, 1, 1, 1, 1, 1, 1, 1, 1, 1, 1, 1, 1, 1, 1, 1, 1, 1, 1, 1, 1, 1, 1, 1, 1, 1, 1, 1, 1, 1, 1, 1, 1, 0, 1, 1, 1, 1, 1, 1, 1]),\n",
              "  Individual('b', [1, 1, 1, 1, 1, 1, 1, 1, 1, 1, 1, 0, 1, 1, 1, 1, 1, 1, 1, 1, 1, 1, 1, 1, 1, 1, 1, 1, 1, 1, 1, 1, 1, 1, 1, 1, 1, 1, 1, 1, 1, 1, 1, 1, 1, 1, 1, 1, 1, 1, 1, 0, 1, 1, 1, 1, 1, 1, 1, 1, 1, 1, 1, 1, 1, 1, 1, 1, 1, 1, 1, 1, 1, 1, 1, 1, 1, 1, 1, 1, 1, 1, 1, 1, 1, 1, 1, 1, 1, 1, 1, 1, 0, 1, 1, 1, 1, 1, 1, 1]),\n",
              "  Individual('b', [1, 1, 1, 1, 1, 1, 1, 1, 1, 1, 1, 0, 1, 1, 1, 1, 1, 1, 1, 1, 1, 1, 1, 1, 1, 1, 1, 1, 1, 1, 1, 1, 1, 1, 1, 1, 1, 1, 1, 1, 1, 1, 1, 1, 1, 1, 1, 1, 1, 1, 1, 0, 1, 1, 1, 1, 1, 1, 1, 1, 1, 1, 1, 1, 1, 1, 1, 1, 1, 1, 1, 1, 1, 1, 1, 1, 1, 1, 1, 1, 1, 1, 1, 1, 1, 1, 1, 1, 1, 1, 1, 1, 0, 1, 1, 1, 1, 1, 1, 1]),\n",
              "  Individual('b', [1, 1, 1, 1, 1, 1, 1, 1, 1, 1, 1, 0, 1, 0, 0, 1, 1, 1, 1, 1, 1, 1, 1, 1, 0, 1, 1, 1, 1, 1, 1, 1, 1, 1, 1, 1, 1, 1, 1, 1, 0, 1, 1, 1, 1, 1, 1, 1, 1, 1, 1, 0, 1, 1, 1, 1, 1, 0, 1, 1, 1, 1, 1, 1, 1, 1, 1, 1, 1, 1, 1, 1, 1, 1, 1, 1, 1, 1, 1, 0, 1, 1, 1, 0, 1, 1, 1, 1, 1, 1, 0, 1, 0, 1, 1, 1, 1, 1, 1, 1]),\n",
              "  Individual('b', [1, 1, 1, 1, 1, 1, 1, 1, 1, 1, 1, 0, 1, 1, 1, 1, 1, 1, 1, 1, 1, 1, 1, 1, 1, 1, 1, 1, 1, 1, 1, 1, 1, 1, 1, 1, 1, 1, 1, 1, 1, 1, 1, 1, 1, 1, 1, 1, 1, 1, 1, 0, 1, 1, 1, 1, 1, 1, 1, 1, 1, 1, 1, 1, 1, 1, 1, 1, 1, 1, 1, 1, 1, 1, 1, 1, 1, 1, 1, 1, 1, 1, 1, 1, 1, 1, 1, 1, 1, 1, 1, 1, 0, 1, 1, 1, 1, 1, 1, 1]),\n",
              "  Individual('b', [1, 1, 1, 1, 1, 1, 1, 1, 0, 1, 1, 0, 1, 1, 1, 1, 1, 1, 1, 1, 1, 1, 1, 1, 0, 1, 1, 1, 1, 1, 1, 1, 1, 1, 1, 1, 1, 1, 1, 1, 1, 1, 1, 1, 1, 1, 1, 1, 1, 1, 1, 0, 1, 1, 1, 1, 1, 1, 1, 1, 1, 1, 1, 1, 1, 1, 1, 1, 1, 1, 1, 1, 1, 1, 1, 1, 1, 0, 1, 1, 1, 0, 1, 1, 1, 1, 1, 1, 1, 1, 1, 1, 0, 1, 1, 1, 1, 1, 0, 1]),\n",
              "  Individual('b', [1, 1, 1, 1, 1, 1, 1, 1, 1, 1, 1, 0, 1, 1, 1, 1, 1, 1, 1, 1, 1, 1, 1, 1, 1, 1, 1, 1, 1, 1, 1, 1, 1, 1, 1, 1, 1, 1, 1, 1, 1, 1, 1, 1, 1, 1, 1, 1, 1, 1, 1, 0, 1, 1, 1, 1, 1, 1, 1, 1, 1, 1, 1, 1, 1, 1, 1, 1, 1, 1, 1, 1, 1, 1, 1, 1, 1, 1, 1, 1, 1, 1, 1, 1, 1, 1, 1, 1, 1, 1, 1, 1, 0, 1, 1, 1, 1, 1, 1, 1]),\n",
              "  Individual('b', [1, 1, 1, 1, 1, 1, 1, 1, 1, 1, 1, 0, 1, 1, 1, 1, 1, 1, 1, 1, 1, 1, 1, 1, 1, 1, 1, 1, 1, 1, 1, 1, 1, 1, 1, 1, 1, 1, 1, 1, 1, 1, 1, 1, 1, 1, 1, 1, 1, 1, 1, 0, 1, 1, 1, 1, 1, 1, 1, 1, 1, 1, 1, 1, 1, 1, 1, 1, 1, 1, 1, 1, 1, 1, 1, 1, 1, 1, 1, 1, 1, 1, 1, 1, 1, 1, 1, 1, 1, 1, 1, 1, 0, 1, 1, 1, 1, 1, 1, 1]),\n",
              "  Individual('b', [1, 1, 1, 1, 1, 1, 1, 1, 1, 1, 1, 0, 1, 1, 1, 1, 1, 1, 1, 1, 1, 1, 1, 1, 1, 1, 1, 1, 1, 1, 1, 1, 1, 1, 1, 1, 1, 1, 1, 1, 1, 1, 1, 1, 1, 1, 1, 1, 1, 1, 1, 0, 1, 1, 1, 1, 1, 1, 1, 1, 1, 1, 1, 1, 1, 1, 1, 1, 1, 1, 1, 1, 1, 1, 1, 1, 1, 1, 1, 1, 1, 1, 1, 1, 1, 1, 1, 1, 1, 1, 1, 1, 0, 1, 1, 1, 1, 1, 1, 1]),\n",
              "  Individual('b', [1, 1, 1, 1, 1, 1, 1, 1, 1, 1, 1, 0, 1, 1, 1, 1, 1, 1, 1, 1, 1, 1, 1, 1, 1, 1, 1, 1, 1, 1, 1, 1, 1, 1, 1, 1, 1, 1, 1, 1, 1, 1, 1, 1, 1, 1, 1, 1, 1, 1, 1, 0, 1, 1, 1, 1, 1, 1, 1, 1, 1, 1, 1, 1, 1, 1, 1, 1, 1, 1, 1, 1, 1, 1, 1, 1, 1, 1, 1, 1, 1, 1, 1, 1, 1, 1, 1, 1, 1, 1, 1, 1, 0, 1, 1, 1, 1, 1, 1, 1]),\n",
              "  Individual('b', [1, 1, 1, 1, 1, 1, 1, 1, 1, 1, 1, 0, 1, 1, 1, 1, 1, 1, 1, 1, 1, 1, 1, 1, 1, 1, 1, 1, 1, 1, 1, 1, 1, 1, 1, 1, 1, 1, 1, 1, 1, 1, 1, 1, 1, 1, 1, 1, 1, 1, 1, 0, 1, 1, 1, 1, 1, 1, 1, 1, 1, 1, 1, 1, 1, 1, 1, 1, 1, 1, 1, 1, 1, 1, 1, 1, 1, 1, 1, 1, 1, 1, 1, 1, 1, 1, 1, 1, 1, 1, 1, 1, 0, 1, 1, 1, 1, 1, 1, 1]),\n",
              "  Individual('b', [1, 1, 1, 1, 1, 1, 1, 1, 1, 1, 1, 0, 1, 1, 1, 1, 1, 0, 1, 1, 1, 1, 1, 1, 1, 1, 1, 1, 1, 1, 1, 1, 1, 1, 1, 0, 1, 1, 1, 1, 1, 1, 1, 1, 1, 1, 1, 1, 1, 1, 0, 0, 1, 1, 1, 1, 1, 1, 1, 1, 1, 1, 1, 1, 1, 1, 1, 1, 1, 1, 1, 1, 1, 1, 0, 1, 1, 1, 1, 1, 1, 1, 1, 1, 1, 0, 1, 1, 1, 1, 1, 1, 0, 1, 1, 1, 1, 1, 1, 1]),\n",
              "  Individual('b', [1, 1, 1, 1, 1, 1, 1, 1, 1, 1, 1, 0, 1, 1, 1, 1, 1, 1, 1, 1, 1, 1, 1, 1, 1, 1, 1, 1, 1, 1, 1, 1, 1, 1, 1, 1, 1, 1, 1, 1, 1, 1, 1, 1, 1, 1, 1, 1, 1, 1, 1, 0, 1, 1, 1, 1, 1, 1, 1, 1, 1, 1, 1, 1, 1, 1, 1, 1, 1, 1, 1, 1, 1, 1, 1, 1, 1, 1, 1, 1, 1, 1, 1, 1, 1, 1, 1, 1, 1, 1, 1, 1, 0, 1, 1, 1, 1, 1, 1, 1]),\n",
              "  Individual('b', [1, 1, 1, 1, 1, 1, 1, 1, 1, 1, 1, 0, 1, 1, 1, 1, 1, 1, 1, 1, 1, 1, 1, 0, 1, 1, 1, 1, 1, 1, 1, 1, 1, 1, 1, 1, 1, 1, 1, 0, 1, 1, 1, 0, 1, 1, 1, 1, 1, 1, 1, 0, 1, 1, 1, 1, 1, 1, 1, 1, 1, 1, 1, 1, 1, 1, 1, 1, 1, 1, 1, 1, 1, 1, 1, 1, 1, 1, 1, 1, 1, 1, 1, 1, 1, 1, 1, 1, 1, 1, 1, 1, 0, 1, 1, 1, 1, 1, 1, 1]),\n",
              "  Individual('b', [1, 1, 1, 1, 1, 1, 1, 1, 1, 1, 1, 0, 1, 1, 1, 1, 1, 1, 1, 1, 1, 1, 1, 1, 1, 1, 1, 1, 1, 1, 1, 0, 1, 1, 1, 1, 1, 1, 1, 1, 1, 1, 1, 1, 1, 1, 1, 1, 1, 1, 1, 0, 1, 1, 1, 1, 1, 1, 1, 1, 1, 1, 1, 1, 1, 1, 1, 1, 1, 1, 1, 1, 1, 1, 1, 1, 1, 1, 1, 1, 1, 1, 1, 1, 1, 1, 1, 1, 1, 1, 1, 1, 0, 1, 1, 1, 1, 1, 1, 1]),\n",
              "  Individual('b', [1, 1, 1, 1, 1, 1, 1, 1, 1, 1, 1, 0, 1, 1, 1, 1, 1, 1, 1, 1, 1, 1, 1, 1, 1, 1, 1, 1, 1, 1, 1, 1, 1, 1, 1, 1, 1, 1, 1, 1, 1, 1, 1, 1, 1, 1, 1, 1, 1, 1, 1, 0, 1, 1, 1, 1, 1, 1, 1, 1, 1, 1, 1, 1, 1, 1, 1, 1, 1, 1, 1, 1, 1, 1, 1, 1, 1, 1, 1, 1, 1, 1, 1, 1, 1, 1, 1, 1, 1, 1, 1, 1, 0, 1, 1, 1, 1, 1, 1, 1]),\n",
              "  Individual('b', [1, 1, 1, 1, 1, 1, 1, 1, 1, 1, 1, 0, 1, 1, 1, 1, 1, 1, 1, 1, 1, 1, 1, 1, 1, 1, 1, 1, 1, 1, 1, 1, 1, 1, 1, 1, 1, 1, 1, 1, 1, 1, 1, 1, 1, 1, 1, 1, 1, 1, 1, 0, 1, 1, 1, 1, 1, 1, 1, 1, 1, 1, 1, 1, 1, 1, 1, 1, 1, 1, 1, 1, 1, 1, 1, 1, 1, 1, 1, 1, 1, 1, 1, 1, 1, 1, 1, 1, 1, 1, 1, 1, 0, 1, 1, 1, 1, 1, 1, 1]),\n",
              "  Individual('b', [1, 1, 1, 1, 1, 1, 1, 1, 1, 1, 1, 0, 1, 1, 1, 1, 1, 1, 1, 1, 1, 1, 1, 1, 1, 1, 1, 1, 1, 1, 1, 1, 1, 1, 1, 1, 1, 1, 1, 1, 1, 1, 1, 1, 1, 1, 1, 1, 1, 1, 1, 0, 1, 1, 1, 1, 1, 1, 1, 1, 1, 1, 1, 1, 1, 1, 1, 1, 1, 1, 1, 1, 1, 1, 1, 1, 1, 1, 1, 1, 1, 1, 1, 1, 1, 1, 1, 1, 1, 1, 1, 1, 0, 1, 1, 1, 1, 1, 1, 1]),\n",
              "  Individual('b', [1, 1, 1, 1, 1, 1, 1, 1, 1, 1, 1, 1, 1, 1, 1, 1, 1, 1, 1, 1, 1, 1, 1, 1, 1, 1, 1, 1, 1, 1, 1, 1, 1, 1, 1, 1, 1, 1, 1, 1, 1, 1, 1, 1, 1, 1, 1, 1, 1, 1, 1, 0, 1, 1, 1, 1, 1, 1, 1, 1, 1, 1, 1, 1, 1, 1, 1, 1, 1, 1, 1, 1, 1, 1, 1, 1, 1, 1, 1, 1, 1, 1, 1, 1, 1, 1, 1, 1, 1, 1, 1, 1, 0, 1, 1, 1, 1, 1, 1, 1]),\n",
              "  Individual('b', [1, 1, 1, 1, 1, 1, 1, 1, 1, 1, 1, 0, 1, 1, 1, 1, 1, 1, 1, 1, 1, 1, 1, 1, 1, 1, 1, 1, 1, 1, 1, 1, 1, 1, 1, 1, 1, 1, 1, 1, 1, 1, 1, 1, 1, 1, 1, 1, 1, 1, 1, 0, 1, 1, 1, 1, 1, 1, 1, 1, 1, 1, 1, 1, 1, 1, 1, 1, 1, 1, 1, 1, 1, 1, 1, 1, 1, 1, 1, 1, 1, 1, 1, 1, 1, 1, 1, 1, 1, 1, 1, 1, 0, 1, 1, 1, 1, 1, 1, 1]),\n",
              "  Individual('b', [1, 1, 1, 1, 1, 1, 1, 1, 1, 1, 1, 0, 1, 1, 1, 1, 1, 1, 1, 1, 1, 1, 1, 1, 1, 1, 1, 1, 1, 1, 1, 1, 1, 1, 1, 1, 1, 1, 1, 1, 1, 1, 1, 1, 1, 1, 1, 1, 1, 1, 1, 0, 1, 1, 1, 1, 1, 1, 1, 1, 1, 1, 1, 1, 1, 1, 1, 1, 1, 1, 1, 1, 1, 1, 1, 1, 1, 1, 1, 1, 1, 1, 1, 1, 1, 1, 1, 1, 1, 1, 1, 1, 0, 1, 1, 1, 1, 1, 1, 1]),\n",
              "  Individual('b', [1, 1, 1, 1, 1, 1, 1, 1, 1, 1, 1, 1, 1, 1, 1, 1, 1, 1, 1, 1, 1, 1, 1, 1, 1, 1, 1, 1, 1, 1, 1, 1, 1, 1, 1, 1, 1, 1, 1, 1, 1, 1, 1, 1, 1, 1, 1, 1, 1, 1, 1, 0, 1, 1, 1, 1, 1, 1, 1, 1, 1, 1, 1, 1, 1, 1, 1, 1, 1, 1, 1, 1, 1, 1, 1, 1, 1, 1, 1, 1, 1, 1, 1, 1, 1, 1, 1, 1, 1, 1, 1, 1, 0, 1, 1, 1, 1, 1, 1, 1]),\n",
              "  Individual('b', [1, 1, 1, 1, 1, 1, 1, 1, 1, 1, 1, 0, 1, 1, 1, 1, 1, 1, 1, 1, 1, 1, 1, 1, 1, 1, 1, 1, 1, 1, 1, 1, 1, 1, 1, 1, 1, 1, 1, 1, 1, 1, 1, 1, 1, 1, 1, 1, 1, 1, 1, 0, 1, 1, 1, 1, 1, 1, 1, 1, 1, 1, 1, 1, 1, 1, 1, 1, 1, 1, 1, 1, 1, 1, 1, 1, 1, 1, 1, 1, 1, 1, 1, 1, 1, 1, 1, 1, 1, 1, 1, 1, 0, 1, 1, 1, 1, 1, 1, 1]),\n",
              "  Individual('b', [1, 1, 1, 1, 1, 1, 1, 1, 1, 1, 1, 0, 1, 1, 1, 1, 1, 1, 1, 1, 1, 1, 1, 1, 1, 1, 1, 1, 1, 1, 1, 1, 1, 1, 1, 1, 1, 1, 1, 1, 1, 1, 1, 1, 1, 1, 1, 1, 1, 1, 1, 0, 1, 1, 1, 1, 1, 1, 1, 1, 1, 1, 1, 1, 1, 1, 1, 1, 1, 1, 1, 1, 1, 1, 1, 1, 1, 1, 1, 1, 1, 1, 1, 1, 1, 1, 1, 1, 1, 1, 1, 1, 0, 1, 1, 1, 1, 1, 1, 1]),\n",
              "  Individual('b', [1, 1, 1, 1, 1, 1, 1, 1, 1, 1, 1, 0, 1, 1, 1, 1, 1, 1, 1, 1, 1, 1, 1, 1, 1, 1, 1, 1, 1, 1, 1, 1, 1, 1, 1, 1, 1, 1, 1, 1, 1, 1, 1, 1, 1, 1, 1, 1, 1, 1, 1, 0, 1, 1, 1, 1, 1, 1, 1, 1, 1, 1, 1, 1, 1, 1, 1, 1, 1, 1, 1, 1, 1, 1, 1, 1, 1, 1, 1, 1, 1, 1, 1, 1, 1, 1, 1, 1, 1, 1, 1, 1, 0, 1, 1, 1, 1, 1, 1, 1]),\n",
              "  Individual('b', [1, 1, 1, 1, 1, 1, 1, 1, 1, 1, 1, 0, 1, 1, 1, 1, 1, 1, 1, 1, 0, 1, 1, 1, 1, 1, 1, 1, 1, 1, 1, 1, 1, 1, 1, 1, 1, 1, 1, 1, 1, 1, 1, 1, 1, 1, 1, 1, 1, 1, 1, 0, 1, 0, 1, 1, 1, 1, 1, 0, 1, 1, 1, 1, 1, 1, 1, 1, 1, 1, 1, 1, 1, 1, 1, 1, 1, 1, 1, 1, 0, 1, 1, 1, 1, 1, 1, 1, 1, 1, 1, 1, 0, 1, 1, 1, 1, 1, 1, 1]),\n",
              "  Individual('b', [1, 1, 0, 1, 1, 1, 1, 0, 1, 1, 1, 0, 1, 1, 0, 1, 1, 1, 1, 1, 0, 1, 1, 1, 1, 1, 1, 1, 1, 1, 0, 1, 1, 1, 1, 1, 1, 1, 1, 1, 1, 1, 1, 1, 1, 1, 1, 1, 1, 1, 1, 0, 0, 1, 1, 1, 1, 1, 1, 1, 1, 1, 1, 1, 1, 1, 1, 1, 1, 1, 1, 1, 1, 1, 1, 1, 1, 1, 1, 1, 1, 1, 1, 1, 1, 1, 1, 1, 1, 1, 1, 1, 1, 1, 1, 1, 1, 1, 1, 1]),\n",
              "  Individual('b', [1, 1, 1, 1, 1, 1, 1, 1, 1, 1, 1, 0, 1, 1, 1, 1, 1, 1, 1, 1, 1, 1, 1, 1, 1, 1, 1, 1, 1, 1, 1, 1, 1, 1, 1, 1, 1, 1, 1, 1, 1, 1, 1, 1, 1, 1, 1, 1, 1, 1, 1, 0, 1, 1, 1, 1, 1, 1, 1, 1, 1, 1, 1, 1, 1, 1, 1, 1, 1, 1, 1, 1, 1, 1, 1, 1, 1, 1, 1, 1, 1, 1, 1, 1, 1, 1, 1, 1, 1, 1, 1, 1, 0, 1, 1, 1, 1, 1, 1, 1]),\n",
              "  Individual('b', [1, 1, 1, 1, 1, 1, 1, 1, 1, 1, 1, 0, 1, 1, 1, 1, 1, 1, 1, 1, 1, 1, 1, 1, 1, 1, 1, 1, 1, 1, 1, 1, 1, 1, 1, 1, 1, 1, 1, 1, 1, 1, 1, 1, 1, 1, 1, 1, 1, 1, 1, 0, 1, 1, 1, 1, 1, 1, 1, 1, 1, 1, 1, 1, 1, 1, 1, 1, 1, 1, 1, 1, 1, 1, 1, 1, 1, 1, 1, 1, 1, 1, 1, 1, 1, 1, 1, 1, 1, 1, 1, 1, 0, 1, 1, 1, 1, 1, 1, 1]),\n",
              "  Individual('b', [1, 1, 1, 1, 1, 1, 1, 1, 1, 1, 1, 0, 1, 1, 1, 1, 1, 1, 1, 1, 0, 1, 1, 1, 1, 1, 1, 1, 1, 1, 1, 1, 1, 1, 1, 1, 1, 1, 1, 1, 1, 1, 1, 1, 1, 1, 0, 1, 1, 1, 1, 0, 1, 1, 1, 1, 1, 1, 1, 1, 0, 1, 1, 1, 1, 1, 1, 1, 0, 1, 1, 1, 1, 1, 1, 1, 1, 1, 1, 1, 1, 1, 1, 1, 1, 1, 1, 1, 1, 1, 1, 1, 0, 1, 1, 1, 1, 1, 1, 0]),\n",
              "  Individual('b', [1, 1, 1, 1, 1, 1, 1, 1, 1, 1, 1, 1, 1, 1, 1, 1, 1, 1, 1, 1, 1, 1, 1, 1, 1, 1, 1, 1, 1, 1, 1, 1, 1, 1, 1, 1, 1, 1, 1, 1, 1, 1, 1, 1, 1, 1, 1, 1, 1, 1, 1, 0, 1, 1, 1, 1, 1, 1, 1, 1, 1, 1, 1, 1, 1, 1, 1, 1, 1, 1, 1, 1, 1, 1, 1, 1, 1, 1, 1, 1, 1, 1, 1, 1, 1, 1, 1, 1, 1, 1, 1, 1, 0, 1, 1, 1, 1, 1, 1, 1]),\n",
              "  Individual('b', [1, 1, 1, 1, 1, 1, 1, 1, 1, 1, 1, 1, 1, 1, 1, 1, 1, 1, 1, 1, 1, 1, 1, 1, 1, 1, 1, 1, 1, 1, 1, 1, 1, 1, 1, 1, 1, 1, 1, 1, 1, 1, 1, 1, 1, 1, 1, 1, 1, 1, 1, 0, 1, 1, 1, 1, 1, 1, 1, 1, 1, 1, 1, 1, 1, 1, 1, 1, 1, 1, 1, 1, 1, 1, 1, 1, 1, 1, 1, 1, 1, 1, 1, 1, 1, 1, 1, 1, 1, 1, 1, 1, 0, 1, 1, 1, 1, 1, 1, 1]),\n",
              "  Individual('b', [1, 1, 1, 1, 1, 1, 1, 1, 1, 1, 1, 0, 1, 1, 1, 1, 1, 1, 1, 1, 1, 1, 1, 1, 1, 1, 1, 1, 1, 1, 1, 1, 1, 1, 1, 1, 1, 1, 1, 1, 1, 1, 1, 1, 1, 1, 1, 1, 1, 1, 1, 0, 1, 1, 1, 1, 1, 1, 1, 1, 1, 1, 1, 1, 1, 1, 1, 1, 1, 1, 1, 1, 1, 1, 1, 1, 1, 1, 1, 1, 1, 1, 1, 1, 1, 1, 1, 1, 1, 1, 1, 1, 0, 1, 1, 1, 1, 1, 1, 1]),\n",
              "  Individual('b', [1, 1, 1, 1, 1, 1, 1, 1, 1, 1, 1, 0, 1, 1, 1, 1, 1, 1, 1, 1, 1, 1, 1, 1, 1, 1, 1, 1, 1, 1, 1, 1, 1, 1, 1, 1, 1, 1, 1, 1, 1, 1, 1, 1, 1, 1, 1, 1, 1, 1, 1, 0, 1, 1, 1, 1, 1, 1, 1, 1, 1, 1, 1, 1, 1, 1, 1, 1, 1, 1, 1, 1, 1, 1, 1, 1, 1, 1, 1, 1, 1, 1, 1, 1, 1, 1, 1, 1, 1, 1, 1, 1, 0, 1, 1, 1, 1, 1, 1, 1]),\n",
              "  Individual('b', [1, 1, 1, 1, 1, 1, 1, 1, 1, 1, 1, 0, 1, 1, 1, 1, 1, 1, 1, 1, 1, 1, 1, 1, 1, 1, 1, 1, 1, 1, 1, 1, 1, 1, 1, 1, 1, 1, 1, 1, 1, 1, 1, 1, 1, 1, 1, 1, 1, 1, 1, 0, 1, 1, 1, 1, 1, 1, 1, 1, 1, 1, 1, 1, 1, 1, 1, 1, 1, 1, 1, 1, 1, 1, 1, 1, 1, 1, 1, 1, 1, 1, 1, 1, 1, 1, 1, 1, 1, 1, 1, 1, 0, 1, 1, 1, 1, 1, 1, 1]),\n",
              "  Individual('b', [1, 1, 1, 1, 1, 1, 1, 0, 1, 1, 1, 0, 1, 1, 1, 1, 1, 1, 1, 1, 1, 1, 1, 1, 1, 1, 1, 1, 1, 1, 1, 1, 1, 1, 1, 1, 1, 1, 1, 0, 0, 1, 1, 1, 1, 1, 1, 1, 1, 1, 1, 0, 1, 1, 1, 1, 1, 1, 1, 1, 1, 1, 1, 1, 1, 1, 1, 1, 1, 0, 1, 1, 1, 1, 1, 1, 1, 1, 1, 1, 0, 1, 1, 1, 1, 1, 1, 1, 1, 1, 1, 0, 0, 1, 1, 1, 1, 1, 1, 1]),\n",
              "  Individual('b', [1, 1, 1, 1, 1, 1, 1, 1, 1, 1, 1, 1, 1, 1, 1, 1, 1, 1, 1, 1, 1, 1, 1, 1, 1, 1, 1, 1, 1, 1, 1, 1, 1, 1, 1, 1, 1, 1, 1, 1, 1, 1, 1, 1, 1, 1, 1, 1, 1, 1, 1, 0, 1, 1, 1, 1, 1, 1, 1, 1, 1, 1, 1, 1, 1, 1, 1, 1, 1, 1, 1, 1, 1, 1, 1, 1, 1, 1, 1, 1, 1, 1, 1, 1, 1, 1, 1, 1, 1, 1, 1, 1, 0, 1, 1, 1, 1, 1, 1, 1]),\n",
              "  Individual('b', [1, 1, 1, 1, 1, 1, 1, 1, 1, 1, 1, 0, 1, 1, 1, 1, 1, 1, 1, 1, 1, 1, 1, 1, 1, 1, 1, 1, 1, 1, 1, 1, 1, 1, 1, 1, 1, 1, 1, 1, 1, 1, 1, 1, 1, 1, 1, 1, 1, 1, 1, 0, 1, 1, 1, 1, 1, 1, 1, 1, 1, 1, 1, 1, 1, 1, 1, 1, 1, 1, 1, 1, 1, 1, 1, 1, 1, 1, 1, 1, 1, 1, 1, 1, 1, 1, 1, 1, 1, 1, 1, 1, 0, 1, 1, 1, 1, 1, 1, 1]),\n",
              "  Individual('b', [1, 1, 1, 1, 1, 1, 1, 1, 1, 1, 1, 0, 1, 1, 1, 1, 1, 1, 1, 1, 1, 1, 1, 1, 1, 1, 1, 1, 1, 1, 1, 1, 1, 1, 1, 1, 1, 1, 1, 1, 1, 1, 1, 1, 1, 1, 1, 1, 1, 1, 1, 0, 1, 1, 1, 1, 1, 1, 1, 1, 1, 1, 1, 1, 1, 1, 1, 1, 1, 1, 1, 1, 1, 1, 1, 1, 1, 1, 1, 1, 1, 1, 1, 1, 1, 1, 1, 1, 1, 1, 1, 1, 0, 1, 1, 1, 1, 1, 1, 1]),\n",
              "  Individual('b', [1, 1, 1, 1, 1, 1, 1, 1, 1, 1, 1, 0, 1, 1, 1, 1, 1, 1, 1, 1, 1, 1, 1, 1, 1, 1, 1, 1, 1, 1, 1, 1, 1, 1, 1, 1, 1, 1, 1, 1, 1, 1, 1, 1, 1, 1, 1, 1, 1, 1, 1, 0, 1, 1, 1, 1, 1, 1, 1, 1, 1, 1, 1, 1, 1, 1, 1, 1, 1, 1, 1, 1, 1, 1, 1, 1, 1, 1, 1, 1, 1, 1, 1, 1, 1, 1, 1, 1, 1, 1, 1, 1, 0, 1, 1, 1, 1, 1, 1, 1]),\n",
              "  Individual('b', [1, 1, 1, 0, 1, 1, 1, 1, 1, 1, 1, 0, 1, 1, 1, 1, 1, 1, 1, 1, 1, 1, 1, 1, 1, 1, 1, 1, 1, 1, 1, 1, 1, 1, 1, 1, 1, 1, 1, 1, 1, 1, 1, 1, 1, 1, 0, 1, 0, 1, 1, 0, 1, 1, 1, 1, 1, 1, 1, 1, 1, 1, 1, 1, 1, 1, 1, 1, 1, 1, 1, 1, 1, 1, 1, 1, 1, 1, 1, 0, 1, 1, 1, 1, 1, 1, 1, 1, 1, 1, 1, 1, 0, 1, 1, 1, 1, 1, 1, 1]),\n",
              "  Individual('b', [1, 1, 1, 1, 1, 1, 1, 1, 1, 1, 1, 1, 1, 1, 1, 1, 1, 1, 1, 1, 1, 1, 1, 1, 1, 1, 1, 1, 1, 1, 1, 1, 1, 1, 1, 1, 1, 1, 1, 1, 1, 1, 1, 1, 1, 1, 1, 1, 1, 1, 1, 0, 1, 1, 1, 1, 1, 1, 1, 1, 1, 1, 1, 1, 1, 1, 1, 1, 1, 1, 1, 1, 1, 1, 1, 1, 1, 1, 1, 1, 1, 1, 1, 1, 1, 1, 1, 1, 1, 1, 1, 1, 0, 1, 1, 1, 1, 1, 1, 1]),\n",
              "  Individual('b', [1, 1, 1, 1, 1, 1, 1, 1, 1, 1, 1, 0, 1, 1, 1, 1, 1, 1, 1, 1, 1, 1, 1, 1, 1, 1, 1, 1, 1, 1, 1, 1, 1, 1, 1, 1, 1, 1, 1, 1, 1, 1, 1, 1, 1, 1, 1, 1, 1, 1, 1, 0, 1, 1, 1, 1, 1, 1, 1, 1, 1, 1, 1, 1, 1, 1, 1, 1, 1, 1, 1, 1, 1, 1, 1, 1, 1, 1, 1, 1, 1, 1, 1, 1, 1, 1, 1, 1, 1, 1, 1, 1, 0, 1, 1, 1, 1, 1, 1, 1]),\n",
              "  Individual('b', [1, 1, 1, 1, 0, 1, 1, 1, 1, 1, 1, 0, 1, 1, 1, 1, 1, 1, 1, 1, 1, 1, 1, 1, 0, 1, 1, 1, 1, 1, 1, 1, 1, 1, 1, 1, 1, 1, 1, 1, 1, 1, 1, 1, 1, 1, 1, 1, 1, 1, 1, 0, 1, 1, 1, 1, 1, 0, 1, 1, 1, 1, 1, 1, 1, 1, 0, 1, 1, 1, 1, 1, 1, 1, 1, 1, 0, 1, 1, 1, 1, 1, 1, 1, 1, 1, 1, 1, 1, 1, 1, 1, 0, 1, 1, 0, 1, 1, 1, 1]),\n",
              "  Individual('b', [1, 1, 1, 1, 1, 1, 1, 1, 1, 1, 1, 0, 1, 1, 1, 1, 1, 1, 1, 1, 1, 1, 1, 1, 1, 1, 1, 1, 1, 1, 1, 1, 1, 1, 1, 1, 1, 1, 1, 1, 1, 1, 1, 1, 1, 1, 1, 1, 1, 1, 1, 0, 1, 1, 1, 1, 1, 1, 1, 1, 1, 1, 1, 1, 1, 1, 1, 1, 1, 1, 1, 1, 1, 1, 1, 1, 1, 1, 1, 1, 1, 1, 1, 1, 1, 1, 1, 1, 1, 1, 1, 1, 0, 1, 1, 1, 1, 1, 1, 1]),\n",
              "  Individual('b', [1, 1, 1, 1, 1, 1, 1, 1, 1, 1, 1, 0, 1, 1, 1, 1, 1, 1, 1, 1, 1, 1, 1, 1, 1, 1, 1, 1, 1, 1, 1, 1, 1, 1, 1, 1, 1, 1, 1, 1, 1, 1, 1, 1, 1, 1, 1, 1, 1, 1, 1, 0, 1, 1, 1, 1, 1, 1, 1, 1, 1, 1, 1, 1, 1, 1, 1, 1, 1, 1, 1, 1, 1, 1, 1, 1, 1, 1, 1, 1, 1, 1, 1, 1, 1, 1, 1, 1, 1, 1, 1, 1, 0, 1, 1, 1, 1, 1, 1, 1]),\n",
              "  Individual('b', [1, 1, 1, 1, 1, 1, 1, 1, 1, 1, 1, 1, 1, 1, 1, 1, 1, 1, 1, 1, 1, 1, 1, 1, 1, 1, 1, 1, 1, 1, 1, 1, 1, 1, 1, 1, 1, 1, 1, 1, 1, 1, 1, 1, 1, 1, 1, 1, 1, 1, 1, 0, 1, 1, 1, 1, 1, 1, 1, 1, 1, 1, 1, 1, 1, 1, 1, 1, 1, 1, 1, 1, 1, 1, 1, 1, 1, 1, 1, 1, 1, 1, 1, 1, 1, 1, 1, 1, 1, 1, 1, 1, 0, 1, 1, 1, 1, 1, 1, 1]),\n",
              "  Individual('b', [1, 1, 1, 1, 1, 1, 1, 1, 1, 1, 1, 1, 1, 1, 1, 1, 1, 1, 1, 1, 1, 1, 1, 1, 1, 1, 1, 1, 1, 1, 1, 1, 1, 1, 1, 1, 1, 1, 1, 1, 1, 1, 1, 1, 1, 1, 1, 1, 1, 1, 1, 0, 1, 1, 1, 1, 1, 1, 1, 1, 1, 1, 1, 1, 1, 1, 1, 1, 1, 1, 1, 1, 1, 1, 1, 1, 1, 1, 1, 1, 1, 1, 1, 1, 1, 1, 1, 1, 1, 1, 1, 1, 0, 1, 1, 1, 1, 1, 1, 1]),\n",
              "  Individual('b', [1, 1, 1, 1, 1, 1, 1, 1, 1, 1, 1, 0, 1, 1, 1, 1, 1, 1, 1, 1, 1, 1, 1, 1, 1, 1, 1, 1, 1, 1, 1, 1, 1, 1, 1, 1, 1, 1, 1, 1, 1, 1, 1, 1, 1, 1, 1, 1, 1, 1, 1, 0, 1, 1, 1, 1, 1, 1, 1, 1, 1, 1, 1, 1, 1, 1, 1, 1, 1, 1, 1, 1, 1, 1, 1, 1, 1, 1, 1, 1, 1, 1, 1, 1, 1, 1, 1, 1, 1, 1, 1, 1, 0, 1, 1, 1, 1, 1, 1, 1]),\n",
              "  Individual('b', [1, 1, 1, 1, 1, 1, 1, 1, 1, 1, 1, 0, 1, 1, 1, 1, 1, 1, 1, 1, 1, 1, 1, 1, 1, 1, 1, 1, 1, 1, 1, 1, 1, 1, 1, 1, 0, 1, 1, 1, 1, 1, 1, 1, 1, 1, 1, 1, 1, 1, 1, 0, 1, 1, 1, 1, 1, 1, 1, 1, 1, 1, 1, 1, 1, 1, 1, 1, 1, 1, 1, 1, 0, 1, 1, 1, 1, 1, 1, 1, 1, 1, 1, 1, 1, 1, 1, 1, 1, 1, 1, 1, 0, 1, 1, 1, 1, 0, 1, 1]),\n",
              "  Individual('b', [1, 1, 1, 1, 1, 1, 1, 1, 1, 1, 1, 0, 1, 1, 1, 1, 1, 1, 1, 1, 1, 1, 1, 1, 1, 1, 1, 1, 1, 1, 1, 1, 1, 1, 1, 1, 1, 1, 1, 1, 1, 1, 1, 1, 1, 1, 1, 1, 1, 1, 1, 0, 1, 1, 1, 1, 1, 1, 1, 1, 1, 1, 1, 1, 1, 1, 1, 1, 1, 1, 1, 1, 1, 1, 1, 1, 1, 1, 1, 1, 1, 1, 1, 1, 1, 1, 1, 1, 1, 1, 1, 1, 0, 1, 1, 1, 1, 1, 1, 1]),\n",
              "  Individual('b', [1, 1, 1, 1, 1, 1, 1, 1, 1, 1, 1, 0, 1, 1, 1, 1, 1, 1, 1, 1, 1, 1, 1, 1, 1, 1, 1, 1, 1, 1, 1, 1, 1, 1, 1, 1, 1, 1, 1, 1, 1, 1, 1, 1, 1, 1, 1, 1, 1, 1, 1, 0, 1, 1, 1, 1, 1, 1, 1, 1, 1, 1, 1, 1, 1, 1, 1, 1, 1, 1, 1, 1, 1, 1, 1, 1, 1, 1, 1, 1, 1, 1, 1, 1, 1, 1, 1, 1, 1, 1, 1, 1, 0, 1, 1, 1, 1, 1, 1, 1]),\n",
              "  Individual('b', [1, 1, 1, 1, 1, 1, 1, 1, 1, 1, 1, 0, 1, 1, 1, 1, 1, 1, 1, 1, 1, 1, 1, 1, 1, 1, 1, 1, 1, 1, 1, 1, 1, 1, 1, 1, 1, 1, 1, 1, 1, 1, 1, 1, 1, 1, 1, 1, 1, 1, 1, 0, 1, 1, 1, 1, 1, 1, 1, 1, 1, 1, 1, 1, 1, 1, 1, 1, 1, 1, 1, 1, 1, 1, 1, 1, 1, 1, 1, 1, 1, 1, 1, 1, 1, 1, 1, 1, 1, 1, 1, 1, 0, 1, 1, 1, 1, 1, 1, 1]),\n",
              "  Individual('b', [1, 1, 1, 1, 1, 1, 1, 1, 1, 1, 1, 1, 1, 1, 1, 1, 1, 1, 1, 1, 1, 1, 1, 1, 1, 1, 1, 1, 1, 1, 1, 1, 1, 1, 1, 1, 1, 1, 1, 1, 1, 1, 1, 1, 1, 1, 1, 1, 1, 1, 1, 0, 1, 1, 1, 1, 1, 1, 1, 1, 1, 1, 1, 1, 1, 1, 1, 1, 1, 1, 1, 1, 1, 1, 1, 1, 1, 1, 1, 1, 1, 1, 1, 1, 1, 1, 1, 1, 1, 1, 1, 1, 0, 1, 1, 1, 1, 1, 1, 1]),\n",
              "  Individual('b', [1, 1, 1, 1, 1, 0, 1, 1, 1, 1, 1, 0, 0, 1, 1, 1, 1, 1, 1, 1, 1, 1, 1, 1, 1, 1, 1, 1, 1, 1, 1, 1, 1, 1, 1, 1, 1, 1, 1, 1, 1, 1, 1, 0, 1, 1, 1, 1, 1, 1, 1, 0, 1, 1, 1, 1, 1, 1, 1, 1, 1, 1, 1, 1, 1, 0, 1, 1, 1, 1, 1, 1, 1, 1, 1, 1, 1, 1, 1, 1, 1, 1, 1, 1, 1, 1, 1, 1, 1, 1, 1, 1, 0, 1, 1, 1, 1, 1, 1, 1]),\n",
              "  Individual('b', [1, 1, 1, 1, 1, 1, 1, 1, 1, 1, 1, 0, 1, 1, 1, 1, 1, 1, 1, 1, 1, 1, 1, 1, 1, 1, 1, 1, 1, 1, 1, 1, 1, 1, 1, 1, 1, 1, 1, 1, 1, 1, 1, 1, 1, 1, 1, 1, 1, 1, 1, 0, 1, 1, 1, 1, 1, 1, 1, 1, 1, 1, 1, 1, 1, 1, 1, 1, 1, 1, 1, 1, 1, 1, 1, 1, 1, 1, 1, 1, 1, 1, 1, 1, 1, 1, 1, 1, 1, 1, 1, 1, 0, 1, 1, 1, 1, 1, 1, 1]),\n",
              "  Individual('b', [1, 1, 1, 1, 1, 1, 1, 1, 1, 1, 1, 1, 1, 1, 1, 1, 1, 1, 1, 1, 1, 1, 1, 1, 1, 1, 1, 1, 1, 1, 1, 1, 1, 1, 1, 1, 1, 1, 1, 1, 1, 1, 1, 1, 1, 1, 1, 1, 1, 1, 1, 0, 1, 1, 1, 1, 1, 1, 1, 1, 1, 1, 1, 1, 1, 1, 1, 1, 1, 1, 1, 1, 1, 1, 1, 1, 1, 1, 1, 1, 1, 1, 1, 1, 1, 1, 1, 1, 1, 1, 1, 1, 0, 1, 1, 1, 1, 1, 1, 1]),\n",
              "  Individual('b', [1, 1, 1, 1, 1, 1, 1, 1, 1, 1, 1, 0, 1, 1, 1, 1, 1, 1, 1, 1, 1, 1, 1, 1, 1, 1, 1, 1, 1, 1, 1, 1, 1, 1, 1, 1, 1, 1, 1, 1, 1, 1, 1, 1, 1, 1, 1, 1, 1, 1, 1, 0, 1, 1, 1, 1, 1, 1, 1, 1, 1, 1, 1, 1, 1, 1, 1, 1, 1, 1, 1, 1, 1, 1, 1, 1, 1, 1, 1, 1, 1, 1, 1, 1, 1, 1, 1, 1, 1, 1, 1, 1, 0, 1, 1, 1, 1, 1, 1, 1]),\n",
              "  Individual('b', [1, 1, 1, 1, 1, 1, 1, 1, 1, 1, 1, 1, 1, 1, 1, 1, 1, 1, 1, 1, 1, 1, 1, 1, 1, 1, 1, 1, 1, 1, 1, 1, 1, 1, 1, 1, 1, 1, 1, 1, 1, 1, 1, 1, 1, 1, 1, 1, 1, 1, 1, 0, 1, 1, 1, 1, 1, 1, 1, 1, 1, 1, 1, 1, 1, 1, 1, 1, 1, 1, 1, 1, 1, 1, 1, 1, 1, 1, 1, 1, 1, 1, 1, 1, 1, 1, 1, 1, 1, 1, 1, 1, 0, 1, 1, 1, 1, 1, 1, 1]),\n",
              "  Individual('b', [1, 1, 1, 1, 1, 1, 1, 1, 1, 1, 1, 0, 1, 1, 1, 1, 1, 1, 1, 1, 1, 1, 1, 1, 1, 1, 1, 1, 1, 1, 1, 1, 1, 1, 1, 1, 1, 1, 1, 1, 1, 1, 1, 1, 1, 1, 1, 1, 1, 1, 1, 0, 1, 1, 1, 1, 1, 1, 1, 1, 1, 1, 1, 1, 1, 1, 1, 1, 1, 1, 1, 1, 1, 1, 1, 1, 1, 1, 1, 1, 1, 1, 1, 1, 1, 1, 1, 1, 1, 1, 1, 1, 0, 1, 1, 1, 1, 1, 1, 1]),\n",
              "  Individual('b', [1, 1, 1, 1, 1, 1, 1, 1, 1, 1, 1, 0, 1, 1, 1, 1, 1, 1, 1, 1, 1, 1, 1, 1, 1, 1, 1, 1, 1, 1, 1, 1, 1, 1, 1, 1, 1, 1, 1, 1, 1, 1, 1, 1, 1, 1, 1, 1, 1, 1, 1, 0, 1, 1, 1, 1, 1, 1, 1, 1, 1, 1, 1, 1, 1, 1, 1, 1, 1, 1, 1, 1, 1, 1, 1, 1, 1, 1, 1, 1, 1, 1, 1, 1, 1, 1, 1, 1, 1, 1, 1, 1, 0, 1, 1, 1, 1, 1, 1, 1]),\n",
              "  Individual('b', [1, 1, 1, 1, 1, 1, 1, 1, 1, 1, 1, 0, 1, 1, 1, 1, 1, 1, 1, 1, 1, 1, 1, 1, 1, 1, 1, 1, 1, 1, 1, 1, 1, 1, 1, 1, 1, 1, 1, 1, 1, 1, 1, 1, 1, 1, 1, 1, 1, 1, 1, 0, 1, 1, 1, 1, 1, 1, 1, 1, 1, 1, 1, 1, 1, 1, 1, 1, 1, 1, 1, 1, 1, 1, 1, 1, 1, 1, 1, 1, 1, 1, 1, 1, 1, 1, 1, 1, 1, 1, 1, 1, 0, 1, 1, 1, 1, 1, 1, 1]),\n",
              "  Individual('b', [1, 1, 1, 1, 1, 1, 1, 1, 1, 1, 1, 0, 1, 1, 1, 1, 1, 1, 1, 1, 1, 1, 1, 1, 1, 1, 1, 1, 1, 1, 1, 1, 1, 1, 1, 1, 1, 1, 1, 1, 1, 1, 1, 1, 1, 1, 1, 1, 1, 1, 1, 0, 1, 1, 1, 1, 1, 1, 1, 1, 1, 1, 1, 1, 1, 1, 1, 1, 1, 1, 1, 1, 1, 1, 1, 1, 1, 1, 1, 1, 1, 1, 1, 1, 1, 1, 1, 1, 1, 1, 1, 1, 0, 1, 1, 1, 1, 1, 1, 1])],\n",
              " [{'gen': 0,\n",
              "   'nevals': 100,\n",
              "   'avg': 50.1,\n",
              "   'std': 5.4561891462814955,\n",
              "   'min': 34.0,\n",
              "   'max': 64.0},\n",
              "  {'gen': 1,\n",
              "   'nevals': 66,\n",
              "   'avg': 54.95,\n",
              "   'std': 3.7798809505062456,\n",
              "   'min': 44.0,\n",
              "   'max': 64.0},\n",
              "  {'gen': 2,\n",
              "   'nevals': 57,\n",
              "   'avg': 57.97,\n",
              "   'std': 3.204543649258034,\n",
              "   'min': 50.0,\n",
              "   'max': 67.0},\n",
              "  {'gen': 3,\n",
              "   'nevals': 47,\n",
              "   'avg': 61.3,\n",
              "   'std': 2.844292530665579,\n",
              "   'min': 55.0,\n",
              "   'max': 67.0},\n",
              "  {'gen': 4,\n",
              "   'nevals': 64,\n",
              "   'avg': 63.51,\n",
              "   'std': 2.7622273621119606,\n",
              "   'min': 56.0,\n",
              "   'max': 69.0},\n",
              "  {'gen': 5,\n",
              "   'nevals': 54,\n",
              "   'avg': 65.58,\n",
              "   'std': 2.3965808978626195,\n",
              "   'min': 61.0,\n",
              "   'max': 73.0},\n",
              "  {'gen': 6,\n",
              "   'nevals': 63,\n",
              "   'avg': 67.13,\n",
              "   'std': 2.2389953104015206,\n",
              "   'min': 57.0,\n",
              "   'max': 73.0},\n",
              "  {'gen': 7,\n",
              "   'nevals': 53,\n",
              "   'avg': 68.54,\n",
              "   'std': 2.3682060721145026,\n",
              "   'min': 61.0,\n",
              "   'max': 75.0},\n",
              "  {'gen': 8,\n",
              "   'nevals': 65,\n",
              "   'avg': 70.17,\n",
              "   'std': 2.181994500451365,\n",
              "   'min': 65.0,\n",
              "   'max': 75.0},\n",
              "  {'gen': 9,\n",
              "   'nevals': 62,\n",
              "   'avg': 71.44,\n",
              "   'std': 2.233024854317569,\n",
              "   'min': 65.0,\n",
              "   'max': 76.0},\n",
              "  {'gen': 10,\n",
              "   'nevals': 63,\n",
              "   'avg': 72.6,\n",
              "   'std': 2.267156809750927,\n",
              "   'min': 66.0,\n",
              "   'max': 78.0},\n",
              "  {'gen': 11,\n",
              "   'nevals': 57,\n",
              "   'avg': 74.09,\n",
              "   'std': 1.9549680304291424,\n",
              "   'min': 69.0,\n",
              "   'max': 79.0},\n",
              "  {'gen': 12,\n",
              "   'nevals': 67,\n",
              "   'avg': 75.24,\n",
              "   'std': 2.4581293700698503,\n",
              "   'min': 67.0,\n",
              "   'max': 81.0},\n",
              "  {'gen': 13,\n",
              "   'nevals': 62,\n",
              "   'avg': 76.32,\n",
              "   'std': 2.448999795835026,\n",
              "   'min': 69.0,\n",
              "   'max': 81.0},\n",
              "  {'gen': 14,\n",
              "   'nevals': 56,\n",
              "   'avg': 77.56,\n",
              "   'std': 2.3465719677862,\n",
              "   'min': 68.0,\n",
              "   'max': 83.0},\n",
              "  {'gen': 15,\n",
              "   'nevals': 61,\n",
              "   'avg': 79.07,\n",
              "   'std': 2.5387201499968444,\n",
              "   'min': 71.0,\n",
              "   'max': 86.0},\n",
              "  {'gen': 16,\n",
              "   'nevals': 56,\n",
              "   'avg': 80.69,\n",
              "   'std': 2.7265179258534133,\n",
              "   'min': 73.0,\n",
              "   'max': 87.0},\n",
              "  {'gen': 17,\n",
              "   'nevals': 56,\n",
              "   'avg': 82.6,\n",
              "   'std': 2.6683328128252666,\n",
              "   'min': 74.0,\n",
              "   'max': 88.0},\n",
              "  {'gen': 18,\n",
              "   'nevals': 83,\n",
              "   'avg': 84.17,\n",
              "   'std': 2.7966229635043764,\n",
              "   'min': 73.0,\n",
              "   'max': 89.0},\n",
              "  {'gen': 19,\n",
              "   'nevals': 55,\n",
              "   'avg': 85.79,\n",
              "   'std': 2.237386868648335,\n",
              "   'min': 78.0,\n",
              "   'max': 90.0},\n",
              "  {'gen': 20,\n",
              "   'nevals': 58,\n",
              "   'avg': 86.88,\n",
              "   'std': 1.9559141085436245,\n",
              "   'min': 79.0,\n",
              "   'max': 91.0},\n",
              "  {'gen': 21,\n",
              "   'nevals': 59,\n",
              "   'avg': 87.7,\n",
              "   'std': 1.8520259177452132,\n",
              "   'min': 82.0,\n",
              "   'max': 91.0},\n",
              "  {'gen': 22,\n",
              "   'nevals': 53,\n",
              "   'avg': 88.19,\n",
              "   'std': 2.081802103947443,\n",
              "   'min': 81.0,\n",
              "   'max': 91.0},\n",
              "  {'gen': 23,\n",
              "   'nevals': 61,\n",
              "   'avg': 89.01,\n",
              "   'std': 2.002473470485939,\n",
              "   'min': 81.0,\n",
              "   'max': 92.0},\n",
              "  {'gen': 24,\n",
              "   'nevals': 61,\n",
              "   'avg': 89.32,\n",
              "   'std': 2.226566864030811,\n",
              "   'min': 83.0,\n",
              "   'max': 92.0},\n",
              "  {'gen': 25,\n",
              "   'nevals': 54,\n",
              "   'avg': 90.06,\n",
              "   'std': 2.2663627247199423,\n",
              "   'min': 79.0,\n",
              "   'max': 93.0},\n",
              "  {'gen': 26,\n",
              "   'nevals': 63,\n",
              "   'avg': 90.89,\n",
              "   'std': 1.654660085939103,\n",
              "   'min': 84.0,\n",
              "   'max': 93.0},\n",
              "  {'gen': 27,\n",
              "   'nevals': 63,\n",
              "   'avg': 91.23,\n",
              "   'std': 1.815791838289841,\n",
              "   'min': 85.0,\n",
              "   'max': 95.0},\n",
              "  {'gen': 28,\n",
              "   'nevals': 43,\n",
              "   'avg': 91.52,\n",
              "   'std': 2.1188676221038443,\n",
              "   'min': 84.0,\n",
              "   'max': 96.0},\n",
              "  {'gen': 29,\n",
              "   'nevals': 59,\n",
              "   'avg': 91.89,\n",
              "   'std': 2.432673426500154,\n",
              "   'min': 81.0,\n",
              "   'max': 96.0},\n",
              "  {'gen': 30,\n",
              "   'nevals': 54,\n",
              "   'avg': 92.47,\n",
              "   'std': 2.414352915379191,\n",
              "   'min': 84.0,\n",
              "   'max': 96.0},\n",
              "  {'gen': 31,\n",
              "   'nevals': 55,\n",
              "   'avg': 93.29,\n",
              "   'std': 2.3803151051909075,\n",
              "   'min': 85.0,\n",
              "   'max': 97.0},\n",
              "  {'gen': 32,\n",
              "   'nevals': 58,\n",
              "   'avg': 93.96,\n",
              "   'std': 2.0392155354449417,\n",
              "   'min': 88.0,\n",
              "   'max': 97.0},\n",
              "  {'gen': 33,\n",
              "   'nevals': 64,\n",
              "   'avg': 94.66,\n",
              "   'std': 2.254861414810232,\n",
              "   'min': 86.0,\n",
              "   'max': 97.0},\n",
              "  {'gen': 34,\n",
              "   'nevals': 64,\n",
              "   'avg': 95.49,\n",
              "   'std': 1.6278513445643619,\n",
              "   'min': 89.0,\n",
              "   'max': 97.0},\n",
              "  {'gen': 35,\n",
              "   'nevals': 50,\n",
              "   'avg': 95.47,\n",
              "   'std': 2.299804339503689,\n",
              "   'min': 87.0,\n",
              "   'max': 97.0},\n",
              "  {'gen': 36,\n",
              "   'nevals': 55,\n",
              "   'avg': 96.01,\n",
              "   'std': 1.9722829411623475,\n",
              "   'min': 88.0,\n",
              "   'max': 97.0},\n",
              "  {'gen': 37,\n",
              "   'nevals': 65,\n",
              "   'avg': 95.75,\n",
              "   'std': 2.3973944189473704,\n",
              "   'min': 87.0,\n",
              "   'max': 97.0},\n",
              "  {'gen': 38,\n",
              "   'nevals': 63,\n",
              "   'avg': 96.17,\n",
              "   'std': 1.8870877033142894,\n",
              "   'min': 90.0,\n",
              "   'max': 98.0},\n",
              "  {'gen': 39,\n",
              "   'nevals': 67,\n",
              "   'avg': 95.71,\n",
              "   'std': 2.721378327245221,\n",
              "   'min': 88.0,\n",
              "   'max': 98.0},\n",
              "  {'gen': 40,\n",
              "   'nevals': 55,\n",
              "   'avg': 96.36,\n",
              "   'std': 1.9365949499056325,\n",
              "   'min': 89.0,\n",
              "   'max': 98.0}],\n",
              " <deap.tools.support.HallOfFame at 0x7dbbffdf20e0>)"
            ]
          },
          "metadata": {},
          "execution_count": 36
        }
      ]
    },
    {
      "cell_type": "markdown",
      "metadata": {
        "id": "AOoDDypPwGTc"
      },
      "source": [
        "# Ejemplo de regresión\n",
        "\n",
        "Hasta ahora hemos visto ejemplos de muy poca utilidad, en siguiente ejemplo intentaremos realizar una [regresión estocástica](https://stats.stackexchange.com/questions/209733/what-is-the-difference-between-stochastic-regressor-and-non-stochastic-regressor) usando un algoritmo genético.\n",
        "\n",
        "Nuestro objetivo es revolver él modelo lineal que siguiera esta forma funcional:\n",
        "\n",
        "$$ f(x) = 10 + 2.5 \\cdot x $$\n",
        "\n",
        "Estimando los parámetros $\\beta_0$ y $\\beta_1$ de la forma funcional simple:\n",
        "\n",
        "$$ f(x) = \\beta_1 + \\beta_1 \\cdot x $$\n",
        "\n",
        "Para hacer el ejemplo vamos a generanos un conjunto de datos *sintético* que siga esta forma funcional, primero definimos la función que nos va a generar los datos."
      ]
    },
    {
      "cell_type": "code",
      "metadata": {
        "id": "_-zdSTmU5z5t"
      },
      "source": [
        "def f(x):\n",
        "  return 10 + 2.5 * x\n"
      ],
      "execution_count": null,
      "outputs": []
    },
    {
      "cell_type": "markdown",
      "metadata": {
        "id": "OX88gbG05546"
      },
      "source": [
        "Y a continación generamos una serie de valores para una muestra de 300 observaciones"
      ]
    },
    {
      "cell_type": "code",
      "metadata": {
        "id": "CXU7phDewTlB"
      },
      "source": [
        "# Number of items\n",
        "sample_size = 300\n",
        "\n",
        "# Creamos dos vectores el primero con los valores de entrada x de la muestra generados aleatoriamente en un rango de -150 a 150\n",
        "x_in = list(map(lambda x: random.uniform(-150, 150), range(0, sample_size)))\n",
        "y_in = list(map(f, x_in))"
      ],
      "execution_count": null,
      "outputs": []
    },
    {
      "cell_type": "markdown",
      "metadata": {
        "id": "xrsTEdIa60Gi"
      },
      "source": [
        "Comprobamos como lo haría un método normal con una [regresión por mínimos cuadrados ordinaria](https://es.wikipedia.org/wiki/M%C3%ADnimos_cuadrados_ordinarios)"
      ]
    },
    {
      "cell_type": "code",
      "metadata": {
        "colab": {
          "base_uri": "https://localhost:8080/"
        },
        "id": "21IOk1V9wRNk",
        "outputId": "1b80e100-463e-4d1c-b462-20dbb321ce68"
      },
      "source": [
        "import scipy\n",
        "from  scipy import stats\n",
        "\n",
        "# Vamos a comprobar que un\n",
        "slope, intercept, r_value, p_value, std_err = scipy.stats.linregress(x_in, y_in)\n",
        "\n",
        "print('y = ' + str(intercept) + ' + ' + str(slope) + ' x')"
      ],
      "execution_count": null,
      "outputs": [
        {
          "output_type": "stream",
          "name": "stdout",
          "text": [
            "y = 9.999999999999998 + 2.500000000000001 x\n"
          ]
        }
      ]
    },
    {
      "cell_type": "markdown",
      "metadata": {
        "id": "98YE1bOp7L6p"
      },
      "source": [
        "Ahora vamos a intentar realizar un proceso de búsqueda de la tupla $(\\beta_0,\\beta_1)$ que hace mínima la suma de los cuadrados de los errores de un modelo lineal.\n",
        "\n",
        "**Nota:** en realidad lo que estamos haciendo es estimar los parámetros a través de una búsqueda estocástica en lugar de hacerlo con un método basado en algebra lineal."
      ]
    },
    {
      "cell_type": "code",
      "metadata": {
        "colab": {
          "base_uri": "https://localhost:8080/"
        },
        "id": "coH5Fi33f1s5",
        "outputId": "906fe836-b71c-41b7-f61e-c6132c047dbb"
      },
      "source": [
        "#\n",
        "# Desarrollamos un individuo compuesto de números flotantes\n",
        "#\n",
        "creator.create(\"FitnessMin\", base.Fitness, weights=(-1.0,))\n",
        "creator.create(\"Individual\", array.array, typecode='f', fitness=creator.FitnessMin)\n",
        "\n",
        "toolbox = base.Toolbox()\n",
        "\n",
        "# Generador de atributos, vamos a restringir los valores de la entrada al rango de nuestra muestra\n",
        "toolbox.register(\"attr_float\", random.uniform, min(x_in), max(x_in))\n",
        "\n",
        "# Inicializadores de la estructura\n",
        "# Inviduo como 100 atributos booleanos y población como una repetición de individuos\n",
        "toolbox.register(\"individual\", tools.initRepeat, creator.Individual, toolbox.attr_float, 2)\n",
        "toolbox.register(\"population\", tools.initRepeat, list, toolbox.individual)\n",
        "\n",
        "# Definimos nuestra función de objetivo / fitness\n",
        "def objective(individual):\n",
        "    beta_0 = individual[0]\n",
        "    beta_1 = individual[1]\n",
        "    z = list(map(lambda x : (beta_0 + x * beta_1), x_in))\n",
        "    sq_error = 0\n",
        "    for i in range(0,len(x_in)):\n",
        "      sq_error = sq_error + (y_in[i] - z[i])**2\n",
        "    rsme = math.sqrt(sq_error) #/ len(a)\n",
        "    return rsme,\n",
        "\n",
        "# Declaramos una serie de operadores (algunos de ellos a partir de los ya disponibles en tools)\n",
        "toolbox.register(\"evaluate\", objective)\n",
        "toolbox.register(\"mate\", tools.cxUniform, indpb = 0.5)\n",
        "toolbox.register(\"mutate\", tools.mutGaussian, mu=0.0, sigma=5.0, indpb=0.05)\n",
        "toolbox.register(\"select\", tools.selTournament, tournsize=3)\n"
      ],
      "execution_count": null,
      "outputs": [
        {
          "output_type": "stream",
          "name": "stderr",
          "text": [
            "/usr/local/lib/python3.10/dist-packages/deap/creator.py:185: RuntimeWarning: A class named 'FitnessMin' has already been created and it will be overwritten. Consider deleting previous creation of that class or rename it.\n",
            "  warnings.warn(\"A class named '{0}' has already been created and it \"\n",
            "/usr/local/lib/python3.10/dist-packages/deap/creator.py:185: RuntimeWarning: A class named 'Individual' has already been created and it will be overwritten. Consider deleting previous creation of that class or rename it.\n",
            "  warnings.warn(\"A class named '{0}' has already been created and it \"\n"
          ]
        }
      ]
    },
    {
      "cell_type": "markdown",
      "metadata": {
        "id": "1lf1Al_S79jb"
      },
      "source": [
        "Y declaramos una función que ejecute nuestra búsqueda evolutiva"
      ]
    },
    {
      "cell_type": "code",
      "metadata": {
        "id": "O-03LSsD77nu"
      },
      "source": [
        "# Declaramos una función\n",
        "def genetic_algorithm(npop=300, ngen = 300, toolbox = toolbox, cxpb=0.5, mutpb=0.1):\n",
        "    random.seed(64)\n",
        "\n",
        "    pop = toolbox.population(n=npop)\n",
        "    # Usamos esta utilidad\n",
        "    hof = tools.HallOfFame(1)\n",
        "    stats = tools.Statistics(lambda ind: ind.fitness.values)\n",
        "    stats.register(\"avg\", numpy.mean)\n",
        "    stats.register(\"std\", numpy.std)\n",
        "    stats.register(\"min\", numpy.min)\n",
        "    stats.register(\"max\", numpy.max)\n",
        "\n",
        "    pop, log = algorithms.eaSimple(pop,\n",
        "                                   toolbox,\n",
        "                                   cxpb=cxpb,\n",
        "                                   mutpb=mutpb,\n",
        "                                   ngen=ngen,\n",
        "                                   stats=stats,\n",
        "                                   halloffame=hof,\n",
        "                                   verbose=False)\n",
        "\n",
        "    return pop, log, hof"
      ],
      "execution_count": null,
      "outputs": []
    },
    {
      "cell_type": "markdown",
      "metadata": {
        "id": "oXWqz7Qq746s"
      },
      "source": [
        "Ahora ejecutamos nuestro, vemos como aproxima bastante bien el valor de los parámetros"
      ]
    },
    {
      "cell_type": "code",
      "metadata": {
        "colab": {
          "base_uri": "https://localhost:8080/"
        },
        "id": "d6xnsG9N75Ef",
        "outputId": "a5fedf8f-3a7f-4ebc-ec54-0687ecafb238"
      },
      "source": [
        "pop, logbook, hof = genetic_algorithm(npop=100, ngen=100, toolbox = toolbox)\n",
        "print(hof)"
      ],
      "execution_count": null,
      "outputs": [
        {
          "output_type": "stream",
          "name": "stdout",
          "text": [
            "[Individual('f', [10.314863204956055, 2.6734883785247803])]\n"
          ]
        }
      ]
    },
    {
      "cell_type": "markdown",
      "metadata": {
        "id": "vR-wtH9I8bWO"
      },
      "source": [
        "Los parámetros de tamaño de la población, número de generaciones y probabilidades afectan a la convergencia, si limitamos la probabilidad de cruce y de mutación el algoritmo tardará más en converger"
      ]
    },
    {
      "cell_type": "code",
      "metadata": {
        "colab": {
          "base_uri": "https://localhost:8080/"
        },
        "id": "umjoFelj8KGB",
        "outputId": "c41352a1-c307-49e1-ca8c-720a424ecedd"
      },
      "source": [
        "pop, logbook, hof = genetic_algorithm(npop=100, ngen=100, toolbox = toolbox, cxpb=0.85, mutpb=0.3)\n",
        "print(hof)"
      ],
      "execution_count": null,
      "outputs": [
        {
          "output_type": "stream",
          "name": "stdout",
          "text": [
            "[Individual('f', [9.843820571899414, 2.4860994815826416])]\n"
          ]
        }
      ]
    },
    {
      "cell_type": "markdown",
      "metadata": {
        "id": "2ydy1btI89AJ"
      },
      "source": [
        "El tamaño de la población podría ayudar a encontrar una mejor convergencia para los mismos parámetros, aunque vemos como impacta en los tiempos"
      ]
    },
    {
      "cell_type": "code",
      "metadata": {
        "colab": {
          "base_uri": "https://localhost:8080/"
        },
        "id": "K3sE9Z-T9H68",
        "outputId": "fb188c29-e15b-414e-e751-9f3256bac73f"
      },
      "source": [
        "pop, logbook, hof = genetic_algorithm(npop=300, ngen=100, toolbox = toolbox, cxpb=0.85, mutpb=0.3)\n",
        "print(hof)"
      ],
      "execution_count": null,
      "outputs": [
        {
          "output_type": "stream",
          "name": "stdout",
          "text": [
            "[Individual('f', [10.027366638183594, 2.498558521270752])]\n"
          ]
        }
      ]
    },
    {
      "cell_type": "markdown",
      "metadata": {
        "id": "j1EWh0qR-DOE"
      },
      "source": [
        "Solo mencionar como importante que en el objeto [logbook](https://deap.readthedocs.io/en/master/api/tools.html?highlight=logbook#logbook) se guarda un registro de log de los resultados parciales del algoritmo"
      ]
    },
    {
      "cell_type": "code",
      "metadata": {
        "colab": {
          "base_uri": "https://localhost:8080/"
        },
        "id": "TxjhBzXQ-BNi",
        "outputId": "a1783be3-6290-4b65-8262-9dd83032c44d"
      },
      "source": [
        "pprint(vars(logbook))"
      ],
      "execution_count": null,
      "outputs": [
        {
          "output_type": "stream",
          "name": "stdout",
          "text": [
            "{'buffindex': 0,\n",
            " 'chapters': defaultdict(<class 'deap.tools.support.Logbook'>, {}),\n",
            " 'columns_len': None,\n",
            " 'header': ['gen', 'nevals', 'avg', 'std', 'min', 'max'],\n",
            " 'log_header': True}\n"
          ]
        }
      ]
    },
    {
      "cell_type": "markdown",
      "metadata": {
        "id": "tbMh8NP3-mm0"
      },
      "source": [
        "Que podemos ver como un objeto pandas"
      ]
    },
    {
      "cell_type": "code",
      "metadata": {
        "colab": {
          "base_uri": "https://localhost:8080/",
          "height": 423
        },
        "id": "9_v5QOl8-dNa",
        "outputId": "52867119-4ede-4d32-c55c-ab798e3e0711"
      },
      "source": [
        "df = pd.DataFrame(logbook)\n",
        "df"
      ],
      "execution_count": null,
      "outputs": [
        {
          "output_type": "execute_result",
          "data": {
            "text/plain": [
              "     gen  nevals            avg           std         min            max\n",
              "0      0     300  113469.791891  64676.571453  467.424715  227373.268948\n",
              "1      1     274   53643.234726  40639.997782  467.424715  192926.786254\n",
              "2      2     259   20819.358220  19236.191481  359.519124   92629.291196\n",
              "3      3     268    6884.899186   7814.225619  327.872002   49209.249609\n",
              "4      4     281    1829.255903   2283.736323  233.068226   19384.834712\n",
              "..   ...     ...            ...           ...         ...            ...\n",
              "96    96     260      46.048632    545.558695    2.225820    8383.876018\n",
              "97    97     262      87.503008   1004.026446    2.225820   14622.574550\n",
              "98    98     274      12.810116    153.919695    2.225820    2664.571746\n",
              "99    99     273     109.499286    993.637074    2.225820   13027.071146\n",
              "100  100     267      78.687539    652.557218    2.225820    8235.706993\n",
              "\n",
              "[101 rows x 6 columns]"
            ],
            "text/html": [
              "\n",
              "  <div id=\"df-21b88fd6-8554-4cf2-b080-4eab326c1922\" class=\"colab-df-container\">\n",
              "    <div>\n",
              "<style scoped>\n",
              "    .dataframe tbody tr th:only-of-type {\n",
              "        vertical-align: middle;\n",
              "    }\n",
              "\n",
              "    .dataframe tbody tr th {\n",
              "        vertical-align: top;\n",
              "    }\n",
              "\n",
              "    .dataframe thead th {\n",
              "        text-align: right;\n",
              "    }\n",
              "</style>\n",
              "<table border=\"1\" class=\"dataframe\">\n",
              "  <thead>\n",
              "    <tr style=\"text-align: right;\">\n",
              "      <th></th>\n",
              "      <th>gen</th>\n",
              "      <th>nevals</th>\n",
              "      <th>avg</th>\n",
              "      <th>std</th>\n",
              "      <th>min</th>\n",
              "      <th>max</th>\n",
              "    </tr>\n",
              "  </thead>\n",
              "  <tbody>\n",
              "    <tr>\n",
              "      <th>0</th>\n",
              "      <td>0</td>\n",
              "      <td>300</td>\n",
              "      <td>113469.791891</td>\n",
              "      <td>64676.571453</td>\n",
              "      <td>467.424715</td>\n",
              "      <td>227373.268948</td>\n",
              "    </tr>\n",
              "    <tr>\n",
              "      <th>1</th>\n",
              "      <td>1</td>\n",
              "      <td>274</td>\n",
              "      <td>53643.234726</td>\n",
              "      <td>40639.997782</td>\n",
              "      <td>467.424715</td>\n",
              "      <td>192926.786254</td>\n",
              "    </tr>\n",
              "    <tr>\n",
              "      <th>2</th>\n",
              "      <td>2</td>\n",
              "      <td>259</td>\n",
              "      <td>20819.358220</td>\n",
              "      <td>19236.191481</td>\n",
              "      <td>359.519124</td>\n",
              "      <td>92629.291196</td>\n",
              "    </tr>\n",
              "    <tr>\n",
              "      <th>3</th>\n",
              "      <td>3</td>\n",
              "      <td>268</td>\n",
              "      <td>6884.899186</td>\n",
              "      <td>7814.225619</td>\n",
              "      <td>327.872002</td>\n",
              "      <td>49209.249609</td>\n",
              "    </tr>\n",
              "    <tr>\n",
              "      <th>4</th>\n",
              "      <td>4</td>\n",
              "      <td>281</td>\n",
              "      <td>1829.255903</td>\n",
              "      <td>2283.736323</td>\n",
              "      <td>233.068226</td>\n",
              "      <td>19384.834712</td>\n",
              "    </tr>\n",
              "    <tr>\n",
              "      <th>...</th>\n",
              "      <td>...</td>\n",
              "      <td>...</td>\n",
              "      <td>...</td>\n",
              "      <td>...</td>\n",
              "      <td>...</td>\n",
              "      <td>...</td>\n",
              "    </tr>\n",
              "    <tr>\n",
              "      <th>96</th>\n",
              "      <td>96</td>\n",
              "      <td>260</td>\n",
              "      <td>46.048632</td>\n",
              "      <td>545.558695</td>\n",
              "      <td>2.225820</td>\n",
              "      <td>8383.876018</td>\n",
              "    </tr>\n",
              "    <tr>\n",
              "      <th>97</th>\n",
              "      <td>97</td>\n",
              "      <td>262</td>\n",
              "      <td>87.503008</td>\n",
              "      <td>1004.026446</td>\n",
              "      <td>2.225820</td>\n",
              "      <td>14622.574550</td>\n",
              "    </tr>\n",
              "    <tr>\n",
              "      <th>98</th>\n",
              "      <td>98</td>\n",
              "      <td>274</td>\n",
              "      <td>12.810116</td>\n",
              "      <td>153.919695</td>\n",
              "      <td>2.225820</td>\n",
              "      <td>2664.571746</td>\n",
              "    </tr>\n",
              "    <tr>\n",
              "      <th>99</th>\n",
              "      <td>99</td>\n",
              "      <td>273</td>\n",
              "      <td>109.499286</td>\n",
              "      <td>993.637074</td>\n",
              "      <td>2.225820</td>\n",
              "      <td>13027.071146</td>\n",
              "    </tr>\n",
              "    <tr>\n",
              "      <th>100</th>\n",
              "      <td>100</td>\n",
              "      <td>267</td>\n",
              "      <td>78.687539</td>\n",
              "      <td>652.557218</td>\n",
              "      <td>2.225820</td>\n",
              "      <td>8235.706993</td>\n",
              "    </tr>\n",
              "  </tbody>\n",
              "</table>\n",
              "<p>101 rows × 6 columns</p>\n",
              "</div>\n",
              "    <div class=\"colab-df-buttons\">\n",
              "\n",
              "  <div class=\"colab-df-container\">\n",
              "    <button class=\"colab-df-convert\" onclick=\"convertToInteractive('df-21b88fd6-8554-4cf2-b080-4eab326c1922')\"\n",
              "            title=\"Convert this dataframe to an interactive table.\"\n",
              "            style=\"display:none;\">\n",
              "\n",
              "  <svg xmlns=\"http://www.w3.org/2000/svg\" height=\"24px\" viewBox=\"0 -960 960 960\">\n",
              "    <path d=\"M120-120v-720h720v720H120Zm60-500h600v-160H180v160Zm220 220h160v-160H400v160Zm0 220h160v-160H400v160ZM180-400h160v-160H180v160Zm440 0h160v-160H620v160ZM180-180h160v-160H180v160Zm440 0h160v-160H620v160Z\"/>\n",
              "  </svg>\n",
              "    </button>\n",
              "\n",
              "  <style>\n",
              "    .colab-df-container {\n",
              "      display:flex;\n",
              "      gap: 12px;\n",
              "    }\n",
              "\n",
              "    .colab-df-convert {\n",
              "      background-color: #E8F0FE;\n",
              "      border: none;\n",
              "      border-radius: 50%;\n",
              "      cursor: pointer;\n",
              "      display: none;\n",
              "      fill: #1967D2;\n",
              "      height: 32px;\n",
              "      padding: 0 0 0 0;\n",
              "      width: 32px;\n",
              "    }\n",
              "\n",
              "    .colab-df-convert:hover {\n",
              "      background-color: #E2EBFA;\n",
              "      box-shadow: 0px 1px 2px rgba(60, 64, 67, 0.3), 0px 1px 3px 1px rgba(60, 64, 67, 0.15);\n",
              "      fill: #174EA6;\n",
              "    }\n",
              "\n",
              "    .colab-df-buttons div {\n",
              "      margin-bottom: 4px;\n",
              "    }\n",
              "\n",
              "    [theme=dark] .colab-df-convert {\n",
              "      background-color: #3B4455;\n",
              "      fill: #D2E3FC;\n",
              "    }\n",
              "\n",
              "    [theme=dark] .colab-df-convert:hover {\n",
              "      background-color: #434B5C;\n",
              "      box-shadow: 0px 1px 3px 1px rgba(0, 0, 0, 0.15);\n",
              "      filter: drop-shadow(0px 1px 2px rgba(0, 0, 0, 0.3));\n",
              "      fill: #FFFFFF;\n",
              "    }\n",
              "  </style>\n",
              "\n",
              "    <script>\n",
              "      const buttonEl =\n",
              "        document.querySelector('#df-21b88fd6-8554-4cf2-b080-4eab326c1922 button.colab-df-convert');\n",
              "      buttonEl.style.display =\n",
              "        google.colab.kernel.accessAllowed ? 'block' : 'none';\n",
              "\n",
              "      async function convertToInteractive(key) {\n",
              "        const element = document.querySelector('#df-21b88fd6-8554-4cf2-b080-4eab326c1922');\n",
              "        const dataTable =\n",
              "          await google.colab.kernel.invokeFunction('convertToInteractive',\n",
              "                                                    [key], {});\n",
              "        if (!dataTable) return;\n",
              "\n",
              "        const docLinkHtml = 'Like what you see? Visit the ' +\n",
              "          '<a target=\"_blank\" href=https://colab.research.google.com/notebooks/data_table.ipynb>data table notebook</a>'\n",
              "          + ' to learn more about interactive tables.';\n",
              "        element.innerHTML = '';\n",
              "        dataTable['output_type'] = 'display_data';\n",
              "        await google.colab.output.renderOutput(dataTable, element);\n",
              "        const docLink = document.createElement('div');\n",
              "        docLink.innerHTML = docLinkHtml;\n",
              "        element.appendChild(docLink);\n",
              "      }\n",
              "    </script>\n",
              "  </div>\n",
              "\n",
              "\n",
              "<div id=\"df-27a72f2b-d107-42c9-8010-ecbe82c21878\">\n",
              "  <button class=\"colab-df-quickchart\" onclick=\"quickchart('df-27a72f2b-d107-42c9-8010-ecbe82c21878')\"\n",
              "            title=\"Suggest charts\"\n",
              "            style=\"display:none;\">\n",
              "\n",
              "<svg xmlns=\"http://www.w3.org/2000/svg\" height=\"24px\"viewBox=\"0 0 24 24\"\n",
              "     width=\"24px\">\n",
              "    <g>\n",
              "        <path d=\"M19 3H5c-1.1 0-2 .9-2 2v14c0 1.1.9 2 2 2h14c1.1 0 2-.9 2-2V5c0-1.1-.9-2-2-2zM9 17H7v-7h2v7zm4 0h-2V7h2v10zm4 0h-2v-4h2v4z\"/>\n",
              "    </g>\n",
              "</svg>\n",
              "  </button>\n",
              "\n",
              "<style>\n",
              "  .colab-df-quickchart {\n",
              "      --bg-color: #E8F0FE;\n",
              "      --fill-color: #1967D2;\n",
              "      --hover-bg-color: #E2EBFA;\n",
              "      --hover-fill-color: #174EA6;\n",
              "      --disabled-fill-color: #AAA;\n",
              "      --disabled-bg-color: #DDD;\n",
              "  }\n",
              "\n",
              "  [theme=dark] .colab-df-quickchart {\n",
              "      --bg-color: #3B4455;\n",
              "      --fill-color: #D2E3FC;\n",
              "      --hover-bg-color: #434B5C;\n",
              "      --hover-fill-color: #FFFFFF;\n",
              "      --disabled-bg-color: #3B4455;\n",
              "      --disabled-fill-color: #666;\n",
              "  }\n",
              "\n",
              "  .colab-df-quickchart {\n",
              "    background-color: var(--bg-color);\n",
              "    border: none;\n",
              "    border-radius: 50%;\n",
              "    cursor: pointer;\n",
              "    display: none;\n",
              "    fill: var(--fill-color);\n",
              "    height: 32px;\n",
              "    padding: 0;\n",
              "    width: 32px;\n",
              "  }\n",
              "\n",
              "  .colab-df-quickchart:hover {\n",
              "    background-color: var(--hover-bg-color);\n",
              "    box-shadow: 0 1px 2px rgba(60, 64, 67, 0.3), 0 1px 3px 1px rgba(60, 64, 67, 0.15);\n",
              "    fill: var(--button-hover-fill-color);\n",
              "  }\n",
              "\n",
              "  .colab-df-quickchart-complete:disabled,\n",
              "  .colab-df-quickchart-complete:disabled:hover {\n",
              "    background-color: var(--disabled-bg-color);\n",
              "    fill: var(--disabled-fill-color);\n",
              "    box-shadow: none;\n",
              "  }\n",
              "\n",
              "  .colab-df-spinner {\n",
              "    border: 2px solid var(--fill-color);\n",
              "    border-color: transparent;\n",
              "    border-bottom-color: var(--fill-color);\n",
              "    animation:\n",
              "      spin 1s steps(1) infinite;\n",
              "  }\n",
              "\n",
              "  @keyframes spin {\n",
              "    0% {\n",
              "      border-color: transparent;\n",
              "      border-bottom-color: var(--fill-color);\n",
              "      border-left-color: var(--fill-color);\n",
              "    }\n",
              "    20% {\n",
              "      border-color: transparent;\n",
              "      border-left-color: var(--fill-color);\n",
              "      border-top-color: var(--fill-color);\n",
              "    }\n",
              "    30% {\n",
              "      border-color: transparent;\n",
              "      border-left-color: var(--fill-color);\n",
              "      border-top-color: var(--fill-color);\n",
              "      border-right-color: var(--fill-color);\n",
              "    }\n",
              "    40% {\n",
              "      border-color: transparent;\n",
              "      border-right-color: var(--fill-color);\n",
              "      border-top-color: var(--fill-color);\n",
              "    }\n",
              "    60% {\n",
              "      border-color: transparent;\n",
              "      border-right-color: var(--fill-color);\n",
              "    }\n",
              "    80% {\n",
              "      border-color: transparent;\n",
              "      border-right-color: var(--fill-color);\n",
              "      border-bottom-color: var(--fill-color);\n",
              "    }\n",
              "    90% {\n",
              "      border-color: transparent;\n",
              "      border-bottom-color: var(--fill-color);\n",
              "    }\n",
              "  }\n",
              "</style>\n",
              "\n",
              "  <script>\n",
              "    async function quickchart(key) {\n",
              "      const quickchartButtonEl =\n",
              "        document.querySelector('#' + key + ' button');\n",
              "      quickchartButtonEl.disabled = true;  // To prevent multiple clicks.\n",
              "      quickchartButtonEl.classList.add('colab-df-spinner');\n",
              "      try {\n",
              "        const charts = await google.colab.kernel.invokeFunction(\n",
              "            'suggestCharts', [key], {});\n",
              "      } catch (error) {\n",
              "        console.error('Error during call to suggestCharts:', error);\n",
              "      }\n",
              "      quickchartButtonEl.classList.remove('colab-df-spinner');\n",
              "      quickchartButtonEl.classList.add('colab-df-quickchart-complete');\n",
              "    }\n",
              "    (() => {\n",
              "      let quickchartButtonEl =\n",
              "        document.querySelector('#df-27a72f2b-d107-42c9-8010-ecbe82c21878 button');\n",
              "      quickchartButtonEl.style.display =\n",
              "        google.colab.kernel.accessAllowed ? 'block' : 'none';\n",
              "    })();\n",
              "  </script>\n",
              "</div>\n",
              "    </div>\n",
              "  </div>\n"
            ],
            "application/vnd.google.colaboratory.intrinsic+json": {
              "type": "dataframe",
              "variable_name": "df",
              "summary": "{\n  \"name\": \"df\",\n  \"rows\": 101,\n  \"fields\": [\n    {\n      \"column\": \"gen\",\n      \"properties\": {\n        \"dtype\": \"number\",\n        \"std\": 29,\n        \"min\": 0,\n        \"max\": 100,\n        \"num_unique_values\": 101,\n        \"samples\": [\n          84,\n          55,\n          66\n        ],\n        \"semantic_type\": \"\",\n        \"description\": \"\"\n      }\n    },\n    {\n      \"column\": \"nevals\",\n      \"properties\": {\n        \"dtype\": \"number\",\n        \"std\": 7,\n        \"min\": 253,\n        \"max\": 300,\n        \"num_unique_values\": 29,\n        \"samples\": [\n          279,\n          277,\n          276\n        ],\n        \"semantic_type\": \"\",\n        \"description\": \"\"\n      }\n    },\n    {\n      \"column\": \"avg\",\n      \"properties\": {\n        \"dtype\": \"number\",\n        \"std\": 12564.207066027808,\n        \"min\": 5.009446443094684,\n        \"max\": 113469.79189130888,\n        \"num_unique_values\": 101,\n        \"samples\": [\n          143.30082665808553,\n          129.98981016576687,\n          231.35239308166464\n        ],\n        \"semantic_type\": \"\",\n        \"description\": \"\"\n      }\n    },\n    {\n      \"column\": \"std\",\n      \"properties\": {\n        \"dtype\": \"number\",\n        \"std\": 7676.783435836337,\n        \"min\": 2.477424794506324,\n        \"max\": 64676.57145336185,\n        \"num_unique_values\": 101,\n        \"samples\": [\n          1092.4567661945282,\n          1119.0762173098249,\n          1481.1463791964973\n        ],\n        \"semantic_type\": \"\",\n        \"description\": \"\"\n      }\n    },\n    {\n      \"column\": \"min\",\n      \"properties\": {\n        \"dtype\": \"number\",\n        \"std\": 101.46507946051958,\n        \"min\": 2.225820387544615,\n        \"max\": 467.4247147829311,\n        \"num_unique_values\": 21,\n        \"samples\": [\n          467.4247147829311,\n          29.12485030594343,\n          29.270887364827736\n        ],\n        \"semantic_type\": \"\",\n        \"description\": \"\"\n      }\n    },\n    {\n      \"column\": \"max\",\n      \"properties\": {\n        \"dtype\": \"number\",\n        \"std\": 29616.590308597875,\n        \"min\": 33.12091578367515,\n        \"max\": 227373.26894808505,\n        \"num_unique_values\": 101,\n        \"samples\": [\n          13238.719754284417,\n          18149.741560265495,\n          13771.808992496664\n        ],\n        \"semantic_type\": \"\",\n        \"description\": \"\"\n      }\n    }\n  ]\n}"
            }
          },
          "metadata": {},
          "execution_count": 46
        }
      ]
    },
    {
      "cell_type": "code",
      "metadata": {
        "colab": {
          "base_uri": "https://localhost:8080/",
          "height": 472
        },
        "id": "ZEwSFXRLDrkQ",
        "outputId": "2701b54a-f636-4c96-f4d8-48a910dee608"
      },
      "source": [
        "plt.plot(df['gen'], df['avg'])\n",
        "plt.title('Convergencia modelo de regresión estocástica (error medio)')\n",
        "plt.xlabel('Generation')\n",
        "plt.ylabel('Fitness medio')\n",
        "plt.show()"
      ],
      "execution_count": null,
      "outputs": [
        {
          "output_type": "display_data",
          "data": {
            "text/plain": [
              "<Figure size 640x480 with 1 Axes>"
            ],
            "image/png": "[encoded data removed]"
          },
          "metadata": {}
        }
      ]
    },
    {
      "cell_type": "code",
      "metadata": {
        "colab": {
          "base_uri": "https://localhost:8080/",
          "height": 472
        },
        "id": "6NNUbO9kEneS",
        "outputId": "4f18a074-237a-4aa7-f607-d4aeabd0a47e"
      },
      "source": [
        "plt.plot(df['gen'], df['min'])\n",
        "plt.title('Convergencia modelo de regresión estocástica (error mínimo - best of breed)')\n",
        "plt.xlabel('Generation')\n",
        "plt.ylabel('Fitness medio')\n",
        "plt.show()"
      ],
      "execution_count": null,
      "outputs": [
        {
          "output_type": "display_data",
          "data": {
            "text/plain": [
              "<Figure size 640x480 with 1 Axes>"
            ],
            "image/png": "[encoded data removed]"
          },
          "metadata": {}
        }
      ]
    },
    {
      "cell_type": "markdown",
      "metadata": {
        "id": "csB9LKiJ8-ra"
      },
      "source": [
        "https://deap.readthedocs.io/en/master/tutorials/basic/part3.html"
      ]
    },
    {
      "cell_type": "markdown",
      "metadata": {
        "id": "0FeLcsex0cGm"
      },
      "source": [
        "# Minimización con restricciones\n",
        "\n",
        "El ejemplo de la regresión no estaba mal, pero tampoco vamos a reinventar la rueda. Donde realmente marcan la diferencia los meta-heurísticos es a la hora de resolver problemas complejos, bien por la estructura de la información que contienen o por que existan restricciones de distinto tipo. En este ejemplo vamos a intentar buscar cual sería el óptimo del volumen del cilindro dadas unas condiciones.\n",
        "\n",
        "<img src=\"https://upload.wikimedia.org/wikipedia/commons/thumb/3/3f/Cylinder.svg/1200px-Cylinder.svg.png\" width=\"100px\"></img>\n",
        "\n",
        "\n",
        "minimizar el volumen:\n",
        "\n",
        "$$f(d,h) =  h * \\pi * (d/2)^2 $$\n",
        "\n",
        "sujeto a:\n",
        "\n",
        "$$g_1(d,h) = (\\pi d^2h/4) \\geq 300$$\n",
        "\n",
        "bounds:\n",
        "$$ d_{min} \\leq d \\leq d_{max} $$\n",
        "$$ h_{min} \\leq h \\leq h_{max} $$\n",
        "\n",
        "\n",
        "En este caso las restricciones las **haremos a mano** pero podríamos utilizar [las funciones específicas de restricciones en deap](http://deap.gel.ulaval.ca/doc/dev/api/tools.html#constraints)\n",
        "\n"
      ]
    },
    {
      "cell_type": "code",
      "metadata": {
        "id": "Ef4RUis0lHbj"
      },
      "source": [
        "d_min = 5\n",
        "d_max = 10\n",
        "\n",
        "h_min = 3\n",
        "h_max = 7\n",
        "# Definimos nuestra función de objetivo / fitness (h, d)\n",
        "def objective(individual):\n",
        "    h = individual[0]\n",
        "    d = individual[1]\n",
        "    result =  h * math.pi * (d/2)**2\n",
        "\n",
        "    #\n",
        "    # Aplicamos una penalización si no se cumple el valor\n",
        "    # la penalizaciónes muy grande\n",
        "    #\n",
        "    penalty = 0\n",
        "    result = penalty + 0 if ((math.pi * d**2 * h) / 4) >= 300 else 1e6\n",
        "    result = penalty + 0 if (d > d_min and d < d_max) else  1e6\n",
        "    result = penalty + 0 if (h > h_min and h < h_max) else  1e6\n",
        "    result = result + penalty\n",
        "    return result,\n",
        "\n",
        "toolbox = base.Toolbox()\n",
        "\n",
        "# Generador de atributosructura\n",
        "toolbox.register(\"attr_float\", random.uniform, 1, d_max)\n",
        "\n",
        "# Inicializadores de la estructura\n",
        "# Inviduo como 100 atributos booleanos y población como una repetición de individuos\n",
        "toolbox.register(\"individual\", tools.initRepeat, creator.Individual, toolbox.attr_float, 2)\n",
        "toolbox.register(\"population\", tools.initRepeat, list, toolbox.individual)\n",
        "\n",
        "# Declaramos una serie de operadores (algunos de ellos a partir de los ya disponibles en tools)\n",
        "toolbox.register(\"evaluate\", objective)\n",
        "toolbox.register(\"mate\", tools.cxUniform, indpb = 0.5)\n",
        "toolbox.register(\"mutate\", tools.mutGaussian, mu=0.0, sigma=2.0, indpb=0.05)\n",
        "toolbox.register(\"select\", tools.selTournament, tournsize=3)\n",
        "\n"
      ],
      "execution_count": null,
      "outputs": []
    },
    {
      "cell_type": "code",
      "metadata": {
        "colab": {
          "base_uri": "https://localhost:8080/"
        },
        "id": "EtoE2QCJBe3K",
        "outputId": "c4ea1e7f-11fe-4ed5-d4ac-d5e118fa10f9"
      },
      "source": [
        "pop, log, hof = genetic_algorithm(npop=100, ngen=100, toolbox = toolbox)\n",
        "h = hof.items[0][0]\n",
        "d = hof.items[0][1]\n",
        "print('h=' + str(round(h,3)) + ' d=' + str(round(d,3)))"
      ],
      "execution_count": null,
      "outputs": [
        {
          "output_type": "stream",
          "name": "stdout",
          "text": [
            "h=5.285 d=6.672\n"
          ]
        }
      ]
    },
    {
      "cell_type": "markdown",
      "metadata": {
        "id": "CF2SlN6SEKYG"
      },
      "source": [
        "Mostramos el gráfico de convergencia"
      ]
    },
    {
      "cell_type": "code",
      "metadata": {
        "colab": {
          "base_uri": "https://localhost:8080/",
          "height": 206
        },
        "id": "73PyrXiUEvk2",
        "outputId": "ba2fa028-76f7-4804-fa3e-61636e949210"
      },
      "source": [
        "df = pd.DataFrame(log)\n",
        "df.head()"
      ],
      "execution_count": null,
      "outputs": [
        {
          "output_type": "execute_result",
          "data": {
            "text/plain": [
              "   gen  nevals       avg            std  min        max\n",
              "0    0     100  560000.0  496386.945840  0.0  1000000.0\n",
              "1    1      61  160000.0  366606.055596  0.0  1000000.0\n",
              "2    2      47       0.0       0.000000  0.0        0.0\n",
              "3    3      62       0.0       0.000000  0.0        0.0\n",
              "4    4      50       0.0       0.000000  0.0        0.0"
            ],
            "text/html": [
              "\n",
              "  <div id=\"df-c627596a-d0c6-434b-ab88-d30cb95cb58f\" class=\"colab-df-container\">\n",
              "    <div>\n",
              "<style scoped>\n",
              "    .dataframe tbody tr th:only-of-type {\n",
              "        vertical-align: middle;\n",
              "    }\n",
              "\n",
              "    .dataframe tbody tr th {\n",
              "        vertical-align: top;\n",
              "    }\n",
              "\n",
              "    .dataframe thead th {\n",
              "        text-align: right;\n",
              "    }\n",
              "</style>\n",
              "<table border=\"1\" class=\"dataframe\">\n",
              "  <thead>\n",
              "    <tr style=\"text-align: right;\">\n",
              "      <th></th>\n",
              "      <th>gen</th>\n",
              "      <th>nevals</th>\n",
              "      <th>avg</th>\n",
              "      <th>std</th>\n",
              "      <th>min</th>\n",
              "      <th>max</th>\n",
              "    </tr>\n",
              "  </thead>\n",
              "  <tbody>\n",
              "    <tr>\n",
              "      <th>0</th>\n",
              "      <td>0</td>\n",
              "      <td>100</td>\n",
              "      <td>560000.0</td>\n",
              "      <td>496386.945840</td>\n",
              "      <td>0.0</td>\n",
              "      <td>1000000.0</td>\n",
              "    </tr>\n",
              "    <tr>\n",
              "      <th>1</th>\n",
              "      <td>1</td>\n",
              "      <td>61</td>\n",
              "      <td>160000.0</td>\n",
              "      <td>366606.055596</td>\n",
              "      <td>0.0</td>\n",
              "      <td>1000000.0</td>\n",
              "    </tr>\n",
              "    <tr>\n",
              "      <th>2</th>\n",
              "      <td>2</td>\n",
              "      <td>47</td>\n",
              "      <td>0.0</td>\n",
              "      <td>0.000000</td>\n",
              "      <td>0.0</td>\n",
              "      <td>0.0</td>\n",
              "    </tr>\n",
              "    <tr>\n",
              "      <th>3</th>\n",
              "      <td>3</td>\n",
              "      <td>62</td>\n",
              "      <td>0.0</td>\n",
              "      <td>0.000000</td>\n",
              "      <td>0.0</td>\n",
              "      <td>0.0</td>\n",
              "    </tr>\n",
              "    <tr>\n",
              "      <th>4</th>\n",
              "      <td>4</td>\n",
              "      <td>50</td>\n",
              "      <td>0.0</td>\n",
              "      <td>0.000000</td>\n",
              "      <td>0.0</td>\n",
              "      <td>0.0</td>\n",
              "    </tr>\n",
              "  </tbody>\n",
              "</table>\n",
              "</div>\n",
              "    <div class=\"colab-df-buttons\">\n",
              "\n",
              "  <div class=\"colab-df-container\">\n",
              "    <button class=\"colab-df-convert\" onclick=\"convertToInteractive('df-c627596a-d0c6-434b-ab88-d30cb95cb58f')\"\n",
              "            title=\"Convert this dataframe to an interactive table.\"\n",
              "            style=\"display:none;\">\n",
              "\n",
              "  <svg xmlns=\"http://www.w3.org/2000/svg\" height=\"24px\" viewBox=\"0 -960 960 960\">\n",
              "    <path d=\"M120-120v-720h720v720H120Zm60-500h600v-160H180v160Zm220 220h160v-160H400v160Zm0 220h160v-160H400v160ZM180-400h160v-160H180v160Zm440 0h160v-160H620v160ZM180-180h160v-160H180v160Zm440 0h160v-160H620v160Z\"/>\n",
              "  </svg>\n",
              "    </button>\n",
              "\n",
              "  <style>\n",
              "    .colab-df-container {\n",
              "      display:flex;\n",
              "      gap: 12px;\n",
              "    }\n",
              "\n",
              "    .colab-df-convert {\n",
              "      background-color: #E8F0FE;\n",
              "      border: none;\n",
              "      border-radius: 50%;\n",
              "      cursor: pointer;\n",
              "      display: none;\n",
              "      fill: #1967D2;\n",
              "      height: 32px;\n",
              "      padding: 0 0 0 0;\n",
              "      width: 32px;\n",
              "    }\n",
              "\n",
              "    .colab-df-convert:hover {\n",
              "      background-color: #E2EBFA;\n",
              "      box-shadow: 0px 1px 2px rgba(60, 64, 67, 0.3), 0px 1px 3px 1px rgba(60, 64, 67, 0.15);\n",
              "      fill: #174EA6;\n",
              "    }\n",
              "\n",
              "    .colab-df-buttons div {\n",
              "      margin-bottom: 4px;\n",
              "    }\n",
              "\n",
              "    [theme=dark] .colab-df-convert {\n",
              "      background-color: #3B4455;\n",
              "      fill: #D2E3FC;\n",
              "    }\n",
              "\n",
              "    [theme=dark] .colab-df-convert:hover {\n",
              "      background-color: #434B5C;\n",
              "      box-shadow: 0px 1px 3px 1px rgba(0, 0, 0, 0.15);\n",
              "      filter: drop-shadow(0px 1px 2px rgba(0, 0, 0, 0.3));\n",
              "      fill: #FFFFFF;\n",
              "    }\n",
              "  </style>\n",
              "\n",
              "    <script>\n",
              "      const buttonEl =\n",
              "        document.querySelector('#df-c627596a-d0c6-434b-ab88-d30cb95cb58f button.colab-df-convert');\n",
              "      buttonEl.style.display =\n",
              "        google.colab.kernel.accessAllowed ? 'block' : 'none';\n",
              "\n",
              "      async function convertToInteractive(key) {\n",
              "        const element = document.querySelector('#df-c627596a-d0c6-434b-ab88-d30cb95cb58f');\n",
              "        const dataTable =\n",
              "          await google.colab.kernel.invokeFunction('convertToInteractive',\n",
              "                                                    [key], {});\n",
              "        if (!dataTable) return;\n",
              "\n",
              "        const docLinkHtml = 'Like what you see? Visit the ' +\n",
              "          '<a target=\"_blank\" href=https://colab.research.google.com/notebooks/data_table.ipynb>data table notebook</a>'\n",
              "          + ' to learn more about interactive tables.';\n",
              "        element.innerHTML = '';\n",
              "        dataTable['output_type'] = 'display_data';\n",
              "        await google.colab.output.renderOutput(dataTable, element);\n",
              "        const docLink = document.createElement('div');\n",
              "        docLink.innerHTML = docLinkHtml;\n",
              "        element.appendChild(docLink);\n",
              "      }\n",
              "    </script>\n",
              "  </div>\n",
              "\n",
              "\n",
              "<div id=\"df-18081c21-5661-4fe8-835c-37c3bb150e83\">\n",
              "  <button class=\"colab-df-quickchart\" onclick=\"quickchart('df-18081c21-5661-4fe8-835c-37c3bb150e83')\"\n",
              "            title=\"Suggest charts\"\n",
              "            style=\"display:none;\">\n",
              "\n",
              "<svg xmlns=\"http://www.w3.org/2000/svg\" height=\"24px\"viewBox=\"0 0 24 24\"\n",
              "     width=\"24px\">\n",
              "    <g>\n",
              "        <path d=\"M19 3H5c-1.1 0-2 .9-2 2v14c0 1.1.9 2 2 2h14c1.1 0 2-.9 2-2V5c0-1.1-.9-2-2-2zM9 17H7v-7h2v7zm4 0h-2V7h2v10zm4 0h-2v-4h2v4z\"/>\n",
              "    </g>\n",
              "</svg>\n",
              "  </button>\n",
              "\n",
              "<style>\n",
              "  .colab-df-quickchart {\n",
              "      --bg-color: #E8F0FE;\n",
              "      --fill-color: #1967D2;\n",
              "      --hover-bg-color: #E2EBFA;\n",
              "      --hover-fill-color: #174EA6;\n",
              "      --disabled-fill-color: #AAA;\n",
              "      --disabled-bg-color: #DDD;\n",
              "  }\n",
              "\n",
              "  [theme=dark] .colab-df-quickchart {\n",
              "      --bg-color: #3B4455;\n",
              "      --fill-color: #D2E3FC;\n",
              "      --hover-bg-color: #434B5C;\n",
              "      --hover-fill-color: #FFFFFF;\n",
              "      --disabled-bg-color: #3B4455;\n",
              "      --disabled-fill-color: #666;\n",
              "  }\n",
              "\n",
              "  .colab-df-quickchart {\n",
              "    background-color: var(--bg-color);\n",
              "    border: none;\n",
              "    border-radius: 50%;\n",
              "    cursor: pointer;\n",
              "    display: none;\n",
              "    fill: var(--fill-color);\n",
              "    height: 32px;\n",
              "    padding: 0;\n",
              "    width: 32px;\n",
              "  }\n",
              "\n",
              "  .colab-df-quickchart:hover {\n",
              "    background-color: var(--hover-bg-color);\n",
              "    box-shadow: 0 1px 2px rgba(60, 64, 67, 0.3), 0 1px 3px 1px rgba(60, 64, 67, 0.15);\n",
              "    fill: var(--button-hover-fill-color);\n",
              "  }\n",
              "\n",
              "  .colab-df-quickchart-complete:disabled,\n",
              "  .colab-df-quickchart-complete:disabled:hover {\n",
              "    background-color: var(--disabled-bg-color);\n",
              "    fill: var(--disabled-fill-color);\n",
              "    box-shadow: none;\n",
              "  }\n",
              "\n",
              "  .colab-df-spinner {\n",
              "    border: 2px solid var(--fill-color);\n",
              "    border-color: transparent;\n",
              "    border-bottom-color: var(--fill-color);\n",
              "    animation:\n",
              "      spin 1s steps(1) infinite;\n",
              "  }\n",
              "\n",
              "  @keyframes spin {\n",
              "    0% {\n",
              "      border-color: transparent;\n",
              "      border-bottom-color: var(--fill-color);\n",
              "      border-left-color: var(--fill-color);\n",
              "    }\n",
              "    20% {\n",
              "      border-color: transparent;\n",
              "      border-left-color: var(--fill-color);\n",
              "      border-top-color: var(--fill-color);\n",
              "    }\n",
              "    30% {\n",
              "      border-color: transparent;\n",
              "      border-left-color: var(--fill-color);\n",
              "      border-top-color: var(--fill-color);\n",
              "      border-right-color: var(--fill-color);\n",
              "    }\n",
              "    40% {\n",
              "      border-color: transparent;\n",
              "      border-right-color: var(--fill-color);\n",
              "      border-top-color: var(--fill-color);\n",
              "    }\n",
              "    60% {\n",
              "      border-color: transparent;\n",
              "      border-right-color: var(--fill-color);\n",
              "    }\n",
              "    80% {\n",
              "      border-color: transparent;\n",
              "      border-right-color: var(--fill-color);\n",
              "      border-bottom-color: var(--fill-color);\n",
              "    }\n",
              "    90% {\n",
              "      border-color: transparent;\n",
              "      border-bottom-color: var(--fill-color);\n",
              "    }\n",
              "  }\n",
              "</style>\n",
              "\n",
              "  <script>\n",
              "    async function quickchart(key) {\n",
              "      const quickchartButtonEl =\n",
              "        document.querySelector('#' + key + ' button');\n",
              "      quickchartButtonEl.disabled = true;  // To prevent multiple clicks.\n",
              "      quickchartButtonEl.classList.add('colab-df-spinner');\n",
              "      try {\n",
              "        const charts = await google.colab.kernel.invokeFunction(\n",
              "            'suggestCharts', [key], {});\n",
              "      } catch (error) {\n",
              "        console.error('Error during call to suggestCharts:', error);\n",
              "      }\n",
              "      quickchartButtonEl.classList.remove('colab-df-spinner');\n",
              "      quickchartButtonEl.classList.add('colab-df-quickchart-complete');\n",
              "    }\n",
              "    (() => {\n",
              "      let quickchartButtonEl =\n",
              "        document.querySelector('#df-18081c21-5661-4fe8-835c-37c3bb150e83 button');\n",
              "      quickchartButtonEl.style.display =\n",
              "        google.colab.kernel.accessAllowed ? 'block' : 'none';\n",
              "    })();\n",
              "  </script>\n",
              "</div>\n",
              "    </div>\n",
              "  </div>\n"
            ],
            "application/vnd.google.colaboratory.intrinsic+json": {
              "type": "dataframe",
              "variable_name": "df",
              "summary": "{\n  \"name\": \"df\",\n  \"rows\": 101,\n  \"fields\": [\n    {\n      \"column\": \"gen\",\n      \"properties\": {\n        \"dtype\": \"number\",\n        \"std\": 29,\n        \"min\": 0,\n        \"max\": 100,\n        \"num_unique_values\": 101,\n        \"samples\": [\n          84,\n          55,\n          66\n        ],\n        \"semantic_type\": \"\",\n        \"description\": \"\"\n      }\n    },\n    {\n      \"column\": \"nevals\",\n      \"properties\": {\n        \"dtype\": \"number\",\n        \"std\": 8,\n        \"min\": 39,\n        \"max\": 100,\n        \"num_unique_values\": 29,\n        \"samples\": [\n          68,\n          66,\n          51\n        ],\n        \"semantic_type\": \"\",\n        \"description\": \"\"\n      }\n    },\n    {\n      \"column\": \"avg\",\n      \"properties\": {\n        \"dtype\": \"number\",\n        \"std\": 57739.08537722103,\n        \"min\": 0.0,\n        \"max\": 560000.0,\n        \"num_unique_values\": 5,\n        \"samples\": [\n          160000.0,\n          20000.0,\n          0.0\n        ],\n        \"semantic_type\": \"\",\n        \"description\": \"\"\n      }\n    },\n    {\n      \"column\": \"std\",\n      \"properties\": {\n        \"dtype\": \"number\",\n        \"std\": 70350.90878307434,\n        \"min\": 0.0,\n        \"max\": 496386.9458396343,\n        \"num_unique_values\": 5,\n        \"samples\": [\n          366606.0555964672,\n          140000.0,\n          0.0\n        ],\n        \"semantic_type\": \"\",\n        \"description\": \"\"\n      }\n    },\n    {\n      \"column\": \"min\",\n      \"properties\": {\n        \"dtype\": \"number\",\n        \"std\": 0.0,\n        \"min\": 0.0,\n        \"max\": 0.0,\n        \"num_unique_values\": 1,\n        \"samples\": [\n          0.0\n        ],\n        \"semantic_type\": \"\",\n        \"description\": \"\"\n      }\n    },\n    {\n      \"column\": \"max\",\n      \"properties\": {\n        \"dtype\": \"number\",\n        \"std\": 384604.72186285997,\n        \"min\": 0.0,\n        \"max\": 1000000.0,\n        \"num_unique_values\": 2,\n        \"samples\": [\n          0.0\n        ],\n        \"semantic_type\": \"\",\n        \"description\": \"\"\n      }\n    }\n  ]\n}"
            }
          },
          "metadata": {},
          "execution_count": 51
        }
      ]
    },
    {
      "cell_type": "code",
      "metadata": {
        "colab": {
          "base_uri": "https://localhost:8080/",
          "height": 472
        },
        "id": "FvNk4EanEJ4C",
        "outputId": "70a8e1b1-e416-4dbe-bd0f-ed8d88e35834"
      },
      "source": [
        "plt.plot(df['gen'], df['avg'])\n",
        "plt.title('Convergencia modelo de minimización de volumen (error medio)')\n",
        "plt.xlabel('Generation')\n",
        "plt.ylabel('Fitness medio')\n",
        "plt.show()"
      ],
      "execution_count": null,
      "outputs": [
        {
          "output_type": "display_data",
          "data": {
            "text/plain": [
              "<Figure size 640x480 with 1 Axes>"
            ],
            "image/png": "[encoded data removed]"
          },
          "metadata": {}
        }
      ]
    }
  ]
}
