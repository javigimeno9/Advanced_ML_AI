{
  "nbformat": 4,
  "nbformat_minor": 0,
  "metadata": {
    "colab": {
      "provenance": [],
      "toc_visible": true
    },
    "kernelspec": {
      "name": "python3",
      "display_name": "Python 3"
    },
    "language_info": {
      "name": "python"
    }
  },
  "cells": [
    {
      "cell_type": "markdown",
      "metadata": {
        "id": "zjFBEaIkZqWv"
      },
      "source": [
        "<img src=\"https://thevalley.es/wp-content/uploads/2016/11/thevalley-logo-negro.png\" width=\"400\"></img>\n",
        "\n",
        "# Workshop optimización de portfolio con algoritmos genéticos\n",
        "\n",
        "<img src=\"https://m.media-amazon.com/images/I/41QDhBABUGL.jpg\" width=\"200\"></img>\n",
        "\n",
        "En este caso realizaremos un otimizador de portfolios de inversion en mercados inmobiliarios usando algoritmos genéticos\n",
        "\n",
        "\n",
        "**Notebook por: David Rey**"
      ]
    },
    {
      "cell_type": "code",
      "metadata": {
        "id": "ZL6H8yFUZprr",
        "colab": {
          "base_uri": "https://localhost:8080/"
        },
        "outputId": "fe17d50a-1bf5-4ed5-b5d2-510f80c1f664"
      },
      "source": [
        "#\n",
        "# Carga de librerías\n",
        "#\n",
        "import sys\n",
        "if 'deap' not in sys.modules:\n",
        "  !pip install deap\n",
        "import array\n",
        "import random\n",
        "import numpy\n",
        "import math\n",
        "import deap as deap\n",
        "from deap import base\n",
        "from deap import creator\n",
        "from deap import tools\n",
        "from deap import algorithms\n",
        "from pprint import pprint\n",
        "import pandas as pd\n",
        "import matplotlib.pyplot as plt\n",
        "\n"
      ],
      "execution_count": null,
      "outputs": [
        {
          "output_type": "stream",
          "text": [
            "Collecting deap\n",
            "\u001b[?25l  Downloading https://files.pythonhosted.org/packages/99/d1/803c7a387d8a7e6866160b1541307f88d534da4291572fb32f69d2548afb/deap-1.3.1-cp37-cp37m-manylinux2010_x86_64.whl (157kB)\n",
            "\r\u001b[K     |██                              | 10kB 17.6MB/s eta 0:00:01\r\u001b[K     |████▏                           | 20kB 23.3MB/s eta 0:00:01\r\u001b[K     |██████▏                         | 30kB 20.9MB/s eta 0:00:01\r\u001b[K     |████████▎                       | 40kB 18.6MB/s eta 0:00:01\r\u001b[K     |██████████▍                     | 51kB 17.3MB/s eta 0:00:01\r\u001b[K     |████████████▍                   | 61kB 17.1MB/s eta 0:00:01\r\u001b[K     |██████████████▌                 | 71kB 18.2MB/s eta 0:00:01\r\u001b[K     |████████████████▋               | 81kB 14.7MB/s eta 0:00:01\r\u001b[K     |██████████████████▋             | 92kB 14.9MB/s eta 0:00:01\r\u001b[K     |████████████████████▊           | 102kB 14.3MB/s eta 0:00:01\r\u001b[K     |██████████████████████▉         | 112kB 14.3MB/s eta 0:00:01\r\u001b[K     |████████████████████████▉       | 122kB 14.3MB/s eta 0:00:01\r\u001b[K     |███████████████████████████     | 133kB 14.3MB/s eta 0:00:01\r\u001b[K     |█████████████████████████████   | 143kB 14.3MB/s eta 0:00:01\r\u001b[K     |███████████████████████████████ | 153kB 14.3MB/s eta 0:00:01\r\u001b[K     |████████████████████████████████| 163kB 14.3MB/s \n",
            "\u001b[?25hRequirement already satisfied: numpy in /usr/local/lib/python3.7/dist-packages (from deap) (1.19.5)\n",
            "Installing collected packages: deap\n",
            "Successfully installed deap-1.3.1\n"
          ],
          "name": "stdout"
        }
      ]
    },
    {
      "cell_type": "markdown",
      "metadata": {
        "id": "M07adJnM6Kil"
      },
      "source": [
        "# Descripción del conjunto de datos\n",
        "\n",
        "Nuestros datos contienen información del mercado de la vivienda de todos los barrios de Madrid. Principalmente el precio medio, la rentabilidad histórica y los niveles de impago de cada zona."
      ]
    },
    {
      "cell_type": "code",
      "metadata": {
        "colab": {
          "base_uri": "https://localhost:8080/",
          "height": 221
        },
        "id": "dXbR4YPr6OHd",
        "outputId": "8b646493-83a0-4552-d988-0905b3ea8393"
      },
      "source": [
        "#\n",
        "# Cargamos los datos\n",
        "#\n",
        "url = 'https://github.com/davidreyblanco/ml-training/raw/master/data/investment/market-footprint.csv.gz'\n",
        "locations = pd.read_csv(url, delimiter=';')\n",
        "locations.head(5)"
      ],
      "execution_count": null,
      "outputs": [
        {
          "output_type": "execute_result",
          "data": {
            "text/html": [
              "<div>\n",
              "<style scoped>\n",
              "    .dataframe tbody tr th:only-of-type {\n",
              "        vertical-align: middle;\n",
              "    }\n",
              "\n",
              "    .dataframe tbody tr th {\n",
              "        vertical-align: top;\n",
              "    }\n",
              "\n",
              "    .dataframe thead th {\n",
              "        text-align: right;\n",
              "    }\n",
              "</style>\n",
              "<table border=\"1\" class=\"dataframe\">\n",
              "  <thead>\n",
              "    <tr style=\"text-align: right;\">\n",
              "      <th></th>\n",
              "      <th>LOCID</th>\n",
              "      <th>LOCATIONNAME</th>\n",
              "      <th>STOCK_SALE</th>\n",
              "      <th>STOCK_RENT</th>\n",
              "      <th>N_DWELLING</th>\n",
              "      <th>N_PARCEL</th>\n",
              "      <th>RENTSALE_RATIO</th>\n",
              "      <th>EFFORT_RATE</th>\n",
              "      <th>DELINQUENCY_RATE</th>\n",
              "      <th>TXN_DISCOUNT</th>\n",
              "      <th>TOM</th>\n",
              "      <th>GROSS_YIELD</th>\n",
              "      <th>RENT_PRICE</th>\n",
              "      <th>SALE_PRICE</th>\n",
              "    </tr>\n",
              "  </thead>\n",
              "  <tbody>\n",
              "    <tr>\n",
              "      <th>0</th>\n",
              "      <td>280700107914004</td>\n",
              "      <td>Media Legua</td>\n",
              "      <td>169</td>\n",
              "      <td>72</td>\n",
              "      <td>294</td>\n",
              "      <td>331</td>\n",
              "      <td>0.426036</td>\n",
              "      <td>0.194491</td>\n",
              "      <td>0.075</td>\n",
              "      <td>0.039028</td>\n",
              "      <td>62</td>\n",
              "      <td>0.067261</td>\n",
              "      <td>9768</td>\n",
              "      <td>275355</td>\n",
              "    </tr>\n",
              "    <tr>\n",
              "      <th>1</th>\n",
              "      <td>280700107912007</td>\n",
              "      <td>Pradolongo</td>\n",
              "      <td>263</td>\n",
              "      <td>80</td>\n",
              "      <td>959</td>\n",
              "      <td>1039</td>\n",
              "      <td>0.304183</td>\n",
              "      <td>0.194174</td>\n",
              "      <td>0.090</td>\n",
              "      <td>0.081055</td>\n",
              "      <td>65</td>\n",
              "      <td>0.065316</td>\n",
              "      <td>2222</td>\n",
              "      <td>146013</td>\n",
              "    </tr>\n",
              "    <tr>\n",
              "      <th>2</th>\n",
              "      <td>280700107918002</td>\n",
              "      <td>Santa Eugenia</td>\n",
              "      <td>181</td>\n",
              "      <td>37</td>\n",
              "      <td>157</td>\n",
              "      <td>203</td>\n",
              "      <td>0.204420</td>\n",
              "      <td>0.185066</td>\n",
              "      <td>0.086</td>\n",
              "      <td>0.031467</td>\n",
              "      <td>49</td>\n",
              "      <td>0.092674</td>\n",
              "      <td>2072</td>\n",
              "      <td>194009</td>\n",
              "    </tr>\n",
              "    <tr>\n",
              "      <th>3</th>\n",
              "      <td>280700107902005</td>\n",
              "      <td>Delicias</td>\n",
              "      <td>731</td>\n",
              "      <td>496</td>\n",
              "      <td>377</td>\n",
              "      <td>440</td>\n",
              "      <td>0.678523</td>\n",
              "      <td>0.251585</td>\n",
              "      <td>0.053</td>\n",
              "      <td>0.070456</td>\n",
              "      <td>55</td>\n",
              "      <td>0.043321</td>\n",
              "      <td>1539</td>\n",
              "      <td>302878</td>\n",
              "    </tr>\n",
              "    <tr>\n",
              "      <th>4</th>\n",
              "      <td>280700107904006</td>\n",
              "      <td>Castellana</td>\n",
              "      <td>890</td>\n",
              "      <td>1587</td>\n",
              "      <td>438</td>\n",
              "      <td>554</td>\n",
              "      <td>1.783146</td>\n",
              "      <td>0.303436</td>\n",
              "      <td>0.028</td>\n",
              "      <td>0.086658</td>\n",
              "      <td>110</td>\n",
              "      <td>0.073110</td>\n",
              "      <td>3697</td>\n",
              "      <td>1080287</td>\n",
              "    </tr>\n",
              "  </tbody>\n",
              "</table>\n",
              "</div>"
            ],
            "text/plain": [
              "             LOCID   LOCATIONNAME  ...  RENT_PRICE  SALE_PRICE\n",
              "0  280700107914004    Media Legua  ...        9768      275355\n",
              "1  280700107912007     Pradolongo  ...        2222      146013\n",
              "2  280700107918002  Santa Eugenia  ...        2072      194009\n",
              "3  280700107902005       Delicias  ...        1539      302878\n",
              "4  280700107904006     Castellana  ...        3697     1080287\n",
              "\n",
              "[5 rows x 14 columns]"
            ]
          },
          "metadata": {
            "tags": []
          },
          "execution_count": 2
        }
      ]
    },
    {
      "cell_type": "markdown",
      "metadata": {
        "id": "lDK8V6Qn7pRs"
      },
      "source": [
        "El listado de los campos es"
      ]
    },
    {
      "cell_type": "code",
      "metadata": {
        "colab": {
          "base_uri": "https://localhost:8080/"
        },
        "id": "WygflYFC7uas",
        "outputId": "46aa9eaf-df9e-41e6-e90a-2d21f74fa76b"
      },
      "source": [
        "locations.columns"
      ],
      "execution_count": null,
      "outputs": [
        {
          "output_type": "execute_result",
          "data": {
            "text/plain": [
              "Index(['LOCID', 'LOCATIONNAME', 'STOCK_SALE', 'STOCK_RENT', 'N_DWELLING',\n",
              "       'N_PARCEL', 'RENTSALE_RATIO', 'EFFORT_RATE', 'DELINQUENCY_RATE',\n",
              "       'TXN_DISCOUNT', 'TOM', 'GROSS_YIELD', 'RENT_PRICE', 'SALE_PRICE'],\n",
              "      dtype='object')"
            ]
          },
          "metadata": {
            "tags": []
          },
          "execution_count": 3
        }
      ]
    },
    {
      "cell_type": "markdown",
      "metadata": {
        "id": "iD7HzJRS7ah8"
      },
      "source": [
        "El significado de los campos es:\n",
        "* **LOCID** Codigo interno de la localización\n",
        "* **LOCATIONNAME** Codigo interno de la localización\n",
        "* **STOCK_SALE**  número de inmuebles de tipo residencial en mercado (en compraventa).\n",
        "* **STOCK_RENT** número de inmuebles de tipo residencial en mercado (en alquiler).\n",
        "* **N_DWELLING**  numero de inmuebles de tipo residencial en una zona (registradas en catastro).\n",
        "* **N_PARCEL** numero de fincas de tipo residencial en una zona (registradas en catastro).\n",
        "* **RENTSALE_RATIO** ratio de inmuebles en alquiler / inmuebles en venta en una zona.\n",
        "* **EFFORT_RATE** % de ingresos que dedica una persona a vivienda dentro de sus ingresos mensuales.\n",
        "* **DELINQUENCY_RATE** tasa de impago de los inmuebles en alquiler en una zona. Representa la probabilidad de que una cuota de alquiler se impague si alquilamos en una zona.\n",
        "* **TXN_DISCOUNT** descuento medio necesario para vender el inmueble (% que un propietario descuenta sobre el precio de mercado de un inmueble)\n",
        "* **TOM** días medios mercado para vender un inmueble en una zona.\n",
        "* **GROSS_YIELD** rentabilidad bruta anual del alquiler (no tiene en cuenta los gastos por parte del propietario).\n",
        "* **RENT_PRICE** precio medio de alquiler / mes de un inmueble en la zona.\n",
        "* **SALE_PRICE** precio medio de venta de un inmueble en la zona.\n",
        "\n",
        "Generamos unos mínimos descriptivos"
      ]
    },
    {
      "cell_type": "code",
      "metadata": {
        "colab": {
          "base_uri": "https://localhost:8080/",
          "height": 312
        },
        "id": "YFffzng87c0G",
        "outputId": "f30bc715-8bbb-4cfe-d10f-c8509814fe9f"
      },
      "source": [
        "locations.describe()"
      ],
      "execution_count": null,
      "outputs": [
        {
          "output_type": "execute_result",
          "data": {
            "text/html": [
              "<div>\n",
              "<style scoped>\n",
              "    .dataframe tbody tr th:only-of-type {\n",
              "        vertical-align: middle;\n",
              "    }\n",
              "\n",
              "    .dataframe tbody tr th {\n",
              "        vertical-align: top;\n",
              "    }\n",
              "\n",
              "    .dataframe thead th {\n",
              "        text-align: right;\n",
              "    }\n",
              "</style>\n",
              "<table border=\"1\" class=\"dataframe\">\n",
              "  <thead>\n",
              "    <tr style=\"text-align: right;\">\n",
              "      <th></th>\n",
              "      <th>LOCID</th>\n",
              "      <th>STOCK_SALE</th>\n",
              "      <th>STOCK_RENT</th>\n",
              "      <th>N_DWELLING</th>\n",
              "      <th>N_PARCEL</th>\n",
              "      <th>RENTSALE_RATIO</th>\n",
              "      <th>EFFORT_RATE</th>\n",
              "      <th>DELINQUENCY_RATE</th>\n",
              "      <th>TXN_DISCOUNT</th>\n",
              "      <th>TOM</th>\n",
              "      <th>GROSS_YIELD</th>\n",
              "      <th>RENT_PRICE</th>\n",
              "      <th>SALE_PRICE</th>\n",
              "    </tr>\n",
              "  </thead>\n",
              "  <tbody>\n",
              "    <tr>\n",
              "      <th>count</th>\n",
              "      <td>1.260000e+02</td>\n",
              "      <td>126.000000</td>\n",
              "      <td>126.000000</td>\n",
              "      <td>126.000000</td>\n",
              "      <td>126.000000</td>\n",
              "      <td>126.000000</td>\n",
              "      <td>126.000000</td>\n",
              "      <td>126.000000</td>\n",
              "      <td>126.000000</td>\n",
              "      <td>126.000000</td>\n",
              "      <td>126.000000</td>\n",
              "      <td>126.000000</td>\n",
              "      <td>1.260000e+02</td>\n",
              "    </tr>\n",
              "    <tr>\n",
              "      <th>mean</th>\n",
              "      <td>2.807001e+14</td>\n",
              "      <td>486.460317</td>\n",
              "      <td>398.277778</td>\n",
              "      <td>843.746032</td>\n",
              "      <td>941.873016</td>\n",
              "      <td>0.704974</td>\n",
              "      <td>0.244460</td>\n",
              "      <td>0.064627</td>\n",
              "      <td>0.075752</td>\n",
              "      <td>77.944444</td>\n",
              "      <td>0.088759</td>\n",
              "      <td>5773.928571</td>\n",
              "      <td>3.581225e+05</td>\n",
              "    </tr>\n",
              "    <tr>\n",
              "      <th>std</th>\n",
              "      <td>5.889206e+03</td>\n",
              "      <td>293.141867</td>\n",
              "      <td>443.328423</td>\n",
              "      <td>620.785231</td>\n",
              "      <td>650.921599</td>\n",
              "      <td>0.435869</td>\n",
              "      <td>0.054031</td>\n",
              "      <td>0.022996</td>\n",
              "      <td>0.025206</td>\n",
              "      <td>19.715702</td>\n",
              "      <td>0.032779</td>\n",
              "      <td>3030.753005</td>\n",
              "      <td>2.449582e+05</td>\n",
              "    </tr>\n",
              "    <tr>\n",
              "      <th>min</th>\n",
              "      <td>2.807001e+14</td>\n",
              "      <td>130.000000</td>\n",
              "      <td>23.000000</td>\n",
              "      <td>69.000000</td>\n",
              "      <td>120.000000</td>\n",
              "      <td>0.068136</td>\n",
              "      <td>0.098769</td>\n",
              "      <td>0.023000</td>\n",
              "      <td>0.025901</td>\n",
              "      <td>47.000000</td>\n",
              "      <td>0.034229</td>\n",
              "      <td>1022.000000</td>\n",
              "      <td>8.392900e+04</td>\n",
              "    </tr>\n",
              "    <tr>\n",
              "      <th>25%</th>\n",
              "      <td>2.807001e+14</td>\n",
              "      <td>263.000000</td>\n",
              "      <td>108.250000</td>\n",
              "      <td>419.500000</td>\n",
              "      <td>468.250000</td>\n",
              "      <td>0.315491</td>\n",
              "      <td>0.194580</td>\n",
              "      <td>0.046000</td>\n",
              "      <td>0.057970</td>\n",
              "      <td>65.000000</td>\n",
              "      <td>0.060268</td>\n",
              "      <td>3475.750000</td>\n",
              "      <td>1.821250e+05</td>\n",
              "    </tr>\n",
              "    <tr>\n",
              "      <th>50%</th>\n",
              "      <td>2.807001e+14</td>\n",
              "      <td>447.000000</td>\n",
              "      <td>243.500000</td>\n",
              "      <td>674.000000</td>\n",
              "      <td>774.500000</td>\n",
              "      <td>0.626733</td>\n",
              "      <td>0.252938</td>\n",
              "      <td>0.059500</td>\n",
              "      <td>0.072678</td>\n",
              "      <td>72.000000</td>\n",
              "      <td>0.089839</td>\n",
              "      <td>5180.500000</td>\n",
              "      <td>2.752550e+05</td>\n",
              "    </tr>\n",
              "    <tr>\n",
              "      <th>75%</th>\n",
              "      <td>2.807001e+14</td>\n",
              "      <td>623.000000</td>\n",
              "      <td>494.500000</td>\n",
              "      <td>1125.000000</td>\n",
              "      <td>1251.750000</td>\n",
              "      <td>0.958476</td>\n",
              "      <td>0.286096</td>\n",
              "      <td>0.083750</td>\n",
              "      <td>0.093188</td>\n",
              "      <td>88.250000</td>\n",
              "      <td>0.118642</td>\n",
              "      <td>8111.000000</td>\n",
              "      <td>4.714268e+05</td>\n",
              "    </tr>\n",
              "    <tr>\n",
              "      <th>max</th>\n",
              "      <td>2.807001e+14</td>\n",
              "      <td>1799.000000</td>\n",
              "      <td>2341.000000</td>\n",
              "      <td>3540.000000</td>\n",
              "      <td>3732.000000</td>\n",
              "      <td>1.812207</td>\n",
              "      <td>0.350512</td>\n",
              "      <td>0.130000</td>\n",
              "      <td>0.159382</td>\n",
              "      <td>141.000000</td>\n",
              "      <td>0.160618</td>\n",
              "      <td>12111.000000</td>\n",
              "      <td>1.230796e+06</td>\n",
              "    </tr>\n",
              "  </tbody>\n",
              "</table>\n",
              "</div>"
            ],
            "text/plain": [
              "              LOCID   STOCK_SALE  ...    RENT_PRICE    SALE_PRICE\n",
              "count  1.260000e+02   126.000000  ...    126.000000  1.260000e+02\n",
              "mean   2.807001e+14   486.460317  ...   5773.928571  3.581225e+05\n",
              "std    5.889206e+03   293.141867  ...   3030.753005  2.449582e+05\n",
              "min    2.807001e+14   130.000000  ...   1022.000000  8.392900e+04\n",
              "25%    2.807001e+14   263.000000  ...   3475.750000  1.821250e+05\n",
              "50%    2.807001e+14   447.000000  ...   5180.500000  2.752550e+05\n",
              "75%    2.807001e+14   623.000000  ...   8111.000000  4.714268e+05\n",
              "max    2.807001e+14  1799.000000  ...  12111.000000  1.230796e+06\n",
              "\n",
              "[8 rows x 13 columns]"
            ]
          },
          "metadata": {
            "tags": []
          },
          "execution_count": 4
        }
      ]
    },
    {
      "cell_type": "markdown",
      "metadata": {
        "id": "qJ4Asns46PXk"
      },
      "source": [
        "# Ejercicio 1 - Selector de las mejores zonas\n",
        "\n",
        "Nuestro objetivo es construir una selección de zonas con un **genotipo binario** que cumplan nuestros requisitos de inversion:\n",
        "\n",
        "* La rentabilidad esperada media estará por encima del 5%\n",
        "* La tasa de morosidad media de las zonas elegidas debe estar por debajo de 12%\n",
        "\n",
        "Nuestra función de fitness buscará la mayor rentabilidad pero coontrolando el riesgo y en un número de zonas limitado:\n",
        "\n",
        "* Nuestra función de fitness combinará la rentabilidad y la seguridad en el pago (inverso de la morosidad)\n",
        "* Favorecerá el caso de tener menos zonas en las que invertir versus las opciones con muchas zonas recomendadas\n",
        "\n",
        "El resultado será una lista con las zonas en las que vamos a invertir\n",
        "\n",
        "\n"
      ]
    },
    {
      "cell_type": "code",
      "metadata": {
        "colab": {
          "base_uri": "https://localhost:8080/"
        },
        "id": "83t_FZmC61jM",
        "outputId": "a32891c7-c8fb-4183-dde4-593c6382f3ac"
      },
      "source": [
        "#\n",
        "# Ejemplo completo (corta)\n",
        "#\n",
        "creator.create(\"FitnessMax\", base.Fitness, weights=(1.0,))\n",
        "creator.create(\"Individual\", array.array, typecode='b', fitness=creator.FitnessMax)\n",
        "\n",
        "toolbox = base.Toolbox()\n",
        "\n",
        "# Generador de atributosructura\n",
        "toolbox.register(\"attr_bool\", random.randint, 0, 1)\n",
        "\n",
        "# Inicializadores de la estructura\n",
        "# Inviduo como 100 atributos booleanos y población como una repetición de individuos\n",
        "toolbox.register(\"individual\", tools.initRepeat, creator.Individual, toolbox.attr_bool, len(locations))\n",
        "toolbox.register(\"population\", tools.initRepeat, list, toolbox.individual)\n",
        "\n",
        "\n",
        "# Declaramos una serie de operadores (algunos de ellos a partir de los ya disponibles en tools)\n",
        "toolbox.register(\"mate\", tools.cxTwoPoint)\n",
        "toolbox.register(\"mutate\", tools.mutFlipBit, indpb=0.05)\n",
        "toolbox.register(\"select\", tools.selTournament, tournsize=3)\n"
      ],
      "execution_count": null,
      "outputs": [
        {
          "output_type": "stream",
          "text": [
            "/usr/local/lib/python3.7/dist-packages/deap/creator.py:141: RuntimeWarning: A class named 'FitnessMax' has already been created and it will be overwritten. Consider deleting previous creation of that class or rename it.\n",
            "  RuntimeWarning)\n",
            "/usr/local/lib/python3.7/dist-packages/deap/creator.py:141: RuntimeWarning: A class named 'Individual' has already been created and it will be overwritten. Consider deleting previous creation of that class or rename it.\n",
            "  RuntimeWarning)\n"
          ],
          "name": "stderr"
        }
      ]
    },
    {
      "cell_type": "markdown",
      "metadata": {
        "id": "kkyaM8NC8oKW"
      },
      "source": [
        "Definición de la función de fitness"
      ]
    },
    {
      "cell_type": "code",
      "metadata": {
        "id": "jdrgKOKe83FM"
      },
      "source": [
        "# Definimos nuestra función de objetivo / fitness\n",
        "def fitness_portfolio(individual):\n",
        "    n_items = sum(individual)\n",
        "    selection_bool = list(map(lambda x: x==1, individual.tolist()))\n",
        "    if (numpy.average(locations[selection_bool]['GROSS_YIELD']) < 0.05):\n",
        "      fitness = 0\n",
        "    elif (numpy.average(locations[selection_bool]['DELINQUENCY_RATE']) > 0.12):\n",
        "      fitness = 0\n",
        "    else:\n",
        "      fitness = numpy.average(numpy.average(locations[selection_bool]['GROSS_YIELD']) * (1 - locations[selection_bool]['DELINQUENCY_RATE']))\n",
        "    fitness = fitness * (0.98**(n_items - 1))\n",
        "    # Penalty by number of zones\n",
        "    return fitness,\n",
        "\n",
        "toolbox.register(\"evaluate\", fitness_portfolio)"
      ],
      "execution_count": null,
      "outputs": []
    },
    {
      "cell_type": "markdown",
      "metadata": {
        "id": "FgQyr3N_8uD4"
      },
      "source": [
        "Declaramos el algoritmo genético:"
      ]
    },
    {
      "cell_type": "code",
      "metadata": {
        "id": "ji_IxTjr8rKb"
      },
      "source": [
        "# Declaramos una función\n",
        "def genetic_algorithm(npop=300,\n",
        "                      ngen=20,\n",
        "                      cxpb=0.5,\n",
        "                      mutpb=0.05,\n",
        "                      toolbox = toolbox):\n",
        "    random.seed(64)\n",
        "\n",
        "    pop = toolbox.population(n=npop)\n",
        "    # Usamos esta utilidad\n",
        "    hof = tools.HallOfFame(1)\n",
        "    stats = tools.Statistics(lambda ind: ind.fitness.values)\n",
        "    stats.register(\"avg\", numpy.mean)\n",
        "    stats.register(\"std\", numpy.std)\n",
        "    stats.register(\"min\", numpy.min)\n",
        "    stats.register(\"max\", numpy.max)\n",
        "\n",
        "    pop, log = algorithms.eaSimple(pop,\n",
        "                                   toolbox,\n",
        "                                   cxpb=cxpb,\n",
        "                                   mutpb=mutpb,\n",
        "                                   ngen=ngen,\n",
        "                                   stats=stats,\n",
        "                                   halloffame=hof,\n",
        "                                   verbose=False)\n",
        "\n",
        "    return pop, log, hof\n",
        "\n",
        "#\n",
        "# Declaramos una función para mostrar los gráficos de convergencia\n",
        "#\n",
        "def plot_convergence_chart(log):\n",
        "  df = pd.DataFrame(log)\n",
        "  plt.plot(df['gen'], df['avg'])\n",
        "  plt.title('Convergencia modelo de optimización')\n",
        "  plt.xlabel('Generación')\n",
        "  plt.ylabel('Fitness medio')\n",
        "  plt.show()\n",
        "  return df"
      ],
      "execution_count": null,
      "outputs": []
    },
    {
      "cell_type": "markdown",
      "metadata": {
        "id": "7iQoZn5R9Jby"
      },
      "source": [
        "Ejecución del optimizador"
      ]
    },
    {
      "cell_type": "code",
      "metadata": {
        "id": "sEbMFQ3u9I1E"
      },
      "source": [
        "#\n",
        "# Ejecución optimizador\n",
        "#\n",
        "pop, logbook, hof = genetic_algorithm(npop=100,\n",
        "                                      ngen=200,\n",
        "                                      cxpb=0.3,\n",
        "                                      mutpb=0.1,\n",
        "                                      toolbox=toolbox)"
      ],
      "execution_count": null,
      "outputs": []
    },
    {
      "cell_type": "code",
      "metadata": {
        "colab": {
          "base_uri": "https://localhost:8080/"
        },
        "id": "o8DSSunh_Bws",
        "outputId": "466457dc-6404-4ab9-ef17-0c9898d871a4"
      },
      "source": [
        "#\n",
        "# Mostramos los resultados de nuestra selección\n",
        "#\n",
        "print(hof)\n",
        "selection = hof[0].tolist()\n",
        "selection_bool = list(map(lambda x: x==1, selection))\n",
        "dr = numpy.average(locations.iloc[selection_bool]['DELINQUENCY_RATE'])\n",
        "gy = numpy.average(locations.iloc[selection_bool]['GROSS_YIELD'])\n",
        "ds = numpy.average(locations.iloc[selection_bool]['TXN_DISCOUNT'])\n",
        "print('-------------------------------')\n",
        "print(' Seleccion zonas portfolio ')\n",
        "print('-------------------------------')\n",
        "print('Tasa de morosidad: ' + str(round(100*dr,2))+' %')\n",
        "print('Rentabilidad (gross yield): ' + str(round(100*gy,2))+' %')\n",
        "print('Descuento medio (average txn_discount): ' + str(round(100*ds,2))+' %')\n",
        "print('Número de zonas seleccionadas: ' + str(sum(selection)))\n",
        "print()\n",
        "print('-------------------------------')\n",
        "print(' Población general ')\n",
        "print('-------------------------------')\n",
        "\n",
        "print('Tasa de morosidad: ' + str(round(100*numpy.average(locations['DELINQUENCY_RATE']),2))+' %')\n",
        "print('Rentabilidad (gross yield): ' + str(round(100*numpy.average(locations['GROSS_YIELD']),2))+' %')\n",
        "print('Descuento medio (average txn_discount): ' + str(round(100*numpy.average(locations['TXN_DISCOUNT']),2))+' %')\n",
        "print('Número de zonas seleccionadas: ' + str(len(locations)))"
      ],
      "execution_count": null,
      "outputs": [
        {
          "output_type": "stream",
          "text": [
            "[Individual('b', [0, 0, 0, 0, 0, 0, 0, 1, 0, 0, 0, 0, 0, 1, 0, 0, 1, 0, 0, 1, 0, 0, 0, 0, 0, 0, 0, 0, 0, 0, 0, 0, 0, 0, 0, 0, 0, 0, 0, 0, 1, 0, 0, 0, 0, 0, 0, 0, 0, 0, 0, 0, 0, 0, 0, 0, 0, 0, 0, 0, 0, 0, 0, 0, 1, 0, 1, 0, 0, 0, 0, 0, 0, 1, 0, 0, 0, 0, 0, 0, 0, 0, 0, 0, 0, 0, 0, 0, 0, 0, 0, 0, 0, 0, 0, 0, 0, 0, 0, 0, 0, 0, 0, 1, 0, 0, 0, 0, 1, 0, 0, 0, 0, 0, 0, 0, 0, 0, 0, 0, 0, 0, 0, 0, 0, 0])]\n",
            "-------------------------------\n",
            " Seleccion zonas portfolio \n",
            "-------------------------------\n",
            "Tasa de morosidad: 8.09 %\n",
            "Rentabilidad (gross yield): 12.91 %\n",
            "Descuento medio (average txn_discount): 8.73 %\n",
            "Número de zonas seleccionadas: 10\n",
            "\n",
            "-------------------------------\n",
            " Población general \n",
            "-------------------------------\n",
            "Tasa de morosidad: 6.46 %\n",
            "Rentabilidad (gross yield): 8.88 %\n",
            "Descuento medio (average txn_discount): 7.58 %\n",
            "Número de zonas seleccionadas: 126\n"
          ],
          "name": "stdout"
        }
      ]
    },
    {
      "cell_type": "markdown",
      "metadata": {
        "id": "WMb2jXeW9M3P"
      },
      "source": [
        "Dibujamos el gráfico de convergencia"
      ]
    },
    {
      "cell_type": "code",
      "metadata": {
        "colab": {
          "base_uri": "https://localhost:8080/",
          "height": 295
        },
        "id": "oN0KzPW29PdG",
        "outputId": "c7f963fb-4392-4f14-e4dd-f7f25fa7f2c9"
      },
      "source": [
        "df = plot_convergence_chart(logbook)"
      ],
      "execution_count": null,
      "outputs": [
        {
          "output_type": "display_data",
          "data": {
            "image/png": "[encoded data removed]",
            "text/plain": [
              "<Figure size 432x288 with 1 Axes>"
            ]
          },
          "metadata": {
            "tags": [],
            "needs_background": "light"
          }
        }
      ]
    },
    {
      "cell_type": "markdown",
      "metadata": {
        "id": "G9cTRYRvf1-N"
      },
      "source": [
        "Mostramos en número la evolución del proceso"
      ]
    },
    {
      "cell_type": "code",
      "metadata": {
        "colab": {
          "base_uri": "https://localhost:8080/",
          "height": 411
        },
        "id": "DiiSbImniT_U",
        "outputId": "e8e0630d-2a64-468f-bda2-58d750ad3452"
      },
      "source": [
        "df"
      ],
      "execution_count": null,
      "outputs": [
        {
          "output_type": "execute_result",
          "data": {
            "text/html": [
              "<div>\n",
              "<style scoped>\n",
              "    .dataframe tbody tr th:only-of-type {\n",
              "        vertical-align: middle;\n",
              "    }\n",
              "\n",
              "    .dataframe tbody tr th {\n",
              "        vertical-align: top;\n",
              "    }\n",
              "\n",
              "    .dataframe thead th {\n",
              "        text-align: right;\n",
              "    }\n",
              "</style>\n",
              "<table border=\"1\" class=\"dataframe\">\n",
              "  <thead>\n",
              "    <tr style=\"text-align: right;\">\n",
              "      <th></th>\n",
              "      <th>gen</th>\n",
              "      <th>nevals</th>\n",
              "      <th>avg</th>\n",
              "      <th>std</th>\n",
              "      <th>min</th>\n",
              "      <th>max</th>\n",
              "    </tr>\n",
              "  </thead>\n",
              "  <tbody>\n",
              "    <tr>\n",
              "      <th>0</th>\n",
              "      <td>0</td>\n",
              "      <td>100</td>\n",
              "      <td>0.023986</td>\n",
              "      <td>0.003261</td>\n",
              "      <td>0.017391</td>\n",
              "      <td>0.032321</td>\n",
              "    </tr>\n",
              "    <tr>\n",
              "      <th>1</th>\n",
              "      <td>1</td>\n",
              "      <td>36</td>\n",
              "      <td>0.026642</td>\n",
              "      <td>0.002668</td>\n",
              "      <td>0.020668</td>\n",
              "      <td>0.035703</td>\n",
              "    </tr>\n",
              "    <tr>\n",
              "      <th>2</th>\n",
              "      <td>2</td>\n",
              "      <td>39</td>\n",
              "      <td>0.029227</td>\n",
              "      <td>0.002823</td>\n",
              "      <td>0.024519</td>\n",
              "      <td>0.039207</td>\n",
              "    </tr>\n",
              "    <tr>\n",
              "      <th>3</th>\n",
              "      <td>3</td>\n",
              "      <td>34</td>\n",
              "      <td>0.031846</td>\n",
              "      <td>0.003165</td>\n",
              "      <td>0.025723</td>\n",
              "      <td>0.040832</td>\n",
              "    </tr>\n",
              "    <tr>\n",
              "      <th>4</th>\n",
              "      <td>4</td>\n",
              "      <td>35</td>\n",
              "      <td>0.034344</td>\n",
              "      <td>0.002814</td>\n",
              "      <td>0.028061</td>\n",
              "      <td>0.040878</td>\n",
              "    </tr>\n",
              "    <tr>\n",
              "      <th>...</th>\n",
              "      <td>...</td>\n",
              "      <td>...</td>\n",
              "      <td>...</td>\n",
              "      <td>...</td>\n",
              "      <td>...</td>\n",
              "      <td>...</td>\n",
              "    </tr>\n",
              "    <tr>\n",
              "      <th>196</th>\n",
              "      <td>196</td>\n",
              "      <td>24</td>\n",
              "      <td>0.097068</td>\n",
              "      <td>0.006468</td>\n",
              "      <td>0.070319</td>\n",
              "      <td>0.098926</td>\n",
              "    </tr>\n",
              "    <tr>\n",
              "      <th>197</th>\n",
              "      <td>197</td>\n",
              "      <td>43</td>\n",
              "      <td>0.095922</td>\n",
              "      <td>0.007822</td>\n",
              "      <td>0.063558</td>\n",
              "      <td>0.098926</td>\n",
              "    </tr>\n",
              "    <tr>\n",
              "      <th>198</th>\n",
              "      <td>198</td>\n",
              "      <td>40</td>\n",
              "      <td>0.096288</td>\n",
              "      <td>0.007571</td>\n",
              "      <td>0.066776</td>\n",
              "      <td>0.098926</td>\n",
              "    </tr>\n",
              "    <tr>\n",
              "      <th>199</th>\n",
              "      <td>199</td>\n",
              "      <td>33</td>\n",
              "      <td>0.097741</td>\n",
              "      <td>0.004884</td>\n",
              "      <td>0.072003</td>\n",
              "      <td>0.098926</td>\n",
              "    </tr>\n",
              "    <tr>\n",
              "      <th>200</th>\n",
              "      <td>200</td>\n",
              "      <td>44</td>\n",
              "      <td>0.096686</td>\n",
              "      <td>0.006348</td>\n",
              "      <td>0.073246</td>\n",
              "      <td>0.098926</td>\n",
              "    </tr>\n",
              "  </tbody>\n",
              "</table>\n",
              "<p>201 rows × 6 columns</p>\n",
              "</div>"
            ],
            "text/plain": [
              "     gen  nevals       avg       std       min       max\n",
              "0      0     100  0.023986  0.003261  0.017391  0.032321\n",
              "1      1      36  0.026642  0.002668  0.020668  0.035703\n",
              "2      2      39  0.029227  0.002823  0.024519  0.039207\n",
              "3      3      34  0.031846  0.003165  0.025723  0.040832\n",
              "4      4      35  0.034344  0.002814  0.028061  0.040878\n",
              "..   ...     ...       ...       ...       ...       ...\n",
              "196  196      24  0.097068  0.006468  0.070319  0.098926\n",
              "197  197      43  0.095922  0.007822  0.063558  0.098926\n",
              "198  198      40  0.096288  0.007571  0.066776  0.098926\n",
              "199  199      33  0.097741  0.004884  0.072003  0.098926\n",
              "200  200      44  0.096686  0.006348  0.073246  0.098926\n",
              "\n",
              "[201 rows x 6 columns]"
            ]
          },
          "metadata": {
            "tags": []
          },
          "execution_count": 13
        }
      ]
    },
    {
      "cell_type": "code",
      "metadata": {
        "colab": {
          "base_uri": "https://localhost:8080/",
          "height": 353
        },
        "id": "oYAAtckZXfJN",
        "outputId": "7375d6ea-a82a-4447-ed48-d18716dd6313"
      },
      "source": [
        "#\n",
        "# Mostramos que zonas zonas ordenadas por rentabilidad\n",
        "#\n",
        "selected_areas = locations.iloc[selection_bool]\n",
        "selected_areas[['LOCATIONNAME','DELINQUENCY_RATE','GROSS_YIELD','TXN_DISCOUNT','SALE_PRICE','RENT_PRICE']].sort_values(by=['GROSS_YIELD'],\n",
        "                                                                                                                       ascending=False)"
      ],
      "execution_count": null,
      "outputs": [
        {
          "output_type": "execute_result",
          "data": {
            "text/html": [
              "<div>\n",
              "<style scoped>\n",
              "    .dataframe tbody tr th:only-of-type {\n",
              "        vertical-align: middle;\n",
              "    }\n",
              "\n",
              "    .dataframe tbody tr th {\n",
              "        vertical-align: top;\n",
              "    }\n",
              "\n",
              "    .dataframe thead th {\n",
              "        text-align: right;\n",
              "    }\n",
              "</style>\n",
              "<table border=\"1\" class=\"dataframe\">\n",
              "  <thead>\n",
              "    <tr style=\"text-align: right;\">\n",
              "      <th></th>\n",
              "      <th>LOCATIONNAME</th>\n",
              "      <th>DELINQUENCY_RATE</th>\n",
              "      <th>GROSS_YIELD</th>\n",
              "      <th>TXN_DISCOUNT</th>\n",
              "      <th>SALE_PRICE</th>\n",
              "      <th>RENT_PRICE</th>\n",
              "    </tr>\n",
              "  </thead>\n",
              "  <tbody>\n",
              "    <tr>\n",
              "      <th>13</th>\n",
              "      <td>Entrevías</td>\n",
              "      <td>0.118</td>\n",
              "      <td>0.160618</td>\n",
              "      <td>0.060228</td>\n",
              "      <td>118550</td>\n",
              "      <td>2564</td>\n",
              "    </tr>\n",
              "    <tr>\n",
              "      <th>66</th>\n",
              "      <td>Campamento</td>\n",
              "      <td>0.083</td>\n",
              "      <td>0.154847</td>\n",
              "      <td>0.093042</td>\n",
              "      <td>152404</td>\n",
              "      <td>7253</td>\n",
              "    </tr>\n",
              "    <tr>\n",
              "      <th>73</th>\n",
              "      <td>Casco Histórico de Vicálvaro</td>\n",
              "      <td>0.091</td>\n",
              "      <td>0.149531</td>\n",
              "      <td>0.075911</td>\n",
              "      <td>156572</td>\n",
              "      <td>9526</td>\n",
              "    </tr>\n",
              "    <tr>\n",
              "      <th>103</th>\n",
              "      <td>San Cristóbal</td>\n",
              "      <td>0.130</td>\n",
              "      <td>0.147458</td>\n",
              "      <td>0.079251</td>\n",
              "      <td>83929</td>\n",
              "      <td>10280</td>\n",
              "    </tr>\n",
              "    <tr>\n",
              "      <th>108</th>\n",
              "      <td>Pinar del Rey</td>\n",
              "      <td>0.066</td>\n",
              "      <td>0.138820</td>\n",
              "      <td>0.045282</td>\n",
              "      <td>244089</td>\n",
              "      <td>5177</td>\n",
              "    </tr>\n",
              "    <tr>\n",
              "      <th>16</th>\n",
              "      <td>Conde Orgaz-Piovera</td>\n",
              "      <td>0.043</td>\n",
              "      <td>0.123780</td>\n",
              "      <td>0.093386</td>\n",
              "      <td>852946</td>\n",
              "      <td>3470</td>\n",
              "    </tr>\n",
              "    <tr>\n",
              "      <th>40</th>\n",
              "      <td>Moscardó</td>\n",
              "      <td>0.081</td>\n",
              "      <td>0.123515</td>\n",
              "      <td>0.072059</td>\n",
              "      <td>149827</td>\n",
              "      <td>3170</td>\n",
              "    </tr>\n",
              "    <tr>\n",
              "      <th>7</th>\n",
              "      <td>Chueca-Justicia</td>\n",
              "      <td>0.037</td>\n",
              "      <td>0.105786</td>\n",
              "      <td>0.136794</td>\n",
              "      <td>631955</td>\n",
              "      <td>10300</td>\n",
              "    </tr>\n",
              "    <tr>\n",
              "      <th>64</th>\n",
              "      <td>Ventilla-Almenara</td>\n",
              "      <td>0.058</td>\n",
              "      <td>0.098062</td>\n",
              "      <td>0.124244</td>\n",
              "      <td>268336</td>\n",
              "      <td>3922</td>\n",
              "    </tr>\n",
              "    <tr>\n",
              "      <th>19</th>\n",
              "      <td>Zofío</td>\n",
              "      <td>0.102</td>\n",
              "      <td>0.088538</td>\n",
              "      <td>0.093236</td>\n",
              "      <td>134697</td>\n",
              "      <td>5088</td>\n",
              "    </tr>\n",
              "  </tbody>\n",
              "</table>\n",
              "</div>"
            ],
            "text/plain": [
              "                     LOCATIONNAME  DELINQUENCY_RATE  ...  SALE_PRICE  RENT_PRICE\n",
              "13                      Entrevías             0.118  ...      118550        2564\n",
              "66                     Campamento             0.083  ...      152404        7253\n",
              "73   Casco Histórico de Vicálvaro             0.091  ...      156572        9526\n",
              "103                 San Cristóbal             0.130  ...       83929       10280\n",
              "108                 Pinar del Rey             0.066  ...      244089        5177\n",
              "16            Conde Orgaz-Piovera             0.043  ...      852946        3470\n",
              "40                       Moscardó             0.081  ...      149827        3170\n",
              "7                 Chueca-Justicia             0.037  ...      631955       10300\n",
              "64              Ventilla-Almenara             0.058  ...      268336        3922\n",
              "19                          Zofío             0.102  ...      134697        5088\n",
              "\n",
              "[10 rows x 6 columns]"
            ]
          },
          "metadata": {
            "tags": []
          },
          "execution_count": 14
        }
      ]
    },
    {
      "cell_type": "markdown",
      "metadata": {
        "id": "D9h1Tz47fQN9"
      },
      "source": [
        "# Ejercicio 2 - ¿Cúanto invertimos?\n",
        "\n",
        "\n",
        "Ahora vamos a hacer el ejercicio con el total de la inversión sobre las zonas seleccionadas. Para ello usaremos la métrica **Yield**:\n",
        "\n",
        "$$\n",
        "Yield_{i} = \\frac{Gross\\ Yield_{i}}{1 - txn\\ discount_{i}}\n",
        "$$\n",
        "\n",
        "Para cada zona podemos estimar los ingresos del alquiler anual. Nuestra función de fitness será los ingresos mensuales que podemos conseguir para una inversión determinada\n",
        "\n",
        "$$\n",
        "Ingresos = \\sum_{zona = i}^{N}(Sale\\ Price_i \\cdot Yield_i) \\cdot (1 - Delinquency\\ rate_i)\n",
        "$$\n"
      ]
    },
    {
      "cell_type": "markdown",
      "metadata": {
        "id": "qt1GwhsGjivr"
      },
      "source": [
        "Usaremos enteros, revisar:\n",
        "\n",
        "¿Qué **tipo** debemos usar?\n",
        "https://docs.python.org/3/library/array.html\n",
        "\n",
        "Y sobre los **operadores**, ¿cuáles usaremos?\n",
        "https://deap.readthedocs.io/en/master/api/tools.html"
      ]
    },
    {
      "cell_type": "code",
      "metadata": {
        "id": "wsmtJRKLoguC"
      },
      "source": [
        "def intBlend(a, b, cxpb=0.8):\n",
        "  a = a.copy()\n",
        "  b = b.copy()\n",
        "  if random.random() < cxpb:\n",
        "    a_new = creator.Individual(numpy.array(list((a + b) / 2)))\n",
        "    a = a_new\n",
        "    b = a_new\n",
        "  return a, b"
      ],
      "execution_count": null,
      "outputs": []
    },
    {
      "cell_type": "code",
      "metadata": {
        "colab": {
          "base_uri": "https://localhost:8080/"
        },
        "id": "nZEeqEK6iOfK",
        "outputId": "3f4e84e5-fd64-4703-9d9c-ca8e129c3be2"
      },
      "source": [
        "#\n",
        "# Generamos todos los elementos\n",
        "#\n",
        "creator.create(\"FitnessPortfolio\", base.Fitness, weights=(1.0,))\n",
        "creator.create(\"Individual\", numpy.ndarray, typecode='i', fitness=creator.FitnessPortfolio)\n",
        "\n",
        "toolbox = base.Toolbox()\n",
        "\n",
        "# Generador de atributos, vamos a restringir los valores de la entrada al rango de nuestra muestra\n",
        "toolbox.register(\"attr_int\", random.randint, 0, 50)\n",
        "\n",
        "# Inicializadores de la estructura\n",
        "# Inviduo como 100 atributos booleanos y población como una repetición de individuos\n",
        "toolbox.register(\"individual\", tools.initRepeat, creator.Individual, toolbox.attr_int, len(selected_areas) )\n",
        "toolbox.register(\"population\", tools.initRepeat, list, toolbox.individual)\n",
        "\n",
        "# Declaramos una serie de operadores (algunos de ellos a partir de los ya disponibles en tools)\n",
        "toolbox.register(\"mate\", intBlend, cxpb=0.8)\n",
        "toolbox.register(\"mutate\", tools.mutUniformInt, low=0, up=len(selected_areas), indpb=0.05)\n",
        "toolbox.register(\"select\", tools.selTournament, tournsize=3)"
      ],
      "execution_count": null,
      "outputs": [
        {
          "output_type": "stream",
          "text": [
            "/usr/local/lib/python3.7/dist-packages/deap/creator.py:141: RuntimeWarning: A class named 'Individual' has already been created and it will be overwritten. Consider deleting previous creation of that class or rename it.\n",
            "  RuntimeWarning)\n"
          ],
          "name": "stderr"
        }
      ]
    },
    {
      "cell_type": "markdown",
      "metadata": {
        "id": "yU_YskJyl1YW"
      },
      "source": [
        "Definición del algoritmo"
      ]
    },
    {
      "cell_type": "code",
      "metadata": {
        "id": "MA6Vy22Wl1kQ"
      },
      "source": [
        "# Declaramos una función\n",
        "def genetic_algorithm_portfolio(npop=300,\n",
        "                      ngen=20,\n",
        "                      cxpb=0.5,\n",
        "                      mutpb=0.05,\n",
        "                      toolbox = toolbox):\n",
        "    random.seed(64)\n",
        "\n",
        "    pop = toolbox.population(n=npop)\n",
        "    # Usamos esta utilidad\n",
        "    hof = tools.HallOfFame(1)\n",
        "    stats = tools.Statistics(lambda ind: ind.fitness.values)\n",
        "    stats.register(\"avg\", numpy.mean)\n",
        "    stats.register(\"std\", numpy.std)\n",
        "    stats.register(\"min\", numpy.min)\n",
        "    stats.register(\"max\", numpy.max)\n",
        "\n",
        "    pop, log = algorithms.eaSimple(pop,\n",
        "                                   toolbox,\n",
        "                                   cxpb=cxpb,\n",
        "                                   mutpb=mutpb,\n",
        "                                   ngen=ngen,\n",
        "                                   stats=stats,\n",
        "                                   halloffame=hof,\n",
        "                                   verbose=False)\n",
        "\n",
        "    return pop, log, hof"
      ],
      "execution_count": null,
      "outputs": []
    },
    {
      "cell_type": "markdown",
      "metadata": {
        "id": "vwqUlfg-lESs"
      },
      "source": [
        "\n",
        "Para cada zona podemos estimar los ingresos del alquiler anual. Nuestra función de fitness será los ingresos mensuales que podemos conseguir para una inversión determinada\n",
        "\n",
        "$$\n",
        "Ingresos = \\sum_{zona = i}^{N}(Sale\\ Price_i \\cdot \\frac{Gross\\ Yield_{i}}{1 - txn\\ discount_{i}}) \\cdot (1 - Delinquency\\ rate_i)\n",
        "$$"
      ]
    },
    {
      "cell_type": "code",
      "metadata": {
        "id": "FdqZYe3VlEcm"
      },
      "source": [
        "adjusted_yield = selected_areas['GROSS_YIELD'] / (1 - selected_areas['TXN_DISCOUNT'])\n",
        "non_delinquency_rate = (1- selected_areas['DELINQUENCY_RATE'])\n",
        "factor = adjusted_yield * non_delinquency_rate\n",
        "MAX_BUDGET = 1e8\n",
        "\n",
        "# Definimos nuestra función de objetivo / fitness\n",
        "def fitness_portfolio_total(individual):\n",
        "    total_sale_price = selected_areas['SALE_PRICE'] * list(individual)\n",
        "    fitness = round(sum(total_sale_price * factor))\n",
        "    return fitness,\n",
        "\n",
        "# Definimos nuestra función de objetivo / fitness\n",
        "def fitness_portfolio_metrics(individual):\n",
        "    total_sale_price = selected_areas['SALE_PRICE'] * list(individual)\n",
        "    fitness = round(sum(total_sale_price * factor))\n",
        "\n",
        "    return fitness, sum(total_sale_price)\n",
        "\n",
        "toolbox.register(\"evaluate\", fitness_portfolio_total)"
      ],
      "execution_count": null,
      "outputs": []
    },
    {
      "cell_type": "markdown",
      "metadata": {
        "id": "RS0PtBD0m7Mq"
      },
      "source": []
    },
    {
      "cell_type": "code",
      "metadata": {
        "id": "3Tq6aQPAm7XL",
        "colab": {
          "base_uri": "https://localhost:8080/",
          "height": 335
        },
        "outputId": "5949466d-2402-434d-836f-61ae21c58f8a"
      },
      "source": [
        "pop, logbook, hof = genetic_algorithm_portfolio(npop=100,\n",
        "                                      ngen=120,\n",
        "                                      cxpb=0.9,\n",
        "                                      mutpb=0.05,\n",
        "                                      toolbox=toolbox)"
      ],
      "execution_count": null,
      "outputs": [
        {
          "output_type": "error",
          "ename": "ValueError",
          "evalue": "ignored",
          "traceback": [
            "\u001b[0;31m---------------------------------------------------------------------------\u001b[0m",
            "\u001b[0;31mValueError\u001b[0m                                Traceback (most recent call last)",
            "\u001b[0;32m<ipython-input-20-0e1efa76d0e1>\u001b[0m in \u001b[0;36m<module>\u001b[0;34m()\u001b[0m\n\u001b[1;32m      3\u001b[0m                                       \u001b[0mcxpb\u001b[0m\u001b[0;34m=\u001b[0m\u001b[0;36m0.9\u001b[0m\u001b[0;34m,\u001b[0m\u001b[0;34m\u001b[0m\u001b[0;34m\u001b[0m\u001b[0m\n\u001b[1;32m      4\u001b[0m                                       \u001b[0mmutpb\u001b[0m\u001b[0;34m=\u001b[0m\u001b[0;36m0.05\u001b[0m\u001b[0;34m,\u001b[0m\u001b[0;34m\u001b[0m\u001b[0;34m\u001b[0m\u001b[0m\n\u001b[0;32m----> 5\u001b[0;31m                                       toolbox=toolbox)\n\u001b[0m",
            "\u001b[0;32m<ipython-input-18-3bf0ac6945b1>\u001b[0m in \u001b[0;36mgenetic_algorithm_portfolio\u001b[0;34m(npop, ngen, cxpb, mutpb, toolbox)\u001b[0m\n\u001b[1;32m     23\u001b[0m                                    \u001b[0mstats\u001b[0m\u001b[0;34m=\u001b[0m\u001b[0mstats\u001b[0m\u001b[0;34m,\u001b[0m\u001b[0;34m\u001b[0m\u001b[0;34m\u001b[0m\u001b[0m\n\u001b[1;32m     24\u001b[0m                                    \u001b[0mhalloffame\u001b[0m\u001b[0;34m=\u001b[0m\u001b[0mhof\u001b[0m\u001b[0;34m,\u001b[0m\u001b[0;34m\u001b[0m\u001b[0;34m\u001b[0m\u001b[0m\n\u001b[0;32m---> 25\u001b[0;31m                                    verbose=False)\n\u001b[0m\u001b[1;32m     26\u001b[0m \u001b[0;34m\u001b[0m\u001b[0m\n\u001b[1;32m     27\u001b[0m     \u001b[0;32mreturn\u001b[0m \u001b[0mpop\u001b[0m\u001b[0;34m,\u001b[0m \u001b[0mlog\u001b[0m\u001b[0;34m,\u001b[0m \u001b[0mhof\u001b[0m\u001b[0;34m\u001b[0m\u001b[0;34m\u001b[0m\u001b[0m\n",
            "\u001b[0;32m/usr/local/lib/python3.7/dist-packages/deap/algorithms.py\u001b[0m in \u001b[0;36meaSimple\u001b[0;34m(population, toolbox, cxpb, mutpb, ngen, stats, halloffame, verbose)\u001b[0m\n\u001b[1;32m    153\u001b[0m \u001b[0;34m\u001b[0m\u001b[0m\n\u001b[1;32m    154\u001b[0m     \u001b[0;32mif\u001b[0m \u001b[0mhalloffame\u001b[0m \u001b[0;32mis\u001b[0m \u001b[0;32mnot\u001b[0m \u001b[0;32mNone\u001b[0m\u001b[0;34m:\u001b[0m\u001b[0;34m\u001b[0m\u001b[0;34m\u001b[0m\u001b[0m\n\u001b[0;32m--> 155\u001b[0;31m         \u001b[0mhalloffame\u001b[0m\u001b[0;34m.\u001b[0m\u001b[0mupdate\u001b[0m\u001b[0;34m(\u001b[0m\u001b[0mpopulation\u001b[0m\u001b[0;34m)\u001b[0m\u001b[0;34m\u001b[0m\u001b[0;34m\u001b[0m\u001b[0m\n\u001b[0m\u001b[1;32m    156\u001b[0m \u001b[0;34m\u001b[0m\u001b[0m\n\u001b[1;32m    157\u001b[0m     \u001b[0mrecord\u001b[0m \u001b[0;34m=\u001b[0m \u001b[0mstats\u001b[0m\u001b[0;34m.\u001b[0m\u001b[0mcompile\u001b[0m\u001b[0;34m(\u001b[0m\u001b[0mpopulation\u001b[0m\u001b[0;34m)\u001b[0m \u001b[0;32mif\u001b[0m \u001b[0mstats\u001b[0m \u001b[0;32melse\u001b[0m \u001b[0;34m{\u001b[0m\u001b[0;34m}\u001b[0m\u001b[0;34m\u001b[0m\u001b[0;34m\u001b[0m\u001b[0m\n",
            "\u001b[0;32m/usr/local/lib/python3.7/dist-packages/deap/tools/support.py\u001b[0m in \u001b[0;36mupdate\u001b[0;34m(self, population)\u001b[0m\n\u001b[1;32m    534\u001b[0m                     \u001b[0;31m# Loop through the hall of fame to check for any\u001b[0m\u001b[0;34m\u001b[0m\u001b[0;34m\u001b[0m\u001b[0;34m\u001b[0m\u001b[0m\n\u001b[1;32m    535\u001b[0m                     \u001b[0;31m# similar individual\u001b[0m\u001b[0;34m\u001b[0m\u001b[0;34m\u001b[0m\u001b[0;34m\u001b[0m\u001b[0m\n\u001b[0;32m--> 536\u001b[0;31m                     \u001b[0;32mif\u001b[0m \u001b[0mself\u001b[0m\u001b[0;34m.\u001b[0m\u001b[0msimilar\u001b[0m\u001b[0;34m(\u001b[0m\u001b[0mind\u001b[0m\u001b[0;34m,\u001b[0m \u001b[0mhofer\u001b[0m\u001b[0;34m)\u001b[0m\u001b[0;34m:\u001b[0m\u001b[0;34m\u001b[0m\u001b[0;34m\u001b[0m\u001b[0m\n\u001b[0m\u001b[1;32m    537\u001b[0m                         \u001b[0;32mbreak\u001b[0m\u001b[0;34m\u001b[0m\u001b[0;34m\u001b[0m\u001b[0m\n\u001b[1;32m    538\u001b[0m                 \u001b[0;32melse\u001b[0m\u001b[0;34m:\u001b[0m\u001b[0;34m\u001b[0m\u001b[0;34m\u001b[0m\u001b[0m\n",
            "\u001b[0;31mValueError\u001b[0m: The truth value of an array with more than one element is ambiguous. Use a.any() or a.all()"
          ]
        }
      ]
    },
    {
      "cell_type": "code",
      "metadata": {
        "id": "jecK3zCgp9H5"
      },
      "source": [
        "total_sale_price = locations['SALE_PRICE'] * list(hof[0])"
      ],
      "execution_count": null,
      "outputs": []
    },
    {
      "cell_type": "code",
      "metadata": {
        "colab": {
          "base_uri": "https://localhost:8080/"
        },
        "id": "bGAqe-p03yFT",
        "outputId": "25eb06c2-3157-4c9d-dbce-aab56d27a5e2"
      },
      "source": [
        "individual = toolbox.population(n=1)[0]\n",
        "total_sale_price = locations['SALE_PRICE'] * list(individual)\n",
        "print(total_sale_price.head(2) / 1e6)\n",
        "print(max(total_sale_price)  / 1e6)\n",
        "\n",
        "print(locations['SALE_PRICE'].head(2))\n",
        "print(individual[0:2])\n",
        "print(sum(total_sale_price) / 1e6)"
      ],
      "execution_count": null,
      "outputs": [
        {
          "output_type": "stream",
          "text": [
            "0    3.579589\n",
            "1    1.022091\n",
            "Name: SALE_PRICE, dtype: float64\n",
            "11.59974\n",
            "0    275353\n",
            "1    146013\n",
            "Name: SALE_PRICE, dtype: int64\n",
            "[13  7]\n",
            "287.024445\n"
          ],
          "name": "stdout"
        }
      ]
    },
    {
      "cell_type": "code",
      "metadata": {
        "id": "feKHruImqAcV",
        "colab": {
          "base_uri": "https://localhost:8080/"
        },
        "outputId": "ceba94dd-0fc9-42c9-ab3c-6508598b6ced"
      },
      "source": [
        "individual = hof[0]\n",
        "print(individual)\n",
        "print(fitness_portfolio_total(individual))\n",
        "print(fitness_portfolio_metrics(individual))"
      ],
      "execution_count": null,
      "outputs": [
        {
          "output_type": "stream",
          "text": [
            "[ 7  1 10  9  6  8 10  0  3  4 11 12 10 12 12  3 11 13 12 10  2  1 13  6\n",
            "  7  3 11  0  1  6 10  0  1  2  1  9  0  9  4  3  8  3  1 13  0 12  7  6\n",
            "  3  4 11  2  8  6  5  8  4 11  5 11  7  8  2  0  0  3  7  2  3  3  0 10\n",
            "  4  3 10  3 13 12  0 11 12  4 13 13  1  2  4  3 10 13  9 10  3 13 10  3\n",
            "  2  9  4  6  7  4 11  5  2  4  2 13  2  4  0  2  0  1  1  8  0 13  2  5\n",
            "  8  4 13  6 12  7]\n",
            "(11168558,)\n",
            "(11168558, 279575271)\n"
          ],
          "name": "stdout"
        }
      ]
    },
    {
      "cell_type": "code",
      "metadata": {
        "colab": {
          "base_uri": "https://localhost:8080/"
        },
        "id": "aFfo0KrGqIOg",
        "outputId": "c7bd5eff-d6d4-4d22-8ba2-71fbd002b303"
      },
      "source": [
        "z = fitness_portfolio_metrics(hof[0])\n",
        "print(sum(hof[0]))\n",
        "print(z[0])\n",
        "print(z[1]/1e8)\n",
        "print(z[0] / z[1])"
      ],
      "execution_count": null,
      "outputs": [
        {
          "output_type": "stream",
          "text": [
            "762\n",
            "11168558\n",
            "2.79575271\n",
            "0.03994830429762867\n"
          ],
          "name": "stdout"
        }
      ]
    },
    {
      "cell_type": "code",
      "metadata": {
        "colab": {
          "base_uri": "https://localhost:8080/"
        },
        "id": "fDQz3G5_tovP",
        "outputId": "60ff879b-28dd-4b1a-84fa-7cbfb5510106"
      },
      "source": [
        "print(hof[0])\n",
        "print(fitness_portfolio_total(hof[0]))"
      ],
      "execution_count": null,
      "outputs": [
        {
          "output_type": "stream",
          "text": [
            "[ 60  15  80  78  51  68 117  87   2  26 126  34  90 116 102  80 102  97\n",
            "  25  89 104  99  83 124  18  10 110  53  56  25  92   3  10  51  86 116\n",
            "   0 118   8  22  13  75   5 121  75  33  28  69  25  11 104   3  98  58\n",
            "  50 114  27  37  95  17  70  54  45  65  39  95  46  88  62  66  22   6\n",
            "   0  29  59  20  27  28   7  82  35  27  86  31 106 101   3  92 103 120\n",
            "  38 111 109  14 113  20  38  28  82 111  72  86  30 116 123 111  83  31\n",
            " 121 122  19  78  33  54 117  56  38  90  47  21  35  19 105  22  38   5]\n",
            "(0,)\n"
          ],
          "name": "stdout"
        }
      ]
    },
    {
      "cell_type": "code",
      "metadata": {
        "colab": {
          "base_uri": "https://localhost:8080/",
          "height": 295
        },
        "id": "GuJmJCF23Nc4",
        "outputId": "0c525a0d-a875-49f4-e057-3a6d8f9f37ab"
      },
      "source": [
        "plot_convergence_chart(logbook)"
      ],
      "execution_count": null,
      "outputs": [
        {
          "output_type": "display_data",
          "data": {
            "image/png": "[encoded data removed]",
            "text/plain": [
              "<Figure size 432x288 with 1 Axes>"
            ]
          },
          "metadata": {
            "tags": [],
            "needs_background": "light"
          }
        }
      ]
    }
  ]
}
