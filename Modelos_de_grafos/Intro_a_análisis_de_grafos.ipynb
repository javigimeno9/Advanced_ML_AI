{
  "nbformat": 4,
  "nbformat_minor": 0,
  "metadata": {
    "colab": {
      "provenance": [],
      "toc_visible": true
    },
    "kernelspec": {
      "name": "python3",
      "display_name": "Python 3"
    },
    "language_info": {
      "name": "python"
    }
  },
  "cells": [
    {
      "cell_type": "markdown",
      "metadata": {
        "id": "leFeEbJEjb7x"
      },
      "source": [
        "<img src=\"https://thevalley.es/wp-content/uploads/2016/11/thevalley-logo-negro.png\" width=\"400\"></img>\n",
        "\n",
        "# Ejercicio 1 - Introducción al análisis de grafos\n",
        "\n",
        "networkX es un paquete de software en lenguaje Python para la creación, manipulación y estudio de la estructura, dinámica y función de redes complejas.\n",
        "\n",
        "![networkx](https://networkx.org/_static/networkx_logo.svg)\n",
        "\n",
        "Con NetworkX puede cargar y almacenar redes en formatos de datos estándar y no estándar, generar muchos tipos de redes clásicas y aleatorias, analizar la estructura de la red, construir modelos de red, diseñar nuevos algoritmos de red, dibujar redes y mucho más.\n",
        "\n",
        "Documentación de la librería: https://networkx.github.io/\n",
        "\n",
        "**Notebook por: David Rey**"
      ]
    },
    {
      "cell_type": "markdown",
      "metadata": {
        "id": "BHN82vtTkFpi"
      },
      "source": [
        "# Importación de librerías"
      ]
    },
    {
      "cell_type": "code",
      "metadata": {
        "id": "_fNVz-RRjbGu"
      },
      "source": [
        "%matplotlib inline\n",
        "\n",
        "import networkx as nx\n",
        "import pandas as pd\n",
        "import matplotlib.pyplot as plt\n",
        "from matplotlib.pyplot import figure\n",
        "import requests"
      ],
      "execution_count": null,
      "outputs": []
    },
    {
      "cell_type": "markdown",
      "metadata": {
        "id": "XmT6R-cIkKcU"
      },
      "source": [
        "# Creación de nuestro primer grafo (no dirigido)\n",
        "\n",
        "Creamos nuestro primer grafo no dirigido"
      ]
    },
    {
      "cell_type": "code",
      "metadata": {
        "id": "Fdr7pfwKkNoJ"
      },
      "source": [
        "#\n",
        "# Creamos nuestro primer grafo (no dirigido)\n",
        "#\n",
        "G = nx.Graph()"
      ],
      "execution_count": null,
      "outputs": []
    },
    {
      "cell_type": "markdown",
      "metadata": {
        "id": "DNICm7qRtVce"
      },
      "source": [
        "Establecemos unas guías de estilo para visualizar mejor los grafos"
      ]
    },
    {
      "cell_type": "code",
      "metadata": {
        "id": "90-TjEeetSTt"
      },
      "source": [
        "#\n",
        "# Establecemos unas opciones de visualización\n",
        "#\n",
        "draw_options = {\n",
        "    \"font_size\": 12,\n",
        "    \"node_size\": 2000,\n",
        "    \"node_color\": \"yellow\",\n",
        "    \"edgecolors\": \"black\",\n",
        "    \"linewidths\": 3,\n",
        "    \"width\": 3\n",
        "}\n",
        "draw_options_small = {\n",
        "    \"font_size\": 8,\n",
        "    \"node_size\": 700,\n",
        "    \"node_color\": \"yellow\",\n",
        "    \"edgecolors\": \"black\",\n",
        "    \"linewidths\": 2,\n",
        "    \"width\": 2\n",
        "}"
      ],
      "execution_count": null,
      "outputs": []
    },
    {
      "cell_type": "markdown",
      "metadata": {
        "id": "6EjLNsAIkob9"
      },
      "source": [
        "## Añadir nodos individualmente\n",
        "Podemos añadir nodos bien uno a uno o en una lista"
      ]
    },
    {
      "cell_type": "code",
      "metadata": {
        "colab": {
          "base_uri": "https://localhost:8080/",
          "height": 406
        },
        "id": "n6wsOr-4kXNl",
        "outputId": "07e84b07-074b-493b-d5c6-5f60d38a6afc"
      },
      "source": [
        "#\n",
        "# Añadimos nodos, lo podemos hacer individualmente o desde una lista\n",
        "#\n",
        "#G.add_node(1)\n",
        "G.add_nodes_from([1, 2, 3])\n",
        "G.add_node(666)\n",
        "\n",
        "#\n",
        "# Dibujamos nuestro grafo sin relaciones\n",
        "#\n",
        "nx.draw_networkx(G, **draw_options)"
      ],
      "execution_count": null,
      "outputs": [
        {
          "output_type": "display_data",
          "data": {
            "text/plain": [
              "<Figure size 640x480 with 1 Axes>"
            ],
            "image/png": "[encoded data removed]"
          },
          "metadata": {}
        }
      ]
    },
    {
      "cell_type": "markdown",
      "metadata": {
        "id": "Caan5U4Xtw3i"
      },
      "source": [
        "Podemos mejorar la visualización usando ciertas opciones de matplotlib"
      ]
    },
    {
      "cell_type": "code",
      "metadata": {
        "colab": {
          "base_uri": "https://localhost:8080/",
          "height": 406
        },
        "id": "14f-iPMqtv_-",
        "outputId": "abb3e8c5-8565-49a2-cd57-8556efb90b40"
      },
      "source": [
        "# Mostramos el grafo\n",
        "nx.draw_networkx(G, **draw_options)\n",
        "# Establecer márgenes para los ejes para que los nodos no se corten\n",
        "ax = plt.gca()\n",
        "ax.margins(0.20)\n",
        "plt.axis(\"off\")\n",
        "plt.show()"
      ],
      "execution_count": null,
      "outputs": [
        {
          "output_type": "display_data",
          "data": {
            "text/plain": [
              "<Figure size 640x480 with 1 Axes>"
            ],
            "image/png": "[encoded data removed]"
          },
          "metadata": {}
        }
      ]
    },
    {
      "cell_type": "code",
      "metadata": {
        "colab": {
          "base_uri": "https://localhost:8080/",
          "height": 406
        },
        "id": "FWF7gRoYQqK2",
        "outputId": "181ba588-cdda-4a8e-c318-4ed88d0d4245"
      },
      "source": [
        "#\n",
        "# Eliminamos un nodo 666\n",
        "#\n",
        "G.remove_node(666)\n",
        "\n",
        "#\n",
        "# Mostramos el grafo\n",
        "#\n",
        "nx.draw_networkx(G, **draw_options)\n",
        "# Establecer márgenes para los ejes para que los nodos no se corten\n",
        "ax = plt.gca()\n",
        "ax.margins(0.20)\n",
        "plt.axis(\"off\")\n",
        "plt.show()"
      ],
      "execution_count": null,
      "outputs": [
        {
          "output_type": "display_data",
          "data": {
            "text/plain": [
              "<Figure size 640x480 with 1 Axes>"
            ],
            "image/png": "[encoded data removed]"
          },
          "metadata": {}
        }
      ]
    },
    {
      "cell_type": "code",
      "metadata": {
        "colab": {
          "base_uri": "https://localhost:8080/"
        },
        "id": "A5rt7eF38xhN",
        "outputId": "93321ef2-14e2-465c-a59e-a7db6d4028bf"
      },
      "source": [
        "#\n",
        "# Podemos recorrer los nodos iterando por ellos\n",
        "#\n",
        "for u in G.nodes:\n",
        "  print(' Nodo ' + str(u) )"
      ],
      "execution_count": null,
      "outputs": [
        {
          "output_type": "stream",
          "name": "stdout",
          "text": [
            " Nodo 1\n",
            " Nodo 2\n",
            " Nodo 3\n"
          ]
        }
      ]
    },
    {
      "cell_type": "markdown",
      "metadata": {
        "id": "k3KClywnk31N"
      },
      "source": [
        "## Añadir aristas\n"
      ]
    },
    {
      "cell_type": "code",
      "metadata": {
        "colab": {
          "base_uri": "https://localhost:8080/",
          "height": 406
        },
        "id": "zYi8B_XIk5Z2",
        "outputId": "f4435f5d-7172-40e5-b1ce-9e51784c6cdb"
      },
      "source": [
        "#\n",
        "# Podemos añadir una arista indicando los codigos de los nodos\n",
        "#\n",
        "G.add_edge(1, 2)\n",
        "G.add_edge(3, 2)\n",
        "#\n",
        "# Dibujamos nuestro grafo con una primera relación\n",
        "#\n",
        "nx.draw_networkx(G, **draw_options_small)\n",
        "ax = plt.gca()\n",
        "ax.margins(0.20)\n",
        "plt.axis(\"off\")\n",
        "plt.show()"
      ],
      "execution_count": null,
      "outputs": [
        {
          "output_type": "display_data",
          "data": {
            "text/plain": [
              "<Figure size 640x480 with 1 Axes>"
            ],
            "image/png": "[encoded data removed]"
          },
          "metadata": {}
        }
      ]
    },
    {
      "cell_type": "code",
      "metadata": {
        "colab": {
          "base_uri": "https://localhost:8080/"
        },
        "id": "xxULSvmp8fsK",
        "outputId": "e462c2d0-4e83-4926-a64a-8b8676a5a1b2"
      },
      "source": [
        "#\n",
        "# Podemos recorrer las aristas iterando sobre ellas\n",
        "#\n",
        "for n_1, n_2 in G.edges:\n",
        "  print(' Arista de ' + str(n_1) + ' a ' + str(n_2))"
      ],
      "execution_count": null,
      "outputs": [
        {
          "output_type": "stream",
          "name": "stdout",
          "text": [
            " Arista de 1 a 2\n",
            " Arista de 2 a 3\n"
          ]
        }
      ]
    },
    {
      "cell_type": "code",
      "metadata": {
        "colab": {
          "base_uri": "https://localhost:8080/",
          "height": 406
        },
        "id": "otEchuE0lRR6",
        "outputId": "85d73364-297e-4d72-a393-cb89b2a6a5c4"
      },
      "source": [
        "#\n",
        "# Importante! que las relaciones repetidas se ignoran\n",
        "#\n",
        "G.add_edges_from([(1,2),(2,3)])\n",
        "#\n",
        "nx.draw_networkx(G, **draw_options_small)\n",
        "ax = plt.gca()\n",
        "ax.margins(0.20)\n",
        "plt.axis(\"off\")\n",
        "plt.show()\n"
      ],
      "execution_count": null,
      "outputs": [
        {
          "output_type": "display_data",
          "data": {
            "text/plain": [
              "<Figure size 640x480 with 1 Axes>"
            ],
            "image/png": "[encoded data removed]"
          },
          "metadata": {}
        }
      ]
    },
    {
      "cell_type": "code",
      "metadata": {
        "colab": {
          "base_uri": "https://localhost:8080/",
          "height": 406
        },
        "id": "3SGO5GkXlcJt",
        "outputId": "3ebe4f03-572d-45a8-a4c2-38733b23437e"
      },
      "source": [
        "#\n",
        "# Añade un nodo llamado 'spam'\n",
        "#\n",
        "G.add_node('spam')\n",
        "#\n",
        "nx.draw_networkx(G, **draw_options_small)\n",
        "ax = plt.gca()\n",
        "ax.margins(0.20)\n",
        "plt.axis(\"off\")\n",
        "plt.show()"
      ],
      "execution_count": null,
      "outputs": [
        {
          "output_type": "display_data",
          "data": {
            "text/plain": [
              "<Figure size 640x480 with 1 Axes>"
            ],
            "image/png": "[encoded data removed]"
          },
          "metadata": {}
        }
      ]
    },
    {
      "cell_type": "markdown",
      "metadata": {
        "id": "MlQPCWkzlYTh"
      },
      "source": [
        "Ahora probamos a añadir nodos cuyo códigos no sean numéricos"
      ]
    },
    {
      "cell_type": "code",
      "metadata": {
        "colab": {
          "base_uri": "https://localhost:8080/",
          "height": 406
        },
        "id": "9XKZtYiqruzb",
        "outputId": "db154344-bf3d-4f00-8186-5c848ee4a96c"
      },
      "source": [
        "#\n",
        "# En cambio, si utilizamos add nodes from (entiende que es una lista, en este caso de caracteres)\n",
        "# y añade 4 nodos: 's', 'p', 'a', 'm'\n",
        "#\n",
        "G.add_nodes_from('spam')\n",
        "\n",
        "#\n",
        "nx.draw_networkx(G, **draw_options_small)\n",
        "ax = plt.gca()\n",
        "ax.margins(0.20)\n",
        "plt.axis(\"off\")\n",
        "plt.show()"
      ],
      "execution_count": null,
      "outputs": [
        {
          "output_type": "display_data",
          "data": {
            "text/plain": [
              "<Figure size 640x480 with 1 Axes>"
            ],
            "image/png": "[encoded data removed]"
          },
          "metadata": {}
        }
      ]
    },
    {
      "cell_type": "markdown",
      "metadata": {
        "id": "QBQKNpmtpWWt"
      },
      "source": [
        "## Representación del grafo\n",
        "\n",
        "En networkx un grafo se define como un diccionario de diccionarios, en particular como un diccionario de adyacencias.\n",
        "\n",
        "* G[u] se refiere al nodo u en el grafo\n",
        "* G[u][v] se refiere a la arista que va desde u a v\n",
        "\n",
        "Networkx utiliza unas clases de tipo Vista (**View**) para representar la información"
      ]
    },
    {
      "cell_type": "code",
      "metadata": {
        "colab": {
          "base_uri": "https://localhost:8080/"
        },
        "id": "0MpmTYCFphk_",
        "outputId": "17e2de1b-3a30-4fc6-a8d1-02fc4dd99e9e"
      },
      "source": [
        "#\n",
        "# Mostramos las aristas (como una vista)\n",
        "#\n",
        "\n",
        "G.edges"
      ],
      "execution_count": null,
      "outputs": [
        {
          "output_type": "execute_result",
          "data": {
            "text/plain": [
              "EdgeView([(1, 2), (2, 3)])"
            ]
          },
          "metadata": {},
          "execution_count": 13
        }
      ]
    },
    {
      "cell_type": "code",
      "source": [
        "#\n",
        "# Mostramos los nodos\n",
        "#\n",
        "\n",
        "G.nodes"
      ],
      "metadata": {
        "colab": {
          "base_uri": "https://localhost:8080/"
        },
        "id": "7EwbarUJordY",
        "outputId": "2b26a0ec-84df-4069-8beb-c01ac210bfcc"
      },
      "execution_count": null,
      "outputs": [
        {
          "output_type": "execute_result",
          "data": {
            "text/plain": [
              "NodeView((1, 2, 3, 'spam', 's', 'p', 'a', 'm'))"
            ]
          },
          "metadata": {},
          "execution_count": 14
        }
      ]
    },
    {
      "cell_type": "code",
      "metadata": {
        "colab": {
          "base_uri": "https://localhost:8080/"
        },
        "id": "2CZ9lU3qpVVd",
        "outputId": "1ff6a51b-c5d2-486e-e563-65e741ef3931"
      },
      "source": [
        "#\n",
        "# Mostramos las aristas como relaciones de adyacencia\n",
        "#\n",
        "\n",
        "G.adj"
      ],
      "execution_count": null,
      "outputs": [
        {
          "output_type": "execute_result",
          "data": {
            "text/plain": [
              "AdjacencyView({1: {2: {}}, 2: {1: {}, 3: {}}, 3: {2: {}}, 'spam': {}, 's': {}, 'p': {}, 'a': {}, 'm': {}})"
            ]
          },
          "metadata": {},
          "execution_count": 15
        }
      ]
    },
    {
      "cell_type": "markdown",
      "metadata": {
        "id": "Rjmf24VF-N5L"
      },
      "source": [
        "Podemos utilizar las funciones de álgebra lineal para ver las representación de las formas dispersas y densa"
      ]
    },
    {
      "cell_type": "code",
      "metadata": {
        "colab": {
          "base_uri": "https://localhost:8080/"
        },
        "id": "9WVbfvnh-S-n",
        "outputId": "7a8fe214-12a7-4e39-defa-e58f31ff16d1"
      },
      "source": [
        "A = nx.adjacency_matrix(G)\n",
        "#\n",
        "# En formato disperso\n",
        "#\n",
        "print(A)"
      ],
      "execution_count": null,
      "outputs": [
        {
          "output_type": "stream",
          "name": "stdout",
          "text": [
            "  (0, 1)\t1\n",
            "  (1, 0)\t1\n",
            "  (1, 2)\t1\n",
            "  (2, 1)\t1\n"
          ]
        }
      ]
    },
    {
      "cell_type": "code",
      "metadata": {
        "id": "rimWLaeR-oMc",
        "colab": {
          "base_uri": "https://localhost:8080/"
        },
        "outputId": "dacfa961-f369-4f7a-cc5e-5d4b06d6a575"
      },
      "source": [
        "#\n",
        "# En formato denso\n",
        "#\n",
        "print(A.todense())"
      ],
      "execution_count": null,
      "outputs": [
        {
          "output_type": "stream",
          "name": "stdout",
          "text": [
            "[[0 1 0 0 0 0 0 0]\n",
            " [1 0 1 0 0 0 0 0]\n",
            " [0 1 0 0 0 0 0 0]\n",
            " [0 0 0 0 0 0 0 0]\n",
            " [0 0 0 0 0 0 0 0]\n",
            " [0 0 0 0 0 0 0 0]\n",
            " [0 0 0 0 0 0 0 0]\n",
            " [0 0 0 0 0 0 0 0]]\n"
          ]
        }
      ]
    },
    {
      "cell_type": "markdown",
      "metadata": {
        "id": "bwrXhHjL-64I"
      },
      "source": [
        "Vemos como al ser un grafo no dirigido la matriz es simétrica por la diagonal"
      ]
    },
    {
      "cell_type": "markdown",
      "metadata": {
        "id": "MNfNGOMVlwnx"
      },
      "source": [
        "## Métricas de los grafos"
      ]
    },
    {
      "cell_type": "code",
      "metadata": {
        "colab": {
          "base_uri": "https://localhost:8080/"
        },
        "id": "mZOAe5vZlzwL",
        "outputId": "23f0ee99-b370-4f3c-cd04-8682ec9aff7d"
      },
      "source": [
        "# Mostramos el número de nodos y de aristas\n",
        "G.number_of_nodes(), G.number_of_edges()"
      ],
      "execution_count": null,
      "outputs": [
        {
          "output_type": "execute_result",
          "data": {
            "text/plain": [
              "(8, 2)"
            ]
          },
          "metadata": {},
          "execution_count": 18
        }
      ]
    },
    {
      "cell_type": "code",
      "metadata": {
        "colab": {
          "base_uri": "https://localhost:8080/"
        },
        "id": "9YIEcdZ2r628",
        "outputId": "f3ff415f-b3aa-446f-b39a-5849d5f36367"
      },
      "source": [
        "# Vamos a analizar el nodo 1, mostramos sus relaciones\n",
        "G[1]"
      ],
      "execution_count": null,
      "outputs": [
        {
          "output_type": "execute_result",
          "data": {
            "text/plain": [
              "AtlasView({2: {}})"
            ]
          },
          "metadata": {},
          "execution_count": 19
        }
      ]
    },
    {
      "cell_type": "code",
      "metadata": {
        "colab": {
          "base_uri": "https://localhost:8080/"
        },
        "id": "OdIf_dElo2Lq",
        "outputId": "62e22673-392b-4aae-fd89-712a3606d29c"
      },
      "source": [
        "#\n",
        "# Calculamos el grado de un nodo 1\n",
        "#\n",
        "G.degree(1)\n",
        "\n",
        "#\n",
        "# Existe una variante ponderada de la medida en la que le indicaríamos un grado ponderado\n",
        "#  por el atributo que decidiéramos, ejemplo:\n",
        "#\n",
        "#   G.degree(1, weight='weight')\n",
        "#"
      ],
      "execution_count": null,
      "outputs": [
        {
          "output_type": "execute_result",
          "data": {
            "text/plain": [
              "1"
            ]
          },
          "metadata": {},
          "execution_count": 20
        }
      ]
    },
    {
      "cell_type": "markdown",
      "metadata": {
        "id": "qg_-QxF7mH-5"
      },
      "source": [
        "## Atributos de nodos / aristas\n",
        "\n",
        "Podemos asignar atributos a los diferentes elementos del grafo:\n",
        "* Al propio grafo\n",
        "* Al nodo (vértice)\n",
        "* A la relación (arista)"
      ]
    },
    {
      "cell_type": "markdown",
      "metadata": {
        "id": "bpqTf43sm4GK"
      },
      "source": [
        "### Asignación de atributos a nodos\n",
        "\n",
        "Podemos asignar atributos al nodo"
      ]
    },
    {
      "cell_type": "code",
      "metadata": {
        "id": "M7ayRwHmm7cJ"
      },
      "source": [
        "#\n",
        "# Asignamos un atributo a un nodo\n",
        "#\n",
        "G.nodes[1]['product'] = 'house'"
      ],
      "execution_count": null,
      "outputs": []
    },
    {
      "cell_type": "code",
      "metadata": {
        "colab": {
          "base_uri": "https://localhost:8080/"
        },
        "id": "aSK3Qvtknm7s",
        "outputId": "2db1bfae-ed24-4e57-ffdc-29cedb735825"
      },
      "source": [
        "print(G.nodes[1])\n",
        "print(G[1])"
      ],
      "execution_count": null,
      "outputs": [
        {
          "output_type": "stream",
          "name": "stdout",
          "text": [
            "{'product': 'house'}\n",
            "{2: {}}\n"
          ]
        }
      ]
    },
    {
      "cell_type": "markdown",
      "metadata": {
        "id": "fJu4feZqm0xa"
      },
      "source": [
        "### Asignación de atributos a relaciones / aristas"
      ]
    },
    {
      "cell_type": "code",
      "metadata": {
        "id": "-Ev1-ji2mL6R"
      },
      "source": [
        "#\n",
        "# Asignamos un atributo a una arista\n",
        "#\n",
        "G[1][2]['coste'] = 'alto'"
      ],
      "execution_count": null,
      "outputs": []
    },
    {
      "cell_type": "code",
      "metadata": {
        "colab": {
          "base_uri": "https://localhost:8080/"
        },
        "id": "W91Jvh1HmnVN",
        "outputId": "bb61cd57-4f06-480e-bf90-bb1556107550"
      },
      "source": [
        "#\n",
        "# Mostramos el contenido de la arista 1 -> 2\n",
        "#\n",
        "G[1][2]"
      ],
      "execution_count": null,
      "outputs": [
        {
          "output_type": "execute_result",
          "data": {
            "text/plain": [
              "{'coste': 'alto'}"
            ]
          },
          "metadata": {},
          "execution_count": 24
        }
      ]
    },
    {
      "cell_type": "markdown",
      "metadata": {
        "id": "6pJPoxjTEI7j"
      },
      "source": [
        "## Algoritmos\n",
        "\n",
        "Existe una gran cantidad de algoritmos disponibles, vamos a utilizar uno de los más conocidos que es **PageRank**. Calcula el nivel de popularidad como un proceso en que cada arista que termina en el nodo recibe una votación positiva."
      ]
    },
    {
      "cell_type": "code",
      "metadata": {
        "colab": {
          "base_uri": "https://localhost:8080/"
        },
        "id": "0tJWzHNPEH_F",
        "outputId": "0791723f-fdba-4c51-c211-e6224e40dc51"
      },
      "source": [
        "nx.pagerank(G)"
      ],
      "execution_count": null,
      "outputs": [
        {
          "output_type": "execute_result",
          "data": {
            "text/plain": [
              "{1: 0.2054045307674539,\n",
              " 2: 0.3891909384650922,\n",
              " 3: 0.2054045307674539,\n",
              " 'spam': 0.04000000000000001,\n",
              " 's': 0.04000000000000001,\n",
              " 'p': 0.04000000000000001,\n",
              " 'a': 0.04000000000000001,\n",
              " 'm': 0.04000000000000001}"
            ]
          },
          "metadata": {},
          "execution_count": 25
        }
      ]
    },
    {
      "cell_type": "markdown",
      "metadata": {
        "id": "xToRTJ1dos5k"
      },
      "source": [
        "# Creación de grafos dirigidos\n",
        "Hasta ahora hemos creado un grafo no dirigido, podríamos"
      ]
    },
    {
      "cell_type": "code",
      "metadata": {
        "colab": {
          "base_uri": "https://localhost:8080/",
          "height": 406
        },
        "id": "7rAQ8ggLpcyP",
        "outputId": "3b6445db-0ecd-4e50-edac-8e1981bbdcc4"
      },
      "source": [
        "#\n",
        "# Creamos un grafo dirigido, en este caso incorporamos\n",
        "#  un peso (coste) en la arista\n",
        "#\n",
        "DG = nx.DiGraph()\n",
        "DG.add_weighted_edges_from([(1, 2 ,0.5), (3, 1, 0.75)])\n",
        "\n",
        "#\n",
        "# Mostramos el grafo\n",
        "#\n",
        "nx.draw_networkx(DG, **draw_options)\n",
        "ax = plt.gca()\n",
        "ax.margins(0.20)\n",
        "plt.axis(\"off\")\n",
        "plt.show()"
      ],
      "execution_count": null,
      "outputs": [
        {
          "output_type": "display_data",
          "data": {
            "text/plain": [
              "<Figure size 640x480 with 1 Axes>"
            ],
            "image/png": "[encoded data removed]"
          },
          "metadata": {}
        }
      ]
    },
    {
      "cell_type": "code",
      "metadata": {
        "colab": {
          "base_uri": "https://localhost:8080/"
        },
        "id": "t-mP9sRKpv54",
        "outputId": "7e598190-a14e-488d-c867-63526fb0db2f"
      },
      "source": [
        "#\n",
        "# Calculamos el grado saliente\n",
        "#\n",
        "DG.in_degree(2)"
      ],
      "execution_count": null,
      "outputs": [
        {
          "output_type": "execute_result",
          "data": {
            "text/plain": [
              "1"
            ]
          },
          "metadata": {},
          "execution_count": 27
        }
      ]
    },
    {
      "cell_type": "code",
      "metadata": {
        "colab": {
          "base_uri": "https://localhost:8080/"
        },
        "id": "b_c1Dcscpz1A",
        "outputId": "4e0df1aa-19b1-4219-aaf7-0c7b8b213de8"
      },
      "source": [
        "#\n",
        "# Calculamos el grado (saliente ponderado)\n",
        "#\n",
        "DG.out_degree(1, weight='weight')"
      ],
      "execution_count": null,
      "outputs": [
        {
          "output_type": "execute_result",
          "data": {
            "text/plain": [
              "0.5"
            ]
          },
          "metadata": {},
          "execution_count": 28
        }
      ]
    },
    {
      "cell_type": "markdown",
      "metadata": {
        "id": "X8CrmhpKmLk2"
      },
      "source": [
        "## Relaciones con nodos relacionados\n",
        "Como el dato es dirigido podemos buscar las relaciones entrantes y salientes del grafo"
      ]
    },
    {
      "cell_type": "code",
      "metadata": {
        "id": "WxHUIRx8jqIO",
        "colab": {
          "base_uri": "https://localhost:8080/"
        },
        "outputId": "f7cb09fe-e88c-4546-8d07-96dab8f12c13"
      },
      "source": [
        "#\n",
        "# Vemos los sucesores al nodo 1 (el objeto que devuelve DG.successors(1) es un iterador)\n",
        "#\n",
        "for item in DG.successors(1):\n",
        "  print(item)"
      ],
      "execution_count": null,
      "outputs": [
        {
          "output_type": "stream",
          "name": "stdout",
          "text": [
            "2\n"
          ]
        }
      ]
    },
    {
      "cell_type": "code",
      "metadata": {
        "colab": {
          "base_uri": "https://localhost:8080/"
        },
        "id": "7uPB-OOAqD6q",
        "outputId": "83bd68a0-e79a-4554-8dad-3bad10b15f55"
      },
      "source": [
        "#\n",
        "# Vemos los predecesores del nodo 1 (el objeto que devuelve DG.predecessors(1) es un iterador)\n",
        "#\n",
        "for item in DG.predecessors(1):\n",
        "  print(item)"
      ],
      "execution_count": null,
      "outputs": [
        {
          "output_type": "stream",
          "name": "stdout",
          "text": [
            "3\n"
          ]
        }
      ]
    },
    {
      "cell_type": "markdown",
      "metadata": {
        "id": "PKedQItbu9W7"
      },
      "source": [
        "## Ejemplo grafo de amistades\n",
        "\n",
        "Crea un grafo dirigido en el que modelemos la relación entre varios amigos:\n",
        "\n",
        "* Juan que tiene 15 años y Pedro son hermanos\n",
        "* Marisa es madre de Pedro y de Juan\n",
        "* Pedro se considera amigo de Julia, que tiene 17 años, pero ella no cree que Pedro es su amigo\n",
        "\n",
        "El tipo de relación será un atributo de relación llamado: **relacion**\n",
        "y el atributo de edad será un atributo llamado: **edad**\n",
        "\n",
        "Al final mostraremos el resultado\n"
      ]
    },
    {
      "cell_type": "code",
      "metadata": {
        "id": "SsKHSdf2vqEW"
      },
      "source": [
        "# Creamos el grafo dirigido\n",
        "amigos = nx.DiGraph()"
      ],
      "execution_count": null,
      "outputs": []
    },
    {
      "cell_type": "code",
      "metadata": {
        "id": "W0vAUTqovt-M"
      },
      "source": [
        "# Construimos los nodos\n",
        "amigos.add_node('Juan', edad=15, peso=50)\n",
        "amigos.add_node('Pedro')\n",
        "amigos.add_node('Marisa')\n",
        "amigos.add_node('Julia', edad=17)"
      ],
      "execution_count": null,
      "outputs": []
    },
    {
      "cell_type": "code",
      "metadata": {
        "colab": {
          "base_uri": "https://localhost:8080/"
        },
        "id": "rIWzmEkpv26I",
        "outputId": "9d4381e8-3bec-43ff-d8b9-ce14a6426a77"
      },
      "source": [
        "# Mostramos el contenido de nuestro grafo\n",
        "amigos.nodes(data=True)"
      ],
      "execution_count": null,
      "outputs": [
        {
          "output_type": "execute_result",
          "data": {
            "text/plain": [
              "NodeDataView({'Juan': {'edad': 15, 'peso': 50}, 'Pedro': {}, 'Marisa': {}, 'Julia': {'edad': 17}})"
            ]
          },
          "metadata": {},
          "execution_count": 33
        }
      ]
    },
    {
      "cell_type": "code",
      "metadata": {
        "colab": {
          "base_uri": "https://localhost:8080/",
          "height": 406
        },
        "id": "qj70mH7Qwfvy",
        "outputId": "8aad80b1-e992-456a-b837-a05f887965cd"
      },
      "source": [
        "#\n",
        "# Vemos el resultado\n",
        "#\n",
        "nx.draw_networkx(amigos, **draw_options)\n",
        "ax = plt.gca()\n",
        "ax.margins(0.20)\n",
        "plt.axis(\"off\")\n",
        "plt.show()"
      ],
      "execution_count": null,
      "outputs": [
        {
          "output_type": "display_data",
          "data": {
            "text/plain": [
              "<Figure size 640x480 with 1 Axes>"
            ],
            "image/png": "[encoded data removed]"
          },
          "metadata": {}
        }
      ]
    },
    {
      "cell_type": "code",
      "metadata": {
        "id": "9Q86DAolwdf4"
      },
      "source": [
        "# Damos de alta las relaciones\n",
        "#\n",
        "# Mostramos el grafo\n",
        "#\n",
        "amigos.add_edge('Juan', 'Pedro', relacion = 'hermano')\n",
        "amigos.add_edge('Pedro', 'Juan', relacion = 'hermano')\n",
        "amigos.add_edge('Marisa', 'Juan', relacion = 'madre')\n",
        "amigos.add_edge('Marisa', 'Pedro', relacion = 'madre')\n",
        "amigos.add_edge('Pedro', 'Julia', relacion = 'amigo')"
      ],
      "execution_count": null,
      "outputs": []
    },
    {
      "cell_type": "code",
      "metadata": {
        "colab": {
          "base_uri": "https://localhost:8080/",
          "height": 406
        },
        "id": "HhuR7eF-xaYS",
        "outputId": "070158e3-b1d8-4a48-9bb1-c205216753a2"
      },
      "source": [
        "#\n",
        "# Vemos el resultado final\n",
        "#\n",
        "nx.draw_networkx(amigos, **draw_options)\n",
        "ax = plt.gca()\n",
        "ax.margins(0.20)\n",
        "plt.axis(\"off\")\n",
        "plt.show()"
      ],
      "execution_count": null,
      "outputs": [
        {
          "output_type": "display_data",
          "data": {
            "text/plain": [
              "<Figure size 640x480 with 1 Axes>"
            ],
            "image/png": "[encoded data removed]"
          },
          "metadata": {}
        }
      ]
    },
    {
      "cell_type": "markdown",
      "metadata": {
        "id": "TelJvdsu3pRy"
      },
      "source": [
        "Podemos mejorar la representación del grafo mostrando etiquetas en las aristas, aqui tomamos el valor de un atributo en particular."
      ]
    },
    {
      "cell_type": "code",
      "metadata": {
        "colab": {
          "base_uri": "https://localhost:8080/",
          "height": 341
        },
        "id": "YuwZ7HQz3xxR",
        "outputId": "7d6fa1ed-440e-4fb8-cd43-092d2c71dfb2"
      },
      "source": [
        "#\n",
        "# Mostramos el nuevo grafo\n",
        "#\n",
        "figure(figsize=(10, 5), dpi=80) # Ponemos un tamaño de 10 x 10\n",
        "\n",
        "#\n",
        "# Generamos unas posiciones para los elementos del grafo\n",
        "#\n",
        "pos=nx.spring_layout(amigos)\n",
        "nx.draw_networkx(amigos, **draw_options, pos=pos)\n",
        "edge_labels=dict([((u,v,),d['relacion'])\n",
        "for u,v,d in amigos.edges(data=True)])\n",
        "nx.draw_networkx_edge_labels(amigos,pos=pos, edge_labels=edge_labels)\n",
        "\n",
        "ax = plt.gca()\n",
        "ax.margins(0.20)\n",
        "plt.axis(\"off\")\n",
        "plt.show()"
      ],
      "execution_count": null,
      "outputs": [
        {
          "output_type": "display_data",
          "data": {
            "text/plain": [
              "<Figure size 800x400 with 1 Axes>"
            ],
            "image/png": "[encoded data removed]"
          },
          "metadata": {}
        }
      ]
    },
    {
      "cell_type": "markdown",
      "metadata": {
        "id": "lD_MaX38xl24"
      },
      "source": [
        "¿Cón cuantas personas tiene relación Pedro?"
      ]
    },
    {
      "cell_type": "code",
      "metadata": {
        "colab": {
          "base_uri": "https://localhost:8080/"
        },
        "id": "kVntZkcqxseV",
        "outputId": "eb6a40fb-6947-45f8-c77a-c7f82cb82d7f"
      },
      "source": [
        "amigos.edges('Pedro')"
      ],
      "execution_count": null,
      "outputs": [
        {
          "output_type": "execute_result",
          "data": {
            "text/plain": [
              "OutEdgeDataView([('Pedro', 'Juan'), ('Pedro', 'Julia')])"
            ]
          },
          "metadata": {},
          "execution_count": 38
        }
      ]
    },
    {
      "cell_type": "markdown",
      "metadata": {
        "id": "fyGW1B8ZyJYb"
      },
      "source": [
        "¿Y Julia?"
      ]
    },
    {
      "cell_type": "code",
      "metadata": {
        "colab": {
          "base_uri": "https://localhost:8080/"
        },
        "id": "jK-Sa8oLyJhm",
        "outputId": "b250271e-e21c-46e4-8bdf-ea713c7d272f"
      },
      "source": [
        "#\n",
        "#\n",
        "#\n",
        "amigos.edges('Julia')"
      ],
      "execution_count": null,
      "outputs": [
        {
          "output_type": "execute_result",
          "data": {
            "text/plain": [
              "OutEdgeDataView([])"
            ]
          },
          "metadata": {},
          "execution_count": 39
        }
      ]
    },
    {
      "cell_type": "markdown",
      "metadata": {
        "id": "hj6cuq-Vtnmo"
      },
      "source": [
        "¿Por qué hemos obtenido este resultado?"
      ]
    },
    {
      "cell_type": "code",
      "metadata": {
        "colab": {
          "base_uri": "https://localhost:8080/"
        },
        "id": "YpWmRti6yvjQ",
        "outputId": "d964470f-494d-4f9d-b825-6553a46e6927"
      },
      "source": [
        "#\n",
        "# Matriz de adyacencia\n",
        "#\n",
        "A = nx.adjacency_matrix(amigos)\n",
        "print(A)\n",
        "#\n",
        "# Para poder entenderla un poco mejor mostramos la matriz densa\n",
        "#\n",
        "print(A.todense())"
      ],
      "execution_count": null,
      "outputs": [
        {
          "output_type": "stream",
          "name": "stdout",
          "text": [
            "  (0, 1)\t1\n",
            "  (1, 0)\t1\n",
            "  (1, 3)\t1\n",
            "  (2, 0)\t1\n",
            "  (2, 1)\t1\n",
            "[[0 1 0 0]\n",
            " [1 0 0 1]\n",
            " [1 1 0 0]\n",
            " [0 0 0 0]]\n"
          ]
        }
      ]
    },
    {
      "cell_type": "markdown",
      "metadata": {
        "id": "qO_REyQ7RMnS"
      },
      "source": [
        "# Multigrafos\n",
        "\n",
        "Existe un tipo especial de \"grafos\" compuesto por varios grafos, denominados **multigrafos**, permiten tener más de una arista para la misma combinación de nodos.\n",
        "\n",
        "Las clases a utilizar son MultiGraph (*no dirigido*) o MultiDiGraph (*dirigido*)\n"
      ]
    },
    {
      "cell_type": "code",
      "metadata": {
        "colab": {
          "base_uri": "https://localhost:8080/"
        },
        "id": "Ou7fNz5DRhRw",
        "outputId": "24cecf2b-4003-4adf-fbe6-f5bd3a08276a"
      },
      "source": [
        "#\n",
        "# Creamos un grafo\n",
        "#\n",
        "G = nx.MultiDiGraph(day=\"Friday\")\n",
        "\n",
        "G.graph\n",
        "{'day': 'Friday'}"
      ],
      "execution_count": null,
      "outputs": [
        {
          "output_type": "execute_result",
          "data": {
            "text/plain": [
              "{'day': 'Friday'}"
            ]
          },
          "metadata": {},
          "execution_count": 41
        }
      ]
    },
    {
      "cell_type": "code",
      "metadata": {
        "colab": {
          "base_uri": "https://localhost:8080/"
        },
        "id": "cfqN1vBiSV1f",
        "outputId": "69a160eb-a040-4f54-daeb-8f83f51e7e39"
      },
      "source": [
        "#\n",
        "# Añadimos unos nodos\n",
        "#\n",
        "G.add_node(1, time=\"5pm\")\n",
        "\n",
        "G.add_nodes_from([3], time=\"2pm\")\n",
        "\n",
        "G.nodes[1]"
      ],
      "execution_count": null,
      "outputs": [
        {
          "output_type": "execute_result",
          "data": {
            "text/plain": [
              "{'time': '5pm'}"
            ]
          },
          "metadata": {},
          "execution_count": 42
        }
      ]
    },
    {
      "cell_type": "code",
      "metadata": {
        "colab": {
          "base_uri": "https://localhost:8080/"
        },
        "id": "ZRQgk3JlS2Ez",
        "outputId": "7d149211-6c42-4e89-91b3-44ca7d703c8e"
      },
      "source": [
        "#\n",
        "# Añadimos unos nodos\n",
        "#\n",
        "G.nodes[1][\"room\"] = 714\n",
        "print(str(list(G.nodes(data=True))))\n",
        "\n",
        "#\n",
        "# Borramos un atributo\n",
        "#\n",
        "del G.nodes[1][\"room\"]\n",
        "\n",
        "print(str(list(G.nodes(data=True))))"
      ],
      "execution_count": null,
      "outputs": [
        {
          "output_type": "stream",
          "name": "stdout",
          "text": [
            "[(1, {'time': '5pm', 'room': 714}), (3, {'time': '2pm'})]\n",
            "[(1, {'time': '5pm'}), (3, {'time': '2pm'})]\n"
          ]
        }
      ]
    },
    {
      "cell_type": "code",
      "metadata": {
        "id": "nG0de7YySZTh"
      },
      "source": [
        "#\n",
        "# Añadimos unas aristas (las primeras)\n",
        "#\n",
        "key = G.add_edge(1, 2, weight=4.7)\n",
        "\n",
        "keys = G.add_edges_from([(3, 4), (4, 5)], color=\"red\")\n",
        "\n",
        "#\n",
        "# Añadimos las segundas aristas\n",
        "#\n",
        "keys = G.add_edges_from([(1, 2, {\"color\": \"blue\"}), (2, 3, {\"weight\": 8})])\n",
        "\n",
        "G[1][2][0][\"weight\"] = 4.7\n",
        "\n",
        "G.edges[1, 2, 0][\"weight\"] = 4"
      ],
      "execution_count": null,
      "outputs": []
    },
    {
      "cell_type": "code",
      "metadata": {
        "colab": {
          "base_uri": "https://localhost:8080/"
        },
        "id": "78TgvdrNTgZG",
        "outputId": "278f92b7-eda7-4284-e9b1-0cd834770e92"
      },
      "source": [
        "#\n",
        "# Mostramos las aristas\n",
        "#\n",
        "list(G.edges(data=True))"
      ],
      "execution_count": null,
      "outputs": [
        {
          "output_type": "execute_result",
          "data": {
            "text/plain": [
              "[(1, 2, {'weight': 4}),\n",
              " (1, 2, {'color': 'blue'}),\n",
              " (3, 4, {'color': 'red'}),\n",
              " (2, 3, {'weight': 8}),\n",
              " (4, 5, {'color': 'red'})]"
            ]
          },
          "metadata": {},
          "execution_count": 45
        }
      ]
    },
    {
      "cell_type": "markdown",
      "metadata": {
        "id": "NAHTpe7lUV65"
      },
      "source": [
        "Pregunta: ¿Qué pasa si añadimos una nueva arista 1,2 con el atributo color='**green**'?"
      ]
    },
    {
      "cell_type": "code",
      "metadata": {
        "colab": {
          "base_uri": "https://localhost:8080/"
        },
        "id": "2qEAKjPsUjC8",
        "outputId": "57ddf681-50a6-4cea-86c6-0fdbab3d6488"
      },
      "source": [
        "keys = G.add_edges_from([(1, 2)], color=\"green\")\n",
        "list(G.edges(data=True))"
      ],
      "execution_count": null,
      "outputs": [
        {
          "output_type": "execute_result",
          "data": {
            "text/plain": [
              "[(1, 2, {'weight': 4}),\n",
              " (1, 2, {'color': 'blue'}),\n",
              " (1, 2, {'color': 'green'}),\n",
              " (3, 4, {'color': 'red'}),\n",
              " (2, 3, {'weight': 8}),\n",
              " (4, 5, {'color': 'red'})]"
            ]
          },
          "metadata": {},
          "execution_count": 46
        }
      ]
    },
    {
      "cell_type": "markdown",
      "metadata": {
        "id": "hAEX038orUQw"
      },
      "source": [
        "# Carga de grafos desde fuentes externas\n",
        "\n",
        "Una de las ventajas de networkx es que dispone de una serie de conectores para cargar datos en distintos formatos, entre ellos csv o bbdd.\n",
        "\n",
        "Ver referencia https://networkx.org/documentation/stable/reference/readwrite/index.html"
      ]
    },
    {
      "cell_type": "markdown",
      "metadata": {
        "id": "XVbQeNW9rmp-"
      },
      "source": [
        "## Carga desde fichero de texto\n",
        "\n",
        "Cargamos el fichero como un fichero de adyacencia en este formato en este primer fichero\n",
        "\n",
        "https://github.com/davidreyblanco/ml-training/blob/master/data/graph/simple-adjacency.txt\n",
        "\n",
        "El formato es:\n",
        "\n",
        "```\n",
        "nodo1 nodo2 nodo3\n",
        "nodo2 nodo4\n",
        "```\n"
      ]
    },
    {
      "cell_type": "code",
      "metadata": {
        "colab": {
          "base_uri": "https://localhost:8080/"
        },
        "id": "XDwdc2sxt74h",
        "outputId": "9a43b4cf-0ca4-4d93-d1d2-edde8a4718ed"
      },
      "source": [
        "#\n",
        "# Descargamos el fichero porque networkx espera un fichero no una URL\n",
        "#\n",
        "url = 'https://github.com/davidreyblanco/ml-training/raw/master/data/graph/simple-adjacency.txt'\n",
        "f_name = '/tmp/simple-adjacency.txt'\n",
        "\n",
        "r = requests.get(url, allow_redirects=True)\n",
        "open(f_name, 'wb').write(r.content)"
      ],
      "execution_count": null,
      "outputs": [
        {
          "output_type": "execute_result",
          "data": {
            "text/plain": [
              "17"
            ]
          },
          "metadata": {},
          "execution_count": 47
        }
      ]
    },
    {
      "cell_type": "markdown",
      "metadata": {
        "id": "cPKwXsa6wFLe"
      },
      "source": [
        "Vemos el formato del fichero que nos hemos descargado"
      ]
    },
    {
      "cell_type": "code",
      "metadata": {
        "colab": {
          "base_uri": "https://localhost:8080/"
        },
        "id": "trXzYgM7vDZQ",
        "outputId": "9926e4c7-3b59-4b1a-a624-729bd23a2772"
      },
      "source": [
        "#\n",
        "# Mostramos el contenido del fichero\n",
        "#\n",
        "with open(f_name) as f:\n",
        "     print(f.read())"
      ],
      "execution_count": null,
      "outputs": [
        {
          "output_type": "stream",
          "name": "stdout",
          "text": [
            "A B C\n",
            "B C\n",
            "D C\n",
            "D E\n"
          ]
        }
      ]
    },
    {
      "cell_type": "code",
      "metadata": {
        "id": "zCbqwfGIvfhR"
      },
      "source": [
        "#\n",
        "# Construimos el grafo a partir del fichero de adyacencias\n",
        "#\n",
        "G_new = nx.read_adjlist(f_name, delimiter=' ')"
      ],
      "execution_count": null,
      "outputs": []
    },
    {
      "cell_type": "code",
      "metadata": {
        "colab": {
          "base_uri": "https://localhost:8080/",
          "height": 406
        },
        "id": "380M5WnswTlP",
        "outputId": "bf025a8b-a6fb-4054-aa4b-114cfe015bc5"
      },
      "source": [
        "#\n",
        "# Mostramos el nuevo grafo\n",
        "#\n",
        "nx.draw_networkx(G_new, **draw_options)\n",
        "ax = plt.gca()\n",
        "ax.margins(0.20)\n",
        "plt.axis(\"off\")\n",
        "plt.show()"
      ],
      "execution_count": null,
      "outputs": [
        {
          "output_type": "display_data",
          "data": {
            "text/plain": [
              "<Figure size 640x480 with 1 Axes>"
            ],
            "image/png": "[encoded data removed]"
          },
          "metadata": {}
        }
      ]
    },
    {
      "cell_type": "markdown",
      "metadata": {
        "id": "dy6t6mYeaM60"
      },
      "source": [
        "## Carga desde un dataframe pandas\n",
        "\n",
        "También podemos cargar un grafo desde un dataframe pandas, pero también podríamos trabajar con otras estructuras de la información (matrices).\n",
        "\n",
        "https://networkx.org/documentation/stable/reference/convert.html"
      ]
    },
    {
      "cell_type": "code",
      "metadata": {
        "colab": {
          "base_uri": "https://localhost:8080/",
          "height": 206
        },
        "id": "7EE1EIQLaYsS",
        "outputId": "d5d56224-052f-460e-ee3c-56774f4743e1"
      },
      "source": [
        "#\n",
        "# Carga de los datos, es una matriz de adyacencia\n",
        "#\n",
        "url = 'https://github.com/davidreyblanco/ml-training/raw/master/data/metro-stops.csv'\n",
        "metro_stop = pd.read_csv(url, delimiter=';')\n",
        "metro_stop.head(5)"
      ],
      "execution_count": null,
      "outputs": [
        {
          "output_type": "execute_result",
          "data": {
            "text/plain": [
              "              STOP_1              STOP_2  LINE      X_1       Y_1      X_2  \\\n",
              "0         Las Tablas           Chamartin     8 -3.66944  40.50833 -3.68259   \n",
              "1          Chamartin   Plaza de Castilla     1 -3.68259  40.47203 -3.68917   \n",
              "2          Chamartin  Pinar de Chamartin     3 -3.68259  40.47203 -3.66680   \n",
              "3         Las Tablas  Pinar de Chamartin    18 -3.66944  40.50833 -3.66680   \n",
              "4  Plaza de Castilla            Colombia     4 -3.68917  40.46690 -3.67682   \n",
              "\n",
              "        Y_2         DIST  TIME  \n",
              "0  40.47203  4182.231631  8.36  \n",
              "1  40.46690   797.431666  1.59  \n",
              "2  40.48014  1613.637696  3.23  \n",
              "3  40.48014  3138.324858  6.28  \n",
              "4  40.45634  1572.338147  3.14  "
            ],
            "text/html": [
              "\n",
              "  <div id=\"df-b5439978-75ae-443e-bb3c-6d104da703db\" class=\"colab-df-container\">\n",
              "    <div>\n",
              "<style scoped>\n",
              "    .dataframe tbody tr th:only-of-type {\n",
              "        vertical-align: middle;\n",
              "    }\n",
              "\n",
              "    .dataframe tbody tr th {\n",
              "        vertical-align: top;\n",
              "    }\n",
              "\n",
              "    .dataframe thead th {\n",
              "        text-align: right;\n",
              "    }\n",
              "</style>\n",
              "<table border=\"1\" class=\"dataframe\">\n",
              "  <thead>\n",
              "    <tr style=\"text-align: right;\">\n",
              "      <th></th>\n",
              "      <th>STOP_1</th>\n",
              "      <th>STOP_2</th>\n",
              "      <th>LINE</th>\n",
              "      <th>X_1</th>\n",
              "      <th>Y_1</th>\n",
              "      <th>X_2</th>\n",
              "      <th>Y_2</th>\n",
              "      <th>DIST</th>\n",
              "      <th>TIME</th>\n",
              "    </tr>\n",
              "  </thead>\n",
              "  <tbody>\n",
              "    <tr>\n",
              "      <th>0</th>\n",
              "      <td>Las Tablas</td>\n",
              "      <td>Chamartin</td>\n",
              "      <td>8</td>\n",
              "      <td>-3.66944</td>\n",
              "      <td>40.50833</td>\n",
              "      <td>-3.68259</td>\n",
              "      <td>40.47203</td>\n",
              "      <td>4182.231631</td>\n",
              "      <td>8.36</td>\n",
              "    </tr>\n",
              "    <tr>\n",
              "      <th>1</th>\n",
              "      <td>Chamartin</td>\n",
              "      <td>Plaza de Castilla</td>\n",
              "      <td>1</td>\n",
              "      <td>-3.68259</td>\n",
              "      <td>40.47203</td>\n",
              "      <td>-3.68917</td>\n",
              "      <td>40.46690</td>\n",
              "      <td>797.431666</td>\n",
              "      <td>1.59</td>\n",
              "    </tr>\n",
              "    <tr>\n",
              "      <th>2</th>\n",
              "      <td>Chamartin</td>\n",
              "      <td>Pinar de Chamartin</td>\n",
              "      <td>3</td>\n",
              "      <td>-3.68259</td>\n",
              "      <td>40.47203</td>\n",
              "      <td>-3.66680</td>\n",
              "      <td>40.48014</td>\n",
              "      <td>1613.637696</td>\n",
              "      <td>3.23</td>\n",
              "    </tr>\n",
              "    <tr>\n",
              "      <th>3</th>\n",
              "      <td>Las Tablas</td>\n",
              "      <td>Pinar de Chamartin</td>\n",
              "      <td>18</td>\n",
              "      <td>-3.66944</td>\n",
              "      <td>40.50833</td>\n",
              "      <td>-3.66680</td>\n",
              "      <td>40.48014</td>\n",
              "      <td>3138.324858</td>\n",
              "      <td>6.28</td>\n",
              "    </tr>\n",
              "    <tr>\n",
              "      <th>4</th>\n",
              "      <td>Plaza de Castilla</td>\n",
              "      <td>Colombia</td>\n",
              "      <td>4</td>\n",
              "      <td>-3.68917</td>\n",
              "      <td>40.46690</td>\n",
              "      <td>-3.67682</td>\n",
              "      <td>40.45634</td>\n",
              "      <td>1572.338147</td>\n",
              "      <td>3.14</td>\n",
              "    </tr>\n",
              "  </tbody>\n",
              "</table>\n",
              "</div>\n",
              "    <div class=\"colab-df-buttons\">\n",
              "\n",
              "  <div class=\"colab-df-container\">\n",
              "    <button class=\"colab-df-convert\" onclick=\"convertToInteractive('df-b5439978-75ae-443e-bb3c-6d104da703db')\"\n",
              "            title=\"Convert this dataframe to an interactive table.\"\n",
              "            style=\"display:none;\">\n",
              "\n",
              "  <svg xmlns=\"http://www.w3.org/2000/svg\" height=\"24px\" viewBox=\"0 -960 960 960\">\n",
              "    <path d=\"M120-120v-720h720v720H120Zm60-500h600v-160H180v160Zm220 220h160v-160H400v160Zm0 220h160v-160H400v160ZM180-400h160v-160H180v160Zm440 0h160v-160H620v160ZM180-180h160v-160H180v160Zm440 0h160v-160H620v160Z\"/>\n",
              "  </svg>\n",
              "    </button>\n",
              "\n",
              "  <style>\n",
              "    .colab-df-container {\n",
              "      display:flex;\n",
              "      gap: 12px;\n",
              "    }\n",
              "\n",
              "    .colab-df-convert {\n",
              "      background-color: #E8F0FE;\n",
              "      border: none;\n",
              "      border-radius: 50%;\n",
              "      cursor: pointer;\n",
              "      display: none;\n",
              "      fill: #1967D2;\n",
              "      height: 32px;\n",
              "      padding: 0 0 0 0;\n",
              "      width: 32px;\n",
              "    }\n",
              "\n",
              "    .colab-df-convert:hover {\n",
              "      background-color: #E2EBFA;\n",
              "      box-shadow: 0px 1px 2px rgba(60, 64, 67, 0.3), 0px 1px 3px 1px rgba(60, 64, 67, 0.15);\n",
              "      fill: #174EA6;\n",
              "    }\n",
              "\n",
              "    .colab-df-buttons div {\n",
              "      margin-bottom: 4px;\n",
              "    }\n",
              "\n",
              "    [theme=dark] .colab-df-convert {\n",
              "      background-color: #3B4455;\n",
              "      fill: #D2E3FC;\n",
              "    }\n",
              "\n",
              "    [theme=dark] .colab-df-convert:hover {\n",
              "      background-color: #434B5C;\n",
              "      box-shadow: 0px 1px 3px 1px rgba(0, 0, 0, 0.15);\n",
              "      filter: drop-shadow(0px 1px 2px rgba(0, 0, 0, 0.3));\n",
              "      fill: #FFFFFF;\n",
              "    }\n",
              "  </style>\n",
              "\n",
              "    <script>\n",
              "      const buttonEl =\n",
              "        document.querySelector('#df-b5439978-75ae-443e-bb3c-6d104da703db button.colab-df-convert');\n",
              "      buttonEl.style.display =\n",
              "        google.colab.kernel.accessAllowed ? 'block' : 'none';\n",
              "\n",
              "      async function convertToInteractive(key) {\n",
              "        const element = document.querySelector('#df-b5439978-75ae-443e-bb3c-6d104da703db');\n",
              "        const dataTable =\n",
              "          await google.colab.kernel.invokeFunction('convertToInteractive',\n",
              "                                                    [key], {});\n",
              "        if (!dataTable) return;\n",
              "\n",
              "        const docLinkHtml = 'Like what you see? Visit the ' +\n",
              "          '<a target=\"_blank\" href=https://colab.research.google.com/notebooks/data_table.ipynb>data table notebook</a>'\n",
              "          + ' to learn more about interactive tables.';\n",
              "        element.innerHTML = '';\n",
              "        dataTable['output_type'] = 'display_data';\n",
              "        await google.colab.output.renderOutput(dataTable, element);\n",
              "        const docLink = document.createElement('div');\n",
              "        docLink.innerHTML = docLinkHtml;\n",
              "        element.appendChild(docLink);\n",
              "      }\n",
              "    </script>\n",
              "  </div>\n",
              "\n",
              "\n",
              "<div id=\"df-3d128f6b-f8f4-4abc-bd29-f16b56b05012\">\n",
              "  <button class=\"colab-df-quickchart\" onclick=\"quickchart('df-3d128f6b-f8f4-4abc-bd29-f16b56b05012')\"\n",
              "            title=\"Suggest charts\"\n",
              "            style=\"display:none;\">\n",
              "\n",
              "<svg xmlns=\"http://www.w3.org/2000/svg\" height=\"24px\"viewBox=\"0 0 24 24\"\n",
              "     width=\"24px\">\n",
              "    <g>\n",
              "        <path d=\"M19 3H5c-1.1 0-2 .9-2 2v14c0 1.1.9 2 2 2h14c1.1 0 2-.9 2-2V5c0-1.1-.9-2-2-2zM9 17H7v-7h2v7zm4 0h-2V7h2v10zm4 0h-2v-4h2v4z\"/>\n",
              "    </g>\n",
              "</svg>\n",
              "  </button>\n",
              "\n",
              "<style>\n",
              "  .colab-df-quickchart {\n",
              "      --bg-color: #E8F0FE;\n",
              "      --fill-color: #1967D2;\n",
              "      --hover-bg-color: #E2EBFA;\n",
              "      --hover-fill-color: #174EA6;\n",
              "      --disabled-fill-color: #AAA;\n",
              "      --disabled-bg-color: #DDD;\n",
              "  }\n",
              "\n",
              "  [theme=dark] .colab-df-quickchart {\n",
              "      --bg-color: #3B4455;\n",
              "      --fill-color: #D2E3FC;\n",
              "      --hover-bg-color: #434B5C;\n",
              "      --hover-fill-color: #FFFFFF;\n",
              "      --disabled-bg-color: #3B4455;\n",
              "      --disabled-fill-color: #666;\n",
              "  }\n",
              "\n",
              "  .colab-df-quickchart {\n",
              "    background-color: var(--bg-color);\n",
              "    border: none;\n",
              "    border-radius: 50%;\n",
              "    cursor: pointer;\n",
              "    display: none;\n",
              "    fill: var(--fill-color);\n",
              "    height: 32px;\n",
              "    padding: 0;\n",
              "    width: 32px;\n",
              "  }\n",
              "\n",
              "  .colab-df-quickchart:hover {\n",
              "    background-color: var(--hover-bg-color);\n",
              "    box-shadow: 0 1px 2px rgba(60, 64, 67, 0.3), 0 1px 3px 1px rgba(60, 64, 67, 0.15);\n",
              "    fill: var(--button-hover-fill-color);\n",
              "  }\n",
              "\n",
              "  .colab-df-quickchart-complete:disabled,\n",
              "  .colab-df-quickchart-complete:disabled:hover {\n",
              "    background-color: var(--disabled-bg-color);\n",
              "    fill: var(--disabled-fill-color);\n",
              "    box-shadow: none;\n",
              "  }\n",
              "\n",
              "  .colab-df-spinner {\n",
              "    border: 2px solid var(--fill-color);\n",
              "    border-color: transparent;\n",
              "    border-bottom-color: var(--fill-color);\n",
              "    animation:\n",
              "      spin 1s steps(1) infinite;\n",
              "  }\n",
              "\n",
              "  @keyframes spin {\n",
              "    0% {\n",
              "      border-color: transparent;\n",
              "      border-bottom-color: var(--fill-color);\n",
              "      border-left-color: var(--fill-color);\n",
              "    }\n",
              "    20% {\n",
              "      border-color: transparent;\n",
              "      border-left-color: var(--fill-color);\n",
              "      border-top-color: var(--fill-color);\n",
              "    }\n",
              "    30% {\n",
              "      border-color: transparent;\n",
              "      border-left-color: var(--fill-color);\n",
              "      border-top-color: var(--fill-color);\n",
              "      border-right-color: var(--fill-color);\n",
              "    }\n",
              "    40% {\n",
              "      border-color: transparent;\n",
              "      border-right-color: var(--fill-color);\n",
              "      border-top-color: var(--fill-color);\n",
              "    }\n",
              "    60% {\n",
              "      border-color: transparent;\n",
              "      border-right-color: var(--fill-color);\n",
              "    }\n",
              "    80% {\n",
              "      border-color: transparent;\n",
              "      border-right-color: var(--fill-color);\n",
              "      border-bottom-color: var(--fill-color);\n",
              "    }\n",
              "    90% {\n",
              "      border-color: transparent;\n",
              "      border-bottom-color: var(--fill-color);\n",
              "    }\n",
              "  }\n",
              "</style>\n",
              "\n",
              "  <script>\n",
              "    async function quickchart(key) {\n",
              "      const quickchartButtonEl =\n",
              "        document.querySelector('#' + key + ' button');\n",
              "      quickchartButtonEl.disabled = true;  // To prevent multiple clicks.\n",
              "      quickchartButtonEl.classList.add('colab-df-spinner');\n",
              "      try {\n",
              "        const charts = await google.colab.kernel.invokeFunction(\n",
              "            'suggestCharts', [key], {});\n",
              "      } catch (error) {\n",
              "        console.error('Error during call to suggestCharts:', error);\n",
              "      }\n",
              "      quickchartButtonEl.classList.remove('colab-df-spinner');\n",
              "      quickchartButtonEl.classList.add('colab-df-quickchart-complete');\n",
              "    }\n",
              "    (() => {\n",
              "      let quickchartButtonEl =\n",
              "        document.querySelector('#df-3d128f6b-f8f4-4abc-bd29-f16b56b05012 button');\n",
              "      quickchartButtonEl.style.display =\n",
              "        google.colab.kernel.accessAllowed ? 'block' : 'none';\n",
              "    })();\n",
              "  </script>\n",
              "</div>\n",
              "    </div>\n",
              "  </div>\n"
            ],
            "application/vnd.google.colaboratory.intrinsic+json": {
              "type": "dataframe",
              "variable_name": "metro_stop",
              "summary": "{\n  \"name\": \"metro_stop\",\n  \"rows\": 64,\n  \"fields\": [\n    {\n      \"column\": \"STOP_1\",\n      \"properties\": {\n        \"dtype\": \"string\",\n        \"num_unique_values\": 32,\n        \"samples\": [\n          \"Legazpi\",\n          \"Callao\",\n          \"Casa de Campo\"\n        ],\n        \"semantic_type\": \"\",\n        \"description\": \"\"\n      }\n    },\n    {\n      \"column\": \"STOP_2\",\n      \"properties\": {\n        \"dtype\": \"string\",\n        \"num_unique_values\": 33,\n        \"samples\": [\n          \"Legazpi\",\n          \"Principe Pio\",\n          \"Casa de Campo\"\n        ],\n        \"semantic_type\": \"\",\n        \"description\": \"\"\n      }\n    },\n    {\n      \"column\": \"LINE\",\n      \"properties\": {\n        \"dtype\": \"number\",\n        \"std\": 3,\n        \"min\": 1,\n        \"max\": 18,\n        \"num_unique_values\": 13,\n        \"samples\": [\n          10,\n          12,\n          8\n        ],\n        \"semantic_type\": \"\",\n        \"description\": \"\"\n      }\n    },\n    {\n      \"column\": \"X_1\",\n      \"properties\": {\n        \"dtype\": \"number\",\n        \"std\": 0.022417395845261243,\n        \"min\": -3.77462,\n        \"max\": -3.66366,\n        \"num_unique_values\": 32,\n        \"samples\": [\n          -3.69511,\n          -3.70566,\n          -3.76101\n        ],\n        \"semantic_type\": \"\",\n        \"description\": \"\"\n      }\n    },\n    {\n      \"column\": \"Y_1\",\n      \"properties\": {\n        \"dtype\": \"number\",\n        \"std\": 0.02376103433259093,\n        \"min\": 40.3846,\n        \"max\": 40.50833,\n        \"num_unique_values\": 32,\n        \"samples\": [\n          40.39116,\n          40.42014,\n          40.40324\n        ],\n        \"semantic_type\": \"\",\n        \"description\": \"\"\n      }\n    },\n    {\n      \"column\": \"X_2\",\n      \"properties\": {\n        \"dtype\": \"number\",\n        \"std\": 0.030325318390596868,\n        \"min\": -3.81211,\n        \"max\": -3.63832,\n        \"num_unique_values\": 33,\n        \"samples\": [\n          -3.69511,\n          -3.72032,\n          -3.76101\n        ],\n        \"semantic_type\": \"\",\n        \"description\": \"\"\n      }\n    },\n    {\n      \"column\": \"Y_2\",\n      \"properties\": {\n        \"dtype\": \"number\",\n        \"std\": 0.02468813781575137,\n        \"min\": 40.34524,\n        \"max\": 40.48014,\n        \"num_unique_values\": 33,\n        \"samples\": [\n          40.39116,\n          40.42107,\n          40.40324\n        ],\n        \"semantic_type\": \"\",\n        \"description\": \"\"\n      }\n    },\n    {\n      \"column\": \"DIST\",\n      \"properties\": {\n        \"dtype\": \"number\",\n        \"std\": 1228.486628863029,\n        \"min\": 306.3958203310788,\n        \"max\": 6568.5958961415645,\n        \"num_unique_values\": 64,\n        \"samples\": [\n          3007.8550877129337,\n          2032.797467453904,\n          4182.231630548803\n        ],\n        \"semantic_type\": \"\",\n        \"description\": \"\"\n      }\n    },\n    {\n      \"column\": \"TIME\",\n      \"properties\": {\n        \"dtype\": \"number\",\n        \"std\": 2.4570990797883643,\n        \"min\": 0.61,\n        \"max\": 13.14,\n        \"num_unique_values\": 62,\n        \"samples\": [\n          13.14,\n          4.07,\n          8.36\n        ],\n        \"semantic_type\": \"\",\n        \"description\": \"\"\n      }\n    }\n  ]\n}"
            }
          },
          "metadata": {},
          "execution_count": 51
        }
      ]
    },
    {
      "cell_type": "markdown",
      "metadata": {
        "id": "eYs9CZ25bE93"
      },
      "source": [
        "Cargamos a partir de un dataframe pandas, indicamos cuales son el origen y el destino de las aristas, añadimos también los atributos de las aristas"
      ]
    },
    {
      "cell_type": "code",
      "metadata": {
        "id": "we2sFC6taXIP"
      },
      "source": [
        "G_metro = nx.from_pandas_edgelist(metro_stop,\n",
        "                          source = 'STOP_1',\n",
        "                          target = 'STOP_2',\n",
        "                          edge_attr=True)"
      ],
      "execution_count": null,
      "outputs": []
    },
    {
      "cell_type": "markdown",
      "metadata": {
        "id": "1LklkJEibXSQ"
      },
      "source": [
        "Vemos como carga los atributos de cada relación"
      ]
    },
    {
      "cell_type": "code",
      "metadata": {
        "colab": {
          "base_uri": "https://localhost:8080/"
        },
        "id": "pZn6VBmZbD6v",
        "outputId": "c65e2085-d116-4a55-eb50-a24b43cd51c0"
      },
      "source": [
        "G_metro['Las Tablas']"
      ],
      "execution_count": null,
      "outputs": [
        {
          "output_type": "execute_result",
          "data": {
            "text/plain": [
              "AtlasView({'Chamartin': {'LINE': 8, 'X_1': -3.66944, 'Y_1': 40.50833, 'X_2': -3.68259, 'Y_2': 40.47203, 'DIST': 4182.231630548803, 'TIME': 8.36}, 'Pinar de Chamartin': {'LINE': 18, 'X_1': -3.66944, 'Y_1': 40.50833, 'X_2': -3.6668, 'Y_2': 40.48014, 'DIST': 3138.3248579055585, 'TIME': 6.28}})"
            ]
          },
          "metadata": {},
          "execution_count": 53
        }
      ]
    },
    {
      "cell_type": "markdown",
      "metadata": {
        "id": "ULSpZMGYbdph"
      },
      "source": [
        "Vemos la primera arista entre **Las Tablas** y **Chamartin**."
      ]
    },
    {
      "cell_type": "code",
      "metadata": {
        "colab": {
          "base_uri": "https://localhost:8080/"
        },
        "id": "LPh66zXAbb7i",
        "outputId": "48fa3cfb-dbeb-49b0-e039-50b8de99daa8"
      },
      "source": [
        "G_metro['Las Tablas']['Chamartin']"
      ],
      "execution_count": null,
      "outputs": [
        {
          "output_type": "execute_result",
          "data": {
            "text/plain": [
              "{'LINE': 8,\n",
              " 'X_1': -3.66944,\n",
              " 'Y_1': 40.50833,\n",
              " 'X_2': -3.68259,\n",
              " 'Y_2': 40.47203,\n",
              " 'DIST': 4182.231630548803,\n",
              " 'TIME': 8.36}"
            ]
          },
          "metadata": {},
          "execution_count": 54
        }
      ]
    },
    {
      "cell_type": "markdown",
      "metadata": {
        "id": "jYBMoiwaw_0k"
      },
      "source": [
        "## Guardar un grafo en fichero\n",
        "\n",
        "De nuevo podemos manejar distintos formatos, en este caso vamos a guardarlo en GraphML.\n",
        "\n",
        "Ver especificación: http://graphml.graphdrawing.org/primer/graphml-primer.html"
      ]
    },
    {
      "cell_type": "code",
      "metadata": {
        "id": "G-xgkLgWw7Y3"
      },
      "source": [
        "#\n",
        "# Guardamos el grafo anterior en GraphML\n",
        "#\n",
        "f_out = '/tmp/my-first-graphml.grml'\n",
        "nx.write_graphml(G_new, f_out)"
      ],
      "execution_count": null,
      "outputs": []
    },
    {
      "cell_type": "code",
      "metadata": {
        "colab": {
          "base_uri": "https://localhost:8080/"
        },
        "id": "pW2tttkvxQMs",
        "outputId": "d74dcd95-8045-4a23-a899-b6daeb8e1c56"
      },
      "source": [
        "#\n",
        "# Mostramos el contenido del fichero generado\n",
        "#\n",
        "with open(f_out) as f:\n",
        "     print(f.read())"
      ],
      "execution_count": null,
      "outputs": [
        {
          "output_type": "stream",
          "name": "stdout",
          "text": [
            "<?xml version='1.0' encoding='utf-8'?>\n",
            "<graphml xmlns=\"http://graphml.graphdrawing.org/xmlns\" xmlns:xsi=\"http://www.w3.org/2001/XMLSchema-instance\" xsi:schemaLocation=\"http://graphml.graphdrawing.org/xmlns http://graphml.graphdrawing.org/xmlns/1.0/graphml.xsd\"><graph edgedefault=\"undirected\"><node id=\"A\"/>\n",
            "<node id=\"B\"/>\n",
            "<node id=\"C\"/>\n",
            "<node id=\"D\"/>\n",
            "<node id=\"E\"/>\n",
            "<edge source=\"A\" target=\"B\"/>\n",
            "<edge source=\"A\" target=\"C\"/>\n",
            "<edge source=\"B\" target=\"C\"/>\n",
            "<edge source=\"C\" target=\"D\"/>\n",
            "<edge source=\"D\" target=\"E\"/>\n",
            "</graph></graphml>\n"
          ]
        }
      ]
    },
    {
      "cell_type": "markdown",
      "metadata": {
        "id": "VhgcxHZ7yM0K"
      },
      "source": [
        "# Ejercicio - Crear un grafo"
      ]
    },
    {
      "cell_type": "markdown",
      "metadata": {
        "id": "goBmtI0vyVRW"
      },
      "source": [
        "## Crear desde este gráfico\n",
        "\n",
        "Construimos un grafo desde esta imagen, el tipo de relación (arista A -> B) tiene un atributo llamado 'relación' que representa la relación entre la persona A y la persona B."
      ]
    },
    {
      "cell_type": "markdown",
      "metadata": {
        "id": "Y8KgqUUAzt56"
      },
      "source": [
        "![imagen.png](data:image/png;base64,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)"
      ]
    },
    {
      "cell_type": "code",
      "metadata": {
        "id": "FKUrytZoyMSy"
      },
      "source": [
        "#\n",
        "# Creamos el grafo dirigido\n",
        "#\n",
        "relaciones = nx.DiGraph()"
      ],
      "execution_count": null,
      "outputs": []
    },
    {
      "cell_type": "code",
      "metadata": {
        "id": "ORjFiGLqye3x"
      },
      "source": [
        "#\n",
        "# Construimos los nodos\n",
        "#\n",
        "relaciones.add_node('Juan')\n",
        "relaciones.add_node('María')\n",
        "relaciones.add_node('Isabel')\n",
        "relaciones.add_node('Pedro')\n",
        "relaciones.add_node('Kitty')"
      ],
      "execution_count": null,
      "outputs": []
    },
    {
      "cell_type": "code",
      "metadata": {
        "id": "PjJRoRbk1AV8"
      },
      "source": [
        "#\n",
        "# Damos de alta las relaciones\n",
        "#\n",
        "relaciones.add_edge('Juan', 'Julia', relacion = 'empleado')\n",
        "relaciones.add_edge('Juan', 'Isabel', relacion = 'padre')\n",
        "relaciones.add_edge('María', 'Isabel', relacion = 'madre')\n",
        "relaciones.add_edge('Julia', 'Kitty', relacion = 'amigo')\n",
        "relaciones.add_edge('Julia', 'Pedro', relacion = 'amigo')\n",
        "relaciones.add_edge('Isabel', 'Pedro', relacion = 'alumno')"
      ],
      "execution_count": null,
      "outputs": []
    },
    {
      "cell_type": "code",
      "metadata": {
        "colab": {
          "base_uri": "https://localhost:8080/",
          "height": 957
        },
        "id": "511YeKd81swa",
        "outputId": "75ea292e-a471-4192-d28c-a13ab508a68f"
      },
      "source": [
        "#\n",
        "# Mostramos el nuevo grafo\n",
        "#\n",
        "figure(figsize=(15, 15), dpi=80)\n",
        "pos=nx.spring_layout(relaciones)\n",
        "nx.draw_networkx(relaciones, **draw_options, pos=pos)\n",
        "edge_labels=dict([((u,v,),d['relacion'])\n",
        "for u,v,d in relaciones.edges(data=True)])\n",
        "nx.draw_networkx_edge_labels(relaciones,pos=pos, edge_labels=edge_labels)\n",
        "\n",
        "ax = plt.gca()\n",
        "ax.margins(0.20)\n",
        "plt.axis(\"off\")\n",
        "plt.show()"
      ],
      "execution_count": null,
      "outputs": [
        {
          "output_type": "display_data",
          "data": {
            "text/plain": [
              "<Figure size 1200x1200 with 1 Axes>"
            ],
            "image/png": "[encoded data removed]"
          },
          "metadata": {}
        }
      ]
    },
    {
      "cell_type": "markdown",
      "metadata": {
        "id": "y1kdsa5Uyg5I"
      },
      "source": [
        "## Añadir atributos\n",
        "\n",
        "Añadimos la edad de María a 25 años y la Pedro a 53"
      ]
    },
    {
      "cell_type": "code",
      "metadata": {
        "id": "tWDrRGeD4b8x"
      },
      "source": [
        "relaciones.nodes['María']['edad'] = 25\n",
        "relaciones.nodes['Pedro']['edad'] = 53"
      ],
      "execution_count": null,
      "outputs": []
    },
    {
      "cell_type": "code",
      "metadata": {
        "colab": {
          "base_uri": "https://localhost:8080/"
        },
        "id": "63iE3Qdu4yTP",
        "outputId": "ae7c6a7d-dd08-4f8d-d2c6-13ed105fcefb"
      },
      "source": [
        "#\n",
        "# Mostramos la edad de María\n",
        "#\n",
        "print('María tiene ' + str(relaciones.nodes['María']['edad'])+ ' años')\n",
        "print('Pedro tiene ' + str(relaciones.nodes['Pedro']['edad'])+ ' años')"
      ],
      "execution_count": null,
      "outputs": [
        {
          "output_type": "stream",
          "name": "stdout",
          "text": [
            "María tiene 25 años\n",
            "Pedro tiene 53 años\n"
          ]
        }
      ]
    },
    {
      "cell_type": "markdown",
      "metadata": {
        "id": "bze-MKE15PsH"
      },
      "source": [
        "## Algunas preguntas\n",
        "\n",
        "¿Qué relación tienen Juan e Isabel?"
      ]
    },
    {
      "cell_type": "code",
      "metadata": {
        "colab": {
          "base_uri": "https://localhost:8080/"
        },
        "id": "gEjPHWk45cit",
        "outputId": "72fb0f4e-a6d7-4b86-cc4c-b01c2e027d16"
      },
      "source": [
        "a = 'Juan'\n",
        "b = 'Isabel'\n",
        "\n",
        "if b in relaciones[a]:\n",
        "  relacion = relaciones[a][b]['relacion']\n",
        "  print(a + ' es ' + relacion + ' de ' + b)\n",
        "else:\n",
        "  print(a + ' no tiene relación con ' + b)"
      ],
      "execution_count": null,
      "outputs": [
        {
          "output_type": "stream",
          "name": "stdout",
          "text": [
            "Juan es padre de Isabel\n"
          ]
        }
      ]
    },
    {
      "cell_type": "markdown",
      "metadata": {
        "id": "XiHbTrTT5UfA"
      },
      "source": [
        "¿Y María y Pedro?"
      ]
    },
    {
      "cell_type": "code",
      "metadata": {
        "colab": {
          "base_uri": "https://localhost:8080/"
        },
        "id": "NuALpSsR56qC",
        "outputId": "b0ef956c-0e24-4109-a3be-f1fcda528888"
      },
      "source": [
        "a = 'María'\n",
        "b = 'Pedro'\n",
        "\n",
        "if b in relaciones[a]:\n",
        "  relacion = relaciones[a][b]['relacion']\n",
        "  print(a + ' es ' + relacion + ' de ' + b)\n",
        "else:\n",
        "  print(a + ' no tiene relación con ' + b)"
      ],
      "execution_count": null,
      "outputs": [
        {
          "output_type": "stream",
          "name": "stdout",
          "text": [
            "María no tiene relación con Pedro\n"
          ]
        }
      ]
    },
    {
      "cell_type": "markdown",
      "metadata": {
        "id": "GB_RFegX6WSe"
      },
      "source": [
        "¿Con quién tiene relación Julia?"
      ]
    },
    {
      "cell_type": "code",
      "metadata": {
        "colab": {
          "base_uri": "https://localhost:8080/"
        },
        "id": "gfGzxzob6V5H",
        "outputId": "3b5a5bc3-cef6-42af-b4e1-40e7a5a496f5"
      },
      "source": [
        "a = 'Julia'\n",
        "\n",
        "print('Relaciones de ' + a + ':')\n",
        "for b in relaciones[a]:\n",
        "  relacion = relaciones[a][b]['relacion']\n",
        "  print('   ' + a + ' es ' + relacion + ' de ' + b)\n"
      ],
      "execution_count": null,
      "outputs": [
        {
          "output_type": "stream",
          "name": "stdout",
          "text": [
            "Relaciones de Julia:\n",
            "   Julia es amigo de Kitty\n",
            "   Julia es amigo de Pedro\n"
          ]
        }
      ]
    },
    {
      "cell_type": "markdown",
      "metadata": {
        "id": "bkd5wPfm7gbI"
      },
      "source": [
        "¿Qué amigos tienen las personas relacionadas con Juan?"
      ]
    },
    {
      "cell_type": "code",
      "metadata": {
        "colab": {
          "base_uri": "https://localhost:8080/"
        },
        "id": "MW9Y1u3J7l8n",
        "outputId": "db6a8e42-f73b-48bb-bbb6-00748cab83af"
      },
      "source": [
        "a = 'Juan'\n",
        "\n",
        "print('Amigos de las relaciones de ' + a + ':')\n",
        "for b in relaciones[a]:\n",
        "  for c in relaciones[b]:\n",
        "    relacion = relaciones[b][c]['relacion']\n",
        "    if relacion == 'amigo':\n",
        "      print('   ' + b + ' es ' + relacion + ' de ' + c)"
      ],
      "execution_count": null,
      "outputs": [
        {
          "output_type": "stream",
          "name": "stdout",
          "text": [
            "Amigos de las relaciones de Juan:\n",
            "   Julia es amigo de Kitty\n",
            "   Julia es amigo de Pedro\n"
          ]
        }
      ]
    },
    {
      "cell_type": "markdown",
      "metadata": {
        "id": "Byc-1KvZ8NKu"
      },
      "source": [
        "¿Qué personas no tienen amigos?"
      ]
    },
    {
      "cell_type": "code",
      "metadata": {
        "colab": {
          "base_uri": "https://localhost:8080/"
        },
        "id": "xnF8l51I8P9d",
        "outputId": "55d2cfcd-8275-4685-bbf0-2146433a3c20"
      },
      "source": [
        "#\n",
        "# Es más directo identificar que personas tienen amigos y buscar los nodos que no estén en esta lista\n",
        "#\n",
        "con_amigos = []\n",
        "for u, v in relaciones.edges:\n",
        "  if relaciones[u][v]['relacion'] == 'amigo':\n",
        "    con_amigos.append(u)\n",
        "\n",
        "#\n",
        "# Calculamos el resultado como la diferencia de conjuntos\n",
        "#\n",
        "set(relaciones.nodes) - set(con_amigos)\n",
        "set(con_amigos)"
      ],
      "execution_count": null,
      "outputs": [
        {
          "output_type": "execute_result",
          "data": {
            "text/plain": [
              "{'Julia'}"
            ]
          },
          "metadata": {},
          "execution_count": 67
        }
      ]
    },
    {
      "cell_type": "markdown",
      "metadata": {
        "id": "q2KE_uvBCo4e"
      },
      "source": [
        "¿Quién es la persona mejor conectada de nuestra mini red social?, grado de salida (función out_degree)"
      ]
    },
    {
      "cell_type": "code",
      "metadata": {
        "colab": {
          "base_uri": "https://localhost:8080/"
        },
        "id": "i7J4fT6vCsek",
        "outputId": "fc62039c-73b8-49f9-f0cd-2ca51f24b924"
      },
      "source": [
        "#\n",
        "# Cálculo de métricas\n",
        "#\n",
        "for u in relaciones:\n",
        "  grado = relaciones.out_degree(u)\n",
        "  if grado > 0:\n",
        "    print('El grado de ' + u + ' es ' + str(grado))\n"
      ],
      "execution_count": null,
      "outputs": [
        {
          "output_type": "stream",
          "name": "stdout",
          "text": [
            "El grado de Juan es 2\n",
            "El grado de María es 1\n",
            "El grado de Isabel es 1\n",
            "El grado de Julia es 2\n"
          ]
        }
      ]
    },
    {
      "cell_type": "markdown",
      "metadata": {
        "id": "R_YG6GFQEgS3"
      },
      "source": [
        "¿Quién es el más popular? (usamos el algoritmo **PageRank**), ¿esperabamos este resultado?"
      ]
    },
    {
      "cell_type": "code",
      "metadata": {
        "colab": {
          "base_uri": "https://localhost:8080/"
        },
        "id": "emkoM-ZUD7A5",
        "outputId": "2c6fcc08-c12c-4633-b569-fb92f770a646"
      },
      "source": [
        "nx.pagerank(relaciones)"
      ],
      "execution_count": null,
      "outputs": [
        {
          "output_type": "execute_result",
          "data": {
            "text/plain": [
              "{'Juan': 0.09220838165338213,\n",
              " 'María': 0.09220838165338213,\n",
              " 'Isabel': 0.20977452443778732,\n",
              " 'Pedro': 0.3263595209272522,\n",
              " 'Kitty': 0.14805209541334552,\n",
              " 'Julia': 0.13139709591485052}"
            ]
          },
          "metadata": {},
          "execution_count": 69
        }
      ]
    },
    {
      "cell_type": "markdown",
      "metadata": {
        "id": "gvpqZPdX7DSu"
      },
      "source": [
        "## Guardamos los datos en graphml\n",
        "\n",
        "Guardamos los resultados en GraphML y mostramos el resultado"
      ]
    },
    {
      "cell_type": "code",
      "metadata": {
        "id": "lb7JgZiP69Dl"
      },
      "source": [
        "#\n",
        "# Guardamos el grafo anterior en GraphML\n",
        "#\n",
        "f_out = '/tmp/relaciones.grml'\n",
        "nx.write_graphml(relaciones, f_out)"
      ],
      "execution_count": null,
      "outputs": []
    },
    {
      "cell_type": "code",
      "metadata": {
        "colab": {
          "base_uri": "https://localhost:8080/"
        },
        "id": "DcBVh1ws7Sfg",
        "outputId": "ddc4a180-1d60-4b89-cad2-6e490e3ab9a4"
      },
      "source": [
        "#\n",
        "# Mostramos el contenido del fichero generado\n",
        "#\n",
        "with open(f_out) as f:\n",
        "     print(f.read())"
      ],
      "execution_count": null,
      "outputs": [
        {
          "output_type": "stream",
          "name": "stdout",
          "text": [
            "<?xml version='1.0' encoding='utf-8'?>\n",
            "<graphml xmlns=\"http://graphml.graphdrawing.org/xmlns\" xmlns:xsi=\"http://www.w3.org/2001/XMLSchema-instance\" xsi:schemaLocation=\"http://graphml.graphdrawing.org/xmlns http://graphml.graphdrawing.org/xmlns/1.0/graphml.xsd\"><key id=\"d1\" for=\"edge\" attr.name=\"relacion\" attr.type=\"string\"/>\n",
            "<key id=\"d0\" for=\"node\" attr.name=\"edad\" attr.type=\"long\"/>\n",
            "<graph edgedefault=\"directed\"><node id=\"Juan\"/>\n",
            "<node id=\"María\">\n",
            "  <data key=\"d0\">25</data>\n",
            "</node>\n",
            "<node id=\"Isabel\"/>\n",
            "<node id=\"Pedro\">\n",
            "  <data key=\"d0\">53</data>\n",
            "</node>\n",
            "<node id=\"Kitty\"/>\n",
            "<node id=\"Julia\"/>\n",
            "<edge source=\"Juan\" target=\"Julia\">\n",
            "  <data key=\"d1\">empleado</data>\n",
            "</edge>\n",
            "<edge source=\"Juan\" target=\"Isabel\">\n",
            "  <data key=\"d1\">padre</data>\n",
            "</edge>\n",
            "<edge source=\"María\" target=\"Isabel\">\n",
            "  <data key=\"d1\">madre</data>\n",
            "</edge>\n",
            "<edge source=\"Isabel\" target=\"Pedro\">\n",
            "  <data key=\"d1\">alumno</data>\n",
            "</edge>\n",
            "<edge source=\"Julia\" target=\"Kitty\">\n",
            "  <data key=\"d1\">amigo</data>\n",
            "</edge>\n",
            "<edge source=\"Julia\" target=\"Pedro\">\n",
            "  <data key=\"d1\">amigo</data>\n",
            "</edge>\n",
            "</graph></graphml>\n"
          ]
        }
      ]
    }
  ]
}
