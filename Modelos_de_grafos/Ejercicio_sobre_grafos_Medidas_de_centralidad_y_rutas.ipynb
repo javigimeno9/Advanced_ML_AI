{
  "nbformat": 4,
  "nbformat_minor": 0,
  "metadata": {
    "colab": {
      "provenance": [],
      "toc_visible": true
    },
    "kernelspec": {
      "name": "python3",
      "display_name": "Python 3"
    },
    "language_info": {
      "name": "python"
    }
  },
  "cells": [
    {
      "cell_type": "markdown",
      "metadata": {
        "id": "okE5Tf8lQOJA"
      },
      "source": [
        "<img src=\"https://thevalley.es/wp-content/uploads/2016/11/thevalley-logo-negro.png\" width=\"400\"></img>\n",
        "\n",
        "# Ejercicio sobre grafos - Medidas de centralidad y rutas\n",
        "\n",
        "<img src=\"https://networkx.org/_static/networkx_logo.svg\" width=\"200\"></img>\n",
        "\n",
        "\n",
        "En este ejemplo utilizaremos una parte de la red del metro de Madrid para hacer un primer acercamiento a las medidas de centralidad, identificación de comunidades y recorridos sobre el grafo.\n",
        "\n",
        "<img src=\"https://www.redtransporte.com/img/transporte/madrid/metro-madrid/plano-metro-madrid.jpg\" width=\"400\"></img>\n",
        "\n",
        "Documentación de la librería: https://networkx.github.io/\n",
        "\n",
        "**Notebook por: David Rey**\n"
      ]
    },
    {
      "cell_type": "code",
      "metadata": {
        "id": "5TLQYjjhQEpv"
      },
      "source": [
        "%matplotlib inline\n",
        "\n",
        "import networkx as nx\n",
        "from networkx import algorithms as nx_algos\n",
        "import matplotlib.pyplot as plt\n",
        "from matplotlib.pyplot import figure\n",
        "import pandas as pd"
      ],
      "execution_count": null,
      "outputs": []
    },
    {
      "cell_type": "markdown",
      "metadata": {
        "id": "LkotsAJjQS3_"
      },
      "source": [
        "# Carga de datos\n",
        "\n",
        "Cargaremos una serie de datos de recorridos del metro de Madrid (**importante:** se trata solamente de 64 tramos, por tanto no está la red completa). En este caso los tramos se corresponderán con *aritas* del grafo, el modelo se construye a partir de los siguientes elementos:\n",
        "* **STOP_1** es el nombre de la parada de partida en el tramo\n",
        "* **STOP_2** es el nombre de la parada destino en el tramo\n",
        "* **X_1** longitud de la ubicación de la parada de partida\n",
        "* **Y_1** latitud de la ubicación de la parada de partida\n",
        "* **X_2** longitud de la ubicación de la parada de destino\n",
        "* **Y_2** latitud de la ubicación de la parada de destino\n",
        "* **DIST** distancia en metros entre la parada de partida y la de destino\n",
        "* **TIME** tiempo de viaje (en minutos) estimado del recorrido entre paradas. *importante:* este valor es un tiempo estimado para el trabajo en este ejercicio, no tiene por qué corresponderse con el tiempo real de desplazamiento entre estas paradas.\n",
        "\n",
        "*Nota: No usaremos el atributo **LINE** en este ejercicio*\n",
        "\n",
        "Fuente: [Datos abiertos Consorcio de Transportes de la Comunidad de Madrid](https://data-crtm.opendata.arcgis.com/)"
      ]
    },
    {
      "cell_type": "code",
      "metadata": {
        "id": "O8CZx2rQQVPn",
        "colab": {
          "base_uri": "https://localhost:8080/",
          "height": 206
        },
        "outputId": "a255f8d9-a141-4d19-e860-b1f26f6c0ce2"
      },
      "source": [
        "#\n",
        "# Carga de los datos\n",
        "#\n",
        "url = 'https://github.com/davidreyblanco/ml-training/raw/master/data/metro-stops.csv'\n",
        "metro_stop = pd.read_csv(url, delimiter=';')\n",
        "metro_stop.head(5)"
      ],
      "execution_count": null,
      "outputs": [
        {
          "output_type": "execute_result",
          "data": {
            "text/plain": [
              "              STOP_1              STOP_2  LINE      X_1       Y_1      X_2  \\\n",
              "0         Las Tablas           Chamartin     8 -3.66944  40.50833 -3.68259   \n",
              "1          Chamartin   Plaza de Castilla     1 -3.68259  40.47203 -3.68917   \n",
              "2          Chamartin  Pinar de Chamartin     3 -3.68259  40.47203 -3.66680   \n",
              "3         Las Tablas  Pinar de Chamartin    18 -3.66944  40.50833 -3.66680   \n",
              "4  Plaza de Castilla            Colombia     4 -3.68917  40.46690 -3.67682   \n",
              "\n",
              "        Y_2         DIST  TIME  \n",
              "0  40.47203  4182.231631  8.36  \n",
              "1  40.46690   797.431666  1.59  \n",
              "2  40.48014  1613.637696  3.23  \n",
              "3  40.48014  3138.324858  6.28  \n",
              "4  40.45634  1572.338147  3.14  "
            ],
            "text/html": [
              "\n",
              "  <div id=\"df-2734e8aa-e605-455b-b979-557a73067b5f\" class=\"colab-df-container\">\n",
              "    <div>\n",
              "<style scoped>\n",
              "    .dataframe tbody tr th:only-of-type {\n",
              "        vertical-align: middle;\n",
              "    }\n",
              "\n",
              "    .dataframe tbody tr th {\n",
              "        vertical-align: top;\n",
              "    }\n",
              "\n",
              "    .dataframe thead th {\n",
              "        text-align: right;\n",
              "    }\n",
              "</style>\n",
              "<table border=\"1\" class=\"dataframe\">\n",
              "  <thead>\n",
              "    <tr style=\"text-align: right;\">\n",
              "      <th></th>\n",
              "      <th>STOP_1</th>\n",
              "      <th>STOP_2</th>\n",
              "      <th>LINE</th>\n",
              "      <th>X_1</th>\n",
              "      <th>Y_1</th>\n",
              "      <th>X_2</th>\n",
              "      <th>Y_2</th>\n",
              "      <th>DIST</th>\n",
              "      <th>TIME</th>\n",
              "    </tr>\n",
              "  </thead>\n",
              "  <tbody>\n",
              "    <tr>\n",
              "      <th>0</th>\n",
              "      <td>Las Tablas</td>\n",
              "      <td>Chamartin</td>\n",
              "      <td>8</td>\n",
              "      <td>-3.66944</td>\n",
              "      <td>40.50833</td>\n",
              "      <td>-3.68259</td>\n",
              "      <td>40.47203</td>\n",
              "      <td>4182.231631</td>\n",
              "      <td>8.36</td>\n",
              "    </tr>\n",
              "    <tr>\n",
              "      <th>1</th>\n",
              "      <td>Chamartin</td>\n",
              "      <td>Plaza de Castilla</td>\n",
              "      <td>1</td>\n",
              "      <td>-3.68259</td>\n",
              "      <td>40.47203</td>\n",
              "      <td>-3.68917</td>\n",
              "      <td>40.46690</td>\n",
              "      <td>797.431666</td>\n",
              "      <td>1.59</td>\n",
              "    </tr>\n",
              "    <tr>\n",
              "      <th>2</th>\n",
              "      <td>Chamartin</td>\n",
              "      <td>Pinar de Chamartin</td>\n",
              "      <td>3</td>\n",
              "      <td>-3.68259</td>\n",
              "      <td>40.47203</td>\n",
              "      <td>-3.66680</td>\n",
              "      <td>40.48014</td>\n",
              "      <td>1613.637696</td>\n",
              "      <td>3.23</td>\n",
              "    </tr>\n",
              "    <tr>\n",
              "      <th>3</th>\n",
              "      <td>Las Tablas</td>\n",
              "      <td>Pinar de Chamartin</td>\n",
              "      <td>18</td>\n",
              "      <td>-3.66944</td>\n",
              "      <td>40.50833</td>\n",
              "      <td>-3.66680</td>\n",
              "      <td>40.48014</td>\n",
              "      <td>3138.324858</td>\n",
              "      <td>6.28</td>\n",
              "    </tr>\n",
              "    <tr>\n",
              "      <th>4</th>\n",
              "      <td>Plaza de Castilla</td>\n",
              "      <td>Colombia</td>\n",
              "      <td>4</td>\n",
              "      <td>-3.68917</td>\n",
              "      <td>40.46690</td>\n",
              "      <td>-3.67682</td>\n",
              "      <td>40.45634</td>\n",
              "      <td>1572.338147</td>\n",
              "      <td>3.14</td>\n",
              "    </tr>\n",
              "  </tbody>\n",
              "</table>\n",
              "</div>\n",
              "    <div class=\"colab-df-buttons\">\n",
              "\n",
              "  <div class=\"colab-df-container\">\n",
              "    <button class=\"colab-df-convert\" onclick=\"convertToInteractive('df-2734e8aa-e605-455b-b979-557a73067b5f')\"\n",
              "            title=\"Convert this dataframe to an interactive table.\"\n",
              "            style=\"display:none;\">\n",
              "\n",
              "  <svg xmlns=\"http://www.w3.org/2000/svg\" height=\"24px\" viewBox=\"0 -960 960 960\">\n",
              "    <path d=\"M120-120v-720h720v720H120Zm60-500h600v-160H180v160Zm220 220h160v-160H400v160Zm0 220h160v-160H400v160ZM180-400h160v-160H180v160Zm440 0h160v-160H620v160ZM180-180h160v-160H180v160Zm440 0h160v-160H620v160Z\"/>\n",
              "  </svg>\n",
              "    </button>\n",
              "\n",
              "  <style>\n",
              "    .colab-df-container {\n",
              "      display:flex;\n",
              "      gap: 12px;\n",
              "    }\n",
              "\n",
              "    .colab-df-convert {\n",
              "      background-color: #E8F0FE;\n",
              "      border: none;\n",
              "      border-radius: 50%;\n",
              "      cursor: pointer;\n",
              "      display: none;\n",
              "      fill: #1967D2;\n",
              "      height: 32px;\n",
              "      padding: 0 0 0 0;\n",
              "      width: 32px;\n",
              "    }\n",
              "\n",
              "    .colab-df-convert:hover {\n",
              "      background-color: #E2EBFA;\n",
              "      box-shadow: 0px 1px 2px rgba(60, 64, 67, 0.3), 0px 1px 3px 1px rgba(60, 64, 67, 0.15);\n",
              "      fill: #174EA6;\n",
              "    }\n",
              "\n",
              "    .colab-df-buttons div {\n",
              "      margin-bottom: 4px;\n",
              "    }\n",
              "\n",
              "    [theme=dark] .colab-df-convert {\n",
              "      background-color: #3B4455;\n",
              "      fill: #D2E3FC;\n",
              "    }\n",
              "\n",
              "    [theme=dark] .colab-df-convert:hover {\n",
              "      background-color: #434B5C;\n",
              "      box-shadow: 0px 1px 3px 1px rgba(0, 0, 0, 0.15);\n",
              "      filter: drop-shadow(0px 1px 2px rgba(0, 0, 0, 0.3));\n",
              "      fill: #FFFFFF;\n",
              "    }\n",
              "  </style>\n",
              "\n",
              "    <script>\n",
              "      const buttonEl =\n",
              "        document.querySelector('#df-2734e8aa-e605-455b-b979-557a73067b5f button.colab-df-convert');\n",
              "      buttonEl.style.display =\n",
              "        google.colab.kernel.accessAllowed ? 'block' : 'none';\n",
              "\n",
              "      async function convertToInteractive(key) {\n",
              "        const element = document.querySelector('#df-2734e8aa-e605-455b-b979-557a73067b5f');\n",
              "        const dataTable =\n",
              "          await google.colab.kernel.invokeFunction('convertToInteractive',\n",
              "                                                    [key], {});\n",
              "        if (!dataTable) return;\n",
              "\n",
              "        const docLinkHtml = 'Like what you see? Visit the ' +\n",
              "          '<a target=\"_blank\" href=https://colab.research.google.com/notebooks/data_table.ipynb>data table notebook</a>'\n",
              "          + ' to learn more about interactive tables.';\n",
              "        element.innerHTML = '';\n",
              "        dataTable['output_type'] = 'display_data';\n",
              "        await google.colab.output.renderOutput(dataTable, element);\n",
              "        const docLink = document.createElement('div');\n",
              "        docLink.innerHTML = docLinkHtml;\n",
              "        element.appendChild(docLink);\n",
              "      }\n",
              "    </script>\n",
              "  </div>\n",
              "\n",
              "\n",
              "<div id=\"df-f38c1eb4-f368-44e0-9f74-d7fa182452d0\">\n",
              "  <button class=\"colab-df-quickchart\" onclick=\"quickchart('df-f38c1eb4-f368-44e0-9f74-d7fa182452d0')\"\n",
              "            title=\"Suggest charts\"\n",
              "            style=\"display:none;\">\n",
              "\n",
              "<svg xmlns=\"http://www.w3.org/2000/svg\" height=\"24px\"viewBox=\"0 0 24 24\"\n",
              "     width=\"24px\">\n",
              "    <g>\n",
              "        <path d=\"M19 3H5c-1.1 0-2 .9-2 2v14c0 1.1.9 2 2 2h14c1.1 0 2-.9 2-2V5c0-1.1-.9-2-2-2zM9 17H7v-7h2v7zm4 0h-2V7h2v10zm4 0h-2v-4h2v4z\"/>\n",
              "    </g>\n",
              "</svg>\n",
              "  </button>\n",
              "\n",
              "<style>\n",
              "  .colab-df-quickchart {\n",
              "      --bg-color: #E8F0FE;\n",
              "      --fill-color: #1967D2;\n",
              "      --hover-bg-color: #E2EBFA;\n",
              "      --hover-fill-color: #174EA6;\n",
              "      --disabled-fill-color: #AAA;\n",
              "      --disabled-bg-color: #DDD;\n",
              "  }\n",
              "\n",
              "  [theme=dark] .colab-df-quickchart {\n",
              "      --bg-color: #3B4455;\n",
              "      --fill-color: #D2E3FC;\n",
              "      --hover-bg-color: #434B5C;\n",
              "      --hover-fill-color: #FFFFFF;\n",
              "      --disabled-bg-color: #3B4455;\n",
              "      --disabled-fill-color: #666;\n",
              "  }\n",
              "\n",
              "  .colab-df-quickchart {\n",
              "    background-color: var(--bg-color);\n",
              "    border: none;\n",
              "    border-radius: 50%;\n",
              "    cursor: pointer;\n",
              "    display: none;\n",
              "    fill: var(--fill-color);\n",
              "    height: 32px;\n",
              "    padding: 0;\n",
              "    width: 32px;\n",
              "  }\n",
              "\n",
              "  .colab-df-quickchart:hover {\n",
              "    background-color: var(--hover-bg-color);\n",
              "    box-shadow: 0 1px 2px rgba(60, 64, 67, 0.3), 0 1px 3px 1px rgba(60, 64, 67, 0.15);\n",
              "    fill: var(--button-hover-fill-color);\n",
              "  }\n",
              "\n",
              "  .colab-df-quickchart-complete:disabled,\n",
              "  .colab-df-quickchart-complete:disabled:hover {\n",
              "    background-color: var(--disabled-bg-color);\n",
              "    fill: var(--disabled-fill-color);\n",
              "    box-shadow: none;\n",
              "  }\n",
              "\n",
              "  .colab-df-spinner {\n",
              "    border: 2px solid var(--fill-color);\n",
              "    border-color: transparent;\n",
              "    border-bottom-color: var(--fill-color);\n",
              "    animation:\n",
              "      spin 1s steps(1) infinite;\n",
              "  }\n",
              "\n",
              "  @keyframes spin {\n",
              "    0% {\n",
              "      border-color: transparent;\n",
              "      border-bottom-color: var(--fill-color);\n",
              "      border-left-color: var(--fill-color);\n",
              "    }\n",
              "    20% {\n",
              "      border-color: transparent;\n",
              "      border-left-color: var(--fill-color);\n",
              "      border-top-color: var(--fill-color);\n",
              "    }\n",
              "    30% {\n",
              "      border-color: transparent;\n",
              "      border-left-color: var(--fill-color);\n",
              "      border-top-color: var(--fill-color);\n",
              "      border-right-color: var(--fill-color);\n",
              "    }\n",
              "    40% {\n",
              "      border-color: transparent;\n",
              "      border-right-color: var(--fill-color);\n",
              "      border-top-color: var(--fill-color);\n",
              "    }\n",
              "    60% {\n",
              "      border-color: transparent;\n",
              "      border-right-color: var(--fill-color);\n",
              "    }\n",
              "    80% {\n",
              "      border-color: transparent;\n",
              "      border-right-color: var(--fill-color);\n",
              "      border-bottom-color: var(--fill-color);\n",
              "    }\n",
              "    90% {\n",
              "      border-color: transparent;\n",
              "      border-bottom-color: var(--fill-color);\n",
              "    }\n",
              "  }\n",
              "</style>\n",
              "\n",
              "  <script>\n",
              "    async function quickchart(key) {\n",
              "      const quickchartButtonEl =\n",
              "        document.querySelector('#' + key + ' button');\n",
              "      quickchartButtonEl.disabled = true;  // To prevent multiple clicks.\n",
              "      quickchartButtonEl.classList.add('colab-df-spinner');\n",
              "      try {\n",
              "        const charts = await google.colab.kernel.invokeFunction(\n",
              "            'suggestCharts', [key], {});\n",
              "      } catch (error) {\n",
              "        console.error('Error during call to suggestCharts:', error);\n",
              "      }\n",
              "      quickchartButtonEl.classList.remove('colab-df-spinner');\n",
              "      quickchartButtonEl.classList.add('colab-df-quickchart-complete');\n",
              "    }\n",
              "    (() => {\n",
              "      let quickchartButtonEl =\n",
              "        document.querySelector('#df-f38c1eb4-f368-44e0-9f74-d7fa182452d0 button');\n",
              "      quickchartButtonEl.style.display =\n",
              "        google.colab.kernel.accessAllowed ? 'block' : 'none';\n",
              "    })();\n",
              "  </script>\n",
              "</div>\n",
              "    </div>\n",
              "  </div>\n"
            ],
            "application/vnd.google.colaboratory.intrinsic+json": {
              "type": "dataframe",
              "variable_name": "metro_stop",
              "summary": "{\n  \"name\": \"metro_stop\",\n  \"rows\": 64,\n  \"fields\": [\n    {\n      \"column\": \"STOP_1\",\n      \"properties\": {\n        \"dtype\": \"string\",\n        \"num_unique_values\": 32,\n        \"samples\": [\n          \"Legazpi\",\n          \"Callao\",\n          \"Casa de Campo\"\n        ],\n        \"semantic_type\": \"\",\n        \"description\": \"\"\n      }\n    },\n    {\n      \"column\": \"STOP_2\",\n      \"properties\": {\n        \"dtype\": \"string\",\n        \"num_unique_values\": 33,\n        \"samples\": [\n          \"Legazpi\",\n          \"Principe Pio\",\n          \"Casa de Campo\"\n        ],\n        \"semantic_type\": \"\",\n        \"description\": \"\"\n      }\n    },\n    {\n      \"column\": \"LINE\",\n      \"properties\": {\n        \"dtype\": \"number\",\n        \"std\": 3,\n        \"min\": 1,\n        \"max\": 18,\n        \"num_unique_values\": 13,\n        \"samples\": [\n          10,\n          12,\n          8\n        ],\n        \"semantic_type\": \"\",\n        \"description\": \"\"\n      }\n    },\n    {\n      \"column\": \"X_1\",\n      \"properties\": {\n        \"dtype\": \"number\",\n        \"std\": 0.022417395845261243,\n        \"min\": -3.77462,\n        \"max\": -3.66366,\n        \"num_unique_values\": 32,\n        \"samples\": [\n          -3.69511,\n          -3.70566,\n          -3.76101\n        ],\n        \"semantic_type\": \"\",\n        \"description\": \"\"\n      }\n    },\n    {\n      \"column\": \"Y_1\",\n      \"properties\": {\n        \"dtype\": \"number\",\n        \"std\": 0.02376103433259093,\n        \"min\": 40.3846,\n        \"max\": 40.50833,\n        \"num_unique_values\": 32,\n        \"samples\": [\n          40.39116,\n          40.42014,\n          40.40324\n        ],\n        \"semantic_type\": \"\",\n        \"description\": \"\"\n      }\n    },\n    {\n      \"column\": \"X_2\",\n      \"properties\": {\n        \"dtype\": \"number\",\n        \"std\": 0.030325318390596868,\n        \"min\": -3.81211,\n        \"max\": -3.63832,\n        \"num_unique_values\": 33,\n        \"samples\": [\n          -3.69511,\n          -3.72032,\n          -3.76101\n        ],\n        \"semantic_type\": \"\",\n        \"description\": \"\"\n      }\n    },\n    {\n      \"column\": \"Y_2\",\n      \"properties\": {\n        \"dtype\": \"number\",\n        \"std\": 0.02468813781575137,\n        \"min\": 40.34524,\n        \"max\": 40.48014,\n        \"num_unique_values\": 33,\n        \"samples\": [\n          40.39116,\n          40.42107,\n          40.40324\n        ],\n        \"semantic_type\": \"\",\n        \"description\": \"\"\n      }\n    },\n    {\n      \"column\": \"DIST\",\n      \"properties\": {\n        \"dtype\": \"number\",\n        \"std\": 1228.486628863029,\n        \"min\": 306.3958203310788,\n        \"max\": 6568.5958961415645,\n        \"num_unique_values\": 64,\n        \"samples\": [\n          3007.8550877129337,\n          2032.797467453904,\n          4182.231630548803\n        ],\n        \"semantic_type\": \"\",\n        \"description\": \"\"\n      }\n    },\n    {\n      \"column\": \"TIME\",\n      \"properties\": {\n        \"dtype\": \"number\",\n        \"std\": 2.4570990797883643,\n        \"min\": 0.61,\n        \"max\": 13.14,\n        \"num_unique_values\": 62,\n        \"samples\": [\n          13.14,\n          4.07,\n          8.36\n        ],\n        \"semantic_type\": \"\",\n        \"description\": \"\"\n      }\n    }\n  ]\n}"
            }
          },
          "metadata": {},
          "execution_count": 2
        }
      ]
    },
    {
      "cell_type": "code",
      "metadata": {
        "id": "Oet79Pot7kma",
        "colab": {
          "base_uri": "https://localhost:8080/",
          "height": 300
        },
        "outputId": "53ae30e6-0e48-4047-ac62-d5fc7fdb8e08"
      },
      "source": [
        "#\n",
        "# Descripción básica de los atributos numéricos\n",
        "#\n",
        "metro_stop.describe()"
      ],
      "execution_count": null,
      "outputs": [
        {
          "output_type": "execute_result",
          "data": {
            "text/plain": [
              "            LINE        X_1        Y_1        X_2        Y_2         DIST  \\\n",
              "count  64.000000  64.000000  64.000000  64.000000  64.000000    64.000000   \n",
              "mean    3.765625  -3.698910  40.433883  -3.693297  40.427802  1753.009813   \n",
              "std     3.435308   0.022417   0.023761   0.030325   0.024688  1228.486629   \n",
              "min     1.000000  -3.774620  40.384600  -3.812110  40.345240   306.395820   \n",
              "25%     1.000000  -3.709865  40.421070  -3.704330  40.416880   907.902812   \n",
              "50%     3.000000  -3.702180  40.430010  -3.695110  40.427720  1381.228241   \n",
              "75%     5.000000  -3.676820  40.446370  -3.675718  40.438290  2335.272877   \n",
              "max    18.000000  -3.663660  40.508330  -3.638320  40.480140  6568.595896   \n",
              "\n",
              "            TIME  \n",
              "count  64.000000  \n",
              "mean    3.505781  \n",
              "std     2.457099  \n",
              "min     0.610000  \n",
              "25%     1.815000  \n",
              "50%     2.765000  \n",
              "75%     4.672500  \n",
              "max    13.140000  "
            ],
            "text/html": [
              "\n",
              "  <div id=\"df-ab7384f1-489b-462a-b846-f209323b9265\" class=\"colab-df-container\">\n",
              "    <div>\n",
              "<style scoped>\n",
              "    .dataframe tbody tr th:only-of-type {\n",
              "        vertical-align: middle;\n",
              "    }\n",
              "\n",
              "    .dataframe tbody tr th {\n",
              "        vertical-align: top;\n",
              "    }\n",
              "\n",
              "    .dataframe thead th {\n",
              "        text-align: right;\n",
              "    }\n",
              "</style>\n",
              "<table border=\"1\" class=\"dataframe\">\n",
              "  <thead>\n",
              "    <tr style=\"text-align: right;\">\n",
              "      <th></th>\n",
              "      <th>LINE</th>\n",
              "      <th>X_1</th>\n",
              "      <th>Y_1</th>\n",
              "      <th>X_2</th>\n",
              "      <th>Y_2</th>\n",
              "      <th>DIST</th>\n",
              "      <th>TIME</th>\n",
              "    </tr>\n",
              "  </thead>\n",
              "  <tbody>\n",
              "    <tr>\n",
              "      <th>count</th>\n",
              "      <td>64.000000</td>\n",
              "      <td>64.000000</td>\n",
              "      <td>64.000000</td>\n",
              "      <td>64.000000</td>\n",
              "      <td>64.000000</td>\n",
              "      <td>64.000000</td>\n",
              "      <td>64.000000</td>\n",
              "    </tr>\n",
              "    <tr>\n",
              "      <th>mean</th>\n",
              "      <td>3.765625</td>\n",
              "      <td>-3.698910</td>\n",
              "      <td>40.433883</td>\n",
              "      <td>-3.693297</td>\n",
              "      <td>40.427802</td>\n",
              "      <td>1753.009813</td>\n",
              "      <td>3.505781</td>\n",
              "    </tr>\n",
              "    <tr>\n",
              "      <th>std</th>\n",
              "      <td>3.435308</td>\n",
              "      <td>0.022417</td>\n",
              "      <td>0.023761</td>\n",
              "      <td>0.030325</td>\n",
              "      <td>0.024688</td>\n",
              "      <td>1228.486629</td>\n",
              "      <td>2.457099</td>\n",
              "    </tr>\n",
              "    <tr>\n",
              "      <th>min</th>\n",
              "      <td>1.000000</td>\n",
              "      <td>-3.774620</td>\n",
              "      <td>40.384600</td>\n",
              "      <td>-3.812110</td>\n",
              "      <td>40.345240</td>\n",
              "      <td>306.395820</td>\n",
              "      <td>0.610000</td>\n",
              "    </tr>\n",
              "    <tr>\n",
              "      <th>25%</th>\n",
              "      <td>1.000000</td>\n",
              "      <td>-3.709865</td>\n",
              "      <td>40.421070</td>\n",
              "      <td>-3.704330</td>\n",
              "      <td>40.416880</td>\n",
              "      <td>907.902812</td>\n",
              "      <td>1.815000</td>\n",
              "    </tr>\n",
              "    <tr>\n",
              "      <th>50%</th>\n",
              "      <td>3.000000</td>\n",
              "      <td>-3.702180</td>\n",
              "      <td>40.430010</td>\n",
              "      <td>-3.695110</td>\n",
              "      <td>40.427720</td>\n",
              "      <td>1381.228241</td>\n",
              "      <td>2.765000</td>\n",
              "    </tr>\n",
              "    <tr>\n",
              "      <th>75%</th>\n",
              "      <td>5.000000</td>\n",
              "      <td>-3.676820</td>\n",
              "      <td>40.446370</td>\n",
              "      <td>-3.675718</td>\n",
              "      <td>40.438290</td>\n",
              "      <td>2335.272877</td>\n",
              "      <td>4.672500</td>\n",
              "    </tr>\n",
              "    <tr>\n",
              "      <th>max</th>\n",
              "      <td>18.000000</td>\n",
              "      <td>-3.663660</td>\n",
              "      <td>40.508330</td>\n",
              "      <td>-3.638320</td>\n",
              "      <td>40.480140</td>\n",
              "      <td>6568.595896</td>\n",
              "      <td>13.140000</td>\n",
              "    </tr>\n",
              "  </tbody>\n",
              "</table>\n",
              "</div>\n",
              "    <div class=\"colab-df-buttons\">\n",
              "\n",
              "  <div class=\"colab-df-container\">\n",
              "    <button class=\"colab-df-convert\" onclick=\"convertToInteractive('df-ab7384f1-489b-462a-b846-f209323b9265')\"\n",
              "            title=\"Convert this dataframe to an interactive table.\"\n",
              "            style=\"display:none;\">\n",
              "\n",
              "  <svg xmlns=\"http://www.w3.org/2000/svg\" height=\"24px\" viewBox=\"0 -960 960 960\">\n",
              "    <path d=\"M120-120v-720h720v720H120Zm60-500h600v-160H180v160Zm220 220h160v-160H400v160Zm0 220h160v-160H400v160ZM180-400h160v-160H180v160Zm440 0h160v-160H620v160ZM180-180h160v-160H180v160Zm440 0h160v-160H620v160Z\"/>\n",
              "  </svg>\n",
              "    </button>\n",
              "\n",
              "  <style>\n",
              "    .colab-df-container {\n",
              "      display:flex;\n",
              "      gap: 12px;\n",
              "    }\n",
              "\n",
              "    .colab-df-convert {\n",
              "      background-color: #E8F0FE;\n",
              "      border: none;\n",
              "      border-radius: 50%;\n",
              "      cursor: pointer;\n",
              "      display: none;\n",
              "      fill: #1967D2;\n",
              "      height: 32px;\n",
              "      padding: 0 0 0 0;\n",
              "      width: 32px;\n",
              "    }\n",
              "\n",
              "    .colab-df-convert:hover {\n",
              "      background-color: #E2EBFA;\n",
              "      box-shadow: 0px 1px 2px rgba(60, 64, 67, 0.3), 0px 1px 3px 1px rgba(60, 64, 67, 0.15);\n",
              "      fill: #174EA6;\n",
              "    }\n",
              "\n",
              "    .colab-df-buttons div {\n",
              "      margin-bottom: 4px;\n",
              "    }\n",
              "\n",
              "    [theme=dark] .colab-df-convert {\n",
              "      background-color: #3B4455;\n",
              "      fill: #D2E3FC;\n",
              "    }\n",
              "\n",
              "    [theme=dark] .colab-df-convert:hover {\n",
              "      background-color: #434B5C;\n",
              "      box-shadow: 0px 1px 3px 1px rgba(0, 0, 0, 0.15);\n",
              "      filter: drop-shadow(0px 1px 2px rgba(0, 0, 0, 0.3));\n",
              "      fill: #FFFFFF;\n",
              "    }\n",
              "  </style>\n",
              "\n",
              "    <script>\n",
              "      const buttonEl =\n",
              "        document.querySelector('#df-ab7384f1-489b-462a-b846-f209323b9265 button.colab-df-convert');\n",
              "      buttonEl.style.display =\n",
              "        google.colab.kernel.accessAllowed ? 'block' : 'none';\n",
              "\n",
              "      async function convertToInteractive(key) {\n",
              "        const element = document.querySelector('#df-ab7384f1-489b-462a-b846-f209323b9265');\n",
              "        const dataTable =\n",
              "          await google.colab.kernel.invokeFunction('convertToInteractive',\n",
              "                                                    [key], {});\n",
              "        if (!dataTable) return;\n",
              "\n",
              "        const docLinkHtml = 'Like what you see? Visit the ' +\n",
              "          '<a target=\"_blank\" href=https://colab.research.google.com/notebooks/data_table.ipynb>data table notebook</a>'\n",
              "          + ' to learn more about interactive tables.';\n",
              "        element.innerHTML = '';\n",
              "        dataTable['output_type'] = 'display_data';\n",
              "        await google.colab.output.renderOutput(dataTable, element);\n",
              "        const docLink = document.createElement('div');\n",
              "        docLink.innerHTML = docLinkHtml;\n",
              "        element.appendChild(docLink);\n",
              "      }\n",
              "    </script>\n",
              "  </div>\n",
              "\n",
              "\n",
              "<div id=\"df-fe22eace-0c5b-4b0f-8489-502583b38b64\">\n",
              "  <button class=\"colab-df-quickchart\" onclick=\"quickchart('df-fe22eace-0c5b-4b0f-8489-502583b38b64')\"\n",
              "            title=\"Suggest charts\"\n",
              "            style=\"display:none;\">\n",
              "\n",
              "<svg xmlns=\"http://www.w3.org/2000/svg\" height=\"24px\"viewBox=\"0 0 24 24\"\n",
              "     width=\"24px\">\n",
              "    <g>\n",
              "        <path d=\"M19 3H5c-1.1 0-2 .9-2 2v14c0 1.1.9 2 2 2h14c1.1 0 2-.9 2-2V5c0-1.1-.9-2-2-2zM9 17H7v-7h2v7zm4 0h-2V7h2v10zm4 0h-2v-4h2v4z\"/>\n",
              "    </g>\n",
              "</svg>\n",
              "  </button>\n",
              "\n",
              "<style>\n",
              "  .colab-df-quickchart {\n",
              "      --bg-color: #E8F0FE;\n",
              "      --fill-color: #1967D2;\n",
              "      --hover-bg-color: #E2EBFA;\n",
              "      --hover-fill-color: #174EA6;\n",
              "      --disabled-fill-color: #AAA;\n",
              "      --disabled-bg-color: #DDD;\n",
              "  }\n",
              "\n",
              "  [theme=dark] .colab-df-quickchart {\n",
              "      --bg-color: #3B4455;\n",
              "      --fill-color: #D2E3FC;\n",
              "      --hover-bg-color: #434B5C;\n",
              "      --hover-fill-color: #FFFFFF;\n",
              "      --disabled-bg-color: #3B4455;\n",
              "      --disabled-fill-color: #666;\n",
              "  }\n",
              "\n",
              "  .colab-df-quickchart {\n",
              "    background-color: var(--bg-color);\n",
              "    border: none;\n",
              "    border-radius: 50%;\n",
              "    cursor: pointer;\n",
              "    display: none;\n",
              "    fill: var(--fill-color);\n",
              "    height: 32px;\n",
              "    padding: 0;\n",
              "    width: 32px;\n",
              "  }\n",
              "\n",
              "  .colab-df-quickchart:hover {\n",
              "    background-color: var(--hover-bg-color);\n",
              "    box-shadow: 0 1px 2px rgba(60, 64, 67, 0.3), 0 1px 3px 1px rgba(60, 64, 67, 0.15);\n",
              "    fill: var(--button-hover-fill-color);\n",
              "  }\n",
              "\n",
              "  .colab-df-quickchart-complete:disabled,\n",
              "  .colab-df-quickchart-complete:disabled:hover {\n",
              "    background-color: var(--disabled-bg-color);\n",
              "    fill: var(--disabled-fill-color);\n",
              "    box-shadow: none;\n",
              "  }\n",
              "\n",
              "  .colab-df-spinner {\n",
              "    border: 2px solid var(--fill-color);\n",
              "    border-color: transparent;\n",
              "    border-bottom-color: var(--fill-color);\n",
              "    animation:\n",
              "      spin 1s steps(1) infinite;\n",
              "  }\n",
              "\n",
              "  @keyframes spin {\n",
              "    0% {\n",
              "      border-color: transparent;\n",
              "      border-bottom-color: var(--fill-color);\n",
              "      border-left-color: var(--fill-color);\n",
              "    }\n",
              "    20% {\n",
              "      border-color: transparent;\n",
              "      border-left-color: var(--fill-color);\n",
              "      border-top-color: var(--fill-color);\n",
              "    }\n",
              "    30% {\n",
              "      border-color: transparent;\n",
              "      border-left-color: var(--fill-color);\n",
              "      border-top-color: var(--fill-color);\n",
              "      border-right-color: var(--fill-color);\n",
              "    }\n",
              "    40% {\n",
              "      border-color: transparent;\n",
              "      border-right-color: var(--fill-color);\n",
              "      border-top-color: var(--fill-color);\n",
              "    }\n",
              "    60% {\n",
              "      border-color: transparent;\n",
              "      border-right-color: var(--fill-color);\n",
              "    }\n",
              "    80% {\n",
              "      border-color: transparent;\n",
              "      border-right-color: var(--fill-color);\n",
              "      border-bottom-color: var(--fill-color);\n",
              "    }\n",
              "    90% {\n",
              "      border-color: transparent;\n",
              "      border-bottom-color: var(--fill-color);\n",
              "    }\n",
              "  }\n",
              "</style>\n",
              "\n",
              "  <script>\n",
              "    async function quickchart(key) {\n",
              "      const quickchartButtonEl =\n",
              "        document.querySelector('#' + key + ' button');\n",
              "      quickchartButtonEl.disabled = true;  // To prevent multiple clicks.\n",
              "      quickchartButtonEl.classList.add('colab-df-spinner');\n",
              "      try {\n",
              "        const charts = await google.colab.kernel.invokeFunction(\n",
              "            'suggestCharts', [key], {});\n",
              "      } catch (error) {\n",
              "        console.error('Error during call to suggestCharts:', error);\n",
              "      }\n",
              "      quickchartButtonEl.classList.remove('colab-df-spinner');\n",
              "      quickchartButtonEl.classList.add('colab-df-quickchart-complete');\n",
              "    }\n",
              "    (() => {\n",
              "      let quickchartButtonEl =\n",
              "        document.querySelector('#df-fe22eace-0c5b-4b0f-8489-502583b38b64 button');\n",
              "      quickchartButtonEl.style.display =\n",
              "        google.colab.kernel.accessAllowed ? 'block' : 'none';\n",
              "    })();\n",
              "  </script>\n",
              "</div>\n",
              "    </div>\n",
              "  </div>\n"
            ],
            "application/vnd.google.colaboratory.intrinsic+json": {
              "type": "dataframe",
              "summary": "{\n  \"name\": \"metro_stop\",\n  \"rows\": 8,\n  \"fields\": [\n    {\n      \"column\": \"LINE\",\n      \"properties\": {\n        \"dtype\": \"number\",\n        \"std\": 21.55351525457197,\n        \"min\": 1.0,\n        \"max\": 64.0,\n        \"num_unique_values\": 7,\n        \"samples\": [\n          64.0,\n          3.765625,\n          5.0\n        ],\n        \"semantic_type\": \"\",\n        \"description\": \"\"\n      }\n    },\n    {\n      \"column\": \"X_1\",\n      \"properties\": {\n        \"dtype\": \"number\",\n        \"std\": 23.784670492173063,\n        \"min\": -3.77462,\n        \"max\": 64.0,\n        \"num_unique_values\": 8,\n        \"samples\": [\n          -3.69891015625,\n          -3.70218,\n          64.0\n        ],\n        \"semantic_type\": \"\",\n        \"description\": \"\"\n      }\n    },\n    {\n      \"column\": \"Y_1\",\n      \"properties\": {\n        \"dtype\": \"number\",\n        \"std\": 17.53759757524239,\n        \"min\": 0.02376103433259093,\n        \"max\": 64.0,\n        \"num_unique_values\": 8,\n        \"samples\": [\n          40.43388328125,\n          40.43001,\n          64.0\n        ],\n        \"semantic_type\": \"\",\n        \"description\": \"\"\n      }\n    },\n    {\n      \"column\": \"X_2\",\n      \"properties\": {\n        \"dtype\": \"number\",\n        \"std\": 23.78406772512765,\n        \"min\": -3.81211,\n        \"max\": 64.0,\n        \"num_unique_values\": 8,\n        \"samples\": [\n          -3.6932970312499998,\n          -3.69511,\n          64.0\n        ],\n        \"semantic_type\": \"\",\n        \"description\": \"\"\n      }\n    },\n    {\n      \"column\": \"Y_2\",\n      \"properties\": {\n        \"dtype\": \"number\",\n        \"std\": 17.535802083688676,\n        \"min\": 0.02468813781575137,\n        \"max\": 64.0,\n        \"num_unique_values\": 8,\n        \"samples\": [\n          40.427801875,\n          40.42772,\n          64.0\n        ],\n        \"semantic_type\": \"\",\n        \"description\": \"\"\n      }\n    },\n    {\n      \"column\": \"DIST\",\n      \"properties\": {\n        \"dtype\": \"number\",\n        \"std\": 2055.236930888296,\n        \"min\": 64.0,\n        \"max\": 6568.5958961415645,\n        \"num_unique_values\": 8,\n        \"samples\": [\n          1753.0098131553232,\n          1381.228240823711,\n          64.0\n        ],\n        \"semantic_type\": \"\",\n        \"description\": \"\"\n      }\n    },\n    {\n      \"column\": \"TIME\",\n      \"properties\": {\n        \"dtype\": \"number\",\n        \"std\": 21.513487469917145,\n        \"min\": 0.61,\n        \"max\": 64.0,\n        \"num_unique_values\": 8,\n        \"samples\": [\n          3.50578125,\n          2.7649999999999997,\n          64.0\n        ],\n        \"semantic_type\": \"\",\n        \"description\": \"\"\n      }\n    }\n  ]\n}"
            }
          },
          "metadata": {},
          "execution_count": 3
        }
      ]
    },
    {
      "cell_type": "markdown",
      "metadata": {
        "id": "x1QocYwiGFbC"
      },
      "source": [
        "# Creación del grafo desde un objeto pandas\n",
        "\n",
        "Cargamos los datos desde un dataframe de pandas y mostraremos la red de metro usando las coordenadas (no proyectadas):*texto en cursiva*\n",
        "\n",
        "Referencias:\n",
        "* [Creación red networkx a partir de un dataframe pandas](https://networkx.org/documentation/stable/reference/generated/networkx.convert_matrix.from_pandas_edgelist.html#networkx.convert_matrix.from_pandas_edgelist)\n",
        "* [Visualización de redes con coordenadas geográficas](https://networkx.org/documentation/latest/auto_examples/drawing/plot_knuth_miles.html#sphx-glr-auto-examples-drawing-plot-knuth-miles-py)"
      ]
    },
    {
      "cell_type": "markdown",
      "metadata": {
        "id": "aewN_97lfjVD"
      },
      "source": [
        "## Importación del grafo"
      ]
    },
    {
      "cell_type": "code",
      "metadata": {
        "id": "KxjNjpGzQ4cc"
      },
      "source": [
        "G=nx.from_pandas_edgelist(metro_stop,\n",
        "                          source = 'STOP_1',\n",
        "                          target = 'STOP_2',\n",
        "                          edge_attr=True)"
      ],
      "execution_count": null,
      "outputs": []
    },
    {
      "cell_type": "markdown",
      "metadata": {
        "id": "1PRwX30PGLoT"
      },
      "source": [
        "## Dibujo del grafo usando las coordenadas geográficas\n",
        "\n",
        "Solo como repaso, accedemos a los elementos que componen el grafo a través de las colecciones **nodes** y **edges**, vemos que los nodos no tienen ningún atributo"
      ]
    },
    {
      "cell_type": "code",
      "metadata": {
        "id": "S-MMncgs7byP",
        "colab": {
          "base_uri": "https://localhost:8080/"
        },
        "outputId": "f12e82f7-d406-44f0-9b92-e68043a2206c"
      },
      "source": [
        "G.nodes['Pinar de Chamartin']"
      ],
      "execution_count": null,
      "outputs": [
        {
          "output_type": "execute_result",
          "data": {
            "text/plain": [
              "{}"
            ]
          },
          "metadata": {},
          "execution_count": 5
        }
      ]
    },
    {
      "cell_type": "markdown",
      "metadata": {
        "id": "k0svTosO7yVa"
      },
      "source": [
        "En cambio las aristas si tienen información del trayecto entre 'Las Tablas' y 'Chamartin'"
      ]
    },
    {
      "cell_type": "code",
      "metadata": {
        "id": "_I1eo34S7n1p",
        "colab": {
          "base_uri": "https://localhost:8080/"
        },
        "outputId": "2a600d0b-ce34-42e5-ef5c-8a9241b688f9"
      },
      "source": [
        "G.edges[('Las Tablas', 'Pinar de Chamartin')]\n",
        "G.edges[('Las Tablas', 'Pinar de Chamartin')]['V'] = 999\n",
        "G.edges[('Las Tablas', 'Pinar de Chamartin')]"
      ],
      "execution_count": null,
      "outputs": [
        {
          "output_type": "execute_result",
          "data": {
            "text/plain": [
              "{'LINE': 18,\n",
              " 'X_1': -3.66944,\n",
              " 'Y_1': 40.50833,\n",
              " 'X_2': -3.6668,\n",
              " 'Y_2': 40.48014,\n",
              " 'DIST': 3138.3248579055585,\n",
              " 'TIME': 6.28,\n",
              " 'V': 999}"
            ]
          },
          "metadata": {},
          "execution_count": 6
        }
      ]
    },
    {
      "cell_type": "markdown",
      "metadata": {
        "id": "fCn2fc0XfoeP"
      },
      "source": [
        "### Asignación de coordenadas\n",
        "\n",
        "Hemos cargado las aristas, sin embargo de los nodos no tenemos sus coordenadas, para ello utilizaremos las localizaciones geográficas de las paradas de inicio y fin y construiremos una lista de coordenadas únicas por cada parada."
      ]
    },
    {
      "cell_type": "code",
      "metadata": {
        "id": "sNaB6Q2f5WDZ"
      },
      "source": [
        "#\n",
        "# Construimos una lista única de paradas coordenadas, lo que hacemoses crear una lista de paradas no repetidas con sus coordenadas\n",
        "#\n",
        "metro_stop_nodes = pd.concat([metro_stop[['STOP_1','X_1','Y_1']].rename(columns={'STOP_1': 'STOP', 'X_1': 'X', 'Y_1': 'Y'}),\n",
        "                              metro_stop[['STOP_2','X_2','Y_2']].rename(columns={'STOP_2': 'STOP', 'X_2': 'X', 'Y_2': 'Y'})\n",
        "                              ]).drop_duplicates()\n",
        "#\n",
        "# Creamos una tupla que contenga las coordenadas\n",
        "#\n",
        "metro_stop_nodes['COORDS'] = metro_stop_nodes.apply(lambda x: (x['X'],x['Y']),axis=1)\n",
        "# Eliminamos las coordenadas que no vamos a usar\n",
        "del metro_stop_nodes['X']\n",
        "del metro_stop_nodes['Y']\n",
        "\n"
      ],
      "execution_count": null,
      "outputs": []
    },
    {
      "cell_type": "code",
      "metadata": {
        "id": "SynMpNnlojB5"
      },
      "source": [
        "#\n",
        "# Creamos un atributo del grafo llamado position con un diccionario con las posiciones\n",
        "#\n",
        "G.position = {}\n",
        "\n",
        "#\n",
        "# Ponemos las coordenadas de cada nodo (aprovechamos para añadir las coordenadas como atributos)\n",
        "#\n",
        "for index, row in metro_stop_nodes.iterrows():\n",
        "    G.position[row['STOP']] = row['COORDS']\n",
        "    G.nodes[row['STOP']]['COORDS'] = row['COORDS']"
      ],
      "execution_count": null,
      "outputs": []
    },
    {
      "cell_type": "markdown",
      "metadata": {
        "id": "Dp3ShuGo8Se8"
      },
      "source": [
        "No lo utilizaremos, pero vemos como hemos asignado al nodo un atributo con la tupla de sus coordenadas"
      ]
    },
    {
      "cell_type": "code",
      "metadata": {
        "id": "5aPbNvO98bR3",
        "colab": {
          "base_uri": "https://localhost:8080/"
        },
        "outputId": "fcb876fe-47c0-42e4-9517-da6423e45306"
      },
      "source": [
        "G.nodes['Las Tablas']"
      ],
      "execution_count": null,
      "outputs": [
        {
          "output_type": "execute_result",
          "data": {
            "text/plain": [
              "{'COORDS': (-3.66944, 40.50833)}"
            ]
          },
          "metadata": {},
          "execution_count": 9
        }
      ]
    },
    {
      "cell_type": "markdown",
      "metadata": {
        "id": "_p-YouG_gATS"
      },
      "source": [
        "### Visualización del grafo con coordenadas geográficas"
      ]
    },
    {
      "cell_type": "code",
      "metadata": {
        "id": "14f-iPMqtv_-",
        "colab": {
          "base_uri": "https://localhost:8080/",
          "height": 957
        },
        "outputId": "82ba187c-39bd-4fc9-b42e-eb6cb17a255d"
      },
      "source": [
        "from matplotlib.pyplot import figure\n",
        "\n",
        "draw_options_small = {\n",
        "    \"font_size\": 6,\n",
        "    \"node_size\": 800,\n",
        "    \"node_color\": \"white\",\n",
        "    \"edgecolors\": \"grey\",\n",
        "    \"linewidths\": 1,\n",
        "    \"width\": 1\n",
        "}\n",
        "\n",
        "figure(figsize=(15, 15), dpi=80)\n",
        "\n",
        "# Mostramos el grafo\n",
        "nx.draw_networkx(G, pos=G.position,**draw_options_small)\n",
        "# Establacemos los márgenes en los ejes para que los nodos no se corten\n",
        "plt.show()"
      ],
      "execution_count": null,
      "outputs": [
        {
          "output_type": "display_data",
          "data": {
            "text/plain": [
              "<Figure size 1200x1200 with 1 Axes>"
            ],
            "image/png": "[encoded data removed]"
          },
          "metadata": {}
        }
      ]
    },
    {
      "cell_type": "markdown",
      "metadata": {
        "id": "hx4SxTkMlfjO"
      },
      "source": [
        "**pregunta** ¿qué tipo de grafo es?\n",
        "\n",
        "* Dirigido / No dirigido\n",
        "* Cíclico / Aciclico\n",
        "* Es un grafo conexo o inconexo, si es el ultimo ¿de cuantos componentes?"
      ]
    },
    {
      "cell_type": "markdown",
      "metadata": {
        "id": "rCpqBdjoUD9_"
      },
      "source": [
        "# Cálculo de medidas de centralidad\n",
        "\n",
        "Las medidas de centralidad de cada una de las estaciones nos indicarán su nivel de interconexión con otros elementos de la red. Por otro lado medidas como el **grado** nos inicarán el nivel de conexiones directas que tiene la red."
      ]
    },
    {
      "cell_type": "markdown",
      "metadata": {
        "id": "jiweXR5XGZiB"
      },
      "source": [
        "## Grado de las distintas estaciones\n",
        "\n",
        "El grado es una medida que nos indica como está conectado un nodo de red con otros nodos de forma directa. En este ejemplo calcularemos el grafo de todos los elementos de la red y el grado medio de cada estación. En general cualquier parada de la red que no sea inicio ni fin tendrá un grado 2, cuando la parada tenga dos líneas y no sea final su grado será 4."
      ]
    },
    {
      "cell_type": "code",
      "metadata": {
        "id": "v0io86-DGY4t",
        "colab": {
          "base_uri": "https://localhost:8080/"
        },
        "outputId": "2cb02c42-2b50-4fb9-9ec6-c975f2f96efc"
      },
      "source": [
        "#\n",
        "# Grado de cada nodo\n",
        "#\n",
        "degree = G.degree()\n",
        "\n",
        "degree_list = []\n",
        "\n",
        "for (n,d) in degree:\n",
        "    degree_list.append(d)\n",
        "\n",
        "av_degree = sum(degree_list) / len(degree_list)\n",
        "print('Grado medio del grafo: ', round(av_degree,2))"
      ],
      "execution_count": null,
      "outputs": [
        {
          "output_type": "stream",
          "name": "stdout",
          "text": [
            "Grado medio del grafo:  3.56\n"
          ]
        }
      ]
    },
    {
      "cell_type": "markdown",
      "metadata": {
        "id": "Bd0TEsSOg1bi"
      },
      "source": [
        "**pregunta**: ¿Qué podemos decir de este valor?\n",
        "\n",
        "### Descriptivo básico de una red: distribución de frecuencia del grado\n",
        "Para verlo con mayor detalle mostraremos gráficamente en un histograma como se distribuye el nivel de conectividad directa de cada nodo (grado)"
      ]
    },
    {
      "cell_type": "code",
      "metadata": {
        "id": "judTtOrbG5cL",
        "colab": {
          "base_uri": "https://localhost:8080/",
          "height": 486
        },
        "outputId": "564b3170-f9b5-45ae-f58a-68a469e56c53"
      },
      "source": [
        "#\n",
        "# Generamos un histograma para ver la distribución de los grados\n",
        "#\n",
        "plt.rcParams[\"figure.figsize\"] = (10,5)\n",
        "plt.hist(degree_list,label='Distribución del grado')\n",
        "plt.axvline(av_degree,color='r',linestyle='dashed',label='Grado medio')\n",
        "plt.legend()\n",
        "plt.ylabel('Número de nodos')\n",
        "plt.title('Metro de Madrid: Análisis del grado de los nodos')\n"
      ],
      "execution_count": null,
      "outputs": [
        {
          "output_type": "execute_result",
          "data": {
            "text/plain": [
              "Text(0.5, 1.0, 'Metro de Madrid: Análisis del grado de los nodos')"
            ]
          },
          "metadata": {},
          "execution_count": 12
        },
        {
          "output_type": "display_data",
          "data": {
            "text/plain": [
              "<Figure size 1000x500 with 1 Axes>"
            ],
            "image/png": "[encoded data removed]"
          },
          "metadata": {}
        }
      ]
    },
    {
      "cell_type": "markdown",
      "metadata": {
        "id": "mUe01-R-HXUe"
      },
      "source": [
        "**pregunta** ¿Cuál es el nodo con mayor grado y el que menos? ¿cómo podríamos describir los nodos con mayor grado y menor?"
      ]
    },
    {
      "cell_type": "code",
      "metadata": {
        "id": "F8dduSWWIH-d",
        "colab": {
          "base_uri": "https://localhost:8080/"
        },
        "outputId": "74f59863-86c3-40cd-cffa-3f5951531f80"
      },
      "source": [
        "#\n",
        "# Buscamos uno nodo que tenga el máximo grado\n",
        "#\n",
        "df_1 = pd.DataFrame.from_dict(dict(degree), orient='index')\n",
        "df_1.columns = ['DEGREE']#\n",
        "#\n",
        "max_degree_stops = df_1[df_1.DEGREE == max(df_1['DEGREE'])]\n",
        "print('Estación con mayor grado ', max(df_1['DEGREE']))\n",
        "print(max_degree_stops)\n"
      ],
      "execution_count": null,
      "outputs": [
        {
          "output_type": "stream",
          "name": "stdout",
          "text": [
            "Estación con mayor grado  8\n",
            "                DEGREE\n",
            "Av. de America       8\n"
          ]
        }
      ]
    },
    {
      "cell_type": "code",
      "metadata": {
        "id": "q5KS0UAU6yjJ",
        "colab": {
          "base_uri": "https://localhost:8080/"
        },
        "outputId": "d24fb7af-ca15-4f2f-8bc8-20deacdda212"
      },
      "source": [
        "#\n",
        "# Y una de las que tienen menor grado\n",
        "#\n",
        "max_degree_stops = df_1[df_1.DEGREE == min(df_1['DEGREE'])]\n",
        "print('Estación con menor grado ', min(df_1['DEGREE']))\n",
        "print(max_degree_stops)"
      ],
      "execution_count": null,
      "outputs": [
        {
          "output_type": "stream",
          "name": "stdout",
          "text": [
            "Estación con menor grado  1\n",
            "                DEGREE\n",
            "Puerta del Sur       1\n"
          ]
        }
      ]
    },
    {
      "cell_type": "code",
      "metadata": {
        "colab": {
          "base_uri": "https://localhost:8080/",
          "height": 1000
        },
        "id": "yfkzgvHSuyo5",
        "outputId": "4f5f4b81-4483-4498-c8d1-faa5adb6c1c8"
      },
      "source": [
        "df_1"
      ],
      "execution_count": null,
      "outputs": [
        {
          "output_type": "execute_result",
          "data": {
            "text/plain": [
              "                     DEGREE\n",
              "Las Tablas                2\n",
              "Chamartin                 3\n",
              "Plaza de Castilla         4\n",
              "Pinar de Chamartin        3\n",
              "Colombia                  4\n",
              "Mar de Cristal            3\n",
              "Nuevos Ministerios        3\n",
              "Cuatro Caminos            5\n",
              "Av. de America            8\n",
              "Gregorio Maranon          4\n",
              "Bilbao                    4\n",
              "Guzman el Bueno           3\n",
              "Canal                     4\n",
              "Moncloa                   2\n",
              "Arguelles                 4\n",
              "San Bernardo              4\n",
              "Plaza de Espana           3\n",
              "Principe Pio              4\n",
              "Tribunal                  4\n",
              "Opera                     4\n",
              "Alonso Martinez           6\n",
              "Sol                       6\n",
              "Callao                    3\n",
              "Goya                      4\n",
              "Ventas                    3\n",
              "Principe de Vergara       4\n",
              "Manuel Becerra            4\n",
              "Sainz de Baranda          3\n",
              "Pueblo Nuevo              2\n",
              "Casa de Campo             3\n",
              "Colonia Jardin            2\n",
              "Puerta del Sur            1\n",
              "Oporto                    4\n",
              "Plaza Eliptica            2\n",
              "Legazpi                   3\n",
              "Pacifico                  3"
            ],
            "text/html": [
              "\n",
              "  <div id=\"df-c6fe6e11-4d56-4e0b-9237-e92b8c500740\" class=\"colab-df-container\">\n",
              "    <div>\n",
              "<style scoped>\n",
              "    .dataframe tbody tr th:only-of-type {\n",
              "        vertical-align: middle;\n",
              "    }\n",
              "\n",
              "    .dataframe tbody tr th {\n",
              "        vertical-align: top;\n",
              "    }\n",
              "\n",
              "    .dataframe thead th {\n",
              "        text-align: right;\n",
              "    }\n",
              "</style>\n",
              "<table border=\"1\" class=\"dataframe\">\n",
              "  <thead>\n",
              "    <tr style=\"text-align: right;\">\n",
              "      <th></th>\n",
              "      <th>DEGREE</th>\n",
              "    </tr>\n",
              "  </thead>\n",
              "  <tbody>\n",
              "    <tr>\n",
              "      <th>Las Tablas</th>\n",
              "      <td>2</td>\n",
              "    </tr>\n",
              "    <tr>\n",
              "      <th>Chamartin</th>\n",
              "      <td>3</td>\n",
              "    </tr>\n",
              "    <tr>\n",
              "      <th>Plaza de Castilla</th>\n",
              "      <td>4</td>\n",
              "    </tr>\n",
              "    <tr>\n",
              "      <th>Pinar de Chamartin</th>\n",
              "      <td>3</td>\n",
              "    </tr>\n",
              "    <tr>\n",
              "      <th>Colombia</th>\n",
              "      <td>4</td>\n",
              "    </tr>\n",
              "    <tr>\n",
              "      <th>Mar de Cristal</th>\n",
              "      <td>3</td>\n",
              "    </tr>\n",
              "    <tr>\n",
              "      <th>Nuevos Ministerios</th>\n",
              "      <td>3</td>\n",
              "    </tr>\n",
              "    <tr>\n",
              "      <th>Cuatro Caminos</th>\n",
              "      <td>5</td>\n",
              "    </tr>\n",
              "    <tr>\n",
              "      <th>Av. de America</th>\n",
              "      <td>8</td>\n",
              "    </tr>\n",
              "    <tr>\n",
              "      <th>Gregorio Maranon</th>\n",
              "      <td>4</td>\n",
              "    </tr>\n",
              "    <tr>\n",
              "      <th>Bilbao</th>\n",
              "      <td>4</td>\n",
              "    </tr>\n",
              "    <tr>\n",
              "      <th>Guzman el Bueno</th>\n",
              "      <td>3</td>\n",
              "    </tr>\n",
              "    <tr>\n",
              "      <th>Canal</th>\n",
              "      <td>4</td>\n",
              "    </tr>\n",
              "    <tr>\n",
              "      <th>Moncloa</th>\n",
              "      <td>2</td>\n",
              "    </tr>\n",
              "    <tr>\n",
              "      <th>Arguelles</th>\n",
              "      <td>4</td>\n",
              "    </tr>\n",
              "    <tr>\n",
              "      <th>San Bernardo</th>\n",
              "      <td>4</td>\n",
              "    </tr>\n",
              "    <tr>\n",
              "      <th>Plaza de Espana</th>\n",
              "      <td>3</td>\n",
              "    </tr>\n",
              "    <tr>\n",
              "      <th>Principe Pio</th>\n",
              "      <td>4</td>\n",
              "    </tr>\n",
              "    <tr>\n",
              "      <th>Tribunal</th>\n",
              "      <td>4</td>\n",
              "    </tr>\n",
              "    <tr>\n",
              "      <th>Opera</th>\n",
              "      <td>4</td>\n",
              "    </tr>\n",
              "    <tr>\n",
              "      <th>Alonso Martinez</th>\n",
              "      <td>6</td>\n",
              "    </tr>\n",
              "    <tr>\n",
              "      <th>Sol</th>\n",
              "      <td>6</td>\n",
              "    </tr>\n",
              "    <tr>\n",
              "      <th>Callao</th>\n",
              "      <td>3</td>\n",
              "    </tr>\n",
              "    <tr>\n",
              "      <th>Goya</th>\n",
              "      <td>4</td>\n",
              "    </tr>\n",
              "    <tr>\n",
              "      <th>Ventas</th>\n",
              "      <td>3</td>\n",
              "    </tr>\n",
              "    <tr>\n",
              "      <th>Principe de Vergara</th>\n",
              "      <td>4</td>\n",
              "    </tr>\n",
              "    <tr>\n",
              "      <th>Manuel Becerra</th>\n",
              "      <td>4</td>\n",
              "    </tr>\n",
              "    <tr>\n",
              "      <th>Sainz de Baranda</th>\n",
              "      <td>3</td>\n",
              "    </tr>\n",
              "    <tr>\n",
              "      <th>Pueblo Nuevo</th>\n",
              "      <td>2</td>\n",
              "    </tr>\n",
              "    <tr>\n",
              "      <th>Casa de Campo</th>\n",
              "      <td>3</td>\n",
              "    </tr>\n",
              "    <tr>\n",
              "      <th>Colonia Jardin</th>\n",
              "      <td>2</td>\n",
              "    </tr>\n",
              "    <tr>\n",
              "      <th>Puerta del Sur</th>\n",
              "      <td>1</td>\n",
              "    </tr>\n",
              "    <tr>\n",
              "      <th>Oporto</th>\n",
              "      <td>4</td>\n",
              "    </tr>\n",
              "    <tr>\n",
              "      <th>Plaza Eliptica</th>\n",
              "      <td>2</td>\n",
              "    </tr>\n",
              "    <tr>\n",
              "      <th>Legazpi</th>\n",
              "      <td>3</td>\n",
              "    </tr>\n",
              "    <tr>\n",
              "      <th>Pacifico</th>\n",
              "      <td>3</td>\n",
              "    </tr>\n",
              "  </tbody>\n",
              "</table>\n",
              "</div>\n",
              "    <div class=\"colab-df-buttons\">\n",
              "\n",
              "  <div class=\"colab-df-container\">\n",
              "    <button class=\"colab-df-convert\" onclick=\"convertToInteractive('df-c6fe6e11-4d56-4e0b-9237-e92b8c500740')\"\n",
              "            title=\"Convert this dataframe to an interactive table.\"\n",
              "            style=\"display:none;\">\n",
              "\n",
              "  <svg xmlns=\"http://www.w3.org/2000/svg\" height=\"24px\" viewBox=\"0 -960 960 960\">\n",
              "    <path d=\"M120-120v-720h720v720H120Zm60-500h600v-160H180v160Zm220 220h160v-160H400v160Zm0 220h160v-160H400v160ZM180-400h160v-160H180v160Zm440 0h160v-160H620v160ZM180-180h160v-160H180v160Zm440 0h160v-160H620v160Z\"/>\n",
              "  </svg>\n",
              "    </button>\n",
              "\n",
              "  <style>\n",
              "    .colab-df-container {\n",
              "      display:flex;\n",
              "      gap: 12px;\n",
              "    }\n",
              "\n",
              "    .colab-df-convert {\n",
              "      background-color: #E8F0FE;\n",
              "      border: none;\n",
              "      border-radius: 50%;\n",
              "      cursor: pointer;\n",
              "      display: none;\n",
              "      fill: #1967D2;\n",
              "      height: 32px;\n",
              "      padding: 0 0 0 0;\n",
              "      width: 32px;\n",
              "    }\n",
              "\n",
              "    .colab-df-convert:hover {\n",
              "      background-color: #E2EBFA;\n",
              "      box-shadow: 0px 1px 2px rgba(60, 64, 67, 0.3), 0px 1px 3px 1px rgba(60, 64, 67, 0.15);\n",
              "      fill: #174EA6;\n",
              "    }\n",
              "\n",
              "    .colab-df-buttons div {\n",
              "      margin-bottom: 4px;\n",
              "    }\n",
              "\n",
              "    [theme=dark] .colab-df-convert {\n",
              "      background-color: #3B4455;\n",
              "      fill: #D2E3FC;\n",
              "    }\n",
              "\n",
              "    [theme=dark] .colab-df-convert:hover {\n",
              "      background-color: #434B5C;\n",
              "      box-shadow: 0px 1px 3px 1px rgba(0, 0, 0, 0.15);\n",
              "      filter: drop-shadow(0px 1px 2px rgba(0, 0, 0, 0.3));\n",
              "      fill: #FFFFFF;\n",
              "    }\n",
              "  </style>\n",
              "\n",
              "    <script>\n",
              "      const buttonEl =\n",
              "        document.querySelector('#df-c6fe6e11-4d56-4e0b-9237-e92b8c500740 button.colab-df-convert');\n",
              "      buttonEl.style.display =\n",
              "        google.colab.kernel.accessAllowed ? 'block' : 'none';\n",
              "\n",
              "      async function convertToInteractive(key) {\n",
              "        const element = document.querySelector('#df-c6fe6e11-4d56-4e0b-9237-e92b8c500740');\n",
              "        const dataTable =\n",
              "          await google.colab.kernel.invokeFunction('convertToInteractive',\n",
              "                                                    [key], {});\n",
              "        if (!dataTable) return;\n",
              "\n",
              "        const docLinkHtml = 'Like what you see? Visit the ' +\n",
              "          '<a target=\"_blank\" href=https://colab.research.google.com/notebooks/data_table.ipynb>data table notebook</a>'\n",
              "          + ' to learn more about interactive tables.';\n",
              "        element.innerHTML = '';\n",
              "        dataTable['output_type'] = 'display_data';\n",
              "        await google.colab.output.renderOutput(dataTable, element);\n",
              "        const docLink = document.createElement('div');\n",
              "        docLink.innerHTML = docLinkHtml;\n",
              "        element.appendChild(docLink);\n",
              "      }\n",
              "    </script>\n",
              "  </div>\n",
              "\n",
              "\n",
              "<div id=\"df-69ed4817-5cb3-4a55-8bc7-666631c90402\">\n",
              "  <button class=\"colab-df-quickchart\" onclick=\"quickchart('df-69ed4817-5cb3-4a55-8bc7-666631c90402')\"\n",
              "            title=\"Suggest charts\"\n",
              "            style=\"display:none;\">\n",
              "\n",
              "<svg xmlns=\"http://www.w3.org/2000/svg\" height=\"24px\"viewBox=\"0 0 24 24\"\n",
              "     width=\"24px\">\n",
              "    <g>\n",
              "        <path d=\"M19 3H5c-1.1 0-2 .9-2 2v14c0 1.1.9 2 2 2h14c1.1 0 2-.9 2-2V5c0-1.1-.9-2-2-2zM9 17H7v-7h2v7zm4 0h-2V7h2v10zm4 0h-2v-4h2v4z\"/>\n",
              "    </g>\n",
              "</svg>\n",
              "  </button>\n",
              "\n",
              "<style>\n",
              "  .colab-df-quickchart {\n",
              "      --bg-color: #E8F0FE;\n",
              "      --fill-color: #1967D2;\n",
              "      --hover-bg-color: #E2EBFA;\n",
              "      --hover-fill-color: #174EA6;\n",
              "      --disabled-fill-color: #AAA;\n",
              "      --disabled-bg-color: #DDD;\n",
              "  }\n",
              "\n",
              "  [theme=dark] .colab-df-quickchart {\n",
              "      --bg-color: #3B4455;\n",
              "      --fill-color: #D2E3FC;\n",
              "      --hover-bg-color: #434B5C;\n",
              "      --hover-fill-color: #FFFFFF;\n",
              "      --disabled-bg-color: #3B4455;\n",
              "      --disabled-fill-color: #666;\n",
              "  }\n",
              "\n",
              "  .colab-df-quickchart {\n",
              "    background-color: var(--bg-color);\n",
              "    border: none;\n",
              "    border-radius: 50%;\n",
              "    cursor: pointer;\n",
              "    display: none;\n",
              "    fill: var(--fill-color);\n",
              "    height: 32px;\n",
              "    padding: 0;\n",
              "    width: 32px;\n",
              "  }\n",
              "\n",
              "  .colab-df-quickchart:hover {\n",
              "    background-color: var(--hover-bg-color);\n",
              "    box-shadow: 0 1px 2px rgba(60, 64, 67, 0.3), 0 1px 3px 1px rgba(60, 64, 67, 0.15);\n",
              "    fill: var(--button-hover-fill-color);\n",
              "  }\n",
              "\n",
              "  .colab-df-quickchart-complete:disabled,\n",
              "  .colab-df-quickchart-complete:disabled:hover {\n",
              "    background-color: var(--disabled-bg-color);\n",
              "    fill: var(--disabled-fill-color);\n",
              "    box-shadow: none;\n",
              "  }\n",
              "\n",
              "  .colab-df-spinner {\n",
              "    border: 2px solid var(--fill-color);\n",
              "    border-color: transparent;\n",
              "    border-bottom-color: var(--fill-color);\n",
              "    animation:\n",
              "      spin 1s steps(1) infinite;\n",
              "  }\n",
              "\n",
              "  @keyframes spin {\n",
              "    0% {\n",
              "      border-color: transparent;\n",
              "      border-bottom-color: var(--fill-color);\n",
              "      border-left-color: var(--fill-color);\n",
              "    }\n",
              "    20% {\n",
              "      border-color: transparent;\n",
              "      border-left-color: var(--fill-color);\n",
              "      border-top-color: var(--fill-color);\n",
              "    }\n",
              "    30% {\n",
              "      border-color: transparent;\n",
              "      border-left-color: var(--fill-color);\n",
              "      border-top-color: var(--fill-color);\n",
              "      border-right-color: var(--fill-color);\n",
              "    }\n",
              "    40% {\n",
              "      border-color: transparent;\n",
              "      border-right-color: var(--fill-color);\n",
              "      border-top-color: var(--fill-color);\n",
              "    }\n",
              "    60% {\n",
              "      border-color: transparent;\n",
              "      border-right-color: var(--fill-color);\n",
              "    }\n",
              "    80% {\n",
              "      border-color: transparent;\n",
              "      border-right-color: var(--fill-color);\n",
              "      border-bottom-color: var(--fill-color);\n",
              "    }\n",
              "    90% {\n",
              "      border-color: transparent;\n",
              "      border-bottom-color: var(--fill-color);\n",
              "    }\n",
              "  }\n",
              "</style>\n",
              "\n",
              "  <script>\n",
              "    async function quickchart(key) {\n",
              "      const quickchartButtonEl =\n",
              "        document.querySelector('#' + key + ' button');\n",
              "      quickchartButtonEl.disabled = true;  // To prevent multiple clicks.\n",
              "      quickchartButtonEl.classList.add('colab-df-spinner');\n",
              "      try {\n",
              "        const charts = await google.colab.kernel.invokeFunction(\n",
              "            'suggestCharts', [key], {});\n",
              "      } catch (error) {\n",
              "        console.error('Error during call to suggestCharts:', error);\n",
              "      }\n",
              "      quickchartButtonEl.classList.remove('colab-df-spinner');\n",
              "      quickchartButtonEl.classList.add('colab-df-quickchart-complete');\n",
              "    }\n",
              "    (() => {\n",
              "      let quickchartButtonEl =\n",
              "        document.querySelector('#df-69ed4817-5cb3-4a55-8bc7-666631c90402 button');\n",
              "      quickchartButtonEl.style.display =\n",
              "        google.colab.kernel.accessAllowed ? 'block' : 'none';\n",
              "    })();\n",
              "  </script>\n",
              "</div>\n",
              "    </div>\n",
              "  </div>\n"
            ],
            "application/vnd.google.colaboratory.intrinsic+json": {
              "type": "dataframe",
              "variable_name": "df_1",
              "summary": "{\n  \"name\": \"df_1\",\n  \"rows\": 36,\n  \"fields\": [\n    {\n      \"column\": \"DEGREE\",\n      \"properties\": {\n        \"dtype\": \"number\",\n        \"std\": 1,\n        \"min\": 1,\n        \"max\": 8,\n        \"num_unique_values\": 7,\n        \"samples\": [\n          2,\n          3,\n          6\n        ],\n        \"semantic_type\": \"\",\n        \"description\": \"\"\n      }\n    }\n  ]\n}"
            }
          },
          "metadata": {},
          "execution_count": 15
        }
      ]
    },
    {
      "cell_type": "markdown",
      "metadata": {
        "id": "FHmYkBVUNj8v"
      },
      "source": [
        "## Medida de cercanía (closeness)\n",
        "\n",
        "La cercanía o *closeness* es la medida recíproca del camino más corto para un nodo u a todos sus n-1 nodos accesibles. Mayores valores de cercanía indican mayor centralidad (de nuevo una mayor conectividad del nodo con todos los nodos de la red)."
      ]
    },
    {
      "cell_type": "code",
      "metadata": {
        "id": "IA86y3RONl1N",
        "colab": {
          "base_uri": "https://localhost:8080/",
          "height": 206
        },
        "outputId": "89024c5f-0278-44b5-de76-e63e7dac852e"
      },
      "source": [
        "centrality_closeness = nx_algos.centrality.closeness_centrality(G)\n",
        "df_2 = pd.DataFrame.from_dict(dict(centrality_closeness), orient='index')\n",
        "df_2.columns = ['CLOSENESS']\n",
        "#\n",
        "# Mostramos los valores más altos de cercanía\n",
        "#\n",
        "df_2.sort_values(by='CLOSENESS', ascending=False).head(5)"
      ],
      "execution_count": null,
      "outputs": [
        {
          "output_type": "execute_result",
          "data": {
            "text/plain": [
              "                 CLOSENESS\n",
              "Av. de America    0.372340\n",
              "Alonso Martinez   0.372340\n",
              "Tribunal          0.368421\n",
              "Bilbao            0.368421\n",
              "Sol               0.364583"
            ],
            "text/html": [
              "\n",
              "  <div id=\"df-3d008c36-ed23-4058-8d93-43fbc4226ec1\" class=\"colab-df-container\">\n",
              "    <div>\n",
              "<style scoped>\n",
              "    .dataframe tbody tr th:only-of-type {\n",
              "        vertical-align: middle;\n",
              "    }\n",
              "\n",
              "    .dataframe tbody tr th {\n",
              "        vertical-align: top;\n",
              "    }\n",
              "\n",
              "    .dataframe thead th {\n",
              "        text-align: right;\n",
              "    }\n",
              "</style>\n",
              "<table border=\"1\" class=\"dataframe\">\n",
              "  <thead>\n",
              "    <tr style=\"text-align: right;\">\n",
              "      <th></th>\n",
              "      <th>CLOSENESS</th>\n",
              "    </tr>\n",
              "  </thead>\n",
              "  <tbody>\n",
              "    <tr>\n",
              "      <th>Av. de America</th>\n",
              "      <td>0.372340</td>\n",
              "    </tr>\n",
              "    <tr>\n",
              "      <th>Alonso Martinez</th>\n",
              "      <td>0.372340</td>\n",
              "    </tr>\n",
              "    <tr>\n",
              "      <th>Tribunal</th>\n",
              "      <td>0.368421</td>\n",
              "    </tr>\n",
              "    <tr>\n",
              "      <th>Bilbao</th>\n",
              "      <td>0.368421</td>\n",
              "    </tr>\n",
              "    <tr>\n",
              "      <th>Sol</th>\n",
              "      <td>0.364583</td>\n",
              "    </tr>\n",
              "  </tbody>\n",
              "</table>\n",
              "</div>\n",
              "    <div class=\"colab-df-buttons\">\n",
              "\n",
              "  <div class=\"colab-df-container\">\n",
              "    <button class=\"colab-df-convert\" onclick=\"convertToInteractive('df-3d008c36-ed23-4058-8d93-43fbc4226ec1')\"\n",
              "            title=\"Convert this dataframe to an interactive table.\"\n",
              "            style=\"display:none;\">\n",
              "\n",
              "  <svg xmlns=\"http://www.w3.org/2000/svg\" height=\"24px\" viewBox=\"0 -960 960 960\">\n",
              "    <path d=\"M120-120v-720h720v720H120Zm60-500h600v-160H180v160Zm220 220h160v-160H400v160Zm0 220h160v-160H400v160ZM180-400h160v-160H180v160Zm440 0h160v-160H620v160ZM180-180h160v-160H180v160Zm440 0h160v-160H620v160Z\"/>\n",
              "  </svg>\n",
              "    </button>\n",
              "\n",
              "  <style>\n",
              "    .colab-df-container {\n",
              "      display:flex;\n",
              "      gap: 12px;\n",
              "    }\n",
              "\n",
              "    .colab-df-convert {\n",
              "      background-color: #E8F0FE;\n",
              "      border: none;\n",
              "      border-radius: 50%;\n",
              "      cursor: pointer;\n",
              "      display: none;\n",
              "      fill: #1967D2;\n",
              "      height: 32px;\n",
              "      padding: 0 0 0 0;\n",
              "      width: 32px;\n",
              "    }\n",
              "\n",
              "    .colab-df-convert:hover {\n",
              "      background-color: #E2EBFA;\n",
              "      box-shadow: 0px 1px 2px rgba(60, 64, 67, 0.3), 0px 1px 3px 1px rgba(60, 64, 67, 0.15);\n",
              "      fill: #174EA6;\n",
              "    }\n",
              "\n",
              "    .colab-df-buttons div {\n",
              "      margin-bottom: 4px;\n",
              "    }\n",
              "\n",
              "    [theme=dark] .colab-df-convert {\n",
              "      background-color: #3B4455;\n",
              "      fill: #D2E3FC;\n",
              "    }\n",
              "\n",
              "    [theme=dark] .colab-df-convert:hover {\n",
              "      background-color: #434B5C;\n",
              "      box-shadow: 0px 1px 3px 1px rgba(0, 0, 0, 0.15);\n",
              "      filter: drop-shadow(0px 1px 2px rgba(0, 0, 0, 0.3));\n",
              "      fill: #FFFFFF;\n",
              "    }\n",
              "  </style>\n",
              "\n",
              "    <script>\n",
              "      const buttonEl =\n",
              "        document.querySelector('#df-3d008c36-ed23-4058-8d93-43fbc4226ec1 button.colab-df-convert');\n",
              "      buttonEl.style.display =\n",
              "        google.colab.kernel.accessAllowed ? 'block' : 'none';\n",
              "\n",
              "      async function convertToInteractive(key) {\n",
              "        const element = document.querySelector('#df-3d008c36-ed23-4058-8d93-43fbc4226ec1');\n",
              "        const dataTable =\n",
              "          await google.colab.kernel.invokeFunction('convertToInteractive',\n",
              "                                                    [key], {});\n",
              "        if (!dataTable) return;\n",
              "\n",
              "        const docLinkHtml = 'Like what you see? Visit the ' +\n",
              "          '<a target=\"_blank\" href=https://colab.research.google.com/notebooks/data_table.ipynb>data table notebook</a>'\n",
              "          + ' to learn more about interactive tables.';\n",
              "        element.innerHTML = '';\n",
              "        dataTable['output_type'] = 'display_data';\n",
              "        await google.colab.output.renderOutput(dataTable, element);\n",
              "        const docLink = document.createElement('div');\n",
              "        docLink.innerHTML = docLinkHtml;\n",
              "        element.appendChild(docLink);\n",
              "      }\n",
              "    </script>\n",
              "  </div>\n",
              "\n",
              "\n",
              "<div id=\"df-b1fcaf75-fe11-4cbc-bf41-053452f0ce86\">\n",
              "  <button class=\"colab-df-quickchart\" onclick=\"quickchart('df-b1fcaf75-fe11-4cbc-bf41-053452f0ce86')\"\n",
              "            title=\"Suggest charts\"\n",
              "            style=\"display:none;\">\n",
              "\n",
              "<svg xmlns=\"http://www.w3.org/2000/svg\" height=\"24px\"viewBox=\"0 0 24 24\"\n",
              "     width=\"24px\">\n",
              "    <g>\n",
              "        <path d=\"M19 3H5c-1.1 0-2 .9-2 2v14c0 1.1.9 2 2 2h14c1.1 0 2-.9 2-2V5c0-1.1-.9-2-2-2zM9 17H7v-7h2v7zm4 0h-2V7h2v10zm4 0h-2v-4h2v4z\"/>\n",
              "    </g>\n",
              "</svg>\n",
              "  </button>\n",
              "\n",
              "<style>\n",
              "  .colab-df-quickchart {\n",
              "      --bg-color: #E8F0FE;\n",
              "      --fill-color: #1967D2;\n",
              "      --hover-bg-color: #E2EBFA;\n",
              "      --hover-fill-color: #174EA6;\n",
              "      --disabled-fill-color: #AAA;\n",
              "      --disabled-bg-color: #DDD;\n",
              "  }\n",
              "\n",
              "  [theme=dark] .colab-df-quickchart {\n",
              "      --bg-color: #3B4455;\n",
              "      --fill-color: #D2E3FC;\n",
              "      --hover-bg-color: #434B5C;\n",
              "      --hover-fill-color: #FFFFFF;\n",
              "      --disabled-bg-color: #3B4455;\n",
              "      --disabled-fill-color: #666;\n",
              "  }\n",
              "\n",
              "  .colab-df-quickchart {\n",
              "    background-color: var(--bg-color);\n",
              "    border: none;\n",
              "    border-radius: 50%;\n",
              "    cursor: pointer;\n",
              "    display: none;\n",
              "    fill: var(--fill-color);\n",
              "    height: 32px;\n",
              "    padding: 0;\n",
              "    width: 32px;\n",
              "  }\n",
              "\n",
              "  .colab-df-quickchart:hover {\n",
              "    background-color: var(--hover-bg-color);\n",
              "    box-shadow: 0 1px 2px rgba(60, 64, 67, 0.3), 0 1px 3px 1px rgba(60, 64, 67, 0.15);\n",
              "    fill: var(--button-hover-fill-color);\n",
              "  }\n",
              "\n",
              "  .colab-df-quickchart-complete:disabled,\n",
              "  .colab-df-quickchart-complete:disabled:hover {\n",
              "    background-color: var(--disabled-bg-color);\n",
              "    fill: var(--disabled-fill-color);\n",
              "    box-shadow: none;\n",
              "  }\n",
              "\n",
              "  .colab-df-spinner {\n",
              "    border: 2px solid var(--fill-color);\n",
              "    border-color: transparent;\n",
              "    border-bottom-color: var(--fill-color);\n",
              "    animation:\n",
              "      spin 1s steps(1) infinite;\n",
              "  }\n",
              "\n",
              "  @keyframes spin {\n",
              "    0% {\n",
              "      border-color: transparent;\n",
              "      border-bottom-color: var(--fill-color);\n",
              "      border-left-color: var(--fill-color);\n",
              "    }\n",
              "    20% {\n",
              "      border-color: transparent;\n",
              "      border-left-color: var(--fill-color);\n",
              "      border-top-color: var(--fill-color);\n",
              "    }\n",
              "    30% {\n",
              "      border-color: transparent;\n",
              "      border-left-color: var(--fill-color);\n",
              "      border-top-color: var(--fill-color);\n",
              "      border-right-color: var(--fill-color);\n",
              "    }\n",
              "    40% {\n",
              "      border-color: transparent;\n",
              "      border-right-color: var(--fill-color);\n",
              "      border-top-color: var(--fill-color);\n",
              "    }\n",
              "    60% {\n",
              "      border-color: transparent;\n",
              "      border-right-color: var(--fill-color);\n",
              "    }\n",
              "    80% {\n",
              "      border-color: transparent;\n",
              "      border-right-color: var(--fill-color);\n",
              "      border-bottom-color: var(--fill-color);\n",
              "    }\n",
              "    90% {\n",
              "      border-color: transparent;\n",
              "      border-bottom-color: var(--fill-color);\n",
              "    }\n",
              "  }\n",
              "</style>\n",
              "\n",
              "  <script>\n",
              "    async function quickchart(key) {\n",
              "      const quickchartButtonEl =\n",
              "        document.querySelector('#' + key + ' button');\n",
              "      quickchartButtonEl.disabled = true;  // To prevent multiple clicks.\n",
              "      quickchartButtonEl.classList.add('colab-df-spinner');\n",
              "      try {\n",
              "        const charts = await google.colab.kernel.invokeFunction(\n",
              "            'suggestCharts', [key], {});\n",
              "      } catch (error) {\n",
              "        console.error('Error during call to suggestCharts:', error);\n",
              "      }\n",
              "      quickchartButtonEl.classList.remove('colab-df-spinner');\n",
              "      quickchartButtonEl.classList.add('colab-df-quickchart-complete');\n",
              "    }\n",
              "    (() => {\n",
              "      let quickchartButtonEl =\n",
              "        document.querySelector('#df-b1fcaf75-fe11-4cbc-bf41-053452f0ce86 button');\n",
              "      quickchartButtonEl.style.display =\n",
              "        google.colab.kernel.accessAllowed ? 'block' : 'none';\n",
              "    })();\n",
              "  </script>\n",
              "</div>\n",
              "    </div>\n",
              "  </div>\n"
            ],
            "application/vnd.google.colaboratory.intrinsic+json": {
              "type": "dataframe",
              "summary": "{\n  \"name\": \"df_2\",\n  \"rows\": 5,\n  \"fields\": [\n    {\n      \"column\": \"CLOSENESS\",\n      \"properties\": {\n        \"dtype\": \"number\",\n        \"std\": 0.0032499774868942916,\n        \"min\": 0.3645833333333333,\n        \"max\": 0.3723404255319149,\n        \"num_unique_values\": 3,\n        \"samples\": [\n          0.3723404255319149,\n          0.3684210526315789,\n          0.3645833333333333\n        ],\n        \"semantic_type\": \"\",\n        \"description\": \"\"\n      }\n    }\n  ]\n}"
            }
          },
          "metadata": {},
          "execution_count": 16
        }
      ]
    },
    {
      "cell_type": "markdown",
      "metadata": {
        "id": "JqPhSRs2OUum"
      },
      "source": [
        "Y los menores (hemos de esperar que sean las paradas *más periféricas*)"
      ]
    },
    {
      "cell_type": "code",
      "metadata": {
        "id": "QyyxOInEOZYM",
        "colab": {
          "base_uri": "https://localhost:8080/",
          "height": 206
        },
        "outputId": "05f8a2d1-e1d9-4d5d-b940-4c96e6edae66"
      },
      "source": [
        "df_2.sort_values(by='CLOSENESS', ascending=True).head(5)"
      ],
      "execution_count": null,
      "outputs": [
        {
          "output_type": "execute_result",
          "data": {
            "text/plain": [
              "                    CLOSENESS\n",
              "Puerta del Sur       0.167464\n",
              "Colonia Jardin       0.200000\n",
              "Las Tablas           0.207101\n",
              "Chamartin            0.236486\n",
              "Pinar de Chamartin   0.236486"
            ],
            "text/html": [
              "\n",
              "  <div id=\"df-a6cddf84-059f-47b2-81b7-73efafa7d8b5\" class=\"colab-df-container\">\n",
              "    <div>\n",
              "<style scoped>\n",
              "    .dataframe tbody tr th:only-of-type {\n",
              "        vertical-align: middle;\n",
              "    }\n",
              "\n",
              "    .dataframe tbody tr th {\n",
              "        vertical-align: top;\n",
              "    }\n",
              "\n",
              "    .dataframe thead th {\n",
              "        text-align: right;\n",
              "    }\n",
              "</style>\n",
              "<table border=\"1\" class=\"dataframe\">\n",
              "  <thead>\n",
              "    <tr style=\"text-align: right;\">\n",
              "      <th></th>\n",
              "      <th>CLOSENESS</th>\n",
              "    </tr>\n",
              "  </thead>\n",
              "  <tbody>\n",
              "    <tr>\n",
              "      <th>Puerta del Sur</th>\n",
              "      <td>0.167464</td>\n",
              "    </tr>\n",
              "    <tr>\n",
              "      <th>Colonia Jardin</th>\n",
              "      <td>0.200000</td>\n",
              "    </tr>\n",
              "    <tr>\n",
              "      <th>Las Tablas</th>\n",
              "      <td>0.207101</td>\n",
              "    </tr>\n",
              "    <tr>\n",
              "      <th>Chamartin</th>\n",
              "      <td>0.236486</td>\n",
              "    </tr>\n",
              "    <tr>\n",
              "      <th>Pinar de Chamartin</th>\n",
              "      <td>0.236486</td>\n",
              "    </tr>\n",
              "  </tbody>\n",
              "</table>\n",
              "</div>\n",
              "    <div class=\"colab-df-buttons\">\n",
              "\n",
              "  <div class=\"colab-df-container\">\n",
              "    <button class=\"colab-df-convert\" onclick=\"convertToInteractive('df-a6cddf84-059f-47b2-81b7-73efafa7d8b5')\"\n",
              "            title=\"Convert this dataframe to an interactive table.\"\n",
              "            style=\"display:none;\">\n",
              "\n",
              "  <svg xmlns=\"http://www.w3.org/2000/svg\" height=\"24px\" viewBox=\"0 -960 960 960\">\n",
              "    <path d=\"M120-120v-720h720v720H120Zm60-500h600v-160H180v160Zm220 220h160v-160H400v160Zm0 220h160v-160H400v160ZM180-400h160v-160H180v160Zm440 0h160v-160H620v160ZM180-180h160v-160H180v160Zm440 0h160v-160H620v160Z\"/>\n",
              "  </svg>\n",
              "    </button>\n",
              "\n",
              "  <style>\n",
              "    .colab-df-container {\n",
              "      display:flex;\n",
              "      gap: 12px;\n",
              "    }\n",
              "\n",
              "    .colab-df-convert {\n",
              "      background-color: #E8F0FE;\n",
              "      border: none;\n",
              "      border-radius: 50%;\n",
              "      cursor: pointer;\n",
              "      display: none;\n",
              "      fill: #1967D2;\n",
              "      height: 32px;\n",
              "      padding: 0 0 0 0;\n",
              "      width: 32px;\n",
              "    }\n",
              "\n",
              "    .colab-df-convert:hover {\n",
              "      background-color: #E2EBFA;\n",
              "      box-shadow: 0px 1px 2px rgba(60, 64, 67, 0.3), 0px 1px 3px 1px rgba(60, 64, 67, 0.15);\n",
              "      fill: #174EA6;\n",
              "    }\n",
              "\n",
              "    .colab-df-buttons div {\n",
              "      margin-bottom: 4px;\n",
              "    }\n",
              "\n",
              "    [theme=dark] .colab-df-convert {\n",
              "      background-color: #3B4455;\n",
              "      fill: #D2E3FC;\n",
              "    }\n",
              "\n",
              "    [theme=dark] .colab-df-convert:hover {\n",
              "      background-color: #434B5C;\n",
              "      box-shadow: 0px 1px 3px 1px rgba(0, 0, 0, 0.15);\n",
              "      filter: drop-shadow(0px 1px 2px rgba(0, 0, 0, 0.3));\n",
              "      fill: #FFFFFF;\n",
              "    }\n",
              "  </style>\n",
              "\n",
              "    <script>\n",
              "      const buttonEl =\n",
              "        document.querySelector('#df-a6cddf84-059f-47b2-81b7-73efafa7d8b5 button.colab-df-convert');\n",
              "      buttonEl.style.display =\n",
              "        google.colab.kernel.accessAllowed ? 'block' : 'none';\n",
              "\n",
              "      async function convertToInteractive(key) {\n",
              "        const element = document.querySelector('#df-a6cddf84-059f-47b2-81b7-73efafa7d8b5');\n",
              "        const dataTable =\n",
              "          await google.colab.kernel.invokeFunction('convertToInteractive',\n",
              "                                                    [key], {});\n",
              "        if (!dataTable) return;\n",
              "\n",
              "        const docLinkHtml = 'Like what you see? Visit the ' +\n",
              "          '<a target=\"_blank\" href=https://colab.research.google.com/notebooks/data_table.ipynb>data table notebook</a>'\n",
              "          + ' to learn more about interactive tables.';\n",
              "        element.innerHTML = '';\n",
              "        dataTable['output_type'] = 'display_data';\n",
              "        await google.colab.output.renderOutput(dataTable, element);\n",
              "        const docLink = document.createElement('div');\n",
              "        docLink.innerHTML = docLinkHtml;\n",
              "        element.appendChild(docLink);\n",
              "      }\n",
              "    </script>\n",
              "  </div>\n",
              "\n",
              "\n",
              "<div id=\"df-4cac8ec1-7e73-4630-8b50-8e65e0a622dc\">\n",
              "  <button class=\"colab-df-quickchart\" onclick=\"quickchart('df-4cac8ec1-7e73-4630-8b50-8e65e0a622dc')\"\n",
              "            title=\"Suggest charts\"\n",
              "            style=\"display:none;\">\n",
              "\n",
              "<svg xmlns=\"http://www.w3.org/2000/svg\" height=\"24px\"viewBox=\"0 0 24 24\"\n",
              "     width=\"24px\">\n",
              "    <g>\n",
              "        <path d=\"M19 3H5c-1.1 0-2 .9-2 2v14c0 1.1.9 2 2 2h14c1.1 0 2-.9 2-2V5c0-1.1-.9-2-2-2zM9 17H7v-7h2v7zm4 0h-2V7h2v10zm4 0h-2v-4h2v4z\"/>\n",
              "    </g>\n",
              "</svg>\n",
              "  </button>\n",
              "\n",
              "<style>\n",
              "  .colab-df-quickchart {\n",
              "      --bg-color: #E8F0FE;\n",
              "      --fill-color: #1967D2;\n",
              "      --hover-bg-color: #E2EBFA;\n",
              "      --hover-fill-color: #174EA6;\n",
              "      --disabled-fill-color: #AAA;\n",
              "      --disabled-bg-color: #DDD;\n",
              "  }\n",
              "\n",
              "  [theme=dark] .colab-df-quickchart {\n",
              "      --bg-color: #3B4455;\n",
              "      --fill-color: #D2E3FC;\n",
              "      --hover-bg-color: #434B5C;\n",
              "      --hover-fill-color: #FFFFFF;\n",
              "      --disabled-bg-color: #3B4455;\n",
              "      --disabled-fill-color: #666;\n",
              "  }\n",
              "\n",
              "  .colab-df-quickchart {\n",
              "    background-color: var(--bg-color);\n",
              "    border: none;\n",
              "    border-radius: 50%;\n",
              "    cursor: pointer;\n",
              "    display: none;\n",
              "    fill: var(--fill-color);\n",
              "    height: 32px;\n",
              "    padding: 0;\n",
              "    width: 32px;\n",
              "  }\n",
              "\n",
              "  .colab-df-quickchart:hover {\n",
              "    background-color: var(--hover-bg-color);\n",
              "    box-shadow: 0 1px 2px rgba(60, 64, 67, 0.3), 0 1px 3px 1px rgba(60, 64, 67, 0.15);\n",
              "    fill: var(--button-hover-fill-color);\n",
              "  }\n",
              "\n",
              "  .colab-df-quickchart-complete:disabled,\n",
              "  .colab-df-quickchart-complete:disabled:hover {\n",
              "    background-color: var(--disabled-bg-color);\n",
              "    fill: var(--disabled-fill-color);\n",
              "    box-shadow: none;\n",
              "  }\n",
              "\n",
              "  .colab-df-spinner {\n",
              "    border: 2px solid var(--fill-color);\n",
              "    border-color: transparent;\n",
              "    border-bottom-color: var(--fill-color);\n",
              "    animation:\n",
              "      spin 1s steps(1) infinite;\n",
              "  }\n",
              "\n",
              "  @keyframes spin {\n",
              "    0% {\n",
              "      border-color: transparent;\n",
              "      border-bottom-color: var(--fill-color);\n",
              "      border-left-color: var(--fill-color);\n",
              "    }\n",
              "    20% {\n",
              "      border-color: transparent;\n",
              "      border-left-color: var(--fill-color);\n",
              "      border-top-color: var(--fill-color);\n",
              "    }\n",
              "    30% {\n",
              "      border-color: transparent;\n",
              "      border-left-color: var(--fill-color);\n",
              "      border-top-color: var(--fill-color);\n",
              "      border-right-color: var(--fill-color);\n",
              "    }\n",
              "    40% {\n",
              "      border-color: transparent;\n",
              "      border-right-color: var(--fill-color);\n",
              "      border-top-color: var(--fill-color);\n",
              "    }\n",
              "    60% {\n",
              "      border-color: transparent;\n",
              "      border-right-color: var(--fill-color);\n",
              "    }\n",
              "    80% {\n",
              "      border-color: transparent;\n",
              "      border-right-color: var(--fill-color);\n",
              "      border-bottom-color: var(--fill-color);\n",
              "    }\n",
              "    90% {\n",
              "      border-color: transparent;\n",
              "      border-bottom-color: var(--fill-color);\n",
              "    }\n",
              "  }\n",
              "</style>\n",
              "\n",
              "  <script>\n",
              "    async function quickchart(key) {\n",
              "      const quickchartButtonEl =\n",
              "        document.querySelector('#' + key + ' button');\n",
              "      quickchartButtonEl.disabled = true;  // To prevent multiple clicks.\n",
              "      quickchartButtonEl.classList.add('colab-df-spinner');\n",
              "      try {\n",
              "        const charts = await google.colab.kernel.invokeFunction(\n",
              "            'suggestCharts', [key], {});\n",
              "      } catch (error) {\n",
              "        console.error('Error during call to suggestCharts:', error);\n",
              "      }\n",
              "      quickchartButtonEl.classList.remove('colab-df-spinner');\n",
              "      quickchartButtonEl.classList.add('colab-df-quickchart-complete');\n",
              "    }\n",
              "    (() => {\n",
              "      let quickchartButtonEl =\n",
              "        document.querySelector('#df-4cac8ec1-7e73-4630-8b50-8e65e0a622dc button');\n",
              "      quickchartButtonEl.style.display =\n",
              "        google.colab.kernel.accessAllowed ? 'block' : 'none';\n",
              "    })();\n",
              "  </script>\n",
              "</div>\n",
              "    </div>\n",
              "  </div>\n"
            ],
            "application/vnd.google.colaboratory.intrinsic+json": {
              "type": "dataframe",
              "summary": "{\n  \"name\": \"df_2\",\n  \"rows\": 5,\n  \"fields\": [\n    {\n      \"column\": \"CLOSENESS\",\n      \"properties\": {\n        \"dtype\": \"number\",\n        \"std\": 0.028807826296629174,\n        \"min\": 0.1674641148325359,\n        \"max\": 0.23648648648648649,\n        \"num_unique_values\": 4,\n        \"samples\": [\n          0.2,\n          0.23648648648648649,\n          0.1674641148325359\n        ],\n        \"semantic_type\": \"\",\n        \"description\": \"\"\n      }\n    }\n  ]\n}"
            }
          },
          "metadata": {},
          "execution_count": 17
        }
      ]
    },
    {
      "cell_type": "markdown",
      "metadata": {
        "id": "pBCUw64XiuHA"
      },
      "source": [
        "Para apreciarlo mejor mostramos la red gráficamente"
      ]
    },
    {
      "cell_type": "code",
      "metadata": {
        "id": "tK8oGDHePiof",
        "colab": {
          "base_uri": "https://localhost:8080/",
          "height": 357
        },
        "outputId": "89816f48-2b63-415e-d4c5-2d6dfbb96a2e"
      },
      "source": [
        "draw_options_small = {\"font_size\": 0, \"node_size\": 50, \"edgecolors\": \"grey\", \"linewidths\": 0.2, \"width\": 1}\n",
        "figure(figsize=(5, 5), dpi=80)\n",
        "# Mostramos el grafo\n",
        "nx.draw_networkx(G,\n",
        "                 pos=G.position,\n",
        "                 with_labels=False,\n",
        "                 node_color = df_2.CLOSENESS.values,\n",
        "                 **draw_options_small)\n",
        "# Establecer márgenes para los ejes para que los nodos no se corten\n",
        "plt.title('Closeness - Metro de Madrid')\n",
        "plt.show()"
      ],
      "execution_count": null,
      "outputs": [
        {
          "output_type": "display_data",
          "data": {
            "text/plain": [
              "<Figure size 400x400 with 1 Axes>"
            ],
            "image/png": "[encoded data removed]"
          },
          "metadata": {}
        }
      ]
    },
    {
      "cell_type": "markdown",
      "metadata": {
        "id": "Zq5VmtTEOmox"
      },
      "source": [
        "### Centralidad armónica\n",
        "\n",
        "La centralidad armónica de un nodo u es la suma del recíproco de las medidas más cortas sobre el resto de nodos del grafo. En este caso usaremos la distancia como el *tiempo de viaje* expresado por el atributo *TIME* del nodo.\n",
        "\n",
        "[Referencia](https://networkx.org/documentation/stable/reference/algorithms/generated/networkx.algorithms.centrality.harmonic_centrality.html?highlight=harmonic#networkx.algorithms.centrality.harmonic_centrality)\n"
      ]
    },
    {
      "cell_type": "code",
      "metadata": {
        "id": "ulhnIZqKOonS",
        "colab": {
          "base_uri": "https://localhost:8080/",
          "height": 206
        },
        "outputId": "66ed8668-dfc7-44e0-e976-f9f3df675ecb"
      },
      "source": [
        "centrality_harmonic = nx_algos.centrality.harmonic_centrality(G, distance='TIME')\n",
        "df_3 = pd.DataFrame.from_dict(dict(centrality_harmonic), orient='index')\n",
        "df_3.columns = ['HARMONIC_CENTRALITY']\n",
        "df_3.sort_values(by='HARMONIC_CENTRALITY', ascending=False).head(5)"
      ],
      "execution_count": null,
      "outputs": [
        {
          "output_type": "execute_result",
          "data": {
            "text/plain": [
              "                 HARMONIC_CENTRALITY\n",
              "Bilbao                      9.899953\n",
              "Tribunal                    9.362615\n",
              "San Bernardo                8.991531\n",
              "Alonso Martinez             8.483513\n",
              "Callao                      7.453247"
            ],
            "text/html": [
              "\n",
              "  <div id=\"df-6d62bbfc-a4d2-4417-a42c-7a3985ae3b8c\" class=\"colab-df-container\">\n",
              "    <div>\n",
              "<style scoped>\n",
              "    .dataframe tbody tr th:only-of-type {\n",
              "        vertical-align: middle;\n",
              "    }\n",
              "\n",
              "    .dataframe tbody tr th {\n",
              "        vertical-align: top;\n",
              "    }\n",
              "\n",
              "    .dataframe thead th {\n",
              "        text-align: right;\n",
              "    }\n",
              "</style>\n",
              "<table border=\"1\" class=\"dataframe\">\n",
              "  <thead>\n",
              "    <tr style=\"text-align: right;\">\n",
              "      <th></th>\n",
              "      <th>HARMONIC_CENTRALITY</th>\n",
              "    </tr>\n",
              "  </thead>\n",
              "  <tbody>\n",
              "    <tr>\n",
              "      <th>Bilbao</th>\n",
              "      <td>9.899953</td>\n",
              "    </tr>\n",
              "    <tr>\n",
              "      <th>Tribunal</th>\n",
              "      <td>9.362615</td>\n",
              "    </tr>\n",
              "    <tr>\n",
              "      <th>San Bernardo</th>\n",
              "      <td>8.991531</td>\n",
              "    </tr>\n",
              "    <tr>\n",
              "      <th>Alonso Martinez</th>\n",
              "      <td>8.483513</td>\n",
              "    </tr>\n",
              "    <tr>\n",
              "      <th>Callao</th>\n",
              "      <td>7.453247</td>\n",
              "    </tr>\n",
              "  </tbody>\n",
              "</table>\n",
              "</div>\n",
              "    <div class=\"colab-df-buttons\">\n",
              "\n",
              "  <div class=\"colab-df-container\">\n",
              "    <button class=\"colab-df-convert\" onclick=\"convertToInteractive('df-6d62bbfc-a4d2-4417-a42c-7a3985ae3b8c')\"\n",
              "            title=\"Convert this dataframe to an interactive table.\"\n",
              "            style=\"display:none;\">\n",
              "\n",
              "  <svg xmlns=\"http://www.w3.org/2000/svg\" height=\"24px\" viewBox=\"0 -960 960 960\">\n",
              "    <path d=\"M120-120v-720h720v720H120Zm60-500h600v-160H180v160Zm220 220h160v-160H400v160Zm0 220h160v-160H400v160ZM180-400h160v-160H180v160Zm440 0h160v-160H620v160ZM180-180h160v-160H180v160Zm440 0h160v-160H620v160Z\"/>\n",
              "  </svg>\n",
              "    </button>\n",
              "\n",
              "  <style>\n",
              "    .colab-df-container {\n",
              "      display:flex;\n",
              "      gap: 12px;\n",
              "    }\n",
              "\n",
              "    .colab-df-convert {\n",
              "      background-color: #E8F0FE;\n",
              "      border: none;\n",
              "      border-radius: 50%;\n",
              "      cursor: pointer;\n",
              "      display: none;\n",
              "      fill: #1967D2;\n",
              "      height: 32px;\n",
              "      padding: 0 0 0 0;\n",
              "      width: 32px;\n",
              "    }\n",
              "\n",
              "    .colab-df-convert:hover {\n",
              "      background-color: #E2EBFA;\n",
              "      box-shadow: 0px 1px 2px rgba(60, 64, 67, 0.3), 0px 1px 3px 1px rgba(60, 64, 67, 0.15);\n",
              "      fill: #174EA6;\n",
              "    }\n",
              "\n",
              "    .colab-df-buttons div {\n",
              "      margin-bottom: 4px;\n",
              "    }\n",
              "\n",
              "    [theme=dark] .colab-df-convert {\n",
              "      background-color: #3B4455;\n",
              "      fill: #D2E3FC;\n",
              "    }\n",
              "\n",
              "    [theme=dark] .colab-df-convert:hover {\n",
              "      background-color: #434B5C;\n",
              "      box-shadow: 0px 1px 3px 1px rgba(0, 0, 0, 0.15);\n",
              "      filter: drop-shadow(0px 1px 2px rgba(0, 0, 0, 0.3));\n",
              "      fill: #FFFFFF;\n",
              "    }\n",
              "  </style>\n",
              "\n",
              "    <script>\n",
              "      const buttonEl =\n",
              "        document.querySelector('#df-6d62bbfc-a4d2-4417-a42c-7a3985ae3b8c button.colab-df-convert');\n",
              "      buttonEl.style.display =\n",
              "        google.colab.kernel.accessAllowed ? 'block' : 'none';\n",
              "\n",
              "      async function convertToInteractive(key) {\n",
              "        const element = document.querySelector('#df-6d62bbfc-a4d2-4417-a42c-7a3985ae3b8c');\n",
              "        const dataTable =\n",
              "          await google.colab.kernel.invokeFunction('convertToInteractive',\n",
              "                                                    [key], {});\n",
              "        if (!dataTable) return;\n",
              "\n",
              "        const docLinkHtml = 'Like what you see? Visit the ' +\n",
              "          '<a target=\"_blank\" href=https://colab.research.google.com/notebooks/data_table.ipynb>data table notebook</a>'\n",
              "          + ' to learn more about interactive tables.';\n",
              "        element.innerHTML = '';\n",
              "        dataTable['output_type'] = 'display_data';\n",
              "        await google.colab.output.renderOutput(dataTable, element);\n",
              "        const docLink = document.createElement('div');\n",
              "        docLink.innerHTML = docLinkHtml;\n",
              "        element.appendChild(docLink);\n",
              "      }\n",
              "    </script>\n",
              "  </div>\n",
              "\n",
              "\n",
              "<div id=\"df-a9f61c10-d25a-4eeb-bfda-fa420e80c250\">\n",
              "  <button class=\"colab-df-quickchart\" onclick=\"quickchart('df-a9f61c10-d25a-4eeb-bfda-fa420e80c250')\"\n",
              "            title=\"Suggest charts\"\n",
              "            style=\"display:none;\">\n",
              "\n",
              "<svg xmlns=\"http://www.w3.org/2000/svg\" height=\"24px\"viewBox=\"0 0 24 24\"\n",
              "     width=\"24px\">\n",
              "    <g>\n",
              "        <path d=\"M19 3H5c-1.1 0-2 .9-2 2v14c0 1.1.9 2 2 2h14c1.1 0 2-.9 2-2V5c0-1.1-.9-2-2-2zM9 17H7v-7h2v7zm4 0h-2V7h2v10zm4 0h-2v-4h2v4z\"/>\n",
              "    </g>\n",
              "</svg>\n",
              "  </button>\n",
              "\n",
              "<style>\n",
              "  .colab-df-quickchart {\n",
              "      --bg-color: #E8F0FE;\n",
              "      --fill-color: #1967D2;\n",
              "      --hover-bg-color: #E2EBFA;\n",
              "      --hover-fill-color: #174EA6;\n",
              "      --disabled-fill-color: #AAA;\n",
              "      --disabled-bg-color: #DDD;\n",
              "  }\n",
              "\n",
              "  [theme=dark] .colab-df-quickchart {\n",
              "      --bg-color: #3B4455;\n",
              "      --fill-color: #D2E3FC;\n",
              "      --hover-bg-color: #434B5C;\n",
              "      --hover-fill-color: #FFFFFF;\n",
              "      --disabled-bg-color: #3B4455;\n",
              "      --disabled-fill-color: #666;\n",
              "  }\n",
              "\n",
              "  .colab-df-quickchart {\n",
              "    background-color: var(--bg-color);\n",
              "    border: none;\n",
              "    border-radius: 50%;\n",
              "    cursor: pointer;\n",
              "    display: none;\n",
              "    fill: var(--fill-color);\n",
              "    height: 32px;\n",
              "    padding: 0;\n",
              "    width: 32px;\n",
              "  }\n",
              "\n",
              "  .colab-df-quickchart:hover {\n",
              "    background-color: var(--hover-bg-color);\n",
              "    box-shadow: 0 1px 2px rgba(60, 64, 67, 0.3), 0 1px 3px 1px rgba(60, 64, 67, 0.15);\n",
              "    fill: var(--button-hover-fill-color);\n",
              "  }\n",
              "\n",
              "  .colab-df-quickchart-complete:disabled,\n",
              "  .colab-df-quickchart-complete:disabled:hover {\n",
              "    background-color: var(--disabled-bg-color);\n",
              "    fill: var(--disabled-fill-color);\n",
              "    box-shadow: none;\n",
              "  }\n",
              "\n",
              "  .colab-df-spinner {\n",
              "    border: 2px solid var(--fill-color);\n",
              "    border-color: transparent;\n",
              "    border-bottom-color: var(--fill-color);\n",
              "    animation:\n",
              "      spin 1s steps(1) infinite;\n",
              "  }\n",
              "\n",
              "  @keyframes spin {\n",
              "    0% {\n",
              "      border-color: transparent;\n",
              "      border-bottom-color: var(--fill-color);\n",
              "      border-left-color: var(--fill-color);\n",
              "    }\n",
              "    20% {\n",
              "      border-color: transparent;\n",
              "      border-left-color: var(--fill-color);\n",
              "      border-top-color: var(--fill-color);\n",
              "    }\n",
              "    30% {\n",
              "      border-color: transparent;\n",
              "      border-left-color: var(--fill-color);\n",
              "      border-top-color: var(--fill-color);\n",
              "      border-right-color: var(--fill-color);\n",
              "    }\n",
              "    40% {\n",
              "      border-color: transparent;\n",
              "      border-right-color: var(--fill-color);\n",
              "      border-top-color: var(--fill-color);\n",
              "    }\n",
              "    60% {\n",
              "      border-color: transparent;\n",
              "      border-right-color: var(--fill-color);\n",
              "    }\n",
              "    80% {\n",
              "      border-color: transparent;\n",
              "      border-right-color: var(--fill-color);\n",
              "      border-bottom-color: var(--fill-color);\n",
              "    }\n",
              "    90% {\n",
              "      border-color: transparent;\n",
              "      border-bottom-color: var(--fill-color);\n",
              "    }\n",
              "  }\n",
              "</style>\n",
              "\n",
              "  <script>\n",
              "    async function quickchart(key) {\n",
              "      const quickchartButtonEl =\n",
              "        document.querySelector('#' + key + ' button');\n",
              "      quickchartButtonEl.disabled = true;  // To prevent multiple clicks.\n",
              "      quickchartButtonEl.classList.add('colab-df-spinner');\n",
              "      try {\n",
              "        const charts = await google.colab.kernel.invokeFunction(\n",
              "            'suggestCharts', [key], {});\n",
              "      } catch (error) {\n",
              "        console.error('Error during call to suggestCharts:', error);\n",
              "      }\n",
              "      quickchartButtonEl.classList.remove('colab-df-spinner');\n",
              "      quickchartButtonEl.classList.add('colab-df-quickchart-complete');\n",
              "    }\n",
              "    (() => {\n",
              "      let quickchartButtonEl =\n",
              "        document.querySelector('#df-a9f61c10-d25a-4eeb-bfda-fa420e80c250 button');\n",
              "      quickchartButtonEl.style.display =\n",
              "        google.colab.kernel.accessAllowed ? 'block' : 'none';\n",
              "    })();\n",
              "  </script>\n",
              "</div>\n",
              "    </div>\n",
              "  </div>\n"
            ],
            "application/vnd.google.colaboratory.intrinsic+json": {
              "type": "dataframe",
              "summary": "{\n  \"name\": \"df_3\",\n  \"rows\": 5,\n  \"fields\": [\n    {\n      \"column\": \"HARMONIC_CENTRALITY\",\n      \"properties\": {\n        \"dtype\": \"number\",\n        \"std\": 0.9313616759861431,\n        \"min\": 7.453246818981032,\n        \"max\": 9.899952528750534,\n        \"num_unique_values\": 5,\n        \"samples\": [\n          9.3626154142593,\n          7.453246818981032,\n          8.991530604255782\n        ],\n        \"semantic_type\": \"\",\n        \"description\": \"\"\n      }\n    }\n  ]\n}"
            }
          },
          "metadata": {},
          "execution_count": 19
        }
      ]
    },
    {
      "cell_type": "code",
      "metadata": {
        "id": "PzNuVQv6OtvR",
        "colab": {
          "base_uri": "https://localhost:8080/",
          "height": 206
        },
        "outputId": "56bc9a42-4ec5-4670-92f6-609b9e61b7d8"
      },
      "source": [
        "df_3.sort_values(by='HARMONIC_CENTRALITY', ascending=True).head(5)"
      ],
      "execution_count": null,
      "outputs": [
        {
          "output_type": "execute_result",
          "data": {
            "text/plain": [
              "                HARMONIC_CENTRALITY\n",
              "Puerta del Sur             1.214521\n",
              "Las Tablas                 1.967174\n",
              "Colonia Jardin             2.398059\n",
              "Mar de Cristal             2.484237\n",
              "Casa de Campo              2.807295"
            ],
            "text/html": [
              "\n",
              "  <div id=\"df-66637867-3d2d-42bf-b97c-c5b7e0b8250d\" class=\"colab-df-container\">\n",
              "    <div>\n",
              "<style scoped>\n",
              "    .dataframe tbody tr th:only-of-type {\n",
              "        vertical-align: middle;\n",
              "    }\n",
              "\n",
              "    .dataframe tbody tr th {\n",
              "        vertical-align: top;\n",
              "    }\n",
              "\n",
              "    .dataframe thead th {\n",
              "        text-align: right;\n",
              "    }\n",
              "</style>\n",
              "<table border=\"1\" class=\"dataframe\">\n",
              "  <thead>\n",
              "    <tr style=\"text-align: right;\">\n",
              "      <th></th>\n",
              "      <th>HARMONIC_CENTRALITY</th>\n",
              "    </tr>\n",
              "  </thead>\n",
              "  <tbody>\n",
              "    <tr>\n",
              "      <th>Puerta del Sur</th>\n",
              "      <td>1.214521</td>\n",
              "    </tr>\n",
              "    <tr>\n",
              "      <th>Las Tablas</th>\n",
              "      <td>1.967174</td>\n",
              "    </tr>\n",
              "    <tr>\n",
              "      <th>Colonia Jardin</th>\n",
              "      <td>2.398059</td>\n",
              "    </tr>\n",
              "    <tr>\n",
              "      <th>Mar de Cristal</th>\n",
              "      <td>2.484237</td>\n",
              "    </tr>\n",
              "    <tr>\n",
              "      <th>Casa de Campo</th>\n",
              "      <td>2.807295</td>\n",
              "    </tr>\n",
              "  </tbody>\n",
              "</table>\n",
              "</div>\n",
              "    <div class=\"colab-df-buttons\">\n",
              "\n",
              "  <div class=\"colab-df-container\">\n",
              "    <button class=\"colab-df-convert\" onclick=\"convertToInteractive('df-66637867-3d2d-42bf-b97c-c5b7e0b8250d')\"\n",
              "            title=\"Convert this dataframe to an interactive table.\"\n",
              "            style=\"display:none;\">\n",
              "\n",
              "  <svg xmlns=\"http://www.w3.org/2000/svg\" height=\"24px\" viewBox=\"0 -960 960 960\">\n",
              "    <path d=\"M120-120v-720h720v720H120Zm60-500h600v-160H180v160Zm220 220h160v-160H400v160Zm0 220h160v-160H400v160ZM180-400h160v-160H180v160Zm440 0h160v-160H620v160ZM180-180h160v-160H180v160Zm440 0h160v-160H620v160Z\"/>\n",
              "  </svg>\n",
              "    </button>\n",
              "\n",
              "  <style>\n",
              "    .colab-df-container {\n",
              "      display:flex;\n",
              "      gap: 12px;\n",
              "    }\n",
              "\n",
              "    .colab-df-convert {\n",
              "      background-color: #E8F0FE;\n",
              "      border: none;\n",
              "      border-radius: 50%;\n",
              "      cursor: pointer;\n",
              "      display: none;\n",
              "      fill: #1967D2;\n",
              "      height: 32px;\n",
              "      padding: 0 0 0 0;\n",
              "      width: 32px;\n",
              "    }\n",
              "\n",
              "    .colab-df-convert:hover {\n",
              "      background-color: #E2EBFA;\n",
              "      box-shadow: 0px 1px 2px rgba(60, 64, 67, 0.3), 0px 1px 3px 1px rgba(60, 64, 67, 0.15);\n",
              "      fill: #174EA6;\n",
              "    }\n",
              "\n",
              "    .colab-df-buttons div {\n",
              "      margin-bottom: 4px;\n",
              "    }\n",
              "\n",
              "    [theme=dark] .colab-df-convert {\n",
              "      background-color: #3B4455;\n",
              "      fill: #D2E3FC;\n",
              "    }\n",
              "\n",
              "    [theme=dark] .colab-df-convert:hover {\n",
              "      background-color: #434B5C;\n",
              "      box-shadow: 0px 1px 3px 1px rgba(0, 0, 0, 0.15);\n",
              "      filter: drop-shadow(0px 1px 2px rgba(0, 0, 0, 0.3));\n",
              "      fill: #FFFFFF;\n",
              "    }\n",
              "  </style>\n",
              "\n",
              "    <script>\n",
              "      const buttonEl =\n",
              "        document.querySelector('#df-66637867-3d2d-42bf-b97c-c5b7e0b8250d button.colab-df-convert');\n",
              "      buttonEl.style.display =\n",
              "        google.colab.kernel.accessAllowed ? 'block' : 'none';\n",
              "\n",
              "      async function convertToInteractive(key) {\n",
              "        const element = document.querySelector('#df-66637867-3d2d-42bf-b97c-c5b7e0b8250d');\n",
              "        const dataTable =\n",
              "          await google.colab.kernel.invokeFunction('convertToInteractive',\n",
              "                                                    [key], {});\n",
              "        if (!dataTable) return;\n",
              "\n",
              "        const docLinkHtml = 'Like what you see? Visit the ' +\n",
              "          '<a target=\"_blank\" href=https://colab.research.google.com/notebooks/data_table.ipynb>data table notebook</a>'\n",
              "          + ' to learn more about interactive tables.';\n",
              "        element.innerHTML = '';\n",
              "        dataTable['output_type'] = 'display_data';\n",
              "        await google.colab.output.renderOutput(dataTable, element);\n",
              "        const docLink = document.createElement('div');\n",
              "        docLink.innerHTML = docLinkHtml;\n",
              "        element.appendChild(docLink);\n",
              "      }\n",
              "    </script>\n",
              "  </div>\n",
              "\n",
              "\n",
              "<div id=\"df-62364d60-fcef-4445-b52f-ef439a27ee4c\">\n",
              "  <button class=\"colab-df-quickchart\" onclick=\"quickchart('df-62364d60-fcef-4445-b52f-ef439a27ee4c')\"\n",
              "            title=\"Suggest charts\"\n",
              "            style=\"display:none;\">\n",
              "\n",
              "<svg xmlns=\"http://www.w3.org/2000/svg\" height=\"24px\"viewBox=\"0 0 24 24\"\n",
              "     width=\"24px\">\n",
              "    <g>\n",
              "        <path d=\"M19 3H5c-1.1 0-2 .9-2 2v14c0 1.1.9 2 2 2h14c1.1 0 2-.9 2-2V5c0-1.1-.9-2-2-2zM9 17H7v-7h2v7zm4 0h-2V7h2v10zm4 0h-2v-4h2v4z\"/>\n",
              "    </g>\n",
              "</svg>\n",
              "  </button>\n",
              "\n",
              "<style>\n",
              "  .colab-df-quickchart {\n",
              "      --bg-color: #E8F0FE;\n",
              "      --fill-color: #1967D2;\n",
              "      --hover-bg-color: #E2EBFA;\n",
              "      --hover-fill-color: #174EA6;\n",
              "      --disabled-fill-color: #AAA;\n",
              "      --disabled-bg-color: #DDD;\n",
              "  }\n",
              "\n",
              "  [theme=dark] .colab-df-quickchart {\n",
              "      --bg-color: #3B4455;\n",
              "      --fill-color: #D2E3FC;\n",
              "      --hover-bg-color: #434B5C;\n",
              "      --hover-fill-color: #FFFFFF;\n",
              "      --disabled-bg-color: #3B4455;\n",
              "      --disabled-fill-color: #666;\n",
              "  }\n",
              "\n",
              "  .colab-df-quickchart {\n",
              "    background-color: var(--bg-color);\n",
              "    border: none;\n",
              "    border-radius: 50%;\n",
              "    cursor: pointer;\n",
              "    display: none;\n",
              "    fill: var(--fill-color);\n",
              "    height: 32px;\n",
              "    padding: 0;\n",
              "    width: 32px;\n",
              "  }\n",
              "\n",
              "  .colab-df-quickchart:hover {\n",
              "    background-color: var(--hover-bg-color);\n",
              "    box-shadow: 0 1px 2px rgba(60, 64, 67, 0.3), 0 1px 3px 1px rgba(60, 64, 67, 0.15);\n",
              "    fill: var(--button-hover-fill-color);\n",
              "  }\n",
              "\n",
              "  .colab-df-quickchart-complete:disabled,\n",
              "  .colab-df-quickchart-complete:disabled:hover {\n",
              "    background-color: var(--disabled-bg-color);\n",
              "    fill: var(--disabled-fill-color);\n",
              "    box-shadow: none;\n",
              "  }\n",
              "\n",
              "  .colab-df-spinner {\n",
              "    border: 2px solid var(--fill-color);\n",
              "    border-color: transparent;\n",
              "    border-bottom-color: var(--fill-color);\n",
              "    animation:\n",
              "      spin 1s steps(1) infinite;\n",
              "  }\n",
              "\n",
              "  @keyframes spin {\n",
              "    0% {\n",
              "      border-color: transparent;\n",
              "      border-bottom-color: var(--fill-color);\n",
              "      border-left-color: var(--fill-color);\n",
              "    }\n",
              "    20% {\n",
              "      border-color: transparent;\n",
              "      border-left-color: var(--fill-color);\n",
              "      border-top-color: var(--fill-color);\n",
              "    }\n",
              "    30% {\n",
              "      border-color: transparent;\n",
              "      border-left-color: var(--fill-color);\n",
              "      border-top-color: var(--fill-color);\n",
              "      border-right-color: var(--fill-color);\n",
              "    }\n",
              "    40% {\n",
              "      border-color: transparent;\n",
              "      border-right-color: var(--fill-color);\n",
              "      border-top-color: var(--fill-color);\n",
              "    }\n",
              "    60% {\n",
              "      border-color: transparent;\n",
              "      border-right-color: var(--fill-color);\n",
              "    }\n",
              "    80% {\n",
              "      border-color: transparent;\n",
              "      border-right-color: var(--fill-color);\n",
              "      border-bottom-color: var(--fill-color);\n",
              "    }\n",
              "    90% {\n",
              "      border-color: transparent;\n",
              "      border-bottom-color: var(--fill-color);\n",
              "    }\n",
              "  }\n",
              "</style>\n",
              "\n",
              "  <script>\n",
              "    async function quickchart(key) {\n",
              "      const quickchartButtonEl =\n",
              "        document.querySelector('#' + key + ' button');\n",
              "      quickchartButtonEl.disabled = true;  // To prevent multiple clicks.\n",
              "      quickchartButtonEl.classList.add('colab-df-spinner');\n",
              "      try {\n",
              "        const charts = await google.colab.kernel.invokeFunction(\n",
              "            'suggestCharts', [key], {});\n",
              "      } catch (error) {\n",
              "        console.error('Error during call to suggestCharts:', error);\n",
              "      }\n",
              "      quickchartButtonEl.classList.remove('colab-df-spinner');\n",
              "      quickchartButtonEl.classList.add('colab-df-quickchart-complete');\n",
              "    }\n",
              "    (() => {\n",
              "      let quickchartButtonEl =\n",
              "        document.querySelector('#df-62364d60-fcef-4445-b52f-ef439a27ee4c button');\n",
              "      quickchartButtonEl.style.display =\n",
              "        google.colab.kernel.accessAllowed ? 'block' : 'none';\n",
              "    })();\n",
              "  </script>\n",
              "</div>\n",
              "    </div>\n",
              "  </div>\n"
            ],
            "application/vnd.google.colaboratory.intrinsic+json": {
              "type": "dataframe",
              "summary": "{\n  \"name\": \"df_3\",\n  \"rows\": 5,\n  \"fields\": [\n    {\n      \"column\": \"HARMONIC_CENTRALITY\",\n      \"properties\": {\n        \"dtype\": \"number\",\n        \"std\": 0.6145912383688095,\n        \"min\": 1.2145209290671972,\n        \"max\": 2.807295405410466,\n        \"num_unique_values\": 5,\n        \"samples\": [\n          1.9671737166295984,\n          2.807295405410466,\n          2.3980590476989905\n        ],\n        \"semantic_type\": \"\",\n        \"description\": \"\"\n      }\n    }\n  ]\n}"
            }
          },
          "metadata": {},
          "execution_count": 20
        }
      ]
    },
    {
      "cell_type": "code",
      "metadata": {
        "id": "AoM9A0eyWicO",
        "colab": {
          "base_uri": "https://localhost:8080/",
          "height": 357
        },
        "outputId": "dd1ee730-d692-4826-b800-2279e300a3f5"
      },
      "source": [
        "draw_options_small = {\"font_size\": 0, \"node_size\": 50, \"edgecolors\": \"grey\", \"linewidths\": 0.2, \"width\": 1}\n",
        "figure(figsize=(5, 5), dpi=80)\n",
        "# Mostramos el grafo\n",
        "nx.draw_networkx(G,\n",
        "                 pos=G.position,\n",
        "                 with_labels=False,\n",
        "                 node_color = df_3.HARMONIC_CENTRALITY.values,\n",
        "                 **draw_options_small)\n",
        "# Establecer márgenes para los ejes para que los nodos no se corten\n",
        "plt.title('Harmonic centrality - Metro de Madrid')\n",
        "plt.show()"
      ],
      "execution_count": null,
      "outputs": [
        {
          "output_type": "display_data",
          "data": {
            "text/plain": [
              "<Figure size 400x400 with 1 Axes>"
            ],
            "image/png": "[encoded data removed]"
          },
          "metadata": {}
        }
      ]
    },
    {
      "cell_type": "markdown",
      "metadata": {
        "id": "Ca8f5rqwkB-m"
      },
      "source": [
        "**pregunta**: ¿Qué podemos decir entre la medida de cercanía y la de centralidad armónica?,¿cual podría representar los nodos más cercanos en tiempo de viaje?"
      ]
    },
    {
      "cell_type": "markdown",
      "metadata": {
        "id": "fomtvNWCO5rI"
      },
      "source": [
        "### Medida de intermediación (betweeness)\n",
        "\n",
        "La medida de centralidad betweenness para un nodo v es la suma de la fracción de todos los pares de nodos que pasan por v. Podríamos entenderlo como la importancia en del nodo v en la interconexión entre un conjunto de nodos (V).\n",
        "\n",
        "[Referencia](https://networkx.org/documentation/stable/reference/algorithms/generated/networkx.algorithms.bipartite.centrality.betweenness_centrality.html?highlight=betweeness)\n",
        "\n"
      ]
    },
    {
      "cell_type": "code",
      "metadata": {
        "id": "Fx9b6liDO8fx",
        "colab": {
          "base_uri": "https://localhost:8080/",
          "height": 206
        },
        "outputId": "9c35e603-7ae7-428f-e5dc-3cde347f1fbf"
      },
      "source": [
        "centrality_betweeness = nx_algos.centrality.betweenness_centrality(G)\n",
        "df_4 = pd.DataFrame.from_dict(dict(centrality_betweeness), orient='index')\n",
        "df_4.columns = ['BETWEENESS']\n",
        "df_4.sort_values(by='BETWEENESS', ascending=False).head(5)"
      ],
      "execution_count": null,
      "outputs": [
        {
          "output_type": "execute_result",
          "data": {
            "text/plain": [
              "                     BETWEENESS\n",
              "Av. de America         0.262596\n",
              "Sol                    0.188481\n",
              "Cuatro Caminos         0.173849\n",
              "Opera                  0.156849\n",
              "Principe de Vergara    0.136704"
            ],
            "text/html": [
              "\n",
              "  <div id=\"df-858a35c0-c4fb-4926-823a-751cc0a59e39\" class=\"colab-df-container\">\n",
              "    <div>\n",
              "<style scoped>\n",
              "    .dataframe tbody tr th:only-of-type {\n",
              "        vertical-align: middle;\n",
              "    }\n",
              "\n",
              "    .dataframe tbody tr th {\n",
              "        vertical-align: top;\n",
              "    }\n",
              "\n",
              "    .dataframe thead th {\n",
              "        text-align: right;\n",
              "    }\n",
              "</style>\n",
              "<table border=\"1\" class=\"dataframe\">\n",
              "  <thead>\n",
              "    <tr style=\"text-align: right;\">\n",
              "      <th></th>\n",
              "      <th>BETWEENESS</th>\n",
              "    </tr>\n",
              "  </thead>\n",
              "  <tbody>\n",
              "    <tr>\n",
              "      <th>Av. de America</th>\n",
              "      <td>0.262596</td>\n",
              "    </tr>\n",
              "    <tr>\n",
              "      <th>Sol</th>\n",
              "      <td>0.188481</td>\n",
              "    </tr>\n",
              "    <tr>\n",
              "      <th>Cuatro Caminos</th>\n",
              "      <td>0.173849</td>\n",
              "    </tr>\n",
              "    <tr>\n",
              "      <th>Opera</th>\n",
              "      <td>0.156849</td>\n",
              "    </tr>\n",
              "    <tr>\n",
              "      <th>Principe de Vergara</th>\n",
              "      <td>0.136704</td>\n",
              "    </tr>\n",
              "  </tbody>\n",
              "</table>\n",
              "</div>\n",
              "    <div class=\"colab-df-buttons\">\n",
              "\n",
              "  <div class=\"colab-df-container\">\n",
              "    <button class=\"colab-df-convert\" onclick=\"convertToInteractive('df-858a35c0-c4fb-4926-823a-751cc0a59e39')\"\n",
              "            title=\"Convert this dataframe to an interactive table.\"\n",
              "            style=\"display:none;\">\n",
              "\n",
              "  <svg xmlns=\"http://www.w3.org/2000/svg\" height=\"24px\" viewBox=\"0 -960 960 960\">\n",
              "    <path d=\"M120-120v-720h720v720H120Zm60-500h600v-160H180v160Zm220 220h160v-160H400v160Zm0 220h160v-160H400v160ZM180-400h160v-160H180v160Zm440 0h160v-160H620v160ZM180-180h160v-160H180v160Zm440 0h160v-160H620v160Z\"/>\n",
              "  </svg>\n",
              "    </button>\n",
              "\n",
              "  <style>\n",
              "    .colab-df-container {\n",
              "      display:flex;\n",
              "      gap: 12px;\n",
              "    }\n",
              "\n",
              "    .colab-df-convert {\n",
              "      background-color: #E8F0FE;\n",
              "      border: none;\n",
              "      border-radius: 50%;\n",
              "      cursor: pointer;\n",
              "      display: none;\n",
              "      fill: #1967D2;\n",
              "      height: 32px;\n",
              "      padding: 0 0 0 0;\n",
              "      width: 32px;\n",
              "    }\n",
              "\n",
              "    .colab-df-convert:hover {\n",
              "      background-color: #E2EBFA;\n",
              "      box-shadow: 0px 1px 2px rgba(60, 64, 67, 0.3), 0px 1px 3px 1px rgba(60, 64, 67, 0.15);\n",
              "      fill: #174EA6;\n",
              "    }\n",
              "\n",
              "    .colab-df-buttons div {\n",
              "      margin-bottom: 4px;\n",
              "    }\n",
              "\n",
              "    [theme=dark] .colab-df-convert {\n",
              "      background-color: #3B4455;\n",
              "      fill: #D2E3FC;\n",
              "    }\n",
              "\n",
              "    [theme=dark] .colab-df-convert:hover {\n",
              "      background-color: #434B5C;\n",
              "      box-shadow: 0px 1px 3px 1px rgba(0, 0, 0, 0.15);\n",
              "      filter: drop-shadow(0px 1px 2px rgba(0, 0, 0, 0.3));\n",
              "      fill: #FFFFFF;\n",
              "    }\n",
              "  </style>\n",
              "\n",
              "    <script>\n",
              "      const buttonEl =\n",
              "        document.querySelector('#df-858a35c0-c4fb-4926-823a-751cc0a59e39 button.colab-df-convert');\n",
              "      buttonEl.style.display =\n",
              "        google.colab.kernel.accessAllowed ? 'block' : 'none';\n",
              "\n",
              "      async function convertToInteractive(key) {\n",
              "        const element = document.querySelector('#df-858a35c0-c4fb-4926-823a-751cc0a59e39');\n",
              "        const dataTable =\n",
              "          await google.colab.kernel.invokeFunction('convertToInteractive',\n",
              "                                                    [key], {});\n",
              "        if (!dataTable) return;\n",
              "\n",
              "        const docLinkHtml = 'Like what you see? Visit the ' +\n",
              "          '<a target=\"_blank\" href=https://colab.research.google.com/notebooks/data_table.ipynb>data table notebook</a>'\n",
              "          + ' to learn more about interactive tables.';\n",
              "        element.innerHTML = '';\n",
              "        dataTable['output_type'] = 'display_data';\n",
              "        await google.colab.output.renderOutput(dataTable, element);\n",
              "        const docLink = document.createElement('div');\n",
              "        docLink.innerHTML = docLinkHtml;\n",
              "        element.appendChild(docLink);\n",
              "      }\n",
              "    </script>\n",
              "  </div>\n",
              "\n",
              "\n",
              "<div id=\"df-431ba48e-0dbb-46fe-8e0e-16d27dcc96d8\">\n",
              "  <button class=\"colab-df-quickchart\" onclick=\"quickchart('df-431ba48e-0dbb-46fe-8e0e-16d27dcc96d8')\"\n",
              "            title=\"Suggest charts\"\n",
              "            style=\"display:none;\">\n",
              "\n",
              "<svg xmlns=\"http://www.w3.org/2000/svg\" height=\"24px\"viewBox=\"0 0 24 24\"\n",
              "     width=\"24px\">\n",
              "    <g>\n",
              "        <path d=\"M19 3H5c-1.1 0-2 .9-2 2v14c0 1.1.9 2 2 2h14c1.1 0 2-.9 2-2V5c0-1.1-.9-2-2-2zM9 17H7v-7h2v7zm4 0h-2V7h2v10zm4 0h-2v-4h2v4z\"/>\n",
              "    </g>\n",
              "</svg>\n",
              "  </button>\n",
              "\n",
              "<style>\n",
              "  .colab-df-quickchart {\n",
              "      --bg-color: #E8F0FE;\n",
              "      --fill-color: #1967D2;\n",
              "      --hover-bg-color: #E2EBFA;\n",
              "      --hover-fill-color: #174EA6;\n",
              "      --disabled-fill-color: #AAA;\n",
              "      --disabled-bg-color: #DDD;\n",
              "  }\n",
              "\n",
              "  [theme=dark] .colab-df-quickchart {\n",
              "      --bg-color: #3B4455;\n",
              "      --fill-color: #D2E3FC;\n",
              "      --hover-bg-color: #434B5C;\n",
              "      --hover-fill-color: #FFFFFF;\n",
              "      --disabled-bg-color: #3B4455;\n",
              "      --disabled-fill-color: #666;\n",
              "  }\n",
              "\n",
              "  .colab-df-quickchart {\n",
              "    background-color: var(--bg-color);\n",
              "    border: none;\n",
              "    border-radius: 50%;\n",
              "    cursor: pointer;\n",
              "    display: none;\n",
              "    fill: var(--fill-color);\n",
              "    height: 32px;\n",
              "    padding: 0;\n",
              "    width: 32px;\n",
              "  }\n",
              "\n",
              "  .colab-df-quickchart:hover {\n",
              "    background-color: var(--hover-bg-color);\n",
              "    box-shadow: 0 1px 2px rgba(60, 64, 67, 0.3), 0 1px 3px 1px rgba(60, 64, 67, 0.15);\n",
              "    fill: var(--button-hover-fill-color);\n",
              "  }\n",
              "\n",
              "  .colab-df-quickchart-complete:disabled,\n",
              "  .colab-df-quickchart-complete:disabled:hover {\n",
              "    background-color: var(--disabled-bg-color);\n",
              "    fill: var(--disabled-fill-color);\n",
              "    box-shadow: none;\n",
              "  }\n",
              "\n",
              "  .colab-df-spinner {\n",
              "    border: 2px solid var(--fill-color);\n",
              "    border-color: transparent;\n",
              "    border-bottom-color: var(--fill-color);\n",
              "    animation:\n",
              "      spin 1s steps(1) infinite;\n",
              "  }\n",
              "\n",
              "  @keyframes spin {\n",
              "    0% {\n",
              "      border-color: transparent;\n",
              "      border-bottom-color: var(--fill-color);\n",
              "      border-left-color: var(--fill-color);\n",
              "    }\n",
              "    20% {\n",
              "      border-color: transparent;\n",
              "      border-left-color: var(--fill-color);\n",
              "      border-top-color: var(--fill-color);\n",
              "    }\n",
              "    30% {\n",
              "      border-color: transparent;\n",
              "      border-left-color: var(--fill-color);\n",
              "      border-top-color: var(--fill-color);\n",
              "      border-right-color: var(--fill-color);\n",
              "    }\n",
              "    40% {\n",
              "      border-color: transparent;\n",
              "      border-right-color: var(--fill-color);\n",
              "      border-top-color: var(--fill-color);\n",
              "    }\n",
              "    60% {\n",
              "      border-color: transparent;\n",
              "      border-right-color: var(--fill-color);\n",
              "    }\n",
              "    80% {\n",
              "      border-color: transparent;\n",
              "      border-right-color: var(--fill-color);\n",
              "      border-bottom-color: var(--fill-color);\n",
              "    }\n",
              "    90% {\n",
              "      border-color: transparent;\n",
              "      border-bottom-color: var(--fill-color);\n",
              "    }\n",
              "  }\n",
              "</style>\n",
              "\n",
              "  <script>\n",
              "    async function quickchart(key) {\n",
              "      const quickchartButtonEl =\n",
              "        document.querySelector('#' + key + ' button');\n",
              "      quickchartButtonEl.disabled = true;  // To prevent multiple clicks.\n",
              "      quickchartButtonEl.classList.add('colab-df-spinner');\n",
              "      try {\n",
              "        const charts = await google.colab.kernel.invokeFunction(\n",
              "            'suggestCharts', [key], {});\n",
              "      } catch (error) {\n",
              "        console.error('Error during call to suggestCharts:', error);\n",
              "      }\n",
              "      quickchartButtonEl.classList.remove('colab-df-spinner');\n",
              "      quickchartButtonEl.classList.add('colab-df-quickchart-complete');\n",
              "    }\n",
              "    (() => {\n",
              "      let quickchartButtonEl =\n",
              "        document.querySelector('#df-431ba48e-0dbb-46fe-8e0e-16d27dcc96d8 button');\n",
              "      quickchartButtonEl.style.display =\n",
              "        google.colab.kernel.accessAllowed ? 'block' : 'none';\n",
              "    })();\n",
              "  </script>\n",
              "</div>\n",
              "    </div>\n",
              "  </div>\n"
            ],
            "application/vnd.google.colaboratory.intrinsic+json": {
              "type": "dataframe",
              "summary": "{\n  \"name\": \"df_4\",\n  \"rows\": 5,\n  \"fields\": [\n    {\n      \"column\": \"BETWEENESS\",\n      \"properties\": {\n        \"dtype\": \"number\",\n        \"std\": 0.048151063918693046,\n        \"min\": 0.13670380972901983,\n        \"max\": 0.2625961153692246,\n        \"num_unique_values\": 5,\n        \"samples\": [\n          0.1884805204132935,\n          0.13670380972901983,\n          0.17384871897476936\n        ],\n        \"semantic_type\": \"\",\n        \"description\": \"\"\n      }\n    }\n  ]\n}"
            }
          },
          "metadata": {},
          "execution_count": 22
        }
      ]
    },
    {
      "cell_type": "markdown",
      "metadata": {
        "id": "Du3dn3S5PByE"
      },
      "source": []
    },
    {
      "cell_type": "code",
      "metadata": {
        "id": "2UW3HMe_PCTR",
        "colab": {
          "base_uri": "https://localhost:8080/",
          "height": 206
        },
        "outputId": "83addf0c-2e49-42a9-9984-975d50a25c36"
      },
      "source": [
        "df_4.sort_values(by='BETWEENESS', ascending=True).head(5)"
      ],
      "execution_count": null,
      "outputs": [
        {
          "output_type": "execute_result",
          "data": {
            "text/plain": [
              "                    BETWEENESS\n",
              "Las Tablas            0.000000\n",
              "Puerta del Sur        0.000000\n",
              "Pueblo Nuevo          0.006989\n",
              "Nuevos Ministerios    0.012325\n",
              "Plaza Eliptica        0.016823"
            ],
            "text/html": [
              "\n",
              "  <div id=\"df-3a7f5550-3c50-49ab-921a-5faf6de87ecd\" class=\"colab-df-container\">\n",
              "    <div>\n",
              "<style scoped>\n",
              "    .dataframe tbody tr th:only-of-type {\n",
              "        vertical-align: middle;\n",
              "    }\n",
              "\n",
              "    .dataframe tbody tr th {\n",
              "        vertical-align: top;\n",
              "    }\n",
              "\n",
              "    .dataframe thead th {\n",
              "        text-align: right;\n",
              "    }\n",
              "</style>\n",
              "<table border=\"1\" class=\"dataframe\">\n",
              "  <thead>\n",
              "    <tr style=\"text-align: right;\">\n",
              "      <th></th>\n",
              "      <th>BETWEENESS</th>\n",
              "    </tr>\n",
              "  </thead>\n",
              "  <tbody>\n",
              "    <tr>\n",
              "      <th>Las Tablas</th>\n",
              "      <td>0.000000</td>\n",
              "    </tr>\n",
              "    <tr>\n",
              "      <th>Puerta del Sur</th>\n",
              "      <td>0.000000</td>\n",
              "    </tr>\n",
              "    <tr>\n",
              "      <th>Pueblo Nuevo</th>\n",
              "      <td>0.006989</td>\n",
              "    </tr>\n",
              "    <tr>\n",
              "      <th>Nuevos Ministerios</th>\n",
              "      <td>0.012325</td>\n",
              "    </tr>\n",
              "    <tr>\n",
              "      <th>Plaza Eliptica</th>\n",
              "      <td>0.016823</td>\n",
              "    </tr>\n",
              "  </tbody>\n",
              "</table>\n",
              "</div>\n",
              "    <div class=\"colab-df-buttons\">\n",
              "\n",
              "  <div class=\"colab-df-container\">\n",
              "    <button class=\"colab-df-convert\" onclick=\"convertToInteractive('df-3a7f5550-3c50-49ab-921a-5faf6de87ecd')\"\n",
              "            title=\"Convert this dataframe to an interactive table.\"\n",
              "            style=\"display:none;\">\n",
              "\n",
              "  <svg xmlns=\"http://www.w3.org/2000/svg\" height=\"24px\" viewBox=\"0 -960 960 960\">\n",
              "    <path d=\"M120-120v-720h720v720H120Zm60-500h600v-160H180v160Zm220 220h160v-160H400v160Zm0 220h160v-160H400v160ZM180-400h160v-160H180v160Zm440 0h160v-160H620v160ZM180-180h160v-160H180v160Zm440 0h160v-160H620v160Z\"/>\n",
              "  </svg>\n",
              "    </button>\n",
              "\n",
              "  <style>\n",
              "    .colab-df-container {\n",
              "      display:flex;\n",
              "      gap: 12px;\n",
              "    }\n",
              "\n",
              "    .colab-df-convert {\n",
              "      background-color: #E8F0FE;\n",
              "      border: none;\n",
              "      border-radius: 50%;\n",
              "      cursor: pointer;\n",
              "      display: none;\n",
              "      fill: #1967D2;\n",
              "      height: 32px;\n",
              "      padding: 0 0 0 0;\n",
              "      width: 32px;\n",
              "    }\n",
              "\n",
              "    .colab-df-convert:hover {\n",
              "      background-color: #E2EBFA;\n",
              "      box-shadow: 0px 1px 2px rgba(60, 64, 67, 0.3), 0px 1px 3px 1px rgba(60, 64, 67, 0.15);\n",
              "      fill: #174EA6;\n",
              "    }\n",
              "\n",
              "    .colab-df-buttons div {\n",
              "      margin-bottom: 4px;\n",
              "    }\n",
              "\n",
              "    [theme=dark] .colab-df-convert {\n",
              "      background-color: #3B4455;\n",
              "      fill: #D2E3FC;\n",
              "    }\n",
              "\n",
              "    [theme=dark] .colab-df-convert:hover {\n",
              "      background-color: #434B5C;\n",
              "      box-shadow: 0px 1px 3px 1px rgba(0, 0, 0, 0.15);\n",
              "      filter: drop-shadow(0px 1px 2px rgba(0, 0, 0, 0.3));\n",
              "      fill: #FFFFFF;\n",
              "    }\n",
              "  </style>\n",
              "\n",
              "    <script>\n",
              "      const buttonEl =\n",
              "        document.querySelector('#df-3a7f5550-3c50-49ab-921a-5faf6de87ecd button.colab-df-convert');\n",
              "      buttonEl.style.display =\n",
              "        google.colab.kernel.accessAllowed ? 'block' : 'none';\n",
              "\n",
              "      async function convertToInteractive(key) {\n",
              "        const element = document.querySelector('#df-3a7f5550-3c50-49ab-921a-5faf6de87ecd');\n",
              "        const dataTable =\n",
              "          await google.colab.kernel.invokeFunction('convertToInteractive',\n",
              "                                                    [key], {});\n",
              "        if (!dataTable) return;\n",
              "\n",
              "        const docLinkHtml = 'Like what you see? Visit the ' +\n",
              "          '<a target=\"_blank\" href=https://colab.research.google.com/notebooks/data_table.ipynb>data table notebook</a>'\n",
              "          + ' to learn more about interactive tables.';\n",
              "        element.innerHTML = '';\n",
              "        dataTable['output_type'] = 'display_data';\n",
              "        await google.colab.output.renderOutput(dataTable, element);\n",
              "        const docLink = document.createElement('div');\n",
              "        docLink.innerHTML = docLinkHtml;\n",
              "        element.appendChild(docLink);\n",
              "      }\n",
              "    </script>\n",
              "  </div>\n",
              "\n",
              "\n",
              "<div id=\"df-cbfd68b9-da09-47d5-930d-bbc7281dd823\">\n",
              "  <button class=\"colab-df-quickchart\" onclick=\"quickchart('df-cbfd68b9-da09-47d5-930d-bbc7281dd823')\"\n",
              "            title=\"Suggest charts\"\n",
              "            style=\"display:none;\">\n",
              "\n",
              "<svg xmlns=\"http://www.w3.org/2000/svg\" height=\"24px\"viewBox=\"0 0 24 24\"\n",
              "     width=\"24px\">\n",
              "    <g>\n",
              "        <path d=\"M19 3H5c-1.1 0-2 .9-2 2v14c0 1.1.9 2 2 2h14c1.1 0 2-.9 2-2V5c0-1.1-.9-2-2-2zM9 17H7v-7h2v7zm4 0h-2V7h2v10zm4 0h-2v-4h2v4z\"/>\n",
              "    </g>\n",
              "</svg>\n",
              "  </button>\n",
              "\n",
              "<style>\n",
              "  .colab-df-quickchart {\n",
              "      --bg-color: #E8F0FE;\n",
              "      --fill-color: #1967D2;\n",
              "      --hover-bg-color: #E2EBFA;\n",
              "      --hover-fill-color: #174EA6;\n",
              "      --disabled-fill-color: #AAA;\n",
              "      --disabled-bg-color: #DDD;\n",
              "  }\n",
              "\n",
              "  [theme=dark] .colab-df-quickchart {\n",
              "      --bg-color: #3B4455;\n",
              "      --fill-color: #D2E3FC;\n",
              "      --hover-bg-color: #434B5C;\n",
              "      --hover-fill-color: #FFFFFF;\n",
              "      --disabled-bg-color: #3B4455;\n",
              "      --disabled-fill-color: #666;\n",
              "  }\n",
              "\n",
              "  .colab-df-quickchart {\n",
              "    background-color: var(--bg-color);\n",
              "    border: none;\n",
              "    border-radius: 50%;\n",
              "    cursor: pointer;\n",
              "    display: none;\n",
              "    fill: var(--fill-color);\n",
              "    height: 32px;\n",
              "    padding: 0;\n",
              "    width: 32px;\n",
              "  }\n",
              "\n",
              "  .colab-df-quickchart:hover {\n",
              "    background-color: var(--hover-bg-color);\n",
              "    box-shadow: 0 1px 2px rgba(60, 64, 67, 0.3), 0 1px 3px 1px rgba(60, 64, 67, 0.15);\n",
              "    fill: var(--button-hover-fill-color);\n",
              "  }\n",
              "\n",
              "  .colab-df-quickchart-complete:disabled,\n",
              "  .colab-df-quickchart-complete:disabled:hover {\n",
              "    background-color: var(--disabled-bg-color);\n",
              "    fill: var(--disabled-fill-color);\n",
              "    box-shadow: none;\n",
              "  }\n",
              "\n",
              "  .colab-df-spinner {\n",
              "    border: 2px solid var(--fill-color);\n",
              "    border-color: transparent;\n",
              "    border-bottom-color: var(--fill-color);\n",
              "    animation:\n",
              "      spin 1s steps(1) infinite;\n",
              "  }\n",
              "\n",
              "  @keyframes spin {\n",
              "    0% {\n",
              "      border-color: transparent;\n",
              "      border-bottom-color: var(--fill-color);\n",
              "      border-left-color: var(--fill-color);\n",
              "    }\n",
              "    20% {\n",
              "      border-color: transparent;\n",
              "      border-left-color: var(--fill-color);\n",
              "      border-top-color: var(--fill-color);\n",
              "    }\n",
              "    30% {\n",
              "      border-color: transparent;\n",
              "      border-left-color: var(--fill-color);\n",
              "      border-top-color: var(--fill-color);\n",
              "      border-right-color: var(--fill-color);\n",
              "    }\n",
              "    40% {\n",
              "      border-color: transparent;\n",
              "      border-right-color: var(--fill-color);\n",
              "      border-top-color: var(--fill-color);\n",
              "    }\n",
              "    60% {\n",
              "      border-color: transparent;\n",
              "      border-right-color: var(--fill-color);\n",
              "    }\n",
              "    80% {\n",
              "      border-color: transparent;\n",
              "      border-right-color: var(--fill-color);\n",
              "      border-bottom-color: var(--fill-color);\n",
              "    }\n",
              "    90% {\n",
              "      border-color: transparent;\n",
              "      border-bottom-color: var(--fill-color);\n",
              "    }\n",
              "  }\n",
              "</style>\n",
              "\n",
              "  <script>\n",
              "    async function quickchart(key) {\n",
              "      const quickchartButtonEl =\n",
              "        document.querySelector('#' + key + ' button');\n",
              "      quickchartButtonEl.disabled = true;  // To prevent multiple clicks.\n",
              "      quickchartButtonEl.classList.add('colab-df-spinner');\n",
              "      try {\n",
              "        const charts = await google.colab.kernel.invokeFunction(\n",
              "            'suggestCharts', [key], {});\n",
              "      } catch (error) {\n",
              "        console.error('Error during call to suggestCharts:', error);\n",
              "      }\n",
              "      quickchartButtonEl.classList.remove('colab-df-spinner');\n",
              "      quickchartButtonEl.classList.add('colab-df-quickchart-complete');\n",
              "    }\n",
              "    (() => {\n",
              "      let quickchartButtonEl =\n",
              "        document.querySelector('#df-cbfd68b9-da09-47d5-930d-bbc7281dd823 button');\n",
              "      quickchartButtonEl.style.display =\n",
              "        google.colab.kernel.accessAllowed ? 'block' : 'none';\n",
              "    })();\n",
              "  </script>\n",
              "</div>\n",
              "    </div>\n",
              "  </div>\n"
            ],
            "application/vnd.google.colaboratory.intrinsic+json": {
              "type": "dataframe",
              "summary": "{\n  \"name\": \"df_4\",\n  \"rows\": 5,\n  \"fields\": [\n    {\n      \"column\": \"BETWEENESS\",\n      \"properties\": {\n        \"dtype\": \"number\",\n        \"std\": 0.0074596029678423255,\n        \"min\": 0.0,\n        \"max\": 0.01682272909163665,\n        \"num_unique_values\": 4,\n        \"samples\": [\n          0.006988795518207283,\n          0.01682272909163665,\n          0.0\n        ],\n        \"semantic_type\": \"\",\n        \"description\": \"\"\n      }\n    }\n  ]\n}"
            }
          },
          "metadata": {},
          "execution_count": 23
        }
      ]
    },
    {
      "cell_type": "code",
      "metadata": {
        "id": "LT6xfLUdWqkA",
        "colab": {
          "base_uri": "https://localhost:8080/",
          "height": 357
        },
        "outputId": "54b66fd5-28e6-4ab8-e331-465952518fe1"
      },
      "source": [
        "draw_options_small = {\"font_size\": 0, \"node_size\": 50, \"edgecolors\": \"grey\", \"linewidths\": 0.2, \"width\": 1}\n",
        "figure(figsize=(5, 5), dpi=80)\n",
        "# Mostramos el grafo\n",
        "nx.draw_networkx(G,\n",
        "                 pos=G.position,\n",
        "                 with_labels=False,\n",
        "                 node_color = df_4.BETWEENESS.values,\n",
        "                 **draw_options_small)\n",
        "plt.title('Betweeness centrality - Metro de Madrid')\n",
        "plt.show()"
      ],
      "execution_count": null,
      "outputs": [
        {
          "output_type": "display_data",
          "data": {
            "text/plain": [
              "<Figure size 400x400 with 1 Axes>"
            ],
            "image/png": "[encoded data removed]"
          },
          "metadata": {}
        }
      ]
    },
    {
      "cell_type": "markdown",
      "metadata": {
        "id": "QOj-oqwqk3ff"
      },
      "source": [
        "**pregunta** ¿por qué la estación con mayor grado es la que logra una mayor puntación con esta mediad de centralidad?"
      ]
    },
    {
      "cell_type": "markdown",
      "metadata": {
        "id": "SdGB4ka97Cni"
      },
      "source": [
        "### Resumen de medidas de centralidad\n",
        "\n",
        "Recogemos las medidas de centralidad en una sola tabla (df_1 ... df_4)"
      ]
    },
    {
      "cell_type": "code",
      "metadata": {
        "id": "etZGwNOh9Sdx",
        "colab": {
          "base_uri": "https://localhost:8080/",
          "height": 1000
        },
        "outputId": "f70a7838-4ba4-4af4-e310-528b5ff5c354"
      },
      "source": [
        "pd.concat([df_1, df_2, df_3, df_4], axis=1).sort_values(by='DEGREE', ascending=False)"
      ],
      "execution_count": null,
      "outputs": [
        {
          "output_type": "execute_result",
          "data": {
            "text/plain": [
              "                     DEGREE  CLOSENESS  HARMONIC_CENTRALITY  BETWEENESS\n",
              "Av. de America            8   0.372340             5.562698    0.262596\n",
              "Sol                       6   0.364583             7.422251    0.188481\n",
              "Alonso Martinez           6   0.372340             8.483513    0.134391\n",
              "Cuatro Caminos            5   0.360825             5.735370    0.173849\n",
              "Canal                     4   0.346535             6.692641    0.065537\n",
              "Opera                     4   0.350000             7.136602    0.156849\n",
              "Principe Pio              4   0.277778             5.351987    0.075430\n",
              "Principe de Vergara       4   0.364583             6.475449    0.136704\n",
              "San Bernardo              4   0.353535             8.991531    0.114238\n",
              "Arguelles                 4   0.299145             6.920425    0.072963\n",
              "Manuel Becerra            4   0.307018             6.420908    0.034268\n",
              "Tribunal                  4   0.368421             9.362615    0.104827\n",
              "Goya                      4   0.343137             6.955455    0.023200\n",
              "Bilbao                    4   0.368421             9.899953    0.083081\n",
              "Gregorio Maranon          4   0.353535             6.434362    0.072408\n",
              "Oporto                    4   0.294118             3.284540    0.125717\n",
              "Colombia                  4   0.294118             4.183035    0.023900\n",
              "Plaza de Castilla         4   0.294118             4.307931    0.092464\n",
              "Casa de Campo             3   0.244755             2.807295    0.110924\n",
              "Ventas                    3   0.301724             5.373991    0.025046\n",
              "Legazpi                   3   0.291667             3.469855    0.038307\n",
              "Sainz de Baranda          3   0.286885             4.593873    0.026218\n",
              "Pacifico                  3   0.284553             3.788891    0.021617\n",
              "Callao                    3   0.336538             7.453247    0.036152\n",
              "Chamartin                 3   0.236486             3.885687    0.038949\n",
              "Plaza de Espana           3   0.315315             6.597551    0.056306\n",
              "Guzman el Bueno           3   0.312500             5.492363    0.039942\n",
              "Nuevos Ministerios        3   0.286885             5.121267    0.012325\n",
              "Mar de Cristal            3   0.294118             2.484237    0.074021\n",
              "Pinar de Chamartin        3   0.236486             2.913692    0.032625\n",
              "Moncloa                   2   0.284553             5.840474    0.022015\n",
              "Pueblo Nuevo              2   0.289256             3.326192    0.006989\n",
              "Colonia Jardin            2   0.200000             2.398059    0.057143\n",
              "Plaza Eliptica            2   0.259259             3.019854    0.016823\n",
              "Las Tablas                2   0.207101             1.967174    0.000000\n",
              "Puerta del Sur            1   0.167464             1.214521    0.000000"
            ],
            "text/html": [
              "\n",
              "  <div id=\"df-3b1154e7-333c-4588-a979-b00ce06bb794\" class=\"colab-df-container\">\n",
              "    <div>\n",
              "<style scoped>\n",
              "    .dataframe tbody tr th:only-of-type {\n",
              "        vertical-align: middle;\n",
              "    }\n",
              "\n",
              "    .dataframe tbody tr th {\n",
              "        vertical-align: top;\n",
              "    }\n",
              "\n",
              "    .dataframe thead th {\n",
              "        text-align: right;\n",
              "    }\n",
              "</style>\n",
              "<table border=\"1\" class=\"dataframe\">\n",
              "  <thead>\n",
              "    <tr style=\"text-align: right;\">\n",
              "      <th></th>\n",
              "      <th>DEGREE</th>\n",
              "      <th>CLOSENESS</th>\n",
              "      <th>HARMONIC_CENTRALITY</th>\n",
              "      <th>BETWEENESS</th>\n",
              "    </tr>\n",
              "  </thead>\n",
              "  <tbody>\n",
              "    <tr>\n",
              "      <th>Av. de America</th>\n",
              "      <td>8</td>\n",
              "      <td>0.372340</td>\n",
              "      <td>5.562698</td>\n",
              "      <td>0.262596</td>\n",
              "    </tr>\n",
              "    <tr>\n",
              "      <th>Sol</th>\n",
              "      <td>6</td>\n",
              "      <td>0.364583</td>\n",
              "      <td>7.422251</td>\n",
              "      <td>0.188481</td>\n",
              "    </tr>\n",
              "    <tr>\n",
              "      <th>Alonso Martinez</th>\n",
              "      <td>6</td>\n",
              "      <td>0.372340</td>\n",
              "      <td>8.483513</td>\n",
              "      <td>0.134391</td>\n",
              "    </tr>\n",
              "    <tr>\n",
              "      <th>Cuatro Caminos</th>\n",
              "      <td>5</td>\n",
              "      <td>0.360825</td>\n",
              "      <td>5.735370</td>\n",
              "      <td>0.173849</td>\n",
              "    </tr>\n",
              "    <tr>\n",
              "      <th>Canal</th>\n",
              "      <td>4</td>\n",
              "      <td>0.346535</td>\n",
              "      <td>6.692641</td>\n",
              "      <td>0.065537</td>\n",
              "    </tr>\n",
              "    <tr>\n",
              "      <th>Opera</th>\n",
              "      <td>4</td>\n",
              "      <td>0.350000</td>\n",
              "      <td>7.136602</td>\n",
              "      <td>0.156849</td>\n",
              "    </tr>\n",
              "    <tr>\n",
              "      <th>Principe Pio</th>\n",
              "      <td>4</td>\n",
              "      <td>0.277778</td>\n",
              "      <td>5.351987</td>\n",
              "      <td>0.075430</td>\n",
              "    </tr>\n",
              "    <tr>\n",
              "      <th>Principe de Vergara</th>\n",
              "      <td>4</td>\n",
              "      <td>0.364583</td>\n",
              "      <td>6.475449</td>\n",
              "      <td>0.136704</td>\n",
              "    </tr>\n",
              "    <tr>\n",
              "      <th>San Bernardo</th>\n",
              "      <td>4</td>\n",
              "      <td>0.353535</td>\n",
              "      <td>8.991531</td>\n",
              "      <td>0.114238</td>\n",
              "    </tr>\n",
              "    <tr>\n",
              "      <th>Arguelles</th>\n",
              "      <td>4</td>\n",
              "      <td>0.299145</td>\n",
              "      <td>6.920425</td>\n",
              "      <td>0.072963</td>\n",
              "    </tr>\n",
              "    <tr>\n",
              "      <th>Manuel Becerra</th>\n",
              "      <td>4</td>\n",
              "      <td>0.307018</td>\n",
              "      <td>6.420908</td>\n",
              "      <td>0.034268</td>\n",
              "    </tr>\n",
              "    <tr>\n",
              "      <th>Tribunal</th>\n",
              "      <td>4</td>\n",
              "      <td>0.368421</td>\n",
              "      <td>9.362615</td>\n",
              "      <td>0.104827</td>\n",
              "    </tr>\n",
              "    <tr>\n",
              "      <th>Goya</th>\n",
              "      <td>4</td>\n",
              "      <td>0.343137</td>\n",
              "      <td>6.955455</td>\n",
              "      <td>0.023200</td>\n",
              "    </tr>\n",
              "    <tr>\n",
              "      <th>Bilbao</th>\n",
              "      <td>4</td>\n",
              "      <td>0.368421</td>\n",
              "      <td>9.899953</td>\n",
              "      <td>0.083081</td>\n",
              "    </tr>\n",
              "    <tr>\n",
              "      <th>Gregorio Maranon</th>\n",
              "      <td>4</td>\n",
              "      <td>0.353535</td>\n",
              "      <td>6.434362</td>\n",
              "      <td>0.072408</td>\n",
              "    </tr>\n",
              "    <tr>\n",
              "      <th>Oporto</th>\n",
              "      <td>4</td>\n",
              "      <td>0.294118</td>\n",
              "      <td>3.284540</td>\n",
              "      <td>0.125717</td>\n",
              "    </tr>\n",
              "    <tr>\n",
              "      <th>Colombia</th>\n",
              "      <td>4</td>\n",
              "      <td>0.294118</td>\n",
              "      <td>4.183035</td>\n",
              "      <td>0.023900</td>\n",
              "    </tr>\n",
              "    <tr>\n",
              "      <th>Plaza de Castilla</th>\n",
              "      <td>4</td>\n",
              "      <td>0.294118</td>\n",
              "      <td>4.307931</td>\n",
              "      <td>0.092464</td>\n",
              "    </tr>\n",
              "    <tr>\n",
              "      <th>Casa de Campo</th>\n",
              "      <td>3</td>\n",
              "      <td>0.244755</td>\n",
              "      <td>2.807295</td>\n",
              "      <td>0.110924</td>\n",
              "    </tr>\n",
              "    <tr>\n",
              "      <th>Ventas</th>\n",
              "      <td>3</td>\n",
              "      <td>0.301724</td>\n",
              "      <td>5.373991</td>\n",
              "      <td>0.025046</td>\n",
              "    </tr>\n",
              "    <tr>\n",
              "      <th>Legazpi</th>\n",
              "      <td>3</td>\n",
              "      <td>0.291667</td>\n",
              "      <td>3.469855</td>\n",
              "      <td>0.038307</td>\n",
              "    </tr>\n",
              "    <tr>\n",
              "      <th>Sainz de Baranda</th>\n",
              "      <td>3</td>\n",
              "      <td>0.286885</td>\n",
              "      <td>4.593873</td>\n",
              "      <td>0.026218</td>\n",
              "    </tr>\n",
              "    <tr>\n",
              "      <th>Pacifico</th>\n",
              "      <td>3</td>\n",
              "      <td>0.284553</td>\n",
              "      <td>3.788891</td>\n",
              "      <td>0.021617</td>\n",
              "    </tr>\n",
              "    <tr>\n",
              "      <th>Callao</th>\n",
              "      <td>3</td>\n",
              "      <td>0.336538</td>\n",
              "      <td>7.453247</td>\n",
              "      <td>0.036152</td>\n",
              "    </tr>\n",
              "    <tr>\n",
              "      <th>Chamartin</th>\n",
              "      <td>3</td>\n",
              "      <td>0.236486</td>\n",
              "      <td>3.885687</td>\n",
              "      <td>0.038949</td>\n",
              "    </tr>\n",
              "    <tr>\n",
              "      <th>Plaza de Espana</th>\n",
              "      <td>3</td>\n",
              "      <td>0.315315</td>\n",
              "      <td>6.597551</td>\n",
              "      <td>0.056306</td>\n",
              "    </tr>\n",
              "    <tr>\n",
              "      <th>Guzman el Bueno</th>\n",
              "      <td>3</td>\n",
              "      <td>0.312500</td>\n",
              "      <td>5.492363</td>\n",
              "      <td>0.039942</td>\n",
              "    </tr>\n",
              "    <tr>\n",
              "      <th>Nuevos Ministerios</th>\n",
              "      <td>3</td>\n",
              "      <td>0.286885</td>\n",
              "      <td>5.121267</td>\n",
              "      <td>0.012325</td>\n",
              "    </tr>\n",
              "    <tr>\n",
              "      <th>Mar de Cristal</th>\n",
              "      <td>3</td>\n",
              "      <td>0.294118</td>\n",
              "      <td>2.484237</td>\n",
              "      <td>0.074021</td>\n",
              "    </tr>\n",
              "    <tr>\n",
              "      <th>Pinar de Chamartin</th>\n",
              "      <td>3</td>\n",
              "      <td>0.236486</td>\n",
              "      <td>2.913692</td>\n",
              "      <td>0.032625</td>\n",
              "    </tr>\n",
              "    <tr>\n",
              "      <th>Moncloa</th>\n",
              "      <td>2</td>\n",
              "      <td>0.284553</td>\n",
              "      <td>5.840474</td>\n",
              "      <td>0.022015</td>\n",
              "    </tr>\n",
              "    <tr>\n",
              "      <th>Pueblo Nuevo</th>\n",
              "      <td>2</td>\n",
              "      <td>0.289256</td>\n",
              "      <td>3.326192</td>\n",
              "      <td>0.006989</td>\n",
              "    </tr>\n",
              "    <tr>\n",
              "      <th>Colonia Jardin</th>\n",
              "      <td>2</td>\n",
              "      <td>0.200000</td>\n",
              "      <td>2.398059</td>\n",
              "      <td>0.057143</td>\n",
              "    </tr>\n",
              "    <tr>\n",
              "      <th>Plaza Eliptica</th>\n",
              "      <td>2</td>\n",
              "      <td>0.259259</td>\n",
              "      <td>3.019854</td>\n",
              "      <td>0.016823</td>\n",
              "    </tr>\n",
              "    <tr>\n",
              "      <th>Las Tablas</th>\n",
              "      <td>2</td>\n",
              "      <td>0.207101</td>\n",
              "      <td>1.967174</td>\n",
              "      <td>0.000000</td>\n",
              "    </tr>\n",
              "    <tr>\n",
              "      <th>Puerta del Sur</th>\n",
              "      <td>1</td>\n",
              "      <td>0.167464</td>\n",
              "      <td>1.214521</td>\n",
              "      <td>0.000000</td>\n",
              "    </tr>\n",
              "  </tbody>\n",
              "</table>\n",
              "</div>\n",
              "    <div class=\"colab-df-buttons\">\n",
              "\n",
              "  <div class=\"colab-df-container\">\n",
              "    <button class=\"colab-df-convert\" onclick=\"convertToInteractive('df-3b1154e7-333c-4588-a979-b00ce06bb794')\"\n",
              "            title=\"Convert this dataframe to an interactive table.\"\n",
              "            style=\"display:none;\">\n",
              "\n",
              "  <svg xmlns=\"http://www.w3.org/2000/svg\" height=\"24px\" viewBox=\"0 -960 960 960\">\n",
              "    <path d=\"M120-120v-720h720v720H120Zm60-500h600v-160H180v160Zm220 220h160v-160H400v160Zm0 220h160v-160H400v160ZM180-400h160v-160H180v160Zm440 0h160v-160H620v160ZM180-180h160v-160H180v160Zm440 0h160v-160H620v160Z\"/>\n",
              "  </svg>\n",
              "    </button>\n",
              "\n",
              "  <style>\n",
              "    .colab-df-container {\n",
              "      display:flex;\n",
              "      gap: 12px;\n",
              "    }\n",
              "\n",
              "    .colab-df-convert {\n",
              "      background-color: #E8F0FE;\n",
              "      border: none;\n",
              "      border-radius: 50%;\n",
              "      cursor: pointer;\n",
              "      display: none;\n",
              "      fill: #1967D2;\n",
              "      height: 32px;\n",
              "      padding: 0 0 0 0;\n",
              "      width: 32px;\n",
              "    }\n",
              "\n",
              "    .colab-df-convert:hover {\n",
              "      background-color: #E2EBFA;\n",
              "      box-shadow: 0px 1px 2px rgba(60, 64, 67, 0.3), 0px 1px 3px 1px rgba(60, 64, 67, 0.15);\n",
              "      fill: #174EA6;\n",
              "    }\n",
              "\n",
              "    .colab-df-buttons div {\n",
              "      margin-bottom: 4px;\n",
              "    }\n",
              "\n",
              "    [theme=dark] .colab-df-convert {\n",
              "      background-color: #3B4455;\n",
              "      fill: #D2E3FC;\n",
              "    }\n",
              "\n",
              "    [theme=dark] .colab-df-convert:hover {\n",
              "      background-color: #434B5C;\n",
              "      box-shadow: 0px 1px 3px 1px rgba(0, 0, 0, 0.15);\n",
              "      filter: drop-shadow(0px 1px 2px rgba(0, 0, 0, 0.3));\n",
              "      fill: #FFFFFF;\n",
              "    }\n",
              "  </style>\n",
              "\n",
              "    <script>\n",
              "      const buttonEl =\n",
              "        document.querySelector('#df-3b1154e7-333c-4588-a979-b00ce06bb794 button.colab-df-convert');\n",
              "      buttonEl.style.display =\n",
              "        google.colab.kernel.accessAllowed ? 'block' : 'none';\n",
              "\n",
              "      async function convertToInteractive(key) {\n",
              "        const element = document.querySelector('#df-3b1154e7-333c-4588-a979-b00ce06bb794');\n",
              "        const dataTable =\n",
              "          await google.colab.kernel.invokeFunction('convertToInteractive',\n",
              "                                                    [key], {});\n",
              "        if (!dataTable) return;\n",
              "\n",
              "        const docLinkHtml = 'Like what you see? Visit the ' +\n",
              "          '<a target=\"_blank\" href=https://colab.research.google.com/notebooks/data_table.ipynb>data table notebook</a>'\n",
              "          + ' to learn more about interactive tables.';\n",
              "        element.innerHTML = '';\n",
              "        dataTable['output_type'] = 'display_data';\n",
              "        await google.colab.output.renderOutput(dataTable, element);\n",
              "        const docLink = document.createElement('div');\n",
              "        docLink.innerHTML = docLinkHtml;\n",
              "        element.appendChild(docLink);\n",
              "      }\n",
              "    </script>\n",
              "  </div>\n",
              "\n",
              "\n",
              "<div id=\"df-91cc8c68-82fe-4f17-b30a-8c273aa1714d\">\n",
              "  <button class=\"colab-df-quickchart\" onclick=\"quickchart('df-91cc8c68-82fe-4f17-b30a-8c273aa1714d')\"\n",
              "            title=\"Suggest charts\"\n",
              "            style=\"display:none;\">\n",
              "\n",
              "<svg xmlns=\"http://www.w3.org/2000/svg\" height=\"24px\"viewBox=\"0 0 24 24\"\n",
              "     width=\"24px\">\n",
              "    <g>\n",
              "        <path d=\"M19 3H5c-1.1 0-2 .9-2 2v14c0 1.1.9 2 2 2h14c1.1 0 2-.9 2-2V5c0-1.1-.9-2-2-2zM9 17H7v-7h2v7zm4 0h-2V7h2v10zm4 0h-2v-4h2v4z\"/>\n",
              "    </g>\n",
              "</svg>\n",
              "  </button>\n",
              "\n",
              "<style>\n",
              "  .colab-df-quickchart {\n",
              "      --bg-color: #E8F0FE;\n",
              "      --fill-color: #1967D2;\n",
              "      --hover-bg-color: #E2EBFA;\n",
              "      --hover-fill-color: #174EA6;\n",
              "      --disabled-fill-color: #AAA;\n",
              "      --disabled-bg-color: #DDD;\n",
              "  }\n",
              "\n",
              "  [theme=dark] .colab-df-quickchart {\n",
              "      --bg-color: #3B4455;\n",
              "      --fill-color: #D2E3FC;\n",
              "      --hover-bg-color: #434B5C;\n",
              "      --hover-fill-color: #FFFFFF;\n",
              "      --disabled-bg-color: #3B4455;\n",
              "      --disabled-fill-color: #666;\n",
              "  }\n",
              "\n",
              "  .colab-df-quickchart {\n",
              "    background-color: var(--bg-color);\n",
              "    border: none;\n",
              "    border-radius: 50%;\n",
              "    cursor: pointer;\n",
              "    display: none;\n",
              "    fill: var(--fill-color);\n",
              "    height: 32px;\n",
              "    padding: 0;\n",
              "    width: 32px;\n",
              "  }\n",
              "\n",
              "  .colab-df-quickchart:hover {\n",
              "    background-color: var(--hover-bg-color);\n",
              "    box-shadow: 0 1px 2px rgba(60, 64, 67, 0.3), 0 1px 3px 1px rgba(60, 64, 67, 0.15);\n",
              "    fill: var(--button-hover-fill-color);\n",
              "  }\n",
              "\n",
              "  .colab-df-quickchart-complete:disabled,\n",
              "  .colab-df-quickchart-complete:disabled:hover {\n",
              "    background-color: var(--disabled-bg-color);\n",
              "    fill: var(--disabled-fill-color);\n",
              "    box-shadow: none;\n",
              "  }\n",
              "\n",
              "  .colab-df-spinner {\n",
              "    border: 2px solid var(--fill-color);\n",
              "    border-color: transparent;\n",
              "    border-bottom-color: var(--fill-color);\n",
              "    animation:\n",
              "      spin 1s steps(1) infinite;\n",
              "  }\n",
              "\n",
              "  @keyframes spin {\n",
              "    0% {\n",
              "      border-color: transparent;\n",
              "      border-bottom-color: var(--fill-color);\n",
              "      border-left-color: var(--fill-color);\n",
              "    }\n",
              "    20% {\n",
              "      border-color: transparent;\n",
              "      border-left-color: var(--fill-color);\n",
              "      border-top-color: var(--fill-color);\n",
              "    }\n",
              "    30% {\n",
              "      border-color: transparent;\n",
              "      border-left-color: var(--fill-color);\n",
              "      border-top-color: var(--fill-color);\n",
              "      border-right-color: var(--fill-color);\n",
              "    }\n",
              "    40% {\n",
              "      border-color: transparent;\n",
              "      border-right-color: var(--fill-color);\n",
              "      border-top-color: var(--fill-color);\n",
              "    }\n",
              "    60% {\n",
              "      border-color: transparent;\n",
              "      border-right-color: var(--fill-color);\n",
              "    }\n",
              "    80% {\n",
              "      border-color: transparent;\n",
              "      border-right-color: var(--fill-color);\n",
              "      border-bottom-color: var(--fill-color);\n",
              "    }\n",
              "    90% {\n",
              "      border-color: transparent;\n",
              "      border-bottom-color: var(--fill-color);\n",
              "    }\n",
              "  }\n",
              "</style>\n",
              "\n",
              "  <script>\n",
              "    async function quickchart(key) {\n",
              "      const quickchartButtonEl =\n",
              "        document.querySelector('#' + key + ' button');\n",
              "      quickchartButtonEl.disabled = true;  // To prevent multiple clicks.\n",
              "      quickchartButtonEl.classList.add('colab-df-spinner');\n",
              "      try {\n",
              "        const charts = await google.colab.kernel.invokeFunction(\n",
              "            'suggestCharts', [key], {});\n",
              "      } catch (error) {\n",
              "        console.error('Error during call to suggestCharts:', error);\n",
              "      }\n",
              "      quickchartButtonEl.classList.remove('colab-df-spinner');\n",
              "      quickchartButtonEl.classList.add('colab-df-quickchart-complete');\n",
              "    }\n",
              "    (() => {\n",
              "      let quickchartButtonEl =\n",
              "        document.querySelector('#df-91cc8c68-82fe-4f17-b30a-8c273aa1714d button');\n",
              "      quickchartButtonEl.style.display =\n",
              "        google.colab.kernel.accessAllowed ? 'block' : 'none';\n",
              "    })();\n",
              "  </script>\n",
              "</div>\n",
              "    </div>\n",
              "  </div>\n"
            ],
            "application/vnd.google.colaboratory.intrinsic+json": {
              "type": "dataframe",
              "summary": "{\n  \"name\": \"pd\",\n  \"rows\": 36,\n  \"fields\": [\n    {\n      \"column\": \"DEGREE\",\n      \"properties\": {\n        \"dtype\": \"number\",\n        \"std\": 1,\n        \"min\": 1,\n        \"max\": 8,\n        \"num_unique_values\": 7,\n        \"samples\": [\n          8,\n          6,\n          2\n        ],\n        \"semantic_type\": \"\",\n        \"description\": \"\"\n      }\n    },\n    {\n      \"column\": \"CLOSENESS\",\n      \"properties\": {\n        \"dtype\": \"number\",\n        \"std\": 0.0524054162387639,\n        \"min\": 0.1674641148325359,\n        \"max\": 0.3723404255319149,\n        \"num_unique_values\": 26,\n        \"samples\": [\n          0.30701754385964913,\n          0.2845528455284553,\n          0.3723404255319149\n        ],\n        \"semantic_type\": \"\",\n        \"description\": \"\"\n      }\n    },\n    {\n      \"column\": \"HARMONIC_CENTRALITY\",\n      \"properties\": {\n        \"dtype\": \"number\",\n        \"std\": 2.1846902822290577,\n        \"min\": 1.2145209290671972,\n        \"max\": 9.899952528750534,\n        \"num_unique_values\": 36,\n        \"samples\": [\n          1.2145209290671972,\n          9.899952528750534,\n          5.492363025020888\n        ],\n        \"semantic_type\": \"\",\n        \"description\": \"\"\n      }\n    },\n    {\n      \"column\": \"BETWEENESS\",\n      \"properties\": {\n        \"dtype\": \"number\",\n        \"std\": 0.06013981328418189,\n        \"min\": 0.0,\n        \"max\": 0.2625961153692246,\n        \"num_unique_values\": 35,\n        \"samples\": [\n          0.03994177158042705,\n          0.08308082207241871,\n          0.03894850247791424\n        ],\n        \"semantic_type\": \"\",\n        \"description\": \"\"\n      }\n    }\n  ]\n}"
            }
          },
          "metadata": {},
          "execution_count": 25
        }
      ]
    },
    {
      "cell_type": "markdown",
      "metadata": {
        "id": "VwrG-oUgHO7o"
      },
      "source": [
        "## Densidad del grafo\n",
        "\n",
        "La medida de densidad muestra la relación entre el número de aristas y nodos, en este caso al ser un grafo no dirigido. La densidad del grafo $G$ expresada como $d(G)$ se calcula como:\n",
        "\n",
        "$$\n",
        "d(G) = \\frac{2m}{n(n - 1)}\n",
        "$$\n",
        "\n",
        "Donde $n$ es el número de nodos y $m$ es el número de aristas en el grafo $G$\n",
        "\n",
        "[Referencia](https://networkx.org/documentation/stable/reference/generated/networkx.classes.function.density.html?highlight=density#networkx.classes.function.density)"
      ]
    },
    {
      "cell_type": "code",
      "metadata": {
        "id": "-yrruNMuTk4S",
        "colab": {
          "base_uri": "https://localhost:8080/"
        },
        "outputId": "e93601e4-a1a8-4c26-c161-8cd20224c3aa"
      },
      "source": [
        "density = nx.density(G)\n",
        "\n",
        "print('La densidad de aristas (edge density) es: ' + str(density))"
      ],
      "execution_count": null,
      "outputs": [
        {
          "output_type": "stream",
          "name": "stdout",
          "text": [
            "La densidad de aristas (edge density) es: 0.10158730158730159\n"
          ]
        }
      ]
    },
    {
      "cell_type": "markdown",
      "metadata": {
        "id": "RfAR1-3iHIVq"
      },
      "source": [
        "# Identificación de comunidades\n",
        "\n",
        "¿Cómo se organizan las paradas de metro en base a su conectividad?, recordamos su definición:\n",
        "\n",
        "* Un nodo u está conectado a un nodo v si existe un camino que los una\n",
        "* Un grafo está conectado si todos para cada nodo u existe un nodo v (u distinto de v) con el que esté conectado\n",
        "* Un grafo está fuertemente conectado si y solamente si cualquier nodo del grafo está conectado con cualquier otro nodo del grafo\n",
        "\n",
        "[Referencia](https://networkx.org/documentation/stable/reference/algorithms/generated/networkx.algorithms.connectivity.connectivity.average_node_connectivity.html?highlight=average_node_connectivity#networkx.algorithms.connectivity.connectivity.average_node_connectivity)\n"
      ]
    },
    {
      "cell_type": "markdown",
      "metadata": {
        "id": "g_4XjmTXmu4z"
      },
      "source": [
        "## Nivel de conectividad del grafo\n",
        "\n",
        "Comenzamos calculando el nivel de conectividad de todo el grafo."
      ]
    },
    {
      "cell_type": "code",
      "metadata": {
        "id": "tIb8VHuIXETg",
        "colab": {
          "base_uri": "https://localhost:8080/"
        },
        "outputId": "ec055881-ee42-4951-c92d-48ef6785fe4f"
      },
      "source": [
        "nx_algos.connectivity.average_node_connectivity(G)"
      ],
      "execution_count": null,
      "outputs": [
        {
          "output_type": "execute_result",
          "data": {
            "text/plain": [
              "2.6126984126984127"
            ]
          },
          "metadata": {},
          "execution_count": 27
        }
      ]
    },
    {
      "cell_type": "markdown",
      "metadata": {
        "id": "tAz0SzmLmgzF"
      },
      "source": [
        "**pregunta** viendo el grafo, ¿podemos decir que $G$ es un grafo **fuertemente conectado**?"
      ]
    },
    {
      "cell_type": "markdown",
      "metadata": {
        "id": "h3XIv8JCYjQt"
      },
      "source": [
        "## Detección de comunidades de paradas en la red de metro\n",
        "\n",
        "Se dice que una red (o un subgrafo) tiene una estructura de comunidad, si los nodos de la red se pueden agrupar fácilmente en conjuntos de nodos con una alta densidad de conexión intragrupo.\n",
        "De forma general se puede decir que es más probable que dos nodos estén conectados si pertenecen a las mismas comunidades, y por consiguiente aquellos nodos que no comparten comunidades será más improbable que estén conectados.\n",
        "\n",
        "En nuestro caso calculamos las comunidades con el algoritmo más sencillo, el propuesto por [Clauset-Newman-Moore](https://networkx.org/documentation/stable/reference/algorithms/generated/networkx.algorithms.community.modularity_max.greedy_modularity_communities.html?highlight=greedy_modularity_communities#networkx.algorithms.community.modularity_max.greedy_modularity_communities).**texto en negrita**"
      ]
    },
    {
      "cell_type": "code",
      "metadata": {
        "id": "OHoRqMcLD1x-",
        "colab": {
          "base_uri": "https://localhost:8080/"
        },
        "outputId": "71a8b6ab-3cb0-4e6d-99b5-aea931eb946c"
      },
      "source": [
        "from networkx.algorithms.community.modularity_max import greedy_modularity_communities\n",
        "\n",
        "#\n",
        "# Detectamos las comunidades\n",
        "#\n",
        "communities = greedy_modularity_communities(G)\n",
        "c = list(communities)\n",
        "\n",
        "# Mostramos el número de comunidades detectadas\n",
        "print(len(c))"
      ],
      "execution_count": null,
      "outputs": [
        {
          "output_type": "stream",
          "name": "stdout",
          "text": [
            "5\n"
          ]
        }
      ]
    },
    {
      "cell_type": "code",
      "metadata": {
        "id": "UPJDiJmpEZLt",
        "colab": {
          "base_uri": "https://localhost:8080/"
        },
        "outputId": "0515c095-3423-40ef-a244-9067c9afa05a"
      },
      "source": [
        "# Vemos cada uno de los clusters\n",
        "community_0 = sorted(c[0])\n",
        "community_1 = sorted(c[1])\n",
        "community_2 = sorted(c[2])\n",
        "community_3 = sorted(c[3])\n",
        "community_4 = sorted(c[4])\n",
        "\n",
        "print(community_0)\n",
        "print(community_1)\n",
        "print(community_2)\n",
        "print(community_3)\n",
        "print(community_4)"
      ],
      "execution_count": null,
      "outputs": [
        {
          "output_type": "stream",
          "name": "stdout",
          "text": [
            "['Av. de America', 'Canal', 'Colombia', 'Cuatro Caminos', 'Gregorio Maranon', 'Guzman el Bueno', 'Mar de Cristal', 'Moncloa', 'Nuevos Ministerios', 'Plaza de Castilla']\n",
            "['Callao', 'Legazpi', 'Opera', 'Oporto', 'Pacifico', 'Plaza Eliptica', 'Principe de Vergara', 'Sainz de Baranda', 'Sol']\n",
            "['Alonso Martinez', 'Bilbao', 'Goya', 'Manuel Becerra', 'Pueblo Nuevo', 'San Bernardo', 'Tribunal', 'Ventas']\n",
            "['Arguelles', 'Casa de Campo', 'Colonia Jardin', 'Plaza de Espana', 'Principe Pio', 'Puerta del Sur']\n",
            "['Chamartin', 'Las Tablas', 'Pinar de Chamartin']\n"
          ]
        }
      ]
    },
    {
      "cell_type": "code",
      "metadata": {
        "id": "imhPaWQKEnsB",
        "colab": {
          "base_uri": "https://localhost:8080/",
          "height": 422
        },
        "outputId": "b0edab0e-6559-49a8-ff6a-84f65fee9654"
      },
      "source": [
        "#\n",
        "# Dibujamos cada comunidad con un color distinto\n",
        "#\n",
        "nx.draw_networkx_nodes(G,G.position, nodelist=community_0, node_color='green', alpha=0.5, node_size=200)\n",
        "nx.draw_networkx_nodes(G,G.position, nodelist=community_1, node_color='red', alpha=0.5, node_size=200)\n",
        "nx.draw_networkx_nodes(G,G.position, nodelist=community_2, node_color='blue', alpha=0.5, node_size=200)\n",
        "nx.draw_networkx_nodes(G,G.position, nodelist=community_3, node_color='yellow', alpha=0.5, node_size=200)\n",
        "nx.draw_networkx_nodes(G,G.position, nodelist=community_4, node_color='pink', alpha=0.5, node_size=200)\n",
        "\n",
        "\n",
        "nx.draw_networkx_edges(G,G.position,  style='dashed', width = 0.2)\n",
        "\n",
        "nx.draw_networkx_labels(G, G.position, font_size=9)\n",
        "\n",
        "plt.rcParams[\"figure.figsize\"] = (20,15)\n",
        "plt.show()"
      ],
      "execution_count": null,
      "outputs": [
        {
          "output_type": "display_data",
          "data": {
            "text/plain": [
              "<Figure size 1000x500 with 1 Axes>"
            ],
            "image/png": "[encoded data removed]"
          },
          "metadata": {}
        }
      ]
    },
    {
      "cell_type": "markdown",
      "metadata": {
        "id": "H7R7NKA8m4bL"
      },
      "source": [
        "## Conectividad de las comunidades\n",
        "\n",
        "Habíamos calculado la conectividad general del grafo, ¿pero qué podemos esperar de la conectividad de las comunidades?"
      ]
    },
    {
      "cell_type": "code",
      "metadata": {
        "id": "MN5ctmbSm7hQ",
        "colab": {
          "base_uri": "https://localhost:8080/"
        },
        "outputId": "563ca974-f62e-4cce-c7b3-241d906e343b"
      },
      "source": [
        "print('Connectivity del grafo G ', nx_algos.connectivity.average_node_connectivity(G))\n",
        "for i in range(0, len(c)):\n",
        "  x = G.subgraph(nodes = list(c[i]))\n",
        "  connectivity = nx_algos.connectivity.average_node_connectivity(x)\n",
        "  print('Connectivity comunidad [', i,']', connectivity)"
      ],
      "execution_count": null,
      "outputs": [
        {
          "output_type": "stream",
          "name": "stdout",
          "text": [
            "Connectivity del grafo G  2.6126984126984127\n",
            "Connectivity comunidad [ 0 ] 2.1777777777777776\n",
            "Connectivity comunidad [ 1 ] 2.0833333333333335\n",
            "Connectivity comunidad [ 2 ] 1.3214285714285714\n",
            "Connectivity comunidad [ 3 ] 1.2\n",
            "Connectivity comunidad [ 4 ] 2.0\n"
          ]
        }
      ]
    },
    {
      "cell_type": "markdown",
      "metadata": {
        "id": "bo6MhU2GZ1QQ"
      },
      "source": [
        "## Puentes\n",
        "\n",
        "Un puente en un grafo es una arista cuya eliminación causa un impacto en la conectividad de la red (el número de nodos conectados). Lógicamente un puente será una arista que no pertenezca a un ciclo.\n",
        "\n"
      ]
    },
    {
      "cell_type": "markdown",
      "metadata": {
        "id": "LtmsLU4xq5eI"
      },
      "source": [
        "**pregunta** viendo la forma de la red ¿qué tramos serán puentes en el grafo?"
      ]
    },
    {
      "cell_type": "code",
      "metadata": {
        "id": "RHb9HOPkrO6G",
        "colab": {
          "base_uri": "https://localhost:8080/",
          "height": 341
        },
        "outputId": "f57c5b94-689f-48b8-8634-7bb19996b8d3"
      },
      "source": [
        "draw_options_small = {\"font_size\": 0, \"node_size\": 50, \"edgecolors\": \"grey\", \"linewidths\": 0.2, \"width\": 1}\n",
        "figure(figsize=(5, 5), dpi=80)\n",
        "# Mostramos el grafo\n",
        "nx.draw_networkx(G,\n",
        "                 pos=G.position,\n",
        "                 with_labels=False,\n",
        "                 **draw_options_small)\n",
        "plt.show()"
      ],
      "execution_count": null,
      "outputs": [
        {
          "output_type": "display_data",
          "data": {
            "text/plain": [
              "<Figure size 400x400 with 1 Axes>"
            ],
            "image/png": "[encoded data removed]"
          },
          "metadata": {}
        }
      ]
    },
    {
      "cell_type": "code",
      "metadata": {
        "id": "Sz94qusZcF4y"
      },
      "source": [
        "#\n",
        "# Confirmamos o no nuestras sospechas\n",
        "#\n",
        "list(nx_algos.bridges(G))\n",
        "bridges = nx_algos.bridges(G)"
      ],
      "execution_count": null,
      "outputs": []
    },
    {
      "cell_type": "code",
      "metadata": {
        "id": "xYnLG1XRa5pK"
      },
      "source": [
        "edge_color = list()\n",
        "for edge in G.edges(data=True):\n",
        "    color = 'r'\n",
        "    if edge in bridges:\n",
        "        color = 'g'\n",
        "    edge_color.append(color)\n"
      ],
      "execution_count": null,
      "outputs": []
    },
    {
      "cell_type": "markdown",
      "metadata": {
        "id": "3UNBcnlufmkU"
      },
      "source": [
        "Marcamos los puentes en **rojo**"
      ]
    },
    {
      "cell_type": "code",
      "metadata": {
        "id": "lvr3dbLbaRWz",
        "colab": {
          "base_uri": "https://localhost:8080/",
          "height": 977
        },
        "outputId": "190bc1cf-55ad-420c-a48e-7eaa6ce0ff77"
      },
      "source": [
        "# Mostramos el grafo señalando los puentes\n",
        "nx.draw_networkx_nodes(G,G.position, nodelist=list(G.nodes), node_color='green', alpha=0.5, node_size=30)\n",
        "#nx.draw_networkx_nodes(G,G.position, nodelist = list(G.nodes), node_color='white')\n",
        "nx.draw_networkx_edges(G,G.position, style='dashed',width = 1)\n",
        "nx.draw_networkx_edges(G,G.position, edgelist = list(nx_algos.bridges(G)), edge_color='r', style='dashed',width = 2)\n",
        "\n",
        "plt.rcParams[\"figure.figsize\"] = (7,7)\n",
        "plt.show()\n",
        "# Establecer márgenes para los ejes para que los nodos no se corten"
      ],
      "execution_count": null,
      "outputs": [
        {
          "output_type": "display_data",
          "data": {
            "text/plain": [
              "<Figure size 2000x1500 with 1 Axes>"
            ],
            "image/png": "[encoded data removed]"
          },
          "metadata": {}
        }
      ]
    },
    {
      "cell_type": "markdown",
      "metadata": {
        "id": "adp2l0mcrwv9"
      },
      "source": [
        "**pregunta** ¿hemos confirmado nuestras sospechas?"
      ]
    },
    {
      "cell_type": "markdown",
      "metadata": {
        "id": "ds51iOx9XCp-"
      },
      "source": [
        "## Recorridos del grafo\n",
        "\n",
        "[Funciones de recorrido del grafo](https://networkx.org/documentation/stable/reference/algorithms/traversal.html)"
      ]
    },
    {
      "cell_type": "markdown",
      "metadata": {
        "id": "vKJ7cf1Xux-U"
      },
      "source": [
        "### Recorrido en profundidad\n",
        "\n",
        "<img src=\"https://upload.wikimedia.org/wikipedia/commons/thumb/1/1f/Depth-first-tree.svg/375px-Depth-first-tree.svg.png\" width=\"200\"></img>\n",
        "\n",
        "\n",
        "Vamos calcular los trayectos a 3 paradas de la estación de Sol"
      ]
    },
    {
      "cell_type": "code",
      "metadata": {
        "id": "meLnMj0vvyP9",
        "colab": {
          "base_uri": "https://localhost:8080/"
        },
        "outputId": "53f970e1-4aa3-4365-8029-d9fbef20ba18"
      },
      "source": [
        "depth_limit=3\n",
        "e = nx_algos.traversal.depth_first_search.dfs_edges(G, source='Sol', depth_limit=depth_limit)\n",
        "list(e)"
      ],
      "execution_count": null,
      "outputs": [
        {
          "output_type": "execute_result",
          "data": {
            "text/plain": [
              "[('Sol', 'Tribunal'),\n",
              " ('Tribunal', 'Plaza de Espana'),\n",
              " ('Plaza de Espana', 'Arguelles'),\n",
              " ('Plaza de Espana', 'Principe Pio'),\n",
              " ('Tribunal', 'Bilbao'),\n",
              " ('Bilbao', 'Cuatro Caminos'),\n",
              " ('Bilbao', 'San Bernardo'),\n",
              " ('Bilbao', 'Alonso Martinez'),\n",
              " ('Sol', 'Callao'),\n",
              " ('Callao', 'Opera'),\n",
              " ('Opera', 'Oporto'),\n",
              " ('Sol', 'Legazpi'),\n",
              " ('Legazpi', 'Plaza Eliptica'),\n",
              " ('Legazpi', 'Pacifico'),\n",
              " ('Pacifico', 'Sainz de Baranda'),\n",
              " ('Sol', 'Principe de Vergara'),\n",
              " ('Principe de Vergara', 'Av. de America'),\n",
              " ('Av. de America', 'Gregorio Maranon'),\n",
              " ('Av. de America', 'Goya'),\n",
              " ('Av. de America', 'Manuel Becerra'),\n",
              " ('Av. de America', 'Pueblo Nuevo'),\n",
              " ('Av. de America', 'Colombia'),\n",
              " ('Av. de America', 'Mar de Cristal')]"
            ]
          },
          "metadata": {},
          "execution_count": 36
        }
      ]
    },
    {
      "cell_type": "code",
      "metadata": {
        "id": "BDrySeU60O1Y",
        "colab": {
          "base_uri": "https://localhost:8080/"
        },
        "outputId": "abc4cb3e-c86e-437a-8a39-de8d5e20c96d"
      },
      "source": [
        "#\n",
        "# El método tree nos devuelve los nodos del recorrido\n",
        "#\n",
        "n = nx_algos.traversal.depth_first_search.dfs_tree(G, source='Sol', depth_limit=depth_limit)\n",
        "list(n)"
      ],
      "execution_count": null,
      "outputs": [
        {
          "output_type": "execute_result",
          "data": {
            "text/plain": [
              "['Sol',\n",
              " 'Tribunal',\n",
              " 'Plaza de Espana',\n",
              " 'Arguelles',\n",
              " 'Principe Pio',\n",
              " 'Bilbao',\n",
              " 'Cuatro Caminos',\n",
              " 'San Bernardo',\n",
              " 'Alonso Martinez',\n",
              " 'Callao',\n",
              " 'Opera',\n",
              " 'Oporto',\n",
              " 'Legazpi',\n",
              " 'Plaza Eliptica',\n",
              " 'Pacifico',\n",
              " 'Sainz de Baranda',\n",
              " 'Principe de Vergara',\n",
              " 'Av. de America',\n",
              " 'Gregorio Maranon',\n",
              " 'Goya',\n",
              " 'Manuel Becerra',\n",
              " 'Pueblo Nuevo',\n",
              " 'Colombia',\n",
              " 'Mar de Cristal']"
            ]
          },
          "metadata": {},
          "execution_count": 37
        }
      ]
    },
    {
      "cell_type": "code",
      "metadata": {
        "id": "nAnsMEnq0WUi",
        "colab": {
          "base_uri": "https://localhost:8080/",
          "height": 357
        },
        "outputId": "d50fe340-9802-4777-97a9-69d6ada48265"
      },
      "source": [
        "draw_options_small = {\"font_size\": 0, \"node_size\": 50, \"edgecolors\": \"grey\", \"linewidths\": 0.2, \"width\": 1}\n",
        "figure(figsize=(5, 5), dpi=80)\n",
        "#\n",
        "# Mostramos el grafo Sol en color rojo\n",
        "#  en verde todas las paradas a un alcance 2\n",
        "#\n",
        "nx.draw_networkx_nodes(G,G.position, node_color='grey', alpha=0.5, node_size=25)\n",
        "nx.draw_networkx_nodes(G,G.position, nodelist=n, node_color='green', alpha=0.5, node_size=30)\n",
        "nx.draw_networkx_nodes(G,G.position, nodelist=['Sol'], node_color='red', alpha=0.5, node_size=40)\n",
        "nx.draw_networkx_edges(G,G.position, style='dashed',width = 1)\n",
        "plt.title('Recorrido en profundidad desde Sol - Profundidad ' + str(depth_limit))\n",
        "plt.show()"
      ],
      "execution_count": null,
      "outputs": [
        {
          "output_type": "display_data",
          "data": {
            "text/plain": [
              "<Figure size 400x400 with 1 Axes>"
            ],
            "image/png": "[encoded data removed]"
          },
          "metadata": {}
        }
      ]
    },
    {
      "cell_type": "markdown",
      "metadata": {
        "id": "ZiQvVI0gx268"
      },
      "source": [
        "### Recorrido en anchura\n",
        "\n",
        "\n",
        "<img src=\"https://upload.wikimedia.org/wikipedia/commons/thumb/3/33/Breadth-first-tree.svg/375px-Breadth-first-tree.svg.png\" width=\"200\"></img>\n",
        "\n",
        "Replicamos el proceso anterior esta vez usando el recorrido anchura desde la estación de **Sol**.\n",
        "\n",
        "[Referencia](https://networkx.org/documentation/stable/reference/algorithms/generated/networkx.algorithms.traversal.breadth_first_search.bfs_edges.html#networkx.algorithms.traversal.breadth_first_search.bfs_edges)"
      ]
    },
    {
      "cell_type": "code",
      "metadata": {
        "id": "e5ZFWt9eyvY-",
        "colab": {
          "base_uri": "https://localhost:8080/"
        },
        "outputId": "780d9967-1393-4f5e-ac65-df3c9c541065"
      },
      "source": [
        "depth_limit=3\n",
        "e = nx_algos.traversal.breadth_first_search.bfs_edges(G, source='Sol', depth_limit=depth_limit)\n",
        "list(e)"
      ],
      "execution_count": null,
      "outputs": [
        {
          "output_type": "execute_result",
          "data": {
            "text/plain": [
              "[('Sol', 'Tribunal'),\n",
              " ('Sol', 'Callao'),\n",
              " ('Sol', 'Opera'),\n",
              " ('Sol', 'Legazpi'),\n",
              " ('Sol', 'Pacifico'),\n",
              " ('Sol', 'Principe de Vergara'),\n",
              " ('Tribunal', 'Plaza de Espana'),\n",
              " ('Tribunal', 'Bilbao'),\n",
              " ('Tribunal', 'Alonso Martinez'),\n",
              " ('Opera', 'San Bernardo'),\n",
              " ('Opera', 'Oporto'),\n",
              " ('Legazpi', 'Plaza Eliptica'),\n",
              " ('Pacifico', 'Sainz de Baranda'),\n",
              " ('Principe de Vergara', 'Av. de America'),\n",
              " ('Principe de Vergara', 'Goya'),\n",
              " ('Plaza de Espana', 'Arguelles'),\n",
              " ('Plaza de Espana', 'Principe Pio'),\n",
              " ('Bilbao', 'Cuatro Caminos'),\n",
              " ('Alonso Martinez', 'Gregorio Maranon'),\n",
              " ('Alonso Martinez', 'Ventas'),\n",
              " ('San Bernardo', 'Canal'),\n",
              " ('Oporto', 'Casa de Campo'),\n",
              " ('Sainz de Baranda', 'Manuel Becerra'),\n",
              " ('Av. de America', 'Pueblo Nuevo'),\n",
              " ('Av. de America', 'Colombia'),\n",
              " ('Av. de America', 'Mar de Cristal')]"
            ]
          },
          "metadata": {},
          "execution_count": 39
        }
      ]
    },
    {
      "cell_type": "code",
      "metadata": {
        "id": "5bLvMYlUyVs1",
        "colab": {
          "base_uri": "https://localhost:8080/"
        },
        "outputId": "9b673ad3-79be-464a-c70b-a97e4859d686"
      },
      "source": [
        "#\n",
        "# El método tree nos devuelve los nodos del recorrido\n",
        "#\n",
        "n = nx_algos.traversal.breadth_first_search.bfs_tree(G, source='Sol', depth_limit=depth_limit)\n",
        "list(n)"
      ],
      "execution_count": null,
      "outputs": [
        {
          "output_type": "execute_result",
          "data": {
            "text/plain": [
              "['Sol',\n",
              " 'Tribunal',\n",
              " 'Callao',\n",
              " 'Opera',\n",
              " 'Legazpi',\n",
              " 'Pacifico',\n",
              " 'Principe de Vergara',\n",
              " 'Plaza de Espana',\n",
              " 'Bilbao',\n",
              " 'Alonso Martinez',\n",
              " 'San Bernardo',\n",
              " 'Oporto',\n",
              " 'Plaza Eliptica',\n",
              " 'Sainz de Baranda',\n",
              " 'Av. de America',\n",
              " 'Goya',\n",
              " 'Arguelles',\n",
              " 'Principe Pio',\n",
              " 'Cuatro Caminos',\n",
              " 'Gregorio Maranon',\n",
              " 'Ventas',\n",
              " 'Canal',\n",
              " 'Casa de Campo',\n",
              " 'Manuel Becerra',\n",
              " 'Pueblo Nuevo',\n",
              " 'Colombia',\n",
              " 'Mar de Cristal']"
            ]
          },
          "metadata": {},
          "execution_count": 40
        }
      ]
    },
    {
      "cell_type": "markdown",
      "metadata": {
        "id": "OutGDePyzBkF"
      },
      "source": [
        "Mostramos el resultado del recorrido"
      ]
    },
    {
      "cell_type": "code",
      "metadata": {
        "id": "3SXWzUanzBpb",
        "colab": {
          "base_uri": "https://localhost:8080/",
          "height": 357
        },
        "outputId": "6ad23726-99b0-49b0-c2f6-190e8b780437"
      },
      "source": [
        "draw_options_small = {\"font_size\": 0, \"node_size\": 50, \"edgecolors\": \"grey\", \"linewidths\": 0.2, \"width\": 1}\n",
        "figure(figsize=(5, 5), dpi=80)\n",
        "#\n",
        "# Mostramos el grafo Sol en color rojo\n",
        "#  en verde todas las paradas a un alcance 2\n",
        "#\n",
        "nx.draw_networkx_nodes(G,G.position, node_color='grey', alpha=0.5, node_size=25)\n",
        "nx.draw_networkx_nodes(G,G.position, nodelist=n, node_color='green', alpha=0.5, node_size=30)\n",
        "nx.draw_networkx_nodes(G,G.position, nodelist=['Sol'], node_color='red', alpha=0.5, node_size=40)\n",
        "nx.draw_networkx_edges(G,G.position, style='dashed',width = 1)\n",
        "plt.title('Recorrido en anchura desde Sol - Profundidad ' + str(depth_limit))\n",
        "plt.show()"
      ],
      "execution_count": null,
      "outputs": [
        {
          "output_type": "display_data",
          "data": {
            "text/plain": [
              "<Figure size 400x400 with 1 Axes>"
            ],
            "image/png": "[encoded data removed]"
          },
          "metadata": {}
        }
      ]
    },
    {
      "cell_type": "markdown",
      "metadata": {
        "id": "No82RVl3047K"
      },
      "source": [
        "**pregunta** ¿los resultados son iguales?"
      ]
    },
    {
      "cell_type": "markdown",
      "metadata": {
        "id": "EaEj7kmz1Ixt"
      },
      "source": [
        "## Caminos entre dos nodos\n"
      ]
    },
    {
      "cell_type": "markdown",
      "metadata": {
        "id": "lGhZm_Ed2sbN"
      },
      "source": [
        "### Caminos simples\n",
        "\n",
        "Acabamos de llegar en autobús al intercambiador de Moncloa, ¿cómo podría llegar a Legazpi?\n"
      ]
    },
    {
      "cell_type": "code",
      "metadata": {
        "id": "6DIZHHgf2nWk",
        "colab": {
          "base_uri": "https://localhost:8080/"
        },
        "outputId": "e904a7f4-ed80-47ed-f33b-0943ac8b28b6"
      },
      "source": [
        "possible_paths = nx_algos.simple_paths.all_simple_paths(G, source='Moncloa', target='Legazpi')\n",
        "l_possible_paths = list(possible_paths)\n",
        "print('Encontradas ', len(l_possible_paths), ' rutas distintas')"
      ],
      "execution_count": null,
      "outputs": [
        {
          "output_type": "stream",
          "name": "stdout",
          "text": [
            "Encontradas  1113358  rutas distintas\n"
          ]
        }
      ]
    },
    {
      "cell_type": "markdown",
      "metadata": {
        "id": "krsiYmVv3jUU"
      },
      "source": [
        "Parece que son unas cuantas, y es aquí donde aparece la complejidad de los problemas que trabajan con redes, y en las que la **fuerza bruta** no es la mejor de las opciones.\n",
        "\n",
        "Así que en este caso limitamos los caminos con una longitud mayor a 5 parada (podríamos quitar esta condición para ver cómo cambia el número de opciones)"
      ]
    },
    {
      "cell_type": "code",
      "metadata": {
        "id": "qAyjwnDs3k2V",
        "colab": {
          "base_uri": "https://localhost:8080/"
        },
        "outputId": "2cc46c4e-87af-4694-8cca-fe808ac98594"
      },
      "source": [
        "possible_paths = nx_algos.simple_paths.all_simple_paths(G, source='Moncloa', target='Legazpi',  cutoff=5)\n",
        "l_possible_paths = list(possible_paths)\n",
        "print('Encontradas ', len(l_possible_paths), ' rutas distintas')\n",
        "l_possible_paths[0]"
      ],
      "execution_count": null,
      "outputs": [
        {
          "output_type": "stream",
          "name": "stdout",
          "text": [
            "Encontradas  3  rutas distintas\n"
          ]
        },
        {
          "output_type": "execute_result",
          "data": {
            "text/plain": [
              "['Moncloa', 'Arguelles', 'San Bernardo', 'Opera', 'Sol', 'Legazpi']"
            ]
          },
          "metadata": {},
          "execution_count": 43
        }
      ]
    },
    {
      "cell_type": "code",
      "metadata": {
        "id": "uZdFx9fs4owG",
        "colab": {
          "base_uri": "https://localhost:8080/",
          "height": 296
        },
        "outputId": "c7e9524f-c496-495c-bd8a-668271c2d067"
      },
      "source": [
        "#\n",
        "# Dibujamos nuestra primera ruta\n",
        "#\n",
        "draw_options_small = {\"font_size\": 0, \"node_size\": 50, \"edgecolors\": \"grey\", \"linewidths\": 0.2, \"width\": 1}\n",
        "figure(figsize=(4, 4), dpi=80)\n",
        "nx.draw_networkx_nodes(G,G.position, node_color='grey', alpha=0.5, node_size=0)\n",
        "nx.draw_networkx_nodes(G,G.position, nodelist=l_possible_paths[0], node_color='green', alpha=0.5, node_size=30)\n",
        "nx.draw_networkx_nodes(G,G.position, nodelist=['Moncloa','Legazpi'], node_color='red', alpha=0.5, node_size=40)\n",
        "nx.draw_networkx_edges(G,G.position, style='dashed',width = 0.5, alpha=0.5)\n",
        "plt.title('Primera ruta Moncloa a Legazpi - longitud ' + str(len(l_possible_paths[0]) - 1))\n",
        "plt.show()"
      ],
      "execution_count": null,
      "outputs": [
        {
          "output_type": "display_data",
          "data": {
            "text/plain": [
              "<Figure size 320x320 with 1 Axes>"
            ],
            "image/png": "[encoded data removed]"
          },
          "metadata": {}
        }
      ]
    },
    {
      "cell_type": "code",
      "metadata": {
        "id": "3fyhVN9v5RBU",
        "colab": {
          "base_uri": "https://localhost:8080/",
          "height": 296
        },
        "outputId": "b9fd0fae-4024-4510-f091-4fb439862151"
      },
      "source": [
        "#\n",
        "# Dibujamos segunda primera ruta al azar\n",
        "#\n",
        "draw_options_small = {\"font_size\": 0, \"node_size\": 50, \"edgecolors\": \"grey\", \"linewidths\": 0.2, \"width\": 1}\n",
        "figure(figsize=(4, 4), dpi=80)\n",
        "nx.draw_networkx_nodes(G,G.position, node_color='grey', alpha=0.5, node_size=0)\n",
        "nx.draw_networkx_nodes(G,G.position, nodelist=l_possible_paths[2], node_color='green', alpha=0.5, node_size=30)\n",
        "nx.draw_networkx_nodes(G,G.position, nodelist=['Moncloa','Legazpi'], node_color='red', alpha=0.5, node_size=40)\n",
        "nx.draw_networkx_edges(G,G.position, style='dashed',width = 0.5, alpha=0.5)\n",
        "plt.title('Segunda ruta Moncloa a Legazpi - longitud ' + str(len(l_possible_paths[2]) - 1))\n",
        "plt.show()"
      ],
      "execution_count": null,
      "outputs": [
        {
          "output_type": "display_data",
          "data": {
            "text/plain": [
              "<Figure size 320x320 with 1 Axes>"
            ],
            "image/png": "[encoded data removed]"
          },
          "metadata": {}
        }
      ]
    },
    {
      "cell_type": "markdown",
      "metadata": {
        "id": "mrxUC44U5aBD"
      },
      "source": [
        "## El camino más corto\n",
        "\n"
      ]
    },
    {
      "cell_type": "markdown",
      "metadata": {
        "id": "mLmX8gjW6lT6"
      },
      "source": [
        "Pero lo que más nos interesa es no perder el tiempo ver cual es la mejor opción para desplazarnos, para eso recurriremos a alguno de los algoritmos que tiene networkx. En particular usaremos el [algoritmo de dijkstra](https://es.wikipedia.org/wiki/Algoritmo_de_Dijkstra).\n",
        "\n",
        "[Referencia](https://networkx.org/documentation/stable/reference/algorithms/generated/networkx.algorithms.shortest_paths.generic.shortest_path.html#networkx.algorithms.shortest_paths.generic.shortest_path)\n",
        "\n",
        "*shortest_path(G, source=None, target=None, weight=None, method='dijkstra')*\n",
        "\n",
        "En nuestra primera aproximación usaremos la distancia no ponderada"
      ]
    },
    {
      "cell_type": "code",
      "metadata": {
        "id": "8NAdITzH6lkt"
      },
      "source": [
        "shortest_path = nx_algos.shortest_paths.generic.shortest_path(G, source='Moncloa', target='Legazpi', method='dijkstra')"
      ],
      "execution_count": null,
      "outputs": []
    },
    {
      "cell_type": "markdown",
      "metadata": {
        "id": "72zk-f3H7Lqu"
      },
      "source": [
        "Y ahora con la distancia ponderada"
      ]
    },
    {
      "cell_type": "code",
      "metadata": {
        "id": "FZNFomB27NO1",
        "colab": {
          "base_uri": "https://localhost:8080/"
        },
        "outputId": "2101dc99-c498-4546-a9e3-f12bd250a938"
      },
      "source": [
        "shortest_path"
      ],
      "execution_count": null,
      "outputs": [
        {
          "output_type": "execute_result",
          "data": {
            "text/plain": [
              "['Moncloa', 'Arguelles', 'San Bernardo', 'Opera', 'Sol', 'Legazpi']"
            ]
          },
          "metadata": {},
          "execution_count": 47
        }
      ]
    },
    {
      "cell_type": "code",
      "metadata": {
        "id": "5hrRGKE47xZx",
        "colab": {
          "base_uri": "https://localhost:8080/",
          "height": 296
        },
        "outputId": "0f69c9af-bde6-4fda-8471-7a7fc333da0d"
      },
      "source": [
        "#\n",
        "# Mostramos la ruta más corta\n",
        "#\n",
        "draw_options_small = {\"font_size\": 0, \"node_size\": 50, \"edgecolors\": \"grey\", \"linewidths\": 0.2, \"width\": 1}\n",
        "figure(figsize=(4, 4), dpi=80)\n",
        "nx.draw_networkx_nodes(G,G.position, node_color='grey', alpha=0.5, node_size=0)\n",
        "nx.draw_networkx_nodes(G,G.position, nodelist=shortest_path, node_color='green', alpha=0.5, node_size=30)\n",
        "nx.draw_networkx_nodes(G,G.position, nodelist=['Moncloa','Legazpi'], node_color='red', alpha=0.5, node_size=40)\n",
        "nx.draw_networkx_edges(G,G.position, style='dashed',width = 0.5, alpha=0.5)\n",
        "plt.title('Camino más corto (no ponderado) Moncloa a Av. de America - longitud ' + str(len(shortest_path) - 1))\n",
        "plt.show()"
      ],
      "execution_count": null,
      "outputs": [
        {
          "output_type": "display_data",
          "data": {
            "text/plain": [
              "<Figure size 320x320 with 1 Axes>"
            ],
            "image/png": "[encoded data removed]"
          },
          "metadata": {}
        }
      ]
    },
    {
      "cell_type": "markdown",
      "metadata": {
        "id": "Z6joFzZz8TTJ"
      },
      "source": [
        "Pero lo que más nos interesa aparte de pasar por el mínimo número de estaciones es tardar lo mínimo, por lo que usaremos como *medida de coste* el tiempo de viaje **TIME**"
      ]
    },
    {
      "cell_type": "code",
      "metadata": {
        "id": "AWuW-ofX8gCD"
      },
      "source": [
        "#\n",
        "# El proceso es similar\n",
        "#\n",
        "shortest_path = nx_algos.shortest_paths.generic.shortest_path(G, source='Moncloa',\n",
        "                                                              target='Legazpi',\n",
        "                                                              method='dijkstra',\n",
        "                                                              weight='TIME')"
      ],
      "execution_count": null,
      "outputs": []
    },
    {
      "cell_type": "code",
      "metadata": {
        "id": "MIbBiFBH8gJ2",
        "colab": {
          "base_uri": "https://localhost:8080/"
        },
        "outputId": "2371ccc2-8faa-4eba-993d-bb9727ec7c19"
      },
      "source": [
        "shortest_path"
      ],
      "execution_count": null,
      "outputs": [
        {
          "output_type": "execute_result",
          "data": {
            "text/plain": [
              "['Moncloa',\n",
              " 'Arguelles',\n",
              " 'San Bernardo',\n",
              " 'Bilbao',\n",
              " 'Tribunal',\n",
              " 'Sol',\n",
              " 'Legazpi']"
            ]
          },
          "metadata": {},
          "execution_count": 50
        }
      ]
    },
    {
      "cell_type": "code",
      "metadata": {
        "id": "eQWuSHWs9BO0",
        "colab": {
          "base_uri": "https://localhost:8080/",
          "height": 296
        },
        "outputId": "98c70453-eb0e-4306-87cb-22b674e603cc"
      },
      "source": [
        "#\n",
        "# Mostramos la ruta más corta\n",
        "#\n",
        "draw_options_small = {\"font_size\": 0, \"node_size\": 50, \"edgecolors\": \"grey\", \"linewidths\": 0.2, \"width\": 1}\n",
        "figure(figsize=(4, 4), dpi=80)\n",
        "nx.draw_networkx_nodes(G,G.position, node_color='grey', alpha=0.5, node_size=0)\n",
        "nx.draw_networkx_nodes(G,G.position, nodelist=shortest_path, node_color='green', alpha=0.5, node_size=30)\n",
        "nx.draw_networkx_nodes(G,G.position, nodelist=['Moncloa','Legazpi'], node_color='red', alpha=0.5, node_size=40)\n",
        "nx.draw_networkx_edges(G,G.position, style='dashed',width = 0.5, alpha=0.5)\n",
        "plt.title('Camino más corto en tiempo Moncloa a Legazpi - longitud ' + str(len(shortest_path) - 1))\n",
        "plt.show()"
      ],
      "execution_count": null,
      "outputs": [
        {
          "output_type": "display_data",
          "data": {
            "text/plain": [
              "<Figure size 320x320 with 1 Axes>"
            ],
            "image/png": "[encoded data removed]"
          },
          "metadata": {}
        }
      ]
    },
    {
      "cell_type": "markdown",
      "metadata": {
        "id": "mWv3Hp-J8quD"
      },
      "source": [
        "# Ejercicio sobre rutas\n",
        "\n",
        "¿Como podemos llegar lo más rápido posible desde Chamartín a puerta del Sur haciendo transbordo en Cuatro Caminos?, mostramos un gráfico finalmente con la ruta"
      ]
    },
    {
      "cell_type": "markdown",
      "metadata": {
        "id": "KIq7IEeqAEl7"
      },
      "source": [
        "Calculamos el primer tramo"
      ]
    },
    {
      "cell_type": "code",
      "metadata": {
        "id": "Z6-fhoy680UG"
      },
      "source": [
        "start_stop = 'Chamartin'\n",
        "commuting_stop = 'Cuatro Caminos'\n",
        "end_stop = 'Puerta del Sur'\n",
        "path_part_1 = nx_algos.shortest_paths.generic.shortest_path(G, source=start_stop,\n",
        "                                                              target=commuting_stop,\n",
        "                                                              method='dijkstra',\n",
        "                                                              weight='TIME')"
      ],
      "execution_count": null,
      "outputs": []
    },
    {
      "cell_type": "markdown",
      "metadata": {
        "id": "nhOjzx_uABPG"
      },
      "source": [
        "Calculamos el segundo tramo"
      ]
    },
    {
      "cell_type": "code",
      "metadata": {
        "id": "Pm3lPWOfAAfu"
      },
      "source": [
        "path_part_2 =  nx_algos.shortest_paths.generic.shortest_path(G, source=commuting_stop,\n",
        "                                                              target=end_stop,\n",
        "                                                              method='dijkstra',\n",
        "                                                              weight='TIME')"
      ],
      "execution_count": null,
      "outputs": []
    },
    {
      "cell_type": "code",
      "metadata": {
        "colab": {
          "base_uri": "https://localhost:8080/"
        },
        "id": "gzzF0zHh34vl",
        "outputId": "998de764-bc6a-4414-9b36-21128e4550c8"
      },
      "source": [
        "path_part_1"
      ],
      "execution_count": null,
      "outputs": [
        {
          "output_type": "execute_result",
          "data": {
            "text/plain": [
              "['Chamartin', 'Plaza de Castilla', 'Cuatro Caminos']"
            ]
          },
          "metadata": {},
          "execution_count": 54
        }
      ]
    },
    {
      "cell_type": "code",
      "metadata": {
        "colab": {
          "base_uri": "https://localhost:8080/"
        },
        "id": "BGBHE743356e",
        "outputId": "6f5ed193-69e0-497b-a5f3-f39335a0d68e"
      },
      "source": [
        "path_part_2"
      ],
      "execution_count": null,
      "outputs": [
        {
          "output_type": "execute_result",
          "data": {
            "text/plain": [
              "['Cuatro Caminos',\n",
              " 'Guzman el Bueno',\n",
              " 'Moncloa',\n",
              " 'Arguelles',\n",
              " 'Principe Pio',\n",
              " 'Casa de Campo',\n",
              " 'Colonia Jardin',\n",
              " 'Puerta del Sur']"
            ]
          },
          "metadata": {},
          "execution_count": 55
        }
      ]
    },
    {
      "cell_type": "markdown",
      "metadata": {
        "id": "-Miyq3sF8z1s"
      },
      "source": [
        "Unimos los tramos"
      ]
    },
    {
      "cell_type": "code",
      "metadata": {
        "id": "0IMUpn7n80vj",
        "colab": {
          "base_uri": "https://localhost:8080/"
        },
        "outputId": "1160ba15-6855-435c-9894-f5ef4c7a397f"
      },
      "source": [
        "path_complete = path_part_1 + path_part_2[1:]\n",
        "path_complete"
      ],
      "execution_count": null,
      "outputs": [
        {
          "output_type": "execute_result",
          "data": {
            "text/plain": [
              "['Chamartin',\n",
              " 'Plaza de Castilla',\n",
              " 'Cuatro Caminos',\n",
              " 'Guzman el Bueno',\n",
              " 'Moncloa',\n",
              " 'Arguelles',\n",
              " 'Principe Pio',\n",
              " 'Casa de Campo',\n",
              " 'Colonia Jardin',\n",
              " 'Puerta del Sur']"
            ]
          },
          "metadata": {},
          "execution_count": 56
        }
      ]
    },
    {
      "cell_type": "markdown",
      "metadata": {
        "id": "sMgc5QmmA-mn"
      },
      "source": [
        "Mostramos el resultado"
      ]
    },
    {
      "cell_type": "code",
      "metadata": {
        "id": "ugVMV_TJA9xV",
        "colab": {
          "base_uri": "https://localhost:8080/",
          "height": 296
        },
        "outputId": "44e2cff8-5624-4a41-ea58-30f4d7f84dbe"
      },
      "source": [
        "#\n",
        "# Mostramos la ruta más corta\n",
        "#\n",
        "#\n",
        "# Mostramos la ruta más corta\n",
        "#\n",
        "draw_options_small = {\"font_size\": 0, \"node_size\": 50, \"edgecolors\": \"grey\", \"linewidths\": 0.2, \"width\": 1}\n",
        "figure(figsize=(4, 4), dpi=80)\n",
        "nx.draw_networkx_nodes(G,G.position, node_color='grey', alpha=0.5, node_size=0)\n",
        "nx.draw_networkx_nodes(G,G.position, nodelist=path_complete, node_color='green', alpha=0.5, node_size=30)\n",
        "nx.draw_networkx_nodes(G,G.position, nodelist=[start_stop, end_stop], node_color='red', alpha=0.5, node_size=60)\n",
        "nx.draw_networkx_nodes(G,G.position, nodelist=[commuting_stop], node_color='blue', alpha=0.5, node_size=40)\n",
        "\n",
        "nx.draw_networkx_edges(G,G.position, style='dashed',width = 0.5, alpha=0.5)\n",
        "plt.title('Camino más corto en tiempo ' + start_stop + ' a '+end_stop +' - longitud ' + str(len(path_complete) - 1))\n",
        "plt.show()"
      ],
      "execution_count": null,
      "outputs": [
        {
          "output_type": "display_data",
          "data": {
            "text/plain": [
              "<Figure size 320x320 with 1 Axes>"
            ],
            "image/png": "[encoded data removed]"
          },
          "metadata": {}
        }
      ]
    }
  ]
}
