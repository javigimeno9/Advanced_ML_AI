{
  "nbformat": 4,
  "nbformat_minor": 0,
  "metadata": {
    "colab": {
      "provenance": []
    },
    "kernelspec": {
      "name": "python3",
      "display_name": "Python 3"
    },
    "language_info": {
      "name": "python"
    }
  },
  "cells": [
    {
      "cell_type": "markdown",
      "source": [
        "# IMPORTACIÓN DE LIBRERÍAS"
      ],
      "metadata": {
        "id": "8XzVbDJN004M"
      }
    },
    {
      "cell_type": "code",
      "source": [
        "# IMPORTACIÓN DE LIBRERÍAS\n",
        "import numpy as np\n",
        "import matplotlib.pyplot as plt\n",
        "\n",
        "# Librería para las REDES NEURONALES\n",
        "import tensorflow as tf\n",
        "\n",
        "from tensorflow import keras\n",
        "from tensorflow.keras import layers\n",
        "from keras.models import Sequential\n",
        "from keras.layers import Dense\n",
        "\n",
        "\n",
        "print(tf.__version__)"
      ],
      "metadata": {
        "id": "32zL8Y_DkkVg",
        "colab": {
          "base_uri": "https://localhost:8080/"
        },
        "outputId": "50e725cf-3335-4877-afbe-e329116aa7cc"
      },
      "execution_count": null,
      "outputs": [
        {
          "output_type": "stream",
          "name": "stdout",
          "text": [
            "2.15.0\n"
          ]
        }
      ]
    },
    {
      "cell_type": "markdown",
      "source": [
        "# GENERACIÓN DE LOS DATOS"
      ],
      "metadata": {
        "id": "jwHxBafy05rJ"
      }
    },
    {
      "cell_type": "code",
      "source": [
        "# Cargamos las 4 combinaciones de las compuertas XOR\n",
        "training_data = np.array([[0,0],[0,1],[1,0],[1,1]], \"float32\")"
      ],
      "metadata": {
        "id": "cimdIMy9kdL4"
      },
      "execution_count": null,
      "outputs": []
    },
    {
      "cell_type": "code",
      "source": [
        "# Y estos son los resultados que se obtienen, en el mismo orden\n",
        "target_data = np.array([[0],[1],[1],[0]], \"float32\")"
      ],
      "metadata": {
        "id": "c3VPAga7kfK9"
      },
      "execution_count": null,
      "outputs": []
    },
    {
      "cell_type": "markdown",
      "source": [
        " # DEFINICIÓN DE LA RED NEURONAL"
      ],
      "metadata": {
        "id": "dQj8nyWu0uvn"
      }
    },
    {
      "cell_type": "code",
      "source": [
        "model = Sequential()\n",
        "model.add(Dense(2, input_dim = 2, activation='relu'))\n",
        "model.add(Dense(1, activation = 'sigmoid'))"
      ],
      "metadata": {
        "id": "BUEiXGiXkuTH"
      },
      "execution_count": null,
      "outputs": []
    },
    {
      "cell_type": "code",
      "source": [
        "model.summary()"
      ],
      "metadata": {
        "id": "NaImcknlkwEL",
        "colab": {
          "base_uri": "https://localhost:8080/"
        },
        "outputId": "e2aa7f4c-87dd-4238-f8d2-02bff1479d7f"
      },
      "execution_count": null,
      "outputs": [
        {
          "output_type": "stream",
          "name": "stdout",
          "text": [
            "Model: \"sequential\"\n",
            "_________________________________________________________________\n",
            " Layer (type)                Output Shape              Param #   \n",
            "=================================================================\n",
            " dense (Dense)               (None, 2)                 6         \n",
            "                                                                 \n",
            " dense_1 (Dense)             (None, 1)                 3         \n",
            "                                                                 \n",
            "=================================================================\n",
            "Total params: 9 (36.00 Byte)\n",
            "Trainable params: 9 (36.00 Byte)\n",
            "Non-trainable params: 0 (0.00 Byte)\n",
            "_________________________________________________________________\n"
          ]
        }
      ]
    },
    {
      "cell_type": "markdown",
      "source": [
        "# COMPILACIÓN DEL MODELO"
      ],
      "metadata": {
        "id": "warWFWjz1LGE"
      }
    },
    {
      "cell_type": "code",
      "source": [
        "model.compile(loss = 'mean_squared_error',\n",
        "              optimizer = 'adam',\n",
        "              metrics = ['binary_accuracy'])"
      ],
      "metadata": {
        "id": "PyEbUQ_vk3pS"
      },
      "execution_count": null,
      "outputs": []
    },
    {
      "cell_type": "code",
      "source": [
        "model.fit(training_data, target_data, epochs=10)"
      ],
      "metadata": {
        "id": "BSEmKOKZk7Jv",
        "colab": {
          "base_uri": "https://localhost:8080/"
        },
        "outputId": "3a1ea494-58dd-424a-e620-883365fb397a"
      },
      "execution_count": null,
      "outputs": [
        {
          "output_type": "stream",
          "name": "stdout",
          "text": [
            "Epoch 1/10\n",
            "1/1 [==============================] - 1s 685ms/step - loss: 0.2635 - binary_accuracy: 0.7500\n",
            "Epoch 2/10\n",
            "1/1 [==============================] - 0s 10ms/step - loss: 0.2633 - binary_accuracy: 0.2500\n",
            "Epoch 3/10\n",
            "1/1 [==============================] - 0s 11ms/step - loss: 0.2631 - binary_accuracy: 0.2500\n",
            "Epoch 4/10\n",
            "1/1 [==============================] - 0s 11ms/step - loss: 0.2629 - binary_accuracy: 0.2500\n",
            "Epoch 5/10\n",
            "1/1 [==============================] - 0s 11ms/step - loss: 0.2627 - binary_accuracy: 0.2500\n",
            "Epoch 6/10\n",
            "1/1 [==============================] - 0s 10ms/step - loss: 0.2625 - binary_accuracy: 0.2500\n",
            "Epoch 7/10\n",
            "1/1 [==============================] - 0s 10ms/step - loss: 0.2623 - binary_accuracy: 0.2500\n",
            "Epoch 8/10\n",
            "1/1 [==============================] - 0s 10ms/step - loss: 0.2621 - binary_accuracy: 0.2500\n",
            "Epoch 9/10\n",
            "1/1 [==============================] - 0s 9ms/step - loss: 0.2620 - binary_accuracy: 0.2500\n",
            "Epoch 10/10\n",
            "1/1 [==============================] - 0s 9ms/step - loss: 0.2618 - binary_accuracy: 0.2500\n"
          ]
        },
        {
          "output_type": "execute_result",
          "data": {
            "text/plain": [
              "<keras.src.callbacks.History at 0x7b59dde46080>"
            ]
          },
          "metadata": {},
          "execution_count": 7
        }
      ]
    },
    {
      "cell_type": "markdown",
      "source": [
        "Se definen estas funciones para la representación posterior de los datos"
      ],
      "metadata": {
        "id": "dP0K-vwy14xi"
      }
    },
    {
      "cell_type": "code",
      "source": [
        "def plot_data(x, y):\n",
        "\n",
        "  plt.plot(x[y[:,0] == 1,0], x[y[:,0]==1,1], 'bx')\n",
        "  plt.plot(x[y[:,0]==0,0], x[y[:,0]==0,1], 'ro')\n",
        "\n",
        "\n",
        "def plot_line(c_1, c_2, c):\n",
        "  # c_1*x + c_2*y + c = 0\n",
        "\n",
        "  plt.ylim(-1.2,1.2)\n",
        "  plt.xlim(-1.2,1.2)\n",
        "  x = np.linspace(-2,2,100)\n",
        "  y = (-c_1*x-c)/c_2\n",
        "\n",
        "  plt.plot(x, y)\n",
        "\n",
        "def plot_lines(W, b):\n",
        "  for col, c in zip(W.T, b):\n",
        "    plot_line(col[0], col[1], c)"
      ],
      "metadata": {
        "id": "cIDs-UwZljXN"
      },
      "execution_count": null,
      "outputs": []
    },
    {
      "cell_type": "code",
      "source": [
        "# Representamos el conjunto de datos que vamos a discriminar\n",
        "plot_data(training_data,target_data)"
      ],
      "metadata": {
        "id": "svizlmMblRzs",
        "colab": {
          "base_uri": "https://localhost:8080/",
          "height": 430
        },
        "outputId": "b0ea0310-75ef-4ce2-b4c5-11f0a78e80a2"
      },
      "execution_count": null,
      "outputs": [
        {
          "output_type": "display_data",
          "data": {
            "text/plain": [
              "<Figure size 640x480 with 1 Axes>"
            ],
            "image/png": "[encoded data removed]"
          },
          "metadata": {}
        }
      ]
    },
    {
      "cell_type": "code",
      "source": [
        "plot_data(training_data ,target_data)\n",
        "\n",
        "b = model.weights[1].numpy()  # Pesos\n",
        "w = model.weights[0].numpy()  # Pesos\n",
        "\n",
        "plot_lines(w,b)"
      ],
      "metadata": {
        "id": "jnWKPYpSltHW",
        "colab": {
          "base_uri": "https://localhost:8080/",
          "height": 430
        },
        "outputId": "2f429b15-6557-4cfa-efdd-3b73ace1657e"
      },
      "execution_count": null,
      "outputs": [
        {
          "output_type": "display_data",
          "data": {
            "text/plain": [
              "<Figure size 640x480 with 1 Axes>"
            ],
            "image/png": "[encoded data removed]"
          },
          "metadata": {}
        }
      ]
    },
    {
      "cell_type": "code",
      "source": [
        "# Evaluamos el modelo\n",
        "scores = model.evaluate(training_data, target_data)"
      ],
      "metadata": {
        "id": "gERy9mhekVwH",
        "colab": {
          "base_uri": "https://localhost:8080/"
        },
        "outputId": "7c5e60fb-8d82-49b1-813c-7ebfcbf79491"
      },
      "execution_count": null,
      "outputs": [
        {
          "output_type": "stream",
          "name": "stdout",
          "text": [
            "1/1 [==============================] - 0s 157ms/step - loss: 0.2616 - binary_accuracy: 0.2500\n"
          ]
        }
      ]
    },
    {
      "cell_type": "code",
      "execution_count": null,
      "metadata": {
        "id": "5Rl9ThzhkUq_",
        "colab": {
          "base_uri": "https://localhost:8080/"
        },
        "outputId": "a0e04f6d-d7b0-41d8-bde4-90c1fd60fd77"
      },
      "outputs": [
        {
          "output_type": "stream",
          "name": "stdout",
          "text": [
            "\n",
            "binary_accuracy: 25.00%\n",
            "1/1 [==============================] - 0s 178ms/step\n",
            "[[1.]\n",
            " [1.]\n",
            " [0.]\n",
            " [1.]]\n"
          ]
        }
      ],
      "source": [
        "print(\"\\n%s: %.2f%%\" % (model.metrics_names[1], scores[1]*100))\n",
        "print (model.predict(training_data).round())"
      ]
    },
    {
      "cell_type": "markdown",
      "source": [
        "# DISEÑAMOS UNA RED MÁS PROFUNDA Y COMPLEJA"
      ],
      "metadata": {
        "id": "59w1Qc5wpSMT"
      }
    },
    {
      "cell_type": "code",
      "source": [
        "model = Sequential()\n",
        "model.add(Dense(16, input_dim=2, activation='relu'))\n",
        "model.add(Dense(1, activation='sigmoid'))"
      ],
      "metadata": {
        "id": "FM4V8nbbpbS_"
      },
      "execution_count": null,
      "outputs": []
    },
    {
      "cell_type": "code",
      "source": [
        "model.summary()"
      ],
      "metadata": {
        "id": "EsXhF7lqphQL",
        "colab": {
          "base_uri": "https://localhost:8080/"
        },
        "outputId": "df1a1034-1a0b-47e4-d85b-d6eb525c194e"
      },
      "execution_count": null,
      "outputs": [
        {
          "output_type": "stream",
          "name": "stdout",
          "text": [
            "Model: \"sequential_1\"\n",
            "_________________________________________________________________\n",
            " Layer (type)                Output Shape              Param #   \n",
            "=================================================================\n",
            " dense_2 (Dense)             (None, 16)                48        \n",
            "                                                                 \n",
            " dense_3 (Dense)             (None, 1)                 17        \n",
            "                                                                 \n",
            "=================================================================\n",
            "Total params: 65 (260.00 Byte)\n",
            "Trainable params: 65 (260.00 Byte)\n",
            "Non-trainable params: 0 (0.00 Byte)\n",
            "_________________________________________________________________\n"
          ]
        }
      ]
    },
    {
      "cell_type": "markdown",
      "source": [
        "# COMPILACIÓN Y ENTRENAMIENTO DEL MODELO"
      ],
      "metadata": {
        "id": "tOYmQIXt2acj"
      }
    },
    {
      "cell_type": "code",
      "source": [
        "..."
      ],
      "metadata": {
        "id": "mXZRGFRdpmnm",
        "colab": {
          "base_uri": "https://localhost:8080/"
        },
        "outputId": "ee8b975a-2c0b-47cd-b4d2-c48776f729e7"
      },
      "execution_count": null,
      "outputs": [
        {
          "output_type": "execute_result",
          "data": {
            "text/plain": [
              "Ellipsis"
            ]
          },
          "metadata": {},
          "execution_count": 15
        }
      ]
    }
  ]
}