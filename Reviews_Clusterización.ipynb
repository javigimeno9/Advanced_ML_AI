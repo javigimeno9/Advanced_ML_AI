{
  "cells": [
    {
      "cell_type": "code",
      "execution_count": null,
      "metadata": {
        "ExecuteTime": {
          "end_time": "2023-10-20T21:06:58.226380Z",
          "start_time": "2023-10-20T21:06:57.163727Z"
        },
        "colab": {
          "base_uri": "https://localhost:8080/",
          "height": 400
        },
        "id": "Si8aoWREKvz_",
        "outputId": "11c6368c-c541-4519-8c3f-8785953f6f38"
      },
      "outputs": [
        {
          "output_type": "error",
          "ename": "ModuleNotFoundError",
          "evalue": "No module named 'openai'",
          "traceback": [
            "\u001b[0;31m---------------------------------------------------------------------------\u001b[0m",
            "\u001b[0;31mModuleNotFoundError\u001b[0m                       Traceback (most recent call last)",
            "\u001b[0;32m<ipython-input-1-5fdd87466c3d>\u001b[0m in \u001b[0;36m<cell line: 6>\u001b[0;34m()\u001b[0m\n\u001b[1;32m      4\u001b[0m \u001b[0;32mimport\u001b[0m \u001b[0mmatplotlib\u001b[0m\u001b[0;34m.\u001b[0m\u001b[0mpyplot\u001b[0m \u001b[0;32mas\u001b[0m \u001b[0mplt\u001b[0m\u001b[0;34m\u001b[0m\u001b[0;34m\u001b[0m\u001b[0m\n\u001b[1;32m      5\u001b[0m \u001b[0;32mimport\u001b[0m \u001b[0mnumpy\u001b[0m \u001b[0;32mas\u001b[0m \u001b[0mnp\u001b[0m\u001b[0;34m\u001b[0m\u001b[0;34m\u001b[0m\u001b[0m\n\u001b[0;32m----> 6\u001b[0;31m \u001b[0;32mimport\u001b[0m \u001b[0mopenai\u001b[0m\u001b[0;34m\u001b[0m\u001b[0;34m\u001b[0m\u001b[0m\n\u001b[0m\u001b[1;32m      7\u001b[0m \u001b[0;32mimport\u001b[0m \u001b[0mpandas\u001b[0m \u001b[0;32mas\u001b[0m \u001b[0mpd\u001b[0m\u001b[0;34m\u001b[0m\u001b[0;34m\u001b[0m\u001b[0m\n\u001b[1;32m      8\u001b[0m \u001b[0;32mfrom\u001b[0m \u001b[0mdatetime\u001b[0m \u001b[0;32mimport\u001b[0m \u001b[0mdatetime\u001b[0m\u001b[0;34m\u001b[0m\u001b[0;34m\u001b[0m\u001b[0m\n",
            "\u001b[0;31mModuleNotFoundError\u001b[0m: No module named 'openai'",
            "",
            "\u001b[0;31m---------------------------------------------------------------------------\u001b[0;32m\nNOTE: If your import is failing due to a missing package, you can\nmanually install dependencies using either !pip or !apt.\n\nTo view examples of installing some common dependencies, click the\n\"Open Examples\" button below.\n\u001b[0;31m---------------------------------------------------------------------------\u001b[0m\n"
          ],
          "errorDetails": {
            "actions": [
              {
                "action": "open_url",
                "actionText": "Open Examples",
                "url": "/notebooks/snippets/importing_libraries.ipynb"
              }
            ]
          }
        }
      ],
      "source": [
        "import json\n",
        "import os\n",
        "\n",
        "import matplotlib.pyplot as plt\n",
        "import numpy as np\n",
        "import openai\n",
        "import pandas as pd\n",
        "from datetime import datetime\n",
        "\n",
        "openai.api_key = \"\""
      ]
    },
    {
      "cell_type": "code",
      "execution_count": null,
      "metadata": {
        "ExecuteTime": {
          "end_time": "2023-10-20T21:06:58.229995Z",
          "start_time": "2023-10-20T21:06:58.229690Z"
        },
        "id": "2I2i8W1pKv0C"
      },
      "outputs": [],
      "source": [
        "def json_to_dataframe(json_file):\n",
        "    data = []\n",
        "    with open(json_file, 'r') as file:\n",
        "        for line in file:\n",
        "            data.append(eval(line))  # Evaluate each line as a Python dictionary\n",
        "\n",
        "    df = pd.DataFrame(data)\n",
        "    return df"
      ]
    },
    {
      "cell_type": "code",
      "execution_count": null,
      "metadata": {
        "ExecuteTime": {
          "end_time": "2023-10-20T21:06:58.233526Z",
          "start_time": "2023-10-20T21:06:58.229917Z"
        },
        "id": "8IonqhAaKv0D"
      },
      "outputs": [],
      "source": [
        "def get_embedding(text, model=\"text-embedding-ada-002\"):\n",
        "    if isinstance(text, str):  # If text is a string, replace \"\\n\" with space\n",
        "        text = text.replace(\"\\n\", \" \")\n",
        "    elif isinstance(text, list):  # If text is a list, handle each element separately\n",
        "        text = [x.replace(\"\\n\", \" \") for x in text]\n",
        "\n",
        "    return openai.Embedding.create(input=[text], model=model)['data'][0]['embedding']\n",
        "\n",
        "\n",
        "\n",
        "def embed_summaries(df: pd.DataFrame, column_name: str) -> pd.Series:\n",
        "    embeddings_series = df[column_name].apply(lambda x: get_embedding(x, model='text-embedding-ada-002'))\n",
        "    return embeddings_series"
      ]
    },
    {
      "cell_type": "code",
      "execution_count": null,
      "metadata": {
        "ExecuteTime": {
          "end_time": "2023-10-20T21:14:29.852957Z",
          "start_time": "2023-10-20T21:14:29.838239Z"
        },
        "id": "it2E4FeFKv0D"
      },
      "outputs": [],
      "source": [
        "data_path = \"/Users/maglionejuanmartin/code/reviews_clusterization_generative/data/Cell_Phones_and_Accessories_5 copy.json\""
      ]
    },
    {
      "cell_type": "code",
      "execution_count": null,
      "metadata": {
        "id": "JsuA0PWTKv0E"
      },
      "outputs": [],
      "source": [
        "df = json_to_dataframe(data_path)\n",
        "df"
      ]
    },
    {
      "cell_type": "code",
      "execution_count": null,
      "metadata": {
        "ExecuteTime": {
          "end_time": "2023-10-20T21:11:55.146047Z",
          "start_time": "2023-10-20T21:10:44.505358Z"
        },
        "id": "7pZFXVUxKv0F"
      },
      "outputs": [],
      "source": [
        "df[\"review_embeddings\"] = embed_summaries(df,\"reviewText\")"
      ]
    },
    {
      "cell_type": "markdown",
      "metadata": {
        "id": "jMPZpEtnKv0F"
      },
      "source": [
        "## K Means"
      ]
    },
    {
      "cell_type": "code",
      "execution_count": null,
      "metadata": {
        "id": "kjZ5UC4FKv0H"
      },
      "outputs": [],
      "source": [
        "df"
      ]
    },
    {
      "cell_type": "code",
      "execution_count": null,
      "metadata": {
        "id": "DM6hSfrbKv0H"
      },
      "outputs": [],
      "source": [
        "print(df[\"review_embeddings\"])"
      ]
    },
    {
      "cell_type": "code",
      "execution_count": null,
      "metadata": {
        "ExecuteTime": {
          "end_time": "2023-10-20T21:12:28.532079Z",
          "start_time": "2023-10-20T21:12:28.495641Z"
        },
        "id": "RKHO9et-Kv0I"
      },
      "outputs": [],
      "source": [
        "matrix = np.vstack(df.review_embeddings.values)\n",
        "matrix.shape"
      ]
    },
    {
      "cell_type": "markdown",
      "metadata": {
        "id": "o_bD4F0_Kv0I"
      },
      "source": [
        "## Clustering"
      ]
    },
    {
      "cell_type": "code",
      "execution_count": null,
      "metadata": {
        "ExecuteTime": {
          "end_time": "2023-10-20T21:12:44.682147Z",
          "start_time": "2023-10-20T21:12:30.127389Z"
        },
        "id": "DPUaX68DKv0I"
      },
      "outputs": [],
      "source": [
        "from yellowbrick.cluster import KElbowVisualizer\n",
        "from sklearn.cluster import KMeans"
      ]
    },
    {
      "cell_type": "markdown",
      "metadata": {
        "id": "OCxIExH7Kv0J"
      },
      "source": [
        "### Elbow Visualizer"
      ]
    },
    {
      "cell_type": "code",
      "execution_count": null,
      "metadata": {
        "ExecuteTime": {
          "end_time": "2023-10-20T21:12:47.526557Z",
          "start_time": "2023-10-20T21:12:44.683656Z"
        },
        "id": "4i3HIUYnKv0J"
      },
      "outputs": [],
      "source": [
        "km = KMeans(random_state=42)\n",
        "visualizer = KElbowVisualizer(km, k=(2, 10))\n",
        "visualizer.fit(matrix)\n",
        "visualizer.show()"
      ]
    },
    {
      "cell_type": "markdown",
      "metadata": {
        "id": "yuQDcwUUKv0J"
      },
      "source": [
        "### Silhouette Visualuzer"
      ]
    },
    {
      "cell_type": "code",
      "execution_count": null,
      "metadata": {
        "ExecuteTime": {
          "end_time": "2023-10-20T21:12:55.010660Z",
          "start_time": "2023-10-20T21:12:47.533816Z"
        },
        "id": "6hvbgncXKv0L"
      },
      "outputs": [],
      "source": [
        "from yellowbrick.cluster import SilhouetteVisualizer\n",
        "\n",
        "fig, ax = plt.subplots(9, 2, figsize=(30, 60))\n",
        "for i in range(2, 20):\n",
        "    '''\n",
        "    Create KMeans instances for different number of clusters\n",
        "    '''\n",
        "    km = KMeans(n_clusters=i, init='k-means++', n_init=10, max_iter=100, random_state=42)\n",
        "    q, mod = divmod(i, 2)\n",
        "    '''\n",
        "    Create SilhouetteVisualizer instance with KMeans instance\n",
        "    Fit the visualizer\n",
        "    '''\n",
        "    visualizer = SilhouetteVisualizer(km, colors='yellowbrick', ax=ax[q - 1][mod])\n",
        "    visualizer.fit(matrix)\n",
        "    print(\"i value:\", i, \"Score:\", visualizer.silhouette_score_ * 100)"
      ]
    },
    {
      "cell_type": "code",
      "execution_count": null,
      "metadata": {
        "ExecuteTime": {
          "end_time": "2023-10-20T21:12:56.223880Z",
          "start_time": "2023-10-20T21:12:54.998754Z"
        },
        "id": "iauttBA_Kv0M"
      },
      "outputs": [],
      "source": [
        "# from sklearn.cluster import KMeans\n",
        "n_cluster = 7\n",
        "kmeans = KMeans(n_clusters=n_cluster, init=\"k-means++\", random_state=42)\n",
        "kmeans.fit(matrix)\n",
        "labels = kmeans.labels_\n",
        "df[\"Cluster\"] = labels"
      ]
    },
    {
      "cell_type": "code",
      "execution_count": null,
      "metadata": {
        "id": "btZcS8PsKv0M"
      },
      "outputs": [],
      "source": [
        "import openai\n",
        "\n",
        "# Set the number of reviews per cluster\n",
        "rev_per_cluster = 5\n",
        "\n",
        "# Loop over each cluster\n",
        "for i in range(n_cluster):\n",
        "    # Pull out a sample of reviews from each cluster\n",
        "    reviews = \"\\n\".join(\n",
        "        df[df.Cluster == i]\n",
        "        .reviewText\n",
        "        .sample(rev_per_cluster, random_state=42)\n",
        "        .values\n",
        "    )\n",
        "\n",
        "    # Create a prompt for OpenAI to describe what's common in the reviews\n",
        "    response = openai.ChatCompletion.create(\n",
        "        model=\"gpt-4\",   # update the model as per requirements\n",
        "        messages=[\n",
        "            {\n",
        "                \"role\": \"user\",\n",
        "                \"content\": f'What do the following customer reviews have in common? Give me the following: CATEGORY NAME and CATEGORY_DESCRIPTION about them\\n\\nCustomer reviews:\\n\"\"\"\\n{reviews}\\n\"\"\"\\n\\nCATEGORY_NAME:\\n\\nCATEGORY_DESCRIPTION'\n",
        "            }\n",
        "        ],\n",
        "        temperature=0,\n",
        "        max_tokens=64,\n",
        "        top_p=1,\n",
        "        frequency_penalty=0,\n",
        "        presence_penalty=0\n",
        "    )\n",
        "\n",
        "    # Fetch the generated response, assuming response would be the 'Category'\n",
        "    category = response['choices'][0]['message']['content']\n",
        "\n",
        "    sample_cluster_rows = df[df.Cluster == i].sample(rev_per_cluster, random_state=42)\n",
        "\n",
        "    # Concatenate cluster's common details\n",
        "    common_Details = \" $ \".join([str(values) for values in sample_cluster_rows.reviewText.values])\n",
        "\n",
        "    # Concatenate the cluster title, category name | If example reviews wanted to be shown, add {common_details}\n",
        "    print(f\"Cluster {i} | {category}\")\n",
        "\n",
        "    # Print a separator for each cluster\n",
        "    print(\"-\" * 100)"
      ]
    },
    {
      "cell_type": "markdown",
      "metadata": {
        "id": "lAAYQ6nnKv0M"
      },
      "source": [
        "## Plotting"
      ]
    },
    {
      "cell_type": "code",
      "execution_count": null,
      "metadata": {
        "id": "l7UvvRNHKv0M"
      },
      "outputs": [],
      "source": [
        "# Import necessary modules\n",
        "from sklearn.manifold import TSNE\n",
        "import matplotlib.pyplot as plt\n",
        "\n",
        "# Initialize the t-SNE model\n",
        "tsne = TSNE(n_components=2, perplexity=15, random_state=42, init=\"random\", learning_rate=200)\n",
        "\n",
        "# Fit and transform the data using t-SNE algorithm, reduce the dimensionality to 2\n",
        "vis_dims2 = tsne.fit_transform(matrix)\n",
        "\n",
        "# Extract x and y coordinates of each point in the transformed 2D data\n",
        "x = [x for x, y in vis_dims2]\n",
        "y = [y for x, y in vis_dims2]\n",
        "\n",
        "# For each category (or cluster), plot the points and the cluster centroid\n",
        "for category, color in enumerate([\"purple\", \"green\", \"red\", \"blue\", \"orange\"]):\n",
        "    # Get x and y coordinates of points of current cluster\n",
        "    xs = np.array(x)[df.Cluster == category]\n",
        "    ys = np.array(y)[df.Cluster == category]\n",
        "\n",
        "    # Plot the points of the current cluster in the correlated color with some transparency\n",
        "    plt.scatter(xs, ys, color=color, alpha=0.3)\n",
        "\n",
        "    # Calculate the average x and y coordinates to place the centroid\n",
        "    avg_x = xs.mean()\n",
        "    avg_y = ys.mean()\n",
        "\n",
        "    # Mark the cluster centroid with a cross marker\n",
        "    plt.scatter(avg_x, avg_y, marker=\"x\", color=color, s=100)\n",
        "\n",
        "# Add title to the plot\n",
        "plt.title(\"Clusters identified visualized in language 2d using t-SNE\")"
      ]
    },
    {
      "cell_type": "markdown",
      "metadata": {
        "id": "lPwCV4oMKv0N"
      },
      "source": [
        "## Exporting to xlsx"
      ]
    },
    {
      "cell_type": "code",
      "execution_count": null,
      "metadata": {
        "id": "YNpaY_Q_Kv0N"
      },
      "outputs": [],
      "source": [
        "df = df.replace({r'\\x1a': ''}, regex=True)\n",
        "\n",
        "output_dir = 'output'\n",
        "if not os.path.exists(output_dir):\n",
        "    os.makedirs(output_dir)\n",
        "\n",
        "current_time = datetime.now().strftime(\"%Y%m%d_%H%M%S\")\n",
        "\n",
        "filename = f\"{output_dir}/output_{current_time}.xlsx\"\n",
        "\n",
        "df.to_excel(filename)"
      ]
    }
  ],
  "metadata": {
    "kernelspec": {
      "display_name": "Python 3",
      "name": "python3"
    },
    "language_info": {
      "codemirror_mode": {
        "name": "ipython",
        "version": 3
      },
      "file_extension": ".py",
      "mimetype": "text/x-python",
      "name": "python",
      "nbconvert_exporter": "python",
      "pygments_lexer": "ipython3",
      "version": "3.11.6"
    },
    "orig_nbformat": 4,
    "colab": {
      "provenance": [],
      "gpuType": "T4"
    },
    "accelerator": "GPU"
  },
  "nbformat": 4,
  "nbformat_minor": 0
}